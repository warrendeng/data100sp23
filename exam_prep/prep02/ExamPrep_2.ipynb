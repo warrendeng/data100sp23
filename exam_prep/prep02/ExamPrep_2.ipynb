{
  "nbformat": 4,
  "nbformat_minor": 0,
  "metadata": {
    "colab": {
      "provenance": []
    },
    "kernelspec": {
      "name": "python3",
      "display_name": "Python 3"
    },
    "language_info": {
      "name": "python"
    }
  },
  "cells": [
    {
      "cell_type": "markdown",
      "source": [
        "# Cleaning Up the Billboard Hot 100"
      ],
      "metadata": {
        "id": "r6KSM8MF3lCe"
      }
    },
    {
      "cell_type": "code",
      "source": [
        "import pandas as pd"
      ],
      "metadata": {
        "id": "8Tyq6Ipr3kAe"
      },
      "execution_count": 8,
      "outputs": []
    },
    {
      "cell_type": "code",
      "source": [
        "billboard = pd.read_csv('billboard.csv')"
      ],
      "metadata": {
        "id": "jr0Yk6wc3j5D"
      },
      "execution_count": 9,
      "outputs": []
    },
    {
      "cell_type": "code",
      "source": [
        "billboard.head(10)"
      ],
      "metadata": {
        "colab": {
          "base_uri": "https://localhost:8080/",
          "height": 363
        },
        "id": "rjjudpjX3j2t",
        "outputId": "bee0b41d-0330-47ea-cdfa-db8800723d20"
      },
      "execution_count": 12,
      "outputs": [
        {
          "output_type": "execute_result",
          "data": {
            "text/plain": [
              "  chart_date  chart_position                        song          performer  \\\n",
              "0  7-17-1965              34      Don't Just Stand There         Patty Duke   \n",
              "1  7-24-1965              22      Don't Just Stand There         Patty Duke   \n",
              "2  7-31-1965              14      Don't Just Stand There         Patty Duke   \n",
              "3   8-7-1965              10      Don't Just Stand There         Patty Duke   \n",
              "4  8-14-1965               8      Don't Just Stand There         Patty Duke   \n",
              "5  8-21-1965               8      Don't Just Stand There         Patty Duke   \n",
              "6  8-28-1965              14      Don't Just Stand There         Patty Duke   \n",
              "7   9-4-1965              36      Don't Just Stand There         Patty Duke   \n",
              "8  4-19-1997              97  Don't Keep Wasting My Time  Teddy Pendergrass   \n",
              "9  4-26-1997              90  Don't Keep Wasting My Time  Teddy Pendergrass   \n",
              "\n",
              "   consecutive_weeks  time_on_chart  \n",
              "0               45.0              4  \n",
              "1               34.0              5  \n",
              "2               22.0              6  \n",
              "3               14.0              7  \n",
              "4               10.0              8  \n",
              "5                8.0              9  \n",
              "6                8.0             10  \n",
              "7               14.0             11  \n",
              "8                NaN              1  \n",
              "9               97.0              2  "
            ],
            "text/html": [
              "\n",
              "  <div id=\"df-9db7627d-2faa-4de5-96eb-31ebdab01a1a\">\n",
              "    <div class=\"colab-df-container\">\n",
              "      <div>\n",
              "<style scoped>\n",
              "    .dataframe tbody tr th:only-of-type {\n",
              "        vertical-align: middle;\n",
              "    }\n",
              "\n",
              "    .dataframe tbody tr th {\n",
              "        vertical-align: top;\n",
              "    }\n",
              "\n",
              "    .dataframe thead th {\n",
              "        text-align: right;\n",
              "    }\n",
              "</style>\n",
              "<table border=\"1\" class=\"dataframe\">\n",
              "  <thead>\n",
              "    <tr style=\"text-align: right;\">\n",
              "      <th></th>\n",
              "      <th>chart_date</th>\n",
              "      <th>chart_position</th>\n",
              "      <th>song</th>\n",
              "      <th>performer</th>\n",
              "      <th>consecutive_weeks</th>\n",
              "      <th>time_on_chart</th>\n",
              "    </tr>\n",
              "  </thead>\n",
              "  <tbody>\n",
              "    <tr>\n",
              "      <th>0</th>\n",
              "      <td>7-17-1965</td>\n",
              "      <td>34</td>\n",
              "      <td>Don't Just Stand There</td>\n",
              "      <td>Patty Duke</td>\n",
              "      <td>45.0</td>\n",
              "      <td>4</td>\n",
              "    </tr>\n",
              "    <tr>\n",
              "      <th>1</th>\n",
              "      <td>7-24-1965</td>\n",
              "      <td>22</td>\n",
              "      <td>Don't Just Stand There</td>\n",
              "      <td>Patty Duke</td>\n",
              "      <td>34.0</td>\n",
              "      <td>5</td>\n",
              "    </tr>\n",
              "    <tr>\n",
              "      <th>2</th>\n",
              "      <td>7-31-1965</td>\n",
              "      <td>14</td>\n",
              "      <td>Don't Just Stand There</td>\n",
              "      <td>Patty Duke</td>\n",
              "      <td>22.0</td>\n",
              "      <td>6</td>\n",
              "    </tr>\n",
              "    <tr>\n",
              "      <th>3</th>\n",
              "      <td>8-7-1965</td>\n",
              "      <td>10</td>\n",
              "      <td>Don't Just Stand There</td>\n",
              "      <td>Patty Duke</td>\n",
              "      <td>14.0</td>\n",
              "      <td>7</td>\n",
              "    </tr>\n",
              "    <tr>\n",
              "      <th>4</th>\n",
              "      <td>8-14-1965</td>\n",
              "      <td>8</td>\n",
              "      <td>Don't Just Stand There</td>\n",
              "      <td>Patty Duke</td>\n",
              "      <td>10.0</td>\n",
              "      <td>8</td>\n",
              "    </tr>\n",
              "    <tr>\n",
              "      <th>5</th>\n",
              "      <td>8-21-1965</td>\n",
              "      <td>8</td>\n",
              "      <td>Don't Just Stand There</td>\n",
              "      <td>Patty Duke</td>\n",
              "      <td>8.0</td>\n",
              "      <td>9</td>\n",
              "    </tr>\n",
              "    <tr>\n",
              "      <th>6</th>\n",
              "      <td>8-28-1965</td>\n",
              "      <td>14</td>\n",
              "      <td>Don't Just Stand There</td>\n",
              "      <td>Patty Duke</td>\n",
              "      <td>8.0</td>\n",
              "      <td>10</td>\n",
              "    </tr>\n",
              "    <tr>\n",
              "      <th>7</th>\n",
              "      <td>9-4-1965</td>\n",
              "      <td>36</td>\n",
              "      <td>Don't Just Stand There</td>\n",
              "      <td>Patty Duke</td>\n",
              "      <td>14.0</td>\n",
              "      <td>11</td>\n",
              "    </tr>\n",
              "    <tr>\n",
              "      <th>8</th>\n",
              "      <td>4-19-1997</td>\n",
              "      <td>97</td>\n",
              "      <td>Don't Keep Wasting My Time</td>\n",
              "      <td>Teddy Pendergrass</td>\n",
              "      <td>NaN</td>\n",
              "      <td>1</td>\n",
              "    </tr>\n",
              "    <tr>\n",
              "      <th>9</th>\n",
              "      <td>4-26-1997</td>\n",
              "      <td>90</td>\n",
              "      <td>Don't Keep Wasting My Time</td>\n",
              "      <td>Teddy Pendergrass</td>\n",
              "      <td>97.0</td>\n",
              "      <td>2</td>\n",
              "    </tr>\n",
              "  </tbody>\n",
              "</table>\n",
              "</div>\n",
              "      <button class=\"colab-df-convert\" onclick=\"convertToInteractive('df-9db7627d-2faa-4de5-96eb-31ebdab01a1a')\"\n",
              "              title=\"Convert this dataframe to an interactive table.\"\n",
              "              style=\"display:none;\">\n",
              "        \n",
              "  <svg xmlns=\"http://www.w3.org/2000/svg\" height=\"24px\"viewBox=\"0 0 24 24\"\n",
              "       width=\"24px\">\n",
              "    <path d=\"M0 0h24v24H0V0z\" fill=\"none\"/>\n",
              "    <path d=\"M18.56 5.44l.94 2.06.94-2.06 2.06-.94-2.06-.94-.94-2.06-.94 2.06-2.06.94zm-11 1L8.5 8.5l.94-2.06 2.06-.94-2.06-.94L8.5 2.5l-.94 2.06-2.06.94zm10 10l.94 2.06.94-2.06 2.06-.94-2.06-.94-.94-2.06-.94 2.06-2.06.94z\"/><path d=\"M17.41 7.96l-1.37-1.37c-.4-.4-.92-.59-1.43-.59-.52 0-1.04.2-1.43.59L10.3 9.45l-7.72 7.72c-.78.78-.78 2.05 0 2.83L4 21.41c.39.39.9.59 1.41.59.51 0 1.02-.2 1.41-.59l7.78-7.78 2.81-2.81c.8-.78.8-2.07 0-2.86zM5.41 20L4 18.59l7.72-7.72 1.47 1.35L5.41 20z\"/>\n",
              "  </svg>\n",
              "      </button>\n",
              "      \n",
              "  <style>\n",
              "    .colab-df-container {\n",
              "      display:flex;\n",
              "      flex-wrap:wrap;\n",
              "      gap: 12px;\n",
              "    }\n",
              "\n",
              "    .colab-df-convert {\n",
              "      background-color: #E8F0FE;\n",
              "      border: none;\n",
              "      border-radius: 50%;\n",
              "      cursor: pointer;\n",
              "      display: none;\n",
              "      fill: #1967D2;\n",
              "      height: 32px;\n",
              "      padding: 0 0 0 0;\n",
              "      width: 32px;\n",
              "    }\n",
              "\n",
              "    .colab-df-convert:hover {\n",
              "      background-color: #E2EBFA;\n",
              "      box-shadow: 0px 1px 2px rgba(60, 64, 67, 0.3), 0px 1px 3px 1px rgba(60, 64, 67, 0.15);\n",
              "      fill: #174EA6;\n",
              "    }\n",
              "\n",
              "    [theme=dark] .colab-df-convert {\n",
              "      background-color: #3B4455;\n",
              "      fill: #D2E3FC;\n",
              "    }\n",
              "\n",
              "    [theme=dark] .colab-df-convert:hover {\n",
              "      background-color: #434B5C;\n",
              "      box-shadow: 0px 1px 3px 1px rgba(0, 0, 0, 0.15);\n",
              "      filter: drop-shadow(0px 1px 2px rgba(0, 0, 0, 0.3));\n",
              "      fill: #FFFFFF;\n",
              "    }\n",
              "  </style>\n",
              "\n",
              "      <script>\n",
              "        const buttonEl =\n",
              "          document.querySelector('#df-9db7627d-2faa-4de5-96eb-31ebdab01a1a button.colab-df-convert');\n",
              "        buttonEl.style.display =\n",
              "          google.colab.kernel.accessAllowed ? 'block' : 'none';\n",
              "\n",
              "        async function convertToInteractive(key) {\n",
              "          const element = document.querySelector('#df-9db7627d-2faa-4de5-96eb-31ebdab01a1a');\n",
              "          const dataTable =\n",
              "            await google.colab.kernel.invokeFunction('convertToInteractive',\n",
              "                                                     [key], {});\n",
              "          if (!dataTable) return;\n",
              "\n",
              "          const docLinkHtml = 'Like what you see? Visit the ' +\n",
              "            '<a target=\"_blank\" href=https://colab.research.google.com/notebooks/data_table.ipynb>data table notebook</a>'\n",
              "            + ' to learn more about interactive tables.';\n",
              "          element.innerHTML = '';\n",
              "          dataTable['output_type'] = 'display_data';\n",
              "          await google.colab.output.renderOutput(dataTable, element);\n",
              "          const docLink = document.createElement('div');\n",
              "          docLink.innerHTML = docLinkHtml;\n",
              "          element.appendChild(docLink);\n",
              "        }\n",
              "      </script>\n",
              "    </div>\n",
              "  </div>\n",
              "  "
            ]
          },
          "metadata": {},
          "execution_count": 12
        }
      ]
    },
    {
      "cell_type": "markdown",
      "source": [
        "### 1c"
      ],
      "metadata": {
        "id": "VNXYvnNy3jkE"
      }
    },
    {
      "cell_type": "code",
      "source": [
        "nicki = billboard[billboard['performer'] == 'Nicki Minaj']\n",
        "nicki.head(5)"
      ],
      "metadata": {
        "colab": {
          "base_uri": "https://localhost:8080/",
          "height": 206
        },
        "id": "12A8AFIS-_-G",
        "outputId": "74397313-e497-4d89-d571-a6e85c0bccac"
      },
      "execution_count": 13,
      "outputs": [
        {
          "output_type": "execute_result",
          "data": {
            "text/plain": [
              "     chart_date  chart_position                  song    performer  \\\n",
              "497   9-29-2012              17       Pound The Alarm  Nicki Minaj   \n",
              "1063   3-3-2012               9             Starships  Nicki Minaj   \n",
              "2353  8-25-2018              18         Barbie Dreams  Nicki Minaj   \n",
              "2360  8-23-2014              19              Anaconda  Nicki Minaj   \n",
              "4372   4-1-2017              61  Regret In Your Tears  Nicki Minaj   \n",
              "\n",
              "      consecutive_weeks  time_on_chart  \n",
              "497                19.0              8  \n",
              "1063                NaN              1  \n",
              "2353                NaN              1  \n",
              "2360                NaN              1  \n",
              "4372                NaN              1  "
            ],
            "text/html": [
              "\n",
              "  <div id=\"df-dcf1d31d-6014-4c85-8d49-7730a197ae01\">\n",
              "    <div class=\"colab-df-container\">\n",
              "      <div>\n",
              "<style scoped>\n",
              "    .dataframe tbody tr th:only-of-type {\n",
              "        vertical-align: middle;\n",
              "    }\n",
              "\n",
              "    .dataframe tbody tr th {\n",
              "        vertical-align: top;\n",
              "    }\n",
              "\n",
              "    .dataframe thead th {\n",
              "        text-align: right;\n",
              "    }\n",
              "</style>\n",
              "<table border=\"1\" class=\"dataframe\">\n",
              "  <thead>\n",
              "    <tr style=\"text-align: right;\">\n",
              "      <th></th>\n",
              "      <th>chart_date</th>\n",
              "      <th>chart_position</th>\n",
              "      <th>song</th>\n",
              "      <th>performer</th>\n",
              "      <th>consecutive_weeks</th>\n",
              "      <th>time_on_chart</th>\n",
              "    </tr>\n",
              "  </thead>\n",
              "  <tbody>\n",
              "    <tr>\n",
              "      <th>497</th>\n",
              "      <td>9-29-2012</td>\n",
              "      <td>17</td>\n",
              "      <td>Pound The Alarm</td>\n",
              "      <td>Nicki Minaj</td>\n",
              "      <td>19.0</td>\n",
              "      <td>8</td>\n",
              "    </tr>\n",
              "    <tr>\n",
              "      <th>1063</th>\n",
              "      <td>3-3-2012</td>\n",
              "      <td>9</td>\n",
              "      <td>Starships</td>\n",
              "      <td>Nicki Minaj</td>\n",
              "      <td>NaN</td>\n",
              "      <td>1</td>\n",
              "    </tr>\n",
              "    <tr>\n",
              "      <th>2353</th>\n",
              "      <td>8-25-2018</td>\n",
              "      <td>18</td>\n",
              "      <td>Barbie Dreams</td>\n",
              "      <td>Nicki Minaj</td>\n",
              "      <td>NaN</td>\n",
              "      <td>1</td>\n",
              "    </tr>\n",
              "    <tr>\n",
              "      <th>2360</th>\n",
              "      <td>8-23-2014</td>\n",
              "      <td>19</td>\n",
              "      <td>Anaconda</td>\n",
              "      <td>Nicki Minaj</td>\n",
              "      <td>NaN</td>\n",
              "      <td>1</td>\n",
              "    </tr>\n",
              "    <tr>\n",
              "      <th>4372</th>\n",
              "      <td>4-1-2017</td>\n",
              "      <td>61</td>\n",
              "      <td>Regret In Your Tears</td>\n",
              "      <td>Nicki Minaj</td>\n",
              "      <td>NaN</td>\n",
              "      <td>1</td>\n",
              "    </tr>\n",
              "  </tbody>\n",
              "</table>\n",
              "</div>\n",
              "      <button class=\"colab-df-convert\" onclick=\"convertToInteractive('df-dcf1d31d-6014-4c85-8d49-7730a197ae01')\"\n",
              "              title=\"Convert this dataframe to an interactive table.\"\n",
              "              style=\"display:none;\">\n",
              "        \n",
              "  <svg xmlns=\"http://www.w3.org/2000/svg\" height=\"24px\"viewBox=\"0 0 24 24\"\n",
              "       width=\"24px\">\n",
              "    <path d=\"M0 0h24v24H0V0z\" fill=\"none\"/>\n",
              "    <path d=\"M18.56 5.44l.94 2.06.94-2.06 2.06-.94-2.06-.94-.94-2.06-.94 2.06-2.06.94zm-11 1L8.5 8.5l.94-2.06 2.06-.94-2.06-.94L8.5 2.5l-.94 2.06-2.06.94zm10 10l.94 2.06.94-2.06 2.06-.94-2.06-.94-.94-2.06-.94 2.06-2.06.94z\"/><path d=\"M17.41 7.96l-1.37-1.37c-.4-.4-.92-.59-1.43-.59-.52 0-1.04.2-1.43.59L10.3 9.45l-7.72 7.72c-.78.78-.78 2.05 0 2.83L4 21.41c.39.39.9.59 1.41.59.51 0 1.02-.2 1.41-.59l7.78-7.78 2.81-2.81c.8-.78.8-2.07 0-2.86zM5.41 20L4 18.59l7.72-7.72 1.47 1.35L5.41 20z\"/>\n",
              "  </svg>\n",
              "      </button>\n",
              "      \n",
              "  <style>\n",
              "    .colab-df-container {\n",
              "      display:flex;\n",
              "      flex-wrap:wrap;\n",
              "      gap: 12px;\n",
              "    }\n",
              "\n",
              "    .colab-df-convert {\n",
              "      background-color: #E8F0FE;\n",
              "      border: none;\n",
              "      border-radius: 50%;\n",
              "      cursor: pointer;\n",
              "      display: none;\n",
              "      fill: #1967D2;\n",
              "      height: 32px;\n",
              "      padding: 0 0 0 0;\n",
              "      width: 32px;\n",
              "    }\n",
              "\n",
              "    .colab-df-convert:hover {\n",
              "      background-color: #E2EBFA;\n",
              "      box-shadow: 0px 1px 2px rgba(60, 64, 67, 0.3), 0px 1px 3px 1px rgba(60, 64, 67, 0.15);\n",
              "      fill: #174EA6;\n",
              "    }\n",
              "\n",
              "    [theme=dark] .colab-df-convert {\n",
              "      background-color: #3B4455;\n",
              "      fill: #D2E3FC;\n",
              "    }\n",
              "\n",
              "    [theme=dark] .colab-df-convert:hover {\n",
              "      background-color: #434B5C;\n",
              "      box-shadow: 0px 1px 3px 1px rgba(0, 0, 0, 0.15);\n",
              "      filter: drop-shadow(0px 1px 2px rgba(0, 0, 0, 0.3));\n",
              "      fill: #FFFFFF;\n",
              "    }\n",
              "  </style>\n",
              "\n",
              "      <script>\n",
              "        const buttonEl =\n",
              "          document.querySelector('#df-dcf1d31d-6014-4c85-8d49-7730a197ae01 button.colab-df-convert');\n",
              "        buttonEl.style.display =\n",
              "          google.colab.kernel.accessAllowed ? 'block' : 'none';\n",
              "\n",
              "        async function convertToInteractive(key) {\n",
              "          const element = document.querySelector('#df-dcf1d31d-6014-4c85-8d49-7730a197ae01');\n",
              "          const dataTable =\n",
              "            await google.colab.kernel.invokeFunction('convertToInteractive',\n",
              "                                                     [key], {});\n",
              "          if (!dataTable) return;\n",
              "\n",
              "          const docLinkHtml = 'Like what you see? Visit the ' +\n",
              "            '<a target=\"_blank\" href=https://colab.research.google.com/notebooks/data_table.ipynb>data table notebook</a>'\n",
              "            + ' to learn more about interactive tables.';\n",
              "          element.innerHTML = '';\n",
              "          dataTable['output_type'] = 'display_data';\n",
              "          await google.colab.output.renderOutput(dataTable, element);\n",
              "          const docLink = document.createElement('div');\n",
              "          docLink.innerHTML = docLinkHtml;\n",
              "          element.appendChild(docLink);\n",
              "        }\n",
              "      </script>\n",
              "    </div>\n",
              "  </div>\n",
              "  "
            ]
          },
          "metadata": {},
          "execution_count": 13
        }
      ]
    },
    {
      "cell_type": "markdown",
      "source": [
        "##1d"
      ],
      "metadata": {
        "id": "MEVewuSfAFcM"
      }
    },
    {
      "cell_type": "code",
      "source": [
        "nicki.isnull().any()"
      ],
      "metadata": {
        "colab": {
          "base_uri": "https://localhost:8080/"
        },
        "id": "PLXM0ygs-_0s",
        "outputId": "251bf223-ba2a-4dee-e7c0-9ad5a853662a"
      },
      "execution_count": 14,
      "outputs": [
        {
          "output_type": "execute_result",
          "data": {
            "text/plain": [
              "chart_date           False\n",
              "chart_position       False\n",
              "song                 False\n",
              "performer            False\n",
              "consecutive_weeks     True\n",
              "time_on_chart        False\n",
              "dtype: bool"
            ]
          },
          "metadata": {},
          "execution_count": 14
        }
      ]
    },
    {
      "cell_type": "markdown",
      "source": [
        "## 1f"
      ],
      "metadata": {
        "id": "mO_lsireAIKE"
      }
    },
    {
      "cell_type": "code",
      "source": [
        "nicki.loc[:, 'year'] = nicki['chart_date'].str.split('-').str[2]\n",
        "nicki.groupby('year')['song'].count()"
      ],
      "metadata": {
        "colab": {
          "base_uri": "https://localhost:8080/"
        },
        "id": "mzjU2HPu-_ov",
        "outputId": "33ee56ee-32d5-46e0-8ab3-e74f8d48889a"
      },
      "execution_count": 16,
      "outputs": [
        {
          "output_type": "stream",
          "name": "stderr",
          "text": [
            "/usr/local/lib/python3.8/dist-packages/pandas/core/indexing.py:1773: SettingWithCopyWarning: \n",
            "A value is trying to be set on a copy of a slice from a DataFrame.\n",
            "Try using .loc[row_indexer,col_indexer] = value instead\n",
            "\n",
            "See the caveats in the documentation: https://pandas.pydata.org/pandas-docs/stable/user_guide/indexing.html#returning-a-view-versus-a-copy\n",
            "  self._setitem_single_column(ilocs[0], value, pi)\n"
          ]
        },
        {
          "output_type": "execute_result",
          "data": {
            "text/plain": [
              "year\n",
              "2010    31\n",
              "2011    59\n",
              "2012    68\n",
              "2013    11\n",
              "2014    37\n",
              "2015    20\n",
              "2017     1\n",
              "2018    28\n",
              "2019     5\n",
              "2020     2\n",
              "2021     2\n",
              "Name: song, dtype: int64"
            ]
          },
          "metadata": {},
          "execution_count": 16
        }
      ]
    },
    {
      "cell_type": "markdown",
      "source": [
        "## Percy Jackson"
      ],
      "metadata": {
        "id": "FPrx0gIZ1xZH"
      }
    },
    {
      "cell_type": "code",
      "execution_count": 17,
      "metadata": {
        "id": "GAn8m4Th0Zex"
      },
      "outputs": [],
      "source": [
        "import re"
      ]
    },
    {
      "cell_type": "code",
      "source": [
        "book = \"\"\"\n",
        "Lorem ipsum dolor prophecy sit amet, consectetur adipiscing elit. Etiam urna quam, luctus nec congue eu, efficitur non enim. Lorem ipsum dolor sit amet, consectetur adipiscing elit. Curabitur dapibus dolor est, ut luctus diam venenatis vitae. Nullam erat urna, aliquam id turpis accumsan, facilisis commodo ligula. Maecenas faucibus tellus a enim porta tincidunt. Sed sollicitudin turpis vulputate orci finibus molestie. Morbi finibus quam dignissim eros venenatis laoreet. Vivamus ante purus, semper vitae finibus euismod, lacinia a est. Donec quam tortor, vestibulum eget semper ac, posuere quis odio. Nulla facilisi.\n",
        "\n",
        "Prophecy Proin quis ipsum interdum, rutrum ante sit amet, hendrerit orci. Quisque in sapien non justo commodo tempor vel in urna. Morbi aliquam tincidunt metus. Sed id sapien aliquet, semper ligula ut, faucibus nulla. Suspendisse et purus vitae enim rhoncus feugiat nec vel lacus. Duis justo quam, interdum ac suscipit eu, fringilla at sem. Donec eleifend tincidunt justo sed placerat. Proin at ante velit. Aliquam porttitor lectus sed ipsum vehicula bibendum. Nullam iaculis tincidunt ante, ac molestie leo tincidunt a.\n",
        "\n",
        "Sed vel tincidunt diam, sed aliquam turpis. Nunc ac aliquet nisl. Cras pulvinar ornare libero interdum dictum. Aliquam pulvinar at dolor nec consectetur. Praesent et blandit risus. Nullam lacinia felis id aliquam accumsan. Proin id sem eros. Donec commodo rutrum orci, a semper ex eleifend at.\n",
        "\n",
        "Nullam tincidunt? \"My math class is so hard!\" eu tellus non Faucibus? Aenean id sem suscipit, eleifend ipsum eget, tincidunt tortor. Donec sit amet nunc urna. Pellentesque commodo volutpat sagittis. Donec semper leo nec nibh egestas, nec dapibus urna viverra. Phasellus dolor tellus, eleifend eget dictum viverra, suscipit sit amet elit. Pellentesque habitant morbi tristique senectus et netus et malesuada fames ac turpis egestas. In est purus, scelerisque in tempus et, feugiat ac eros. In a nisi elementum, elementum lectus non, imperdiet est. Nam mattis lectus sed tortor faucibus, quis vulputate sem eleifend. Aenean ac lacus purus. Morbi eleifend ante et lectus mattis dictum.\n",
        "\n",
        "Praesent vestibulum vel nisl \"Two words!\" sed aliquam. Nullam ac aliquet ipsum. Sed ornare eros in convallis laoreet. Morbi quis dignissim augue. Nunc faucibus mauris eu posuere sodales. Aenean non arcu libero. Aenean a mi mauris. Vestibulum ante ipsum primis in faucibus orci luctus et ultrices posuere cubilia curae; Curabitur ut ante eu purus ultrices malesuada. Curabitur non posuere tortor, quis volutpat nisi. Curabitur ex risus, posuere sit amet maximus id, convallis sit amet est. Nam ut aliquet nunc. Cras pharetra ut lacus vel varius. Duis sodales viverra leo vel suscipit. Vestibulum molestie nunc ac ligula tempor gravida. Praesent vitae massa ut leo cursus convallis.\n",
        "\n",
        "Phasellus bibendum finibus \"This is Test!\"augue, sed fringilla risus posuere eget. Lorem ipsum dolor sit amet, consectetur adipiscing elit. Phasellus ac turpis sapien. Proin ultricies, nibh nec vestibulum vulputate, mauris enim sollicitudin nunc, ac consequat sem enim et tortor. Suspendisse consectetur quis enim vitae maximus. Praesent semper condimentum leo, vulputate mollis purus laoreet ac. Aenean posuere faucibus nibh et faucibus. In magna tellus, placerat sed metus sed, hendrerit auctor odio. Quisque iaculis cursus sem, ac consequat neque laoreet pulvinar. Vestibulum vel laoreet erat. Phasellus gravida mi congue consequat imperdiet.\n",
        "\n",
        "Sed prophecy nec magna prophecy ut orci molestie facilisis non a ipsum. Curabitur sit amet consectetur odio. Vestibulum a nunc ultricies, rutrum justo a, tincidunt libero. Cras eu neque condimentum augue sodales porta. Maecenas sagittis in turpis in sagittis. Nam pulvinar convallis blandit. Aenean laoreet, tellus a auctor fringilla, massa neque consectetur massa, in cursus nisl erat sit amet lacus. Nam est sapien, finibus quis congue in, iaculis non augue. Sed tempus leo in erat ultrices ullamcorper. Donec malesuada volutpat laoreet. Curabitur ac velit placerat, varius risus vitae, consectetur nunc.\n",
        "\n",
        "Nam egestas orci semper, ultricies \"!\" ipsum et, fringilla justo. Donec blandit pretium dolor ac porttitor. Aenean hendrerit imperdiet metus, ultrices auctor ligula elementum vel. Vestibulum vitae lorem vel mi ultricies porttitor id sit amet dolor. Vestibulum mattis, nulla vitae molestie ultricies, diam leo semper elit, id ornare tellus dui non dui. Nulla ipsum nisi, auctor sit amet dignissim et, sagittis a magna. Integer nec nulla consequat, bibendum mi mattis, tempus felis. Donec commodo facilisis ipsum at aliquam. Donec a scelerisque dolor, id ornare ipsum. Mauris sagittis orci orci. In condimentum est vel libero eleifend posuere. Vivamus ex lectus, mollis et interdum nec, finibus at ante.\n",
        "\n",
        "Aenean eget odio et enim rutrum pulvinar. Nulla cursus magna vitae nisl ultrices vulputate. Vestibulum ullamcorper, nunc et facilisis feugiat, odio lorem convallis orci, ac commodo ipsum odio a risus. Etiam quis tortor leo. Phasellus vulputate ligula in arcu molestie, vitae hendrerit sapien blandit. In sollicitudin arcu vel justo bibendum, eu finibus quam blandit. Nunc arcu lacus, rhoncus sed egestas eu, pulvinar sed ante. Curabitur non efficitur dolor. Nullam pulvinar erat id vestibulum consectetur.\n",
        "\n",
        "Pellentesque tincidunt enim magna, sit \"This is four words!\" amet ultrices diam euismod et. Sed eu condimentum quam, in placerat nisi. Curabitur tincidunt urna dui, eget efficitur ex scelerisque at. Curabitur feugiat commodo erat, et placerat mauris lobortis at. Aenean a pellentesque quam. In hac habitasse platea dictumst. Maecenas non maximus est. Pellentesque nec leo ut ipsum vehicula iaculis ut eget lorem. Nulla in porttitor nisi, nec fringilla mauris. Fusce accumsan dolor eros, ut ullamcorper ex consequat eget. Duis condimentum tellus et vestibulum imperdiet.\n",
        "\n",
        "Quisque prophecy fermentum in felis eu dictum? Nulla odio arcu, dapibus ac bibendum tristique, mollis a risus. Sed interdum dictum ligula, ac tristique justo. Mauris finibus consequat diam, eu consequat elit fringilla ut. Donec sed ligula in orci fringilla varius ac consectetur risus. Vestibulum at risus eros. Ut at auctor nunc. Sed nulla tortor, vestibulum at egestas a, lacinia eu nulla. Cras aliquet pretium iaculis. Morbi at enim luctus, fermentum metus non, hendrerit eros. Phasellus eu urna scelerisque, vestibulum orci in, pretium dui.\n",
        "\n",
        "Suspendisse bibendum diam non quam fermentum porta. Nullam ornare posuere erat. Integer leo arcu, consequat eu pharetra ac, pulvinar rutrum magna. Suspendisse sed tempor metus, sed scelerisque nisl. Praesent non volutpat eros. Pellentesque ut viverra nulla. Mauris efficitur feugiat vestibulum. Donec maximus erat eget nibh pretium tristique. Quisque purus mauris, commodo eget mi a, eleifend luctus nunc.\n",
        "\n",
        "Sed enim tortor, dignissim ac tellus a, consequat gravida nibh. Curabitur a tellus turpis. Nulla pulvinar turpis cursus arcu interdum, non gravida risus maximus. Proin aliquet libero sed mi efficitur, vitae lacinia justo facilisis. Etiam ut purus ut velit bibendum bibendum et eu dolor. Vestibulum a euismod mi, id sagittis mauris. Maecenas dignissim mi id lectus suscipit gravida.\n",
        "\"I am Persephone! hi!\" she said, her voice thin and papery.\n",
        "\"I am Persephone!\" Morbi vulputate gravida Blandit? Aenean consectetur purus lorem, non commodo nunc vestibulum ut. Sed id maximus mi. Nullam dui leo, sollicitudin ut diam non, porttitor facilisis arcu. Ut et dolor sit amet massa facilisis congue. Ut eleifend cursus arcu quis lobortis. Duis vel augue eu lorem rutrum convallis. Lorem ipsum dolor sit amet, consectetur adipiscing elit. Sed ipsum augue, ornare ut sapien vitae, feugiat maximus ante. Morbi id vehicula dui. Vivamus luctus sed dui nec suscipit.\n",
        "\"I nobody sidekick!\" Annabeth growled. \"And, Percy, his accent sounds familiar because he sounds like his mother. We killed her in New Jersey.\"\n",
        "\n",
        "Donec sed diam vulputate, laoreet felis non, fringilla nunc. Pellentesque sed mi nunc. Morbi id cursus libero. Sed dolor nibh, bibendum ut bibendum et, aliquet ut eros. Pellentesque aliquam hendrerit dapibus. Etiam iaculis mauris sem. Proin nulla risus, dapibus id mi sit amet, sagittis blandit libero. Lorem ipsum dolor sit amet, consectetur adipiscing elit. Duis imperdiet interdum felis, ut consectetur massa. Sed sit amet felis vel leo posuere posuere. Sed ullamcorper nisl mi, non congue risus lacinia at. Orci varius natoque penatibus et magnis dis parturient montes, nascetur ridiculus mus. Fusce imperdiet congue nisi at facilisis. Etiam tempus consequat ante, vel posuere tellus molestie non. Nulla pulvinar sit amet eros nec consectetur.\n",
        "\n",
        "This is a sentence with the word prophecy. This is a sentence without it. Does this one include prophecy? Yes, it did. \n",
        "\n",
        "\n",
        "Sed prophecy nec magna prophecy ut orci molestie facilisis non a ipsum. Curabitur sit amet consectetur odio. Vestibulum a nunc ultricies, rutrum justo a, tincidunt libero. Cras eu neque condimentum augue sodales porta. Maecenas sagittis in turpis in sagittis. Nam pulvinar convallis blandit. Aenean laoreet, tellus a auctor fringilla, massa neque consectetur massa, in cursus nisl erat sit amet lacus. Nam est sapien, finibus quis congue in, iaculis non augue. Sed tempus leo in erat ultrices ullamcorper. Donec malesuada volutpat laoreet. Curabitur ac velit placerat, varius risus vitae, consectetur nunc.Quisque prophecy fermentum in felis eu dictum? Nulla odio arcu, dapibus ac bibendum tristique, mollis a risus.\n",
        "\"\"\""
      ],
      "metadata": {
        "id": "rIlZm9q60gLo"
      },
      "execution_count": 34,
      "outputs": []
    },
    {
      "cell_type": "markdown",
      "source": [
        "### 2a\n"
      ],
      "metadata": {
        "id": "nJbkbPI813Xr"
      }
    },
    {
      "cell_type": "code",
      "source": [
        "pattern = r'\"(([A-Za-z]+\\s*){0,3})!\"'\n",
        "group_number = 0\n",
        "result = [group[group_number] for group in \\\n",
        "                  re.findall(pattern, book)]\n",
        "result"
      ],
      "metadata": {
        "colab": {
          "base_uri": "https://localhost:8080/"
        },
        "id": "jLxQE7GJP5gY",
        "outputId": "3cd8e6b7-b00a-49fb-c57c-ae6f936f9f3c"
      },
      "execution_count": 27,
      "outputs": [
        {
          "output_type": "execute_result",
          "data": {
            "text/plain": [
              "['Two words', 'This is Test', '', 'I am Persephone', 'I nobody sidekick']"
            ]
          },
          "metadata": {},
          "execution_count": 27
        }
      ]
    },
    {
      "cell_type": "code",
      "source": [
        "pattern = r'\"(([A-Za-z]+\\s*){0,3})!\"'\n",
        "group_number = 0"
      ],
      "metadata": {
        "id": "7307fASKV39d"
      },
      "execution_count": 28,
      "outputs": []
    },
    {
      "cell_type": "code",
      "source": [
        "#Another example\n",
        "book2 =  \"\"\" \n",
        "\n",
        "\"I am Thor!\", Thor continued angrily \"Obey me!\"\n",
        "\"I am Persephone!\" she said, her voice thin and papery.\n",
        "\"\"\"\n",
        "result = [group[group_number] for group in re.findall(pattern, book2)]\n",
        "result"
      ],
      "metadata": {
        "colab": {
          "base_uri": "https://localhost:8080/"
        },
        "id": "2BgXMho21HJR",
        "outputId": "6e7e39b3-ffe3-4808-f234-d7de3c60a195"
      },
      "execution_count": 29,
      "outputs": [
        {
          "output_type": "execute_result",
          "data": {
            "text/plain": [
              "['I am Thor', 'Obey me', 'I am Persephone']"
            ]
          },
          "metadata": {},
          "execution_count": 29
        }
      ]
    },
    {
      "cell_type": "markdown",
      "source": [
        "##2b"
      ],
      "metadata": {
        "id": "8e-brPW12BNd"
      }
    },
    {
      "cell_type": "code",
      "source": [
        "pattern = r'([^\\n]+)\\n*'\n",
        "result = re.findall(pattern, book)\n",
        "result[:3]"
      ],
      "metadata": {
        "colab": {
          "base_uri": "https://localhost:8080/"
        },
        "id": "HIPNtxGb1HLo",
        "outputId": "b3a9ce2b-c50e-406c-c8f4-ee54629d60ea"
      },
      "execution_count": 31,
      "outputs": [
        {
          "output_type": "execute_result",
          "data": {
            "text/plain": [
              "['Lorem ipsum dolor prophecy sit amet, consectetur adipiscing elit. Etiam urna quam, luctus nec congue eu, efficitur non enim. Lorem ipsum dolor sit amet, consectetur adipiscing elit. Curabitur dapibus dolor est, ut luctus diam venenatis vitae. Nullam erat urna, aliquam id turpis accumsan, facilisis commodo ligula. Maecenas faucibus tellus a enim porta tincidunt. Sed sollicitudin turpis vulputate orci finibus molestie. Morbi finibus quam dignissim eros venenatis laoreet. Vivamus ante purus, semper vitae finibus euismod, lacinia a est. Donec quam tortor, vestibulum eget semper ac, posuere quis odio. Nulla facilisi.',\n",
              " 'Prophecy Proin quis ipsum interdum, rutrum ante sit amet, hendrerit orci. Quisque in sapien non justo commodo tempor vel in urna. Morbi aliquam tincidunt metus. Sed id sapien aliquet, semper ligula ut, faucibus nulla. Suspendisse et purus vitae enim rhoncus feugiat nec vel lacus. Duis justo quam, interdum ac suscipit eu, fringilla at sem. Donec eleifend tincidunt justo sed placerat. Proin at ante velit. Aliquam porttitor lectus sed ipsum vehicula bibendum. Nullam iaculis tincidunt ante, ac molestie leo tincidunt a.',\n",
              " 'Sed vel tincidunt diam, sed aliquam turpis. Nunc ac aliquet nisl. Cras pulvinar ornare libero interdum dictum. Aliquam pulvinar at dolor nec consectetur. Praesent et blandit risus. Nullam lacinia felis id aliquam accumsan. Proin id sem eros. Donec commodo rutrum orci, a semper ex eleifend at.']"
            ]
          },
          "metadata": {},
          "execution_count": 31
        }
      ]
    },
    {
      "cell_type": "markdown",
      "source": [
        "## 2c"
      ],
      "metadata": {
        "id": "DwA5GPku2RKV"
      }
    },
    {
      "cell_type": "code",
      "source": [
        "# pattern = r'([A-Za-z]+).*?prophecy.*?[.?!]' old solution\n",
        "pattern = r'([A-Za-z]+)[^.!?]+prophecy[^.!?]*[.!?]'\n",
        "\n",
        "re.findall(pattern, book)"
      ],
      "metadata": {
        "colab": {
          "base_uri": "https://localhost:8080/"
        },
        "id": "3c6u0TiJ2PGb",
        "outputId": "dd75aa2e-615e-4d2f-dac6-5afc654c8a3b"
      },
      "execution_count": 37,
      "outputs": [
        {
          "output_type": "execute_result",
          "data": {
            "text/plain": [
              "['Lorem', 'Sed', 'Quisque', 'This', 'Does', 'Sed', 'Quisque']"
            ]
          },
          "metadata": {},
          "execution_count": 37
        }
      ]
    },
    {
      "cell_type": "markdown",
      "source": [
        "##2d"
      ],
      "metadata": {
        "id": "ZAXK9wdz3L_8"
      }
    },
    {
      "cell_type": "code",
      "source": [
        "pattern = r'([A-Z]\\w+)\\?'\n",
        "re.findall(pattern, book)"
      ],
      "metadata": {
        "colab": {
          "base_uri": "https://localhost:8080/"
        },
        "id": "LPn9T5X52FjF",
        "outputId": "5bce0b62-3d8d-46b4-d24a-a515256960f8"
      },
      "execution_count": 33,
      "outputs": [
        {
          "output_type": "execute_result",
          "data": {
            "text/plain": [
              "['Faucibus', 'Blandit']"
            ]
          },
          "metadata": {},
          "execution_count": 33
        }
      ]
    },
    {
      "cell_type": "code",
      "source": [],
      "metadata": {
        "id": "HQ7PlFwu3U4O"
      },
      "execution_count": null,
      "outputs": []
    }
  ]
}