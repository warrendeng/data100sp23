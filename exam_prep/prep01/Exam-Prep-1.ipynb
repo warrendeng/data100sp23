{
 "cells": [
  {
   "cell_type": "code",
   "execution_count": 1,
   "id": "5091ff53",
   "metadata": {},
   "outputs": [],
   "source": [
    "import pandas as pd\n",
    "import numpy as np"
   ]
  },
  {
   "cell_type": "markdown",
   "id": "3e9aca5d",
   "metadata": {},
   "source": [
    "## Question 1"
   ]
  },
  {
   "cell_type": "code",
   "execution_count": 2,
   "id": "bd6e5b12",
   "metadata": {},
   "outputs": [
    {
     "data": {
      "text/html": [
       "<div>\n",
       "<style scoped>\n",
       "    .dataframe tbody tr th:only-of-type {\n",
       "        vertical-align: middle;\n",
       "    }\n",
       "\n",
       "    .dataframe tbody tr th {\n",
       "        vertical-align: top;\n",
       "    }\n",
       "\n",
       "    .dataframe thead th {\n",
       "        text-align: right;\n",
       "    }\n",
       "</style>\n",
       "<table border=\"1\" class=\"dataframe\">\n",
       "  <thead>\n",
       "    <tr style=\"text-align: right;\">\n",
       "      <th></th>\n",
       "      <th>age</th>\n",
       "      <th>height</th>\n",
       "    </tr>\n",
       "  </thead>\n",
       "  <tbody>\n",
       "    <tr>\n",
       "      <th>0</th>\n",
       "      <td>13</td>\n",
       "      <td>18</td>\n",
       "    </tr>\n",
       "    <tr>\n",
       "      <th>1</th>\n",
       "      <td>17</td>\n",
       "      <td>29</td>\n",
       "    </tr>\n",
       "    <tr>\n",
       "      <th>2</th>\n",
       "      <td>9</td>\n",
       "      <td>7</td>\n",
       "    </tr>\n",
       "    <tr>\n",
       "      <th>3</th>\n",
       "      <td>2</td>\n",
       "      <td>4</td>\n",
       "    </tr>\n",
       "    <tr>\n",
       "      <th>4</th>\n",
       "      <td>4</td>\n",
       "      <td>13</td>\n",
       "    </tr>\n",
       "  </tbody>\n",
       "</table>\n",
       "</div>"
      ],
      "text/plain": [
       "   age  height\n",
       "0   13      18\n",
       "1   17      29\n",
       "2    9       7\n",
       "3    2       4\n",
       "4    4      13"
      ]
     },
     "execution_count": 2,
     "metadata": {},
     "output_type": "execute_result"
    }
   ],
   "source": [
    "panda = pd.DataFrame({\"age\": [13, 17, 9, 2, 4], \"height\": [18, 29, 7, 4, 13]})\n",
    "panda"
   ]
  },
  {
   "cell_type": "markdown",
   "id": "1e78cc8f",
   "metadata": {},
   "source": [
    "### Part a"
   ]
  },
  {
   "cell_type": "code",
   "execution_count": 3,
   "id": "5ef251eb",
   "metadata": {},
   "outputs": [
    {
     "data": {
      "text/plain": [
       "1.823655103066868"
      ]
     },
     "execution_count": 3,
     "metadata": {},
     "output_type": "execute_result"
    }
   ],
   "source": [
    "(panda['height']/panda['age']).mean()"
   ]
  },
  {
   "cell_type": "markdown",
   "id": "41c028d7",
   "metadata": {},
   "source": [
    "### Part b"
   ]
  },
  {
   "cell_type": "code",
   "execution_count": 4,
   "id": "38dc6383",
   "metadata": {},
   "outputs": [
    {
     "data": {
      "text/plain": [
       "age\n",
       "2      4.0\n",
       "4     13.0\n",
       "9      7.0\n",
       "13    18.0\n",
       "17    29.0\n",
       "Name: height, dtype: float64"
      ]
     },
     "execution_count": 4,
     "metadata": {},
     "output_type": "execute_result"
    }
   ],
   "source": [
    "panda.groupby(\"age\")[\"height\"].median()"
   ]
  },
  {
   "cell_type": "markdown",
   "id": "364dc280",
   "metadata": {},
   "source": [
    "### Part c"
   ]
  },
  {
   "cell_type": "code",
   "execution_count": 5,
   "id": "f74912b5",
   "metadata": {},
   "outputs": [
    {
     "data": {
      "text/plain": [
       "age\n",
       "2     2.000000\n",
       "4     3.250000\n",
       "9     0.777778\n",
       "13    1.384615\n",
       "17    1.705882\n",
       "Name: height/age, dtype: float64"
      ]
     },
     "execution_count": 5,
     "metadata": {},
     "output_type": "execute_result"
    }
   ],
   "source": [
    "panda['height/age'] = panda['height'] / panda['age']\n",
    "panda.groupby(\"age\")['height/age'].agg('median')"
   ]
  },
  {
   "cell_type": "markdown",
   "id": "9cffa27b",
   "metadata": {},
   "source": [
    "## Question 2"
   ]
  },
  {
   "cell_type": "code",
   "execution_count": 7,
   "id": "31ef35f1",
   "metadata": {},
   "outputs": [
    {
     "data": {
      "text/html": [
       "<div>\n",
       "<style scoped>\n",
       "    .dataframe tbody tr th:only-of-type {\n",
       "        vertical-align: middle;\n",
       "    }\n",
       "\n",
       "    .dataframe tbody tr th {\n",
       "        vertical-align: top;\n",
       "    }\n",
       "\n",
       "    .dataframe thead th {\n",
       "        text-align: right;\n",
       "    }\n",
       "</style>\n",
       "<table border=\"1\" class=\"dataframe\">\n",
       "  <thead>\n",
       "    <tr style=\"text-align: right;\">\n",
       "      <th></th>\n",
       "      <th>ID</th>\n",
       "      <th>Name</th>\n",
       "      <th>Sex</th>\n",
       "      <th>Age</th>\n",
       "      <th>Height</th>\n",
       "      <th>Weight</th>\n",
       "      <th>Team</th>\n",
       "      <th>Year</th>\n",
       "      <th>Season</th>\n",
       "      <th>City</th>\n",
       "      <th>Sport</th>\n",
       "      <th>Event</th>\n",
       "      <th>Medal</th>\n",
       "    </tr>\n",
       "  </thead>\n",
       "  <tbody>\n",
       "    <tr>\n",
       "      <th>0</th>\n",
       "      <td>1</td>\n",
       "      <td>Edgar Lindenau Aabye</td>\n",
       "      <td>M</td>\n",
       "      <td>34.0</td>\n",
       "      <td>NaN</td>\n",
       "      <td>NaN</td>\n",
       "      <td>Denmark/Sweden</td>\n",
       "      <td>1900</td>\n",
       "      <td>Summer</td>\n",
       "      <td>Paris</td>\n",
       "      <td>Tug-Of-War</td>\n",
       "      <td>Tug-Of-War Men's Tug-Of-War</td>\n",
       "      <td>Gold</td>\n",
       "    </tr>\n",
       "    <tr>\n",
       "      <th>1</th>\n",
       "      <td>2</td>\n",
       "      <td>Minna Maarit Aalto</td>\n",
       "      <td>F</td>\n",
       "      <td>30.0</td>\n",
       "      <td>159.0</td>\n",
       "      <td>55.5</td>\n",
       "      <td>Finland</td>\n",
       "      <td>1996</td>\n",
       "      <td>Summer</td>\n",
       "      <td>Atlanta</td>\n",
       "      <td>Sailing</td>\n",
       "      <td>Sailing Women's Windsurfer</td>\n",
       "      <td>NaN</td>\n",
       "    </tr>\n",
       "    <tr>\n",
       "      <th>2</th>\n",
       "      <td>2</td>\n",
       "      <td>Minna Maarit Aalto</td>\n",
       "      <td>F</td>\n",
       "      <td>34.0</td>\n",
       "      <td>159.0</td>\n",
       "      <td>55.5</td>\n",
       "      <td>Finland</td>\n",
       "      <td>2000</td>\n",
       "      <td>Summer</td>\n",
       "      <td>Sydney</td>\n",
       "      <td>Sailing</td>\n",
       "      <td>Sailing Women's Windsurfer</td>\n",
       "      <td>NaN</td>\n",
       "    </tr>\n",
       "    <tr>\n",
       "      <th>3</th>\n",
       "      <td>3</td>\n",
       "      <td>Kjetil Andr Aamodt</td>\n",
       "      <td>M</td>\n",
       "      <td>20.0</td>\n",
       "      <td>176.0</td>\n",
       "      <td>85.0</td>\n",
       "      <td>Norway</td>\n",
       "      <td>1992</td>\n",
       "      <td>Winter</td>\n",
       "      <td>Albertville</td>\n",
       "      <td>Alpine Skiing</td>\n",
       "      <td>Alpine Skiing Men's Super G</td>\n",
       "      <td>Gold</td>\n",
       "    </tr>\n",
       "    <tr>\n",
       "      <th>4</th>\n",
       "      <td>4</td>\n",
       "      <td>Ragnhild Margrethe Aamodt</td>\n",
       "      <td>F</td>\n",
       "      <td>27.0</td>\n",
       "      <td>163.0</td>\n",
       "      <td>NaN</td>\n",
       "      <td>Norway</td>\n",
       "      <td>2008</td>\n",
       "      <td>Summer</td>\n",
       "      <td>Beijing</td>\n",
       "      <td>Handball</td>\n",
       "      <td>Handball Women's Handball</td>\n",
       "      <td>Gold</td>\n",
       "    </tr>\n",
       "  </tbody>\n",
       "</table>\n",
       "</div>"
      ],
      "text/plain": [
       "   ID                       Name Sex   Age  Height  Weight            Team  \\\n",
       "0   1       Edgar Lindenau Aabye   M  34.0     NaN     NaN  Denmark/Sweden   \n",
       "1   2         Minna Maarit Aalto   F  30.0   159.0    55.5         Finland   \n",
       "2   2         Minna Maarit Aalto   F  34.0   159.0    55.5         Finland   \n",
       "3   3         Kjetil Andr Aamodt   M  20.0   176.0    85.0          Norway   \n",
       "4   4  Ragnhild Margrethe Aamodt   F  27.0   163.0     NaN          Norway   \n",
       "\n",
       "   Year  Season         City          Sport                        Event Medal  \n",
       "0  1900  Summer        Paris     Tug-Of-War  Tug-Of-War Men's Tug-Of-War  Gold  \n",
       "1  1996  Summer      Atlanta        Sailing   Sailing Women's Windsurfer   NaN  \n",
       "2  2000  Summer       Sydney        Sailing   Sailing Women's Windsurfer   NaN  \n",
       "3  1992  Winter  Albertville  Alpine Skiing  Alpine Skiing Men's Super G  Gold  \n",
       "4  2008  Summer      Beijing       Handball    Handball Women's Handball  Gold  "
      ]
     },
     "execution_count": 7,
     "metadata": {},
     "output_type": "execute_result"
    }
   ],
   "source": [
    "ath = pd.DataFrame({\"ID\": [1, 2, 2, 3, 4],\n",
    "             \"Name\": [\"Edgar Lindenau Aabye\", \"Minna Maarit Aalto\", \"Minna Maarit Aalto\", \"Kjetil Andr Aamodt\", \"Ragnhild Margrethe Aamodt\"],\n",
    "             \"Sex\": [\"M\", \"F\", \"F\", \"M\", \"F\"],\n",
    "             \"Age\": [34.0, 30.0, 34.0, 20.0, 27.0],\n",
    "             \"Height\": [np.nan, 159, 159, 176, 163],\n",
    "             \"Weight\": [np.nan, 55.5, 55.5, 85, np.nan],\n",
    "             \"Team\": [\"Denmark/Sweden\", \"Finland\", \"Finland\", \"Norway\", \"Norway\"],\n",
    "             \"Year\": [1900, 1996, 2000, 1992, 2008],\n",
    "             \"Season\": ['Summer', \"Summer\", \"Summer\", \"Winter\", \"Summer\"],\n",
    "             \"City\": [\"Paris\", \"Atlanta\", \"Sydney\", \"Albertville\", \"Beijing\"],\n",
    "             \"Sport\": [\"Tug-Of-War\", \"Sailing\", \"Sailing\", \"Alpine Skiing\", \"Handball\"],\n",
    "             \"Event\": [\"Tug-Of-War Men's Tug-Of-War\", \"Sailing Women's Windsurfer\", \"Sailing Women's Windsurfer\", \"Alpine Skiing Men's Super G\", \"Handball Women's Handball\"],\n",
    "             \"Medal\": [\"Gold\", np.nan, np.nan, \"Gold\", \"Gold\"]})\n",
    "\n",
    "\n",
    "ath"
   ]
  },
  {
   "cell_type": "markdown",
   "id": "f8a3d0b3",
   "metadata": {},
   "source": [
    "### Part a"
   ]
  },
  {
   "cell_type": "code",
   "execution_count": 8,
   "id": "ff67e128",
   "metadata": {},
   "outputs": [
    {
     "data": {
      "text/plain": [
       "Index(['Lindenau', 'Andr', 'Margrethe'], dtype='object')"
      ]
     },
     "execution_count": 8,
     "metadata": {},
     "output_type": "execute_result"
    }
   ],
   "source": [
    "ath.loc[ath[\"Medal\"] == \"Gold\", \"Name\"].str.split().str[1].value_counts().index[:10]"
   ]
  },
  {
   "cell_type": "markdown",
   "id": "d7e9beff",
   "metadata": {},
   "source": [
    "### Part b\n",
    "\n",
    "#### Requires Clarification"
   ]
  },
  {
   "cell_type": "code",
   "execution_count": 37,
   "id": "a9c6f16e",
   "metadata": {},
   "outputs": [
    {
     "data": {
      "text/plain": [
       "1"
      ]
     },
     "execution_count": 37,
     "metadata": {},
     "output_type": "execute_result"
    }
   ],
   "source": [
    "ath[[\"ID\", \"Medal\", \"Name\"]].groupby(\"Name\").count().sort_values(\"Medal\", ascending = False)[\"Medal\"].iloc[0]\n",
    "\n",
    "## can't do value_counts() because it'll find the total count of non-null and null medals. \n",
    "## .count() just finds the count of non-null"
   ]
  },
  {
   "cell_type": "markdown",
   "id": "f8c59daa",
   "metadata": {},
   "source": [
    "### Part c"
   ]
  },
  {
   "cell_type": "code",
   "execution_count": 38,
   "id": "358e6fb2",
   "metadata": {},
   "outputs": [
    {
     "data": {
      "text/html": [
       "<div>\n",
       "<style scoped>\n",
       "    .dataframe tbody tr th:only-of-type {\n",
       "        vertical-align: middle;\n",
       "    }\n",
       "\n",
       "    .dataframe tbody tr th {\n",
       "        vertical-align: top;\n",
       "    }\n",
       "\n",
       "    .dataframe thead th {\n",
       "        text-align: right;\n",
       "    }\n",
       "</style>\n",
       "<table border=\"1\" class=\"dataframe\">\n",
       "  <thead>\n",
       "    <tr style=\"text-align: right;\">\n",
       "      <th></th>\n",
       "      <th>ID</th>\n",
       "      <th>Name</th>\n",
       "      <th>Sex</th>\n",
       "      <th>Age</th>\n",
       "      <th>Height</th>\n",
       "      <th>Weight</th>\n",
       "      <th>Team</th>\n",
       "      <th>Year</th>\n",
       "      <th>Season</th>\n",
       "      <th>City</th>\n",
       "      <th>Sport</th>\n",
       "      <th>Event</th>\n",
       "      <th>Medal</th>\n",
       "    </tr>\n",
       "  </thead>\n",
       "  <tbody>\n",
       "    <tr>\n",
       "      <th>0</th>\n",
       "      <td>1</td>\n",
       "      <td>Edgar Lindenau Aabye</td>\n",
       "      <td>M</td>\n",
       "      <td>34.0</td>\n",
       "      <td>NaN</td>\n",
       "      <td>NaN</td>\n",
       "      <td>Denmark/Sweden</td>\n",
       "      <td>1900</td>\n",
       "      <td>Summer</td>\n",
       "      <td>Paris</td>\n",
       "      <td>Tug-Of-War</td>\n",
       "      <td>Tug-Of-War Men's Tug-Of-War</td>\n",
       "      <td>Gold</td>\n",
       "    </tr>\n",
       "    <tr>\n",
       "      <th>2</th>\n",
       "      <td>2</td>\n",
       "      <td>Minna Maarit Aalto</td>\n",
       "      <td>F</td>\n",
       "      <td>34.0</td>\n",
       "      <td>159.0</td>\n",
       "      <td>55.5</td>\n",
       "      <td>Finland</td>\n",
       "      <td>2000</td>\n",
       "      <td>Summer</td>\n",
       "      <td>Sydney</td>\n",
       "      <td>Sailing</td>\n",
       "      <td>Sailing Women's Windsurfer</td>\n",
       "      <td>NaN</td>\n",
       "    </tr>\n",
       "    <tr>\n",
       "      <th>1</th>\n",
       "      <td>2</td>\n",
       "      <td>Minna Maarit Aalto</td>\n",
       "      <td>F</td>\n",
       "      <td>30.0</td>\n",
       "      <td>159.0</td>\n",
       "      <td>55.5</td>\n",
       "      <td>Finland</td>\n",
       "      <td>1996</td>\n",
       "      <td>Summer</td>\n",
       "      <td>Atlanta</td>\n",
       "      <td>Sailing</td>\n",
       "      <td>Sailing Women's Windsurfer</td>\n",
       "      <td>NaN</td>\n",
       "    </tr>\n",
       "    <tr>\n",
       "      <th>4</th>\n",
       "      <td>4</td>\n",
       "      <td>Ragnhild Margrethe Aamodt</td>\n",
       "      <td>F</td>\n",
       "      <td>27.0</td>\n",
       "      <td>163.0</td>\n",
       "      <td>NaN</td>\n",
       "      <td>Norway</td>\n",
       "      <td>2008</td>\n",
       "      <td>Summer</td>\n",
       "      <td>Beijing</td>\n",
       "      <td>Handball</td>\n",
       "      <td>Handball Women's Handball</td>\n",
       "      <td>Gold</td>\n",
       "    </tr>\n",
       "    <tr>\n",
       "      <th>3</th>\n",
       "      <td>3</td>\n",
       "      <td>Kjetil Andr Aamodt</td>\n",
       "      <td>M</td>\n",
       "      <td>20.0</td>\n",
       "      <td>176.0</td>\n",
       "      <td>85.0</td>\n",
       "      <td>Norway</td>\n",
       "      <td>1992</td>\n",
       "      <td>Winter</td>\n",
       "      <td>Albertville</td>\n",
       "      <td>Alpine Skiing</td>\n",
       "      <td>Alpine Skiing Men's Super G</td>\n",
       "      <td>Gold</td>\n",
       "    </tr>\n",
       "  </tbody>\n",
       "</table>\n",
       "</div>"
      ],
      "text/plain": [
       "   ID                       Name Sex   Age  Height  Weight            Team  \\\n",
       "0   1       Edgar Lindenau Aabye   M  34.0     NaN     NaN  Denmark/Sweden   \n",
       "2   2         Minna Maarit Aalto   F  34.0   159.0    55.5         Finland   \n",
       "1   2         Minna Maarit Aalto   F  30.0   159.0    55.5         Finland   \n",
       "4   4  Ragnhild Margrethe Aamodt   F  27.0   163.0     NaN          Norway   \n",
       "3   3         Kjetil Andr Aamodt   M  20.0   176.0    85.0          Norway   \n",
       "\n",
       "   Year  Season         City          Sport                        Event Medal  \n",
       "0  1900  Summer        Paris     Tug-Of-War  Tug-Of-War Men's Tug-Of-War  Gold  \n",
       "2  2000  Summer       Sydney        Sailing   Sailing Women's Windsurfer   NaN  \n",
       "1  1996  Summer      Atlanta        Sailing   Sailing Women's Windsurfer   NaN  \n",
       "4  2008  Summer      Beijing       Handball    Handball Women's Handball  Gold  \n",
       "3  1992  Winter  Albertville  Alpine Skiing  Alpine Skiing Men's Super G  Gold  "
      ]
     },
     "execution_count": 38,
     "metadata": {},
     "output_type": "execute_result"
    }
   ],
   "source": [
    "ath.sort_values('Age', ascending=False)"
   ]
  },
  {
   "cell_type": "code",
   "execution_count": 39,
   "id": "eed8ea1e",
   "metadata": {},
   "outputs": [
    {
     "data": {
      "text/html": [
       "<div>\n",
       "<style scoped>\n",
       "    .dataframe tbody tr th:only-of-type {\n",
       "        vertical-align: middle;\n",
       "    }\n",
       "\n",
       "    .dataframe tbody tr th {\n",
       "        vertical-align: top;\n",
       "    }\n",
       "\n",
       "    .dataframe thead th {\n",
       "        text-align: right;\n",
       "    }\n",
       "</style>\n",
       "<table border=\"1\" class=\"dataframe\">\n",
       "  <thead>\n",
       "    <tr style=\"text-align: right;\">\n",
       "      <th></th>\n",
       "      <th>Name</th>\n",
       "      <th>Year</th>\n",
       "    </tr>\n",
       "    <tr>\n",
       "      <th>Sport</th>\n",
       "      <th></th>\n",
       "      <th></th>\n",
       "    </tr>\n",
       "  </thead>\n",
       "  <tbody>\n",
       "    <tr>\n",
       "      <th>Alpine Skiing</th>\n",
       "      <td>Kjetil Andr Aamodt</td>\n",
       "      <td>1992</td>\n",
       "    </tr>\n",
       "    <tr>\n",
       "      <th>Handball</th>\n",
       "      <td>Ragnhild Margrethe Aamodt</td>\n",
       "      <td>2008</td>\n",
       "    </tr>\n",
       "    <tr>\n",
       "      <th>Sailing</th>\n",
       "      <td>Minna Maarit Aalto</td>\n",
       "      <td>2000</td>\n",
       "    </tr>\n",
       "    <tr>\n",
       "      <th>Tug-Of-War</th>\n",
       "      <td>Edgar Lindenau Aabye</td>\n",
       "      <td>1900</td>\n",
       "    </tr>\n",
       "  </tbody>\n",
       "</table>\n",
       "</div>"
      ],
      "text/plain": [
       "                                    Name  Year\n",
       "Sport                                         \n",
       "Alpine Skiing         Kjetil Andr Aamodt  1992\n",
       "Handball       Ragnhild Margrethe Aamodt  2008\n",
       "Sailing               Minna Maarit Aalto  2000\n",
       "Tug-Of-War          Edgar Lindenau Aabye  1900"
      ]
     },
     "execution_count": 39,
     "metadata": {},
     "output_type": "execute_result"
    }
   ],
   "source": [
    "ath.sort_values('Age', ascending=False).groupby('Sport').agg({'Name':'first', 'Year':'first'})"
   ]
  },
  {
   "cell_type": "markdown",
   "id": "c952c381",
   "metadata": {},
   "source": [
    "### Part d"
   ]
  },
  {
   "cell_type": "markdown",
   "id": "002a3a1f",
   "metadata": {},
   "source": [
    "##### Currently no output, but feel free to play around with the DataFrame to generate output"
   ]
  },
  {
   "cell_type": "code",
   "execution_count": 40,
   "id": "a2cf60bd",
   "metadata": {},
   "outputs": [
    {
     "name": "stderr",
     "output_type": "stream",
     "text": [
      "/tmp/ipykernel_75/1172532260.py:8: UserWarning: Boolean Series key will be reindexed to match DataFrame index.\n",
      "  ath.sort_values(\"Year\")[~ath[\"Medal\"].isna()].groupby(\"Name\").filter(filter_func)[\"Name\"].unique()\n"
     ]
    },
    {
     "data": {
      "text/plain": [
       "array([], dtype=object)"
      ]
     },
     "execution_count": 40,
     "metadata": {},
     "output_type": "execute_result"
    }
   ],
   "source": [
    "def filter_func(subframe):\n",
    "    return (subframe[\"Year\"].diff() >= 10).any()\n",
    "\n",
    "# note that pd.diff is not required!\n",
    "# return (subframe[’Year’].iloc[:-1].values + 10 <=\n",
    "# subframe[’Year’].iloc[1:].values).any()\n",
    "\n",
    "ath.sort_values(\"Year\")[~ath[\"Medal\"].isna()].groupby(\"Name\").filter(filter_func)[\"Name\"].unique()"
   ]
  }
 ],
 "metadata": {
  "kernelspec": {
   "display_name": "Python 3 (ipykernel)",
   "language": "python",
   "name": "python3"
  },
  "language_info": {
   "codemirror_mode": {
    "name": "ipython",
    "version": 3
   },
   "file_extension": ".py",
   "mimetype": "text/x-python",
   "name": "python",
   "nbconvert_exporter": "python",
   "pygments_lexer": "ipython3",
   "version": "3.9.0"
  }
 },
 "nbformat": 4,
 "nbformat_minor": 5
}
