{
 "cells": [
  {
   "cell_type": "markdown",
   "id": "b3b49008-1dff-4ddc-84c7-fd52e3fb248f",
   "metadata": {},
   "source": [
    "# Lecture 16 Notebook\n",
    "\n",
    "Data 100, Spring 2023\n",
    "\n",
    "[Acknowledgments Page](https://ds100.org/sp23/acks/)"
   ]
  },
  {
   "cell_type": "code",
   "execution_count": 1,
   "id": "0e7875d7-df36-4528-9359-e202662a798e",
   "metadata": {},
   "outputs": [],
   "source": [
    "import seaborn as sns\n",
    "import pandas as pd\n",
    "sns.set(font_scale=1.5)\n",
    "import matplotlib.pyplot as plt\n",
    "import numpy as np\n",
    "from sklearn import linear_model\n",
    "from sklearn.metrics import mean_squared_error\n",
    "from sklearn.metrics import mean_absolute_error\n",
    "import plotly.graph_objects as go\n",
    "import plotly.express as px\n",
    "from sklearn.pipeline import Pipeline\n",
    "from sklearn.preprocessing import PolynomialFeatures\n",
    "from sklearn.linear_model import LinearRegression\n",
    "\n",
    "def adjust_fontsize(size=None):\n",
    "    SMALL_SIZE = 8\n",
    "    MEDIUM_SIZE = 10\n",
    "    BIGGER_SIZE = 12\n",
    "    if size != None:\n",
    "        SMALL_SIZE = MEDIUM_SIZE = BIGGER_SIZE = size\n",
    "\n",
    "    plt.rc('font', size=SMALL_SIZE)          # controls default text sizes\n",
    "    plt.rc('axes', titlesize=SMALL_SIZE)     # fontsize of the axes title\n",
    "    plt.rc('axes', labelsize=MEDIUM_SIZE)    # fontsize of the x and y labels\n",
    "    plt.rc('xtick', labelsize=SMALL_SIZE)    # fontsize of the tick labels\n",
    "    plt.rc('ytick', labelsize=SMALL_SIZE)    # fontsize of the tick labels\n",
    "    plt.rc('legend', fontsize=SMALL_SIZE)    # legend fontsize\n",
    "    plt.rc('figure', titlesize=BIGGER_SIZE)  # fontsize of the figure title\n",
    "\n",
    "plt.style.use('fivethirtyeight')\n",
    "sns.set_context(\"talk\")\n",
    "sns.set_theme()\n",
    "adjust_fontsize(size=20)\n",
    "%matplotlib inline\n",
    "\n",
    "import warnings\n",
    "warnings.filterwarnings('ignore')"
   ]
  },
  {
   "cell_type": "code",
   "execution_count": 2,
   "id": "3d5fa24f-a7eb-4fc5-9622-85cafad3ba1e",
   "metadata": {},
   "outputs": [],
   "source": [
    "np.random.seed(5)\n",
    "\n",
    "# Load the fuel dataset, and drop any rows that have missing data\n",
    "vehicle_data = sns.load_dataset('mpg').dropna()\n",
    "vehicle_data  = vehicle_data.rename(columns={\"horsepower\": \"hp\"})"
   ]
  },
  {
   "cell_type": "code",
   "execution_count": 3,
   "id": "f0b8f576-4d5e-4891-8d62-64d4492b764c",
   "metadata": {},
   "outputs": [],
   "source": [
    "# Building a complex dataset of first order and second order features\n",
    "\n",
    "poly_transform = PolynomialFeatures(degree=2, include_bias=False)\n",
    "vehicle_data_with_squared_features = \\\n",
    "             pd.DataFrame(poly_transform.fit_transform(vehicle_data[[\"hp\", \"weight\", \"displacement\"]]),\n",
    "             columns = poly_transform.get_feature_names_out())"
   ]
  },
  {
   "cell_type": "code",
   "execution_count": 4,
   "id": "af7200f5-230d-4c91-9f93-1fc59ff1243d",
   "metadata": {},
   "outputs": [
    {
     "data": {
      "text/html": [
       "<div>\n",
       "<style scoped>\n",
       "    .dataframe tbody tr th:only-of-type {\n",
       "        vertical-align: middle;\n",
       "    }\n",
       "\n",
       "    .dataframe tbody tr th {\n",
       "        vertical-align: top;\n",
       "    }\n",
       "\n",
       "    .dataframe thead th {\n",
       "        text-align: right;\n",
       "    }\n",
       "</style>\n",
       "<table border=\"1\" class=\"dataframe\">\n",
       "  <thead>\n",
       "    <tr style=\"text-align: right;\">\n",
       "      <th></th>\n",
       "      <th>hp</th>\n",
       "      <th>weight</th>\n",
       "      <th>displacement</th>\n",
       "      <th>hp^2</th>\n",
       "      <th>hp weight</th>\n",
       "      <th>hp displacement</th>\n",
       "      <th>weight^2</th>\n",
       "      <th>weight displacement</th>\n",
       "      <th>displacement^2</th>\n",
       "    </tr>\n",
       "  </thead>\n",
       "  <tbody>\n",
       "    <tr>\n",
       "      <th>0</th>\n",
       "      <td>130.0</td>\n",
       "      <td>3504.0</td>\n",
       "      <td>307.0</td>\n",
       "      <td>16900.0</td>\n",
       "      <td>455520.0</td>\n",
       "      <td>39910.0</td>\n",
       "      <td>12278016.0</td>\n",
       "      <td>1075728.0</td>\n",
       "      <td>94249.0</td>\n",
       "    </tr>\n",
       "    <tr>\n",
       "      <th>1</th>\n",
       "      <td>165.0</td>\n",
       "      <td>3693.0</td>\n",
       "      <td>350.0</td>\n",
       "      <td>27225.0</td>\n",
       "      <td>609345.0</td>\n",
       "      <td>57750.0</td>\n",
       "      <td>13638249.0</td>\n",
       "      <td>1292550.0</td>\n",
       "      <td>122500.0</td>\n",
       "    </tr>\n",
       "    <tr>\n",
       "      <th>2</th>\n",
       "      <td>150.0</td>\n",
       "      <td>3436.0</td>\n",
       "      <td>318.0</td>\n",
       "      <td>22500.0</td>\n",
       "      <td>515400.0</td>\n",
       "      <td>47700.0</td>\n",
       "      <td>11806096.0</td>\n",
       "      <td>1092648.0</td>\n",
       "      <td>101124.0</td>\n",
       "    </tr>\n",
       "    <tr>\n",
       "      <th>3</th>\n",
       "      <td>150.0</td>\n",
       "      <td>3433.0</td>\n",
       "      <td>304.0</td>\n",
       "      <td>22500.0</td>\n",
       "      <td>514950.0</td>\n",
       "      <td>45600.0</td>\n",
       "      <td>11785489.0</td>\n",
       "      <td>1043632.0</td>\n",
       "      <td>92416.0</td>\n",
       "    </tr>\n",
       "    <tr>\n",
       "      <th>4</th>\n",
       "      <td>140.0</td>\n",
       "      <td>3449.0</td>\n",
       "      <td>302.0</td>\n",
       "      <td>19600.0</td>\n",
       "      <td>482860.0</td>\n",
       "      <td>42280.0</td>\n",
       "      <td>11895601.0</td>\n",
       "      <td>1041598.0</td>\n",
       "      <td>91204.0</td>\n",
       "    </tr>\n",
       "    <tr>\n",
       "      <th>...</th>\n",
       "      <td>...</td>\n",
       "      <td>...</td>\n",
       "      <td>...</td>\n",
       "      <td>...</td>\n",
       "      <td>...</td>\n",
       "      <td>...</td>\n",
       "      <td>...</td>\n",
       "      <td>...</td>\n",
       "      <td>...</td>\n",
       "    </tr>\n",
       "    <tr>\n",
       "      <th>387</th>\n",
       "      <td>86.0</td>\n",
       "      <td>2790.0</td>\n",
       "      <td>140.0</td>\n",
       "      <td>7396.0</td>\n",
       "      <td>239940.0</td>\n",
       "      <td>12040.0</td>\n",
       "      <td>7784100.0</td>\n",
       "      <td>390600.0</td>\n",
       "      <td>19600.0</td>\n",
       "    </tr>\n",
       "    <tr>\n",
       "      <th>388</th>\n",
       "      <td>52.0</td>\n",
       "      <td>2130.0</td>\n",
       "      <td>97.0</td>\n",
       "      <td>2704.0</td>\n",
       "      <td>110760.0</td>\n",
       "      <td>5044.0</td>\n",
       "      <td>4536900.0</td>\n",
       "      <td>206610.0</td>\n",
       "      <td>9409.0</td>\n",
       "    </tr>\n",
       "    <tr>\n",
       "      <th>389</th>\n",
       "      <td>84.0</td>\n",
       "      <td>2295.0</td>\n",
       "      <td>135.0</td>\n",
       "      <td>7056.0</td>\n",
       "      <td>192780.0</td>\n",
       "      <td>11340.0</td>\n",
       "      <td>5267025.0</td>\n",
       "      <td>309825.0</td>\n",
       "      <td>18225.0</td>\n",
       "    </tr>\n",
       "    <tr>\n",
       "      <th>390</th>\n",
       "      <td>79.0</td>\n",
       "      <td>2625.0</td>\n",
       "      <td>120.0</td>\n",
       "      <td>6241.0</td>\n",
       "      <td>207375.0</td>\n",
       "      <td>9480.0</td>\n",
       "      <td>6890625.0</td>\n",
       "      <td>315000.0</td>\n",
       "      <td>14400.0</td>\n",
       "    </tr>\n",
       "    <tr>\n",
       "      <th>391</th>\n",
       "      <td>82.0</td>\n",
       "      <td>2720.0</td>\n",
       "      <td>119.0</td>\n",
       "      <td>6724.0</td>\n",
       "      <td>223040.0</td>\n",
       "      <td>9758.0</td>\n",
       "      <td>7398400.0</td>\n",
       "      <td>323680.0</td>\n",
       "      <td>14161.0</td>\n",
       "    </tr>\n",
       "  </tbody>\n",
       "</table>\n",
       "<p>392 rows × 9 columns</p>\n",
       "</div>"
      ],
      "text/plain": [
       "        hp  weight  displacement     hp^2  hp weight  hp displacement  \\\n",
       "0    130.0  3504.0         307.0  16900.0   455520.0          39910.0   \n",
       "1    165.0  3693.0         350.0  27225.0   609345.0          57750.0   \n",
       "2    150.0  3436.0         318.0  22500.0   515400.0          47700.0   \n",
       "3    150.0  3433.0         304.0  22500.0   514950.0          45600.0   \n",
       "4    140.0  3449.0         302.0  19600.0   482860.0          42280.0   \n",
       "..     ...     ...           ...      ...        ...              ...   \n",
       "387   86.0  2790.0         140.0   7396.0   239940.0          12040.0   \n",
       "388   52.0  2130.0          97.0   2704.0   110760.0           5044.0   \n",
       "389   84.0  2295.0         135.0   7056.0   192780.0          11340.0   \n",
       "390   79.0  2625.0         120.0   6241.0   207375.0           9480.0   \n",
       "391   82.0  2720.0         119.0   6724.0   223040.0           9758.0   \n",
       "\n",
       "       weight^2  weight displacement  displacement^2  \n",
       "0    12278016.0            1075728.0         94249.0  \n",
       "1    13638249.0            1292550.0        122500.0  \n",
       "2    11806096.0            1092648.0        101124.0  \n",
       "3    11785489.0            1043632.0         92416.0  \n",
       "4    11895601.0            1041598.0         91204.0  \n",
       "..          ...                  ...             ...  \n",
       "387   7784100.0             390600.0         19600.0  \n",
       "388   4536900.0             206610.0          9409.0  \n",
       "389   5267025.0             309825.0         18225.0  \n",
       "390   6890625.0             315000.0         14400.0  \n",
       "391   7398400.0             323680.0         14161.0  \n",
       "\n",
       "[392 rows x 9 columns]"
      ]
     },
     "execution_count": 4,
     "metadata": {},
     "output_type": "execute_result"
    }
   ],
   "source": [
    "vehicle_data_with_squared_features"
   ]
  },
  {
   "cell_type": "code",
   "execution_count": 5,
   "id": "45942a72-e8de-4758-bec9-4adb66b87aa8",
   "metadata": {},
   "outputs": [
    {
     "data": {
      "text/html": [
       "<style>#sk-container-id-1 {color: black;background-color: white;}#sk-container-id-1 pre{padding: 0;}#sk-container-id-1 div.sk-toggleable {background-color: white;}#sk-container-id-1 label.sk-toggleable__label {cursor: pointer;display: block;width: 100%;margin-bottom: 0;padding: 0.3em;box-sizing: border-box;text-align: center;}#sk-container-id-1 label.sk-toggleable__label-arrow:before {content: \"▸\";float: left;margin-right: 0.25em;color: #696969;}#sk-container-id-1 label.sk-toggleable__label-arrow:hover:before {color: black;}#sk-container-id-1 div.sk-estimator:hover label.sk-toggleable__label-arrow:before {color: black;}#sk-container-id-1 div.sk-toggleable__content {max-height: 0;max-width: 0;overflow: hidden;text-align: left;background-color: #f0f8ff;}#sk-container-id-1 div.sk-toggleable__content pre {margin: 0.2em;color: black;border-radius: 0.25em;background-color: #f0f8ff;}#sk-container-id-1 input.sk-toggleable__control:checked~div.sk-toggleable__content {max-height: 200px;max-width: 100%;overflow: auto;}#sk-container-id-1 input.sk-toggleable__control:checked~label.sk-toggleable__label-arrow:before {content: \"▾\";}#sk-container-id-1 div.sk-estimator input.sk-toggleable__control:checked~label.sk-toggleable__label {background-color: #d4ebff;}#sk-container-id-1 div.sk-label input.sk-toggleable__control:checked~label.sk-toggleable__label {background-color: #d4ebff;}#sk-container-id-1 input.sk-hidden--visually {border: 0;clip: rect(1px 1px 1px 1px);clip: rect(1px, 1px, 1px, 1px);height: 1px;margin: -1px;overflow: hidden;padding: 0;position: absolute;width: 1px;}#sk-container-id-1 div.sk-estimator {font-family: monospace;background-color: #f0f8ff;border: 1px dotted black;border-radius: 0.25em;box-sizing: border-box;margin-bottom: 0.5em;}#sk-container-id-1 div.sk-estimator:hover {background-color: #d4ebff;}#sk-container-id-1 div.sk-parallel-item::after {content: \"\";width: 100%;border-bottom: 1px solid gray;flex-grow: 1;}#sk-container-id-1 div.sk-label:hover label.sk-toggleable__label {background-color: #d4ebff;}#sk-container-id-1 div.sk-serial::before {content: \"\";position: absolute;border-left: 1px solid gray;box-sizing: border-box;top: 0;bottom: 0;left: 50%;z-index: 0;}#sk-container-id-1 div.sk-serial {display: flex;flex-direction: column;align-items: center;background-color: white;padding-right: 0.2em;padding-left: 0.2em;position: relative;}#sk-container-id-1 div.sk-item {position: relative;z-index: 1;}#sk-container-id-1 div.sk-parallel {display: flex;align-items: stretch;justify-content: center;background-color: white;position: relative;}#sk-container-id-1 div.sk-item::before, #sk-container-id-1 div.sk-parallel-item::before {content: \"\";position: absolute;border-left: 1px solid gray;box-sizing: border-box;top: 0;bottom: 0;left: 50%;z-index: -1;}#sk-container-id-1 div.sk-parallel-item {display: flex;flex-direction: column;z-index: 1;position: relative;background-color: white;}#sk-container-id-1 div.sk-parallel-item:first-child::after {align-self: flex-end;width: 50%;}#sk-container-id-1 div.sk-parallel-item:last-child::after {align-self: flex-start;width: 50%;}#sk-container-id-1 div.sk-parallel-item:only-child::after {width: 0;}#sk-container-id-1 div.sk-dashed-wrapped {border: 1px dashed gray;margin: 0 0.4em 0.5em 0.4em;box-sizing: border-box;padding-bottom: 0.4em;background-color: white;}#sk-container-id-1 div.sk-label label {font-family: monospace;font-weight: bold;display: inline-block;line-height: 1.2em;}#sk-container-id-1 div.sk-label-container {text-align: center;}#sk-container-id-1 div.sk-container {/* jupyter's `normalize.less` sets `[hidden] { display: none; }` but bootstrap.min.css set `[hidden] { display: none !important; }` so we also need the `!important` here to be able to override the default hidden behavior on the sphinx rendered scikit-learn.org. See: https://github.com/scikit-learn/scikit-learn/issues/21755 */display: inline-block !important;position: relative;}#sk-container-id-1 div.sk-text-repr-fallback {display: none;}</style><div id=\"sk-container-id-1\" class=\"sk-top-container\"><div class=\"sk-text-repr-fallback\"><pre>Ridge(alpha=1e-05)</pre><b>In a Jupyter environment, please rerun this cell to show the HTML representation or trust the notebook. <br />On GitHub, the HTML representation is unable to render, please try loading this page with nbviewer.org.</b></div><div class=\"sk-container\" hidden><div class=\"sk-item\"><div class=\"sk-estimator sk-toggleable\"><input class=\"sk-toggleable__control sk-hidden--visually\" id=\"sk-estimator-id-1\" type=\"checkbox\" checked><label for=\"sk-estimator-id-1\" class=\"sk-toggleable__label sk-toggleable__label-arrow\">Ridge</label><div class=\"sk-toggleable__content\"><pre>Ridge(alpha=1e-05)</pre></div></div></div></div></div>"
      ],
      "text/plain": [
       "Ridge(alpha=1e-05)"
      ]
     },
     "execution_count": 5,
     "metadata": {},
     "output_type": "execute_result"
    }
   ],
   "source": [
    "# Fitting a regression model with L2 regularization\n",
    "from sklearn.linear_model import Ridge\n",
    "ridge_model = Ridge(alpha=10**-5)\n",
    "ridge_model.fit(vehicle_data_with_squared_features, vehicle_data[\"mpg\"])"
   ]
  },
  {
   "cell_type": "code",
   "execution_count": 6,
   "id": "51e1f7bf-2742-469f-ae59-651098a1cc62",
   "metadata": {},
   "outputs": [
    {
     "data": {
      "text/plain": [
       "array([-1.35872588e-01, -1.46864458e-04, -1.18230336e-01, -4.03590098e-04,\n",
       "       -1.12862371e-05,  8.25179864e-04, -1.17645881e-06,  2.69757832e-05,\n",
       "       -1.72888463e-04])"
      ]
     },
     "execution_count": 6,
     "metadata": {},
     "output_type": "execute_result"
    }
   ],
   "source": [
    "ridge_model.coef_"
   ]
  },
  {
   "cell_type": "code",
   "execution_count": 7,
   "id": "1ac1bd9b-de4a-4477-a01d-c1d8f4161133",
   "metadata": {},
   "outputs": [
    {
     "data": {
      "text/html": [
       "<style>#sk-container-id-2 {color: black;background-color: white;}#sk-container-id-2 pre{padding: 0;}#sk-container-id-2 div.sk-toggleable {background-color: white;}#sk-container-id-2 label.sk-toggleable__label {cursor: pointer;display: block;width: 100%;margin-bottom: 0;padding: 0.3em;box-sizing: border-box;text-align: center;}#sk-container-id-2 label.sk-toggleable__label-arrow:before {content: \"▸\";float: left;margin-right: 0.25em;color: #696969;}#sk-container-id-2 label.sk-toggleable__label-arrow:hover:before {color: black;}#sk-container-id-2 div.sk-estimator:hover label.sk-toggleable__label-arrow:before {color: black;}#sk-container-id-2 div.sk-toggleable__content {max-height: 0;max-width: 0;overflow: hidden;text-align: left;background-color: #f0f8ff;}#sk-container-id-2 div.sk-toggleable__content pre {margin: 0.2em;color: black;border-radius: 0.25em;background-color: #f0f8ff;}#sk-container-id-2 input.sk-toggleable__control:checked~div.sk-toggleable__content {max-height: 200px;max-width: 100%;overflow: auto;}#sk-container-id-2 input.sk-toggleable__control:checked~label.sk-toggleable__label-arrow:before {content: \"▾\";}#sk-container-id-2 div.sk-estimator input.sk-toggleable__control:checked~label.sk-toggleable__label {background-color: #d4ebff;}#sk-container-id-2 div.sk-label input.sk-toggleable__control:checked~label.sk-toggleable__label {background-color: #d4ebff;}#sk-container-id-2 input.sk-hidden--visually {border: 0;clip: rect(1px 1px 1px 1px);clip: rect(1px, 1px, 1px, 1px);height: 1px;margin: -1px;overflow: hidden;padding: 0;position: absolute;width: 1px;}#sk-container-id-2 div.sk-estimator {font-family: monospace;background-color: #f0f8ff;border: 1px dotted black;border-radius: 0.25em;box-sizing: border-box;margin-bottom: 0.5em;}#sk-container-id-2 div.sk-estimator:hover {background-color: #d4ebff;}#sk-container-id-2 div.sk-parallel-item::after {content: \"\";width: 100%;border-bottom: 1px solid gray;flex-grow: 1;}#sk-container-id-2 div.sk-label:hover label.sk-toggleable__label {background-color: #d4ebff;}#sk-container-id-2 div.sk-serial::before {content: \"\";position: absolute;border-left: 1px solid gray;box-sizing: border-box;top: 0;bottom: 0;left: 50%;z-index: 0;}#sk-container-id-2 div.sk-serial {display: flex;flex-direction: column;align-items: center;background-color: white;padding-right: 0.2em;padding-left: 0.2em;position: relative;}#sk-container-id-2 div.sk-item {position: relative;z-index: 1;}#sk-container-id-2 div.sk-parallel {display: flex;align-items: stretch;justify-content: center;background-color: white;position: relative;}#sk-container-id-2 div.sk-item::before, #sk-container-id-2 div.sk-parallel-item::before {content: \"\";position: absolute;border-left: 1px solid gray;box-sizing: border-box;top: 0;bottom: 0;left: 50%;z-index: -1;}#sk-container-id-2 div.sk-parallel-item {display: flex;flex-direction: column;z-index: 1;position: relative;background-color: white;}#sk-container-id-2 div.sk-parallel-item:first-child::after {align-self: flex-end;width: 50%;}#sk-container-id-2 div.sk-parallel-item:last-child::after {align-self: flex-start;width: 50%;}#sk-container-id-2 div.sk-parallel-item:only-child::after {width: 0;}#sk-container-id-2 div.sk-dashed-wrapped {border: 1px dashed gray;margin: 0 0.4em 0.5em 0.4em;box-sizing: border-box;padding-bottom: 0.4em;background-color: white;}#sk-container-id-2 div.sk-label label {font-family: monospace;font-weight: bold;display: inline-block;line-height: 1.2em;}#sk-container-id-2 div.sk-label-container {text-align: center;}#sk-container-id-2 div.sk-container {/* jupyter's `normalize.less` sets `[hidden] { display: none; }` but bootstrap.min.css set `[hidden] { display: none !important; }` so we also need the `!important` here to be able to override the default hidden behavior on the sphinx rendered scikit-learn.org. See: https://github.com/scikit-learn/scikit-learn/issues/21755 */display: inline-block !important;position: relative;}#sk-container-id-2 div.sk-text-repr-fallback {display: none;}</style><div id=\"sk-container-id-2\" class=\"sk-top-container\"><div class=\"sk-text-repr-fallback\"><pre>Ridge(alpha=10000)</pre><b>In a Jupyter environment, please rerun this cell to show the HTML representation or trust the notebook. <br />On GitHub, the HTML representation is unable to render, please try loading this page with nbviewer.org.</b></div><div class=\"sk-container\" hidden><div class=\"sk-item\"><div class=\"sk-estimator sk-toggleable\"><input class=\"sk-toggleable__control sk-hidden--visually\" id=\"sk-estimator-id-2\" type=\"checkbox\" checked><label for=\"sk-estimator-id-2\" class=\"sk-toggleable__label sk-toggleable__label-arrow\">Ridge</label><div class=\"sk-toggleable__content\"><pre>Ridge(alpha=10000)</pre></div></div></div></div></div>"
      ],
      "text/plain": [
       "Ridge(alpha=10000)"
      ]
     },
     "execution_count": 7,
     "metadata": {},
     "output_type": "execute_result"
    }
   ],
   "source": [
    "ridge_model = Ridge(alpha=10000)\n",
    "ridge_model.fit(vehicle_data_with_squared_features, vehicle_data[\"mpg\"])"
   ]
  },
  {
   "cell_type": "code",
   "execution_count": 8,
   "id": "dbb349a1-1214-4490-acad-47baaf45b853",
   "metadata": {},
   "outputs": [
    {
     "data": {
      "text/plain": [
       "array([-5.56414449e-02, -7.93804083e-03, -8.22081425e-02, -6.18785466e-04,\n",
       "       -2.55492157e-05,  9.47353944e-04,  7.58061062e-07,  1.07439477e-05,\n",
       "       -1.64344898e-04])"
      ]
     },
     "execution_count": 8,
     "metadata": {},
     "output_type": "execute_result"
    }
   ],
   "source": [
    "ridge_model.coef_"
   ]
  },
  {
   "cell_type": "code",
   "execution_count": 9,
   "id": "439636c8-df84-429b-a159-8ad4da592db3",
   "metadata": {},
   "outputs": [
    {
     "data": {
      "text/html": [
       "<style>#sk-container-id-3 {color: black;background-color: white;}#sk-container-id-3 pre{padding: 0;}#sk-container-id-3 div.sk-toggleable {background-color: white;}#sk-container-id-3 label.sk-toggleable__label {cursor: pointer;display: block;width: 100%;margin-bottom: 0;padding: 0.3em;box-sizing: border-box;text-align: center;}#sk-container-id-3 label.sk-toggleable__label-arrow:before {content: \"▸\";float: left;margin-right: 0.25em;color: #696969;}#sk-container-id-3 label.sk-toggleable__label-arrow:hover:before {color: black;}#sk-container-id-3 div.sk-estimator:hover label.sk-toggleable__label-arrow:before {color: black;}#sk-container-id-3 div.sk-toggleable__content {max-height: 0;max-width: 0;overflow: hidden;text-align: left;background-color: #f0f8ff;}#sk-container-id-3 div.sk-toggleable__content pre {margin: 0.2em;color: black;border-radius: 0.25em;background-color: #f0f8ff;}#sk-container-id-3 input.sk-toggleable__control:checked~div.sk-toggleable__content {max-height: 200px;max-width: 100%;overflow: auto;}#sk-container-id-3 input.sk-toggleable__control:checked~label.sk-toggleable__label-arrow:before {content: \"▾\";}#sk-container-id-3 div.sk-estimator input.sk-toggleable__control:checked~label.sk-toggleable__label {background-color: #d4ebff;}#sk-container-id-3 div.sk-label input.sk-toggleable__control:checked~label.sk-toggleable__label {background-color: #d4ebff;}#sk-container-id-3 input.sk-hidden--visually {border: 0;clip: rect(1px 1px 1px 1px);clip: rect(1px, 1px, 1px, 1px);height: 1px;margin: -1px;overflow: hidden;padding: 0;position: absolute;width: 1px;}#sk-container-id-3 div.sk-estimator {font-family: monospace;background-color: #f0f8ff;border: 1px dotted black;border-radius: 0.25em;box-sizing: border-box;margin-bottom: 0.5em;}#sk-container-id-3 div.sk-estimator:hover {background-color: #d4ebff;}#sk-container-id-3 div.sk-parallel-item::after {content: \"\";width: 100%;border-bottom: 1px solid gray;flex-grow: 1;}#sk-container-id-3 div.sk-label:hover label.sk-toggleable__label {background-color: #d4ebff;}#sk-container-id-3 div.sk-serial::before {content: \"\";position: absolute;border-left: 1px solid gray;box-sizing: border-box;top: 0;bottom: 0;left: 50%;z-index: 0;}#sk-container-id-3 div.sk-serial {display: flex;flex-direction: column;align-items: center;background-color: white;padding-right: 0.2em;padding-left: 0.2em;position: relative;}#sk-container-id-3 div.sk-item {position: relative;z-index: 1;}#sk-container-id-3 div.sk-parallel {display: flex;align-items: stretch;justify-content: center;background-color: white;position: relative;}#sk-container-id-3 div.sk-item::before, #sk-container-id-3 div.sk-parallel-item::before {content: \"\";position: absolute;border-left: 1px solid gray;box-sizing: border-box;top: 0;bottom: 0;left: 50%;z-index: -1;}#sk-container-id-3 div.sk-parallel-item {display: flex;flex-direction: column;z-index: 1;position: relative;background-color: white;}#sk-container-id-3 div.sk-parallel-item:first-child::after {align-self: flex-end;width: 50%;}#sk-container-id-3 div.sk-parallel-item:last-child::after {align-self: flex-start;width: 50%;}#sk-container-id-3 div.sk-parallel-item:only-child::after {width: 0;}#sk-container-id-3 div.sk-dashed-wrapped {border: 1px dashed gray;margin: 0 0.4em 0.5em 0.4em;box-sizing: border-box;padding-bottom: 0.4em;background-color: white;}#sk-container-id-3 div.sk-label label {font-family: monospace;font-weight: bold;display: inline-block;line-height: 1.2em;}#sk-container-id-3 div.sk-label-container {text-align: center;}#sk-container-id-3 div.sk-container {/* jupyter's `normalize.less` sets `[hidden] { display: none; }` but bootstrap.min.css set `[hidden] { display: none !important; }` so we also need the `!important` here to be able to override the default hidden behavior on the sphinx rendered scikit-learn.org. See: https://github.com/scikit-learn/scikit-learn/issues/21755 */display: inline-block !important;position: relative;}#sk-container-id-3 div.sk-text-repr-fallback {display: none;}</style><div id=\"sk-container-id-3\" class=\"sk-top-container\"><div class=\"sk-text-repr-fallback\"><pre>LinearRegression()</pre><b>In a Jupyter environment, please rerun this cell to show the HTML representation or trust the notebook. <br />On GitHub, the HTML representation is unable to render, please try loading this page with nbviewer.org.</b></div><div class=\"sk-container\" hidden><div class=\"sk-item\"><div class=\"sk-estimator sk-toggleable\"><input class=\"sk-toggleable__control sk-hidden--visually\" id=\"sk-estimator-id-3\" type=\"checkbox\" checked><label for=\"sk-estimator-id-3\" class=\"sk-toggleable__label sk-toggleable__label-arrow\">LinearRegression</label><div class=\"sk-toggleable__content\"><pre>LinearRegression()</pre></div></div></div></div></div>"
      ],
      "text/plain": [
       "LinearRegression()"
      ]
     },
     "execution_count": 9,
     "metadata": {},
     "output_type": "execute_result"
    }
   ],
   "source": [
    "# Fitting a regression model without regularization\n",
    "from sklearn.linear_model import LinearRegression\n",
    "linear_model = LinearRegression()\n",
    "linear_model.fit(vehicle_data_with_squared_features, vehicle_data[\"mpg\"])"
   ]
  },
  {
   "cell_type": "code",
   "execution_count": 10,
   "id": "5c735bd0-c65d-476f-803e-b3014808641e",
   "metadata": {},
   "outputs": [
    {
     "data": {
      "text/plain": [
       "array([-1.35872588e-01, -1.46864447e-04, -1.18230336e-01, -4.03590097e-04,\n",
       "       -1.12862370e-05,  8.25179863e-04, -1.17645882e-06,  2.69757832e-05,\n",
       "       -1.72888463e-04])"
      ]
     },
     "execution_count": 10,
     "metadata": {},
     "output_type": "execute_result"
    }
   ],
   "source": [
    "linear_model.coef_"
   ]
  },
  {
   "cell_type": "code",
   "execution_count": 11,
   "id": "e3d045ff-7040-43d7-9e7b-85a5397320f4",
   "metadata": {},
   "outputs": [
    {
     "data": {
      "text/html": [
       "<style>#sk-container-id-4 {color: black;background-color: white;}#sk-container-id-4 pre{padding: 0;}#sk-container-id-4 div.sk-toggleable {background-color: white;}#sk-container-id-4 label.sk-toggleable__label {cursor: pointer;display: block;width: 100%;margin-bottom: 0;padding: 0.3em;box-sizing: border-box;text-align: center;}#sk-container-id-4 label.sk-toggleable__label-arrow:before {content: \"▸\";float: left;margin-right: 0.25em;color: #696969;}#sk-container-id-4 label.sk-toggleable__label-arrow:hover:before {color: black;}#sk-container-id-4 div.sk-estimator:hover label.sk-toggleable__label-arrow:before {color: black;}#sk-container-id-4 div.sk-toggleable__content {max-height: 0;max-width: 0;overflow: hidden;text-align: left;background-color: #f0f8ff;}#sk-container-id-4 div.sk-toggleable__content pre {margin: 0.2em;color: black;border-radius: 0.25em;background-color: #f0f8ff;}#sk-container-id-4 input.sk-toggleable__control:checked~div.sk-toggleable__content {max-height: 200px;max-width: 100%;overflow: auto;}#sk-container-id-4 input.sk-toggleable__control:checked~label.sk-toggleable__label-arrow:before {content: \"▾\";}#sk-container-id-4 div.sk-estimator input.sk-toggleable__control:checked~label.sk-toggleable__label {background-color: #d4ebff;}#sk-container-id-4 div.sk-label input.sk-toggleable__control:checked~label.sk-toggleable__label {background-color: #d4ebff;}#sk-container-id-4 input.sk-hidden--visually {border: 0;clip: rect(1px 1px 1px 1px);clip: rect(1px, 1px, 1px, 1px);height: 1px;margin: -1px;overflow: hidden;padding: 0;position: absolute;width: 1px;}#sk-container-id-4 div.sk-estimator {font-family: monospace;background-color: #f0f8ff;border: 1px dotted black;border-radius: 0.25em;box-sizing: border-box;margin-bottom: 0.5em;}#sk-container-id-4 div.sk-estimator:hover {background-color: #d4ebff;}#sk-container-id-4 div.sk-parallel-item::after {content: \"\";width: 100%;border-bottom: 1px solid gray;flex-grow: 1;}#sk-container-id-4 div.sk-label:hover label.sk-toggleable__label {background-color: #d4ebff;}#sk-container-id-4 div.sk-serial::before {content: \"\";position: absolute;border-left: 1px solid gray;box-sizing: border-box;top: 0;bottom: 0;left: 50%;z-index: 0;}#sk-container-id-4 div.sk-serial {display: flex;flex-direction: column;align-items: center;background-color: white;padding-right: 0.2em;padding-left: 0.2em;position: relative;}#sk-container-id-4 div.sk-item {position: relative;z-index: 1;}#sk-container-id-4 div.sk-parallel {display: flex;align-items: stretch;justify-content: center;background-color: white;position: relative;}#sk-container-id-4 div.sk-item::before, #sk-container-id-4 div.sk-parallel-item::before {content: \"\";position: absolute;border-left: 1px solid gray;box-sizing: border-box;top: 0;bottom: 0;left: 50%;z-index: -1;}#sk-container-id-4 div.sk-parallel-item {display: flex;flex-direction: column;z-index: 1;position: relative;background-color: white;}#sk-container-id-4 div.sk-parallel-item:first-child::after {align-self: flex-end;width: 50%;}#sk-container-id-4 div.sk-parallel-item:last-child::after {align-self: flex-start;width: 50%;}#sk-container-id-4 div.sk-parallel-item:only-child::after {width: 0;}#sk-container-id-4 div.sk-dashed-wrapped {border: 1px dashed gray;margin: 0 0.4em 0.5em 0.4em;box-sizing: border-box;padding-bottom: 0.4em;background-color: white;}#sk-container-id-4 div.sk-label label {font-family: monospace;font-weight: bold;display: inline-block;line-height: 1.2em;}#sk-container-id-4 div.sk-label-container {text-align: center;}#sk-container-id-4 div.sk-container {/* jupyter's `normalize.less` sets `[hidden] { display: none; }` but bootstrap.min.css set `[hidden] { display: none !important; }` so we also need the `!important` here to be able to override the default hidden behavior on the sphinx rendered scikit-learn.org. See: https://github.com/scikit-learn/scikit-learn/issues/21755 */display: inline-block !important;position: relative;}#sk-container-id-4 div.sk-text-repr-fallback {display: none;}</style><div id=\"sk-container-id-4\" class=\"sk-top-container\"><div class=\"sk-text-repr-fallback\"><pre>Lasso(alpha=10)</pre><b>In a Jupyter environment, please rerun this cell to show the HTML representation or trust the notebook. <br />On GitHub, the HTML representation is unable to render, please try loading this page with nbviewer.org.</b></div><div class=\"sk-container\" hidden><div class=\"sk-item\"><div class=\"sk-estimator sk-toggleable\"><input class=\"sk-toggleable__control sk-hidden--visually\" id=\"sk-estimator-id-4\" type=\"checkbox\" checked><label for=\"sk-estimator-id-4\" class=\"sk-toggleable__label sk-toggleable__label-arrow\">Lasso</label><div class=\"sk-toggleable__content\"><pre>Lasso(alpha=10)</pre></div></div></div></div></div>"
      ],
      "text/plain": [
       "Lasso(alpha=10)"
      ]
     },
     "execution_count": 11,
     "metadata": {},
     "output_type": "execute_result"
    }
   ],
   "source": [
    "# Fitting a regression model with L1 regularization\n",
    "from sklearn.linear_model import Lasso\n",
    "lasso_model = Lasso(alpha = 10)\n",
    "lasso_model.fit(vehicle_data_with_squared_features, vehicle_data[\"mpg\"])"
   ]
  },
  {
   "cell_type": "code",
   "execution_count": 12,
   "id": "ad3b024e-eda9-445d-ada5-f994592d3abf",
   "metadata": {},
   "outputs": [
    {
     "data": {
      "text/plain": [
       "array([-0.00000000e+00, -1.88104942e-02, -0.00000000e+00, -1.19625308e-03,\n",
       "        8.84657720e-06,  8.77253835e-04,  3.16759194e-06, -3.21738391e-05,\n",
       "       -1.29386937e-05])"
      ]
     },
     "execution_count": 12,
     "metadata": {},
     "output_type": "execute_result"
    }
   ],
   "source": [
    "lasso_model.coef_"
   ]
  },
  {
   "cell_type": "markdown",
   "id": "98752187-d51b-4786-a8e1-145b6755b6ad",
   "metadata": {},
   "source": [
    "### Scaling the Data"
   ]
  },
  {
   "cell_type": "code",
   "execution_count": 13,
   "id": "35b31f82-faa6-4c05-bd68-0a2d5efeda29",
   "metadata": {},
   "outputs": [],
   "source": [
    "from sklearn.preprocessing import StandardScaler\n",
    "ss = StandardScaler()\n",
    "rescaled_df = pd.DataFrame(ss.fit_transform(vehicle_data_with_squared_features),\n",
    "                           columns = ss.get_feature_names_out())"
   ]
  },
  {
   "cell_type": "code",
   "execution_count": 14,
   "id": "1236fc8b-f26e-448c-9826-3c207f9a8cfe",
   "metadata": {},
   "outputs": [
    {
     "data": {
      "text/html": [
       "<div>\n",
       "<style scoped>\n",
       "    .dataframe tbody tr th:only-of-type {\n",
       "        vertical-align: middle;\n",
       "    }\n",
       "\n",
       "    .dataframe tbody tr th {\n",
       "        vertical-align: top;\n",
       "    }\n",
       "\n",
       "    .dataframe thead th {\n",
       "        text-align: right;\n",
       "    }\n",
       "</style>\n",
       "<table border=\"1\" class=\"dataframe\">\n",
       "  <thead>\n",
       "    <tr style=\"text-align: right;\">\n",
       "      <th></th>\n",
       "      <th>hp</th>\n",
       "      <th>weight</th>\n",
       "      <th>displacement</th>\n",
       "      <th>hp^2</th>\n",
       "      <th>hp weight</th>\n",
       "      <th>hp displacement</th>\n",
       "      <th>weight^2</th>\n",
       "      <th>weight displacement</th>\n",
       "      <th>displacement^2</th>\n",
       "    </tr>\n",
       "  </thead>\n",
       "  <tbody>\n",
       "    <tr>\n",
       "      <th>0</th>\n",
       "      <td>0.664133</td>\n",
       "      <td>0.620540</td>\n",
       "      <td>1.077290</td>\n",
       "      <td>0.459979</td>\n",
       "      <td>0.528582</td>\n",
       "      <td>0.738743</td>\n",
       "      <td>0.492385</td>\n",
       "      <td>0.791843</td>\n",
       "      <td>0.926137</td>\n",
       "    </tr>\n",
       "    <tr>\n",
       "      <th>1</th>\n",
       "      <td>1.574594</td>\n",
       "      <td>0.843334</td>\n",
       "      <td>1.488732</td>\n",
       "      <td>1.513418</td>\n",
       "      <td>1.227955</td>\n",
       "      <td>1.562694</td>\n",
       "      <td>0.741147</td>\n",
       "      <td>1.206419</td>\n",
       "      <td>1.500790</td>\n",
       "    </tr>\n",
       "    <tr>\n",
       "      <th>2</th>\n",
       "      <td>1.184397</td>\n",
       "      <td>0.540382</td>\n",
       "      <td>1.182542</td>\n",
       "      <td>1.031336</td>\n",
       "      <td>0.800830</td>\n",
       "      <td>1.098529</td>\n",
       "      <td>0.406079</td>\n",
       "      <td>0.824195</td>\n",
       "      <td>1.065981</td>\n",
       "    </tr>\n",
       "    <tr>\n",
       "      <th>3</th>\n",
       "      <td>1.184397</td>\n",
       "      <td>0.536845</td>\n",
       "      <td>1.048584</td>\n",
       "      <td>1.031336</td>\n",
       "      <td>0.798784</td>\n",
       "      <td>1.001539</td>\n",
       "      <td>0.402311</td>\n",
       "      <td>0.730474</td>\n",
       "      <td>0.888852</td>\n",
       "    </tr>\n",
       "    <tr>\n",
       "      <th>4</th>\n",
       "      <td>0.924265</td>\n",
       "      <td>0.555706</td>\n",
       "      <td>1.029447</td>\n",
       "      <td>0.735454</td>\n",
       "      <td>0.652885</td>\n",
       "      <td>0.848203</td>\n",
       "      <td>0.422448</td>\n",
       "      <td>0.726585</td>\n",
       "      <td>0.864198</td>\n",
       "    </tr>\n",
       "    <tr>\n",
       "      <th>...</th>\n",
       "      <td>...</td>\n",
       "      <td>...</td>\n",
       "      <td>...</td>\n",
       "      <td>...</td>\n",
       "      <td>...</td>\n",
       "      <td>...</td>\n",
       "      <td>...</td>\n",
       "      <td>...</td>\n",
       "      <td>...</td>\n",
       "    </tr>\n",
       "    <tr>\n",
       "      <th>387</th>\n",
       "      <td>-0.480448</td>\n",
       "      <td>-0.221125</td>\n",
       "      <td>-0.520637</td>\n",
       "      <td>-0.509696</td>\n",
       "      <td>-0.451563</td>\n",
       "      <td>-0.548450</td>\n",
       "      <td>-0.329472</td>\n",
       "      <td>-0.518158</td>\n",
       "      <td>-0.592298</td>\n",
       "    </tr>\n",
       "    <tr>\n",
       "      <th>388</th>\n",
       "      <td>-1.364896</td>\n",
       "      <td>-0.999134</td>\n",
       "      <td>-0.932079</td>\n",
       "      <td>-0.988411</td>\n",
       "      <td>-1.038886</td>\n",
       "      <td>-0.871565</td>\n",
       "      <td>-0.923326</td>\n",
       "      <td>-0.869957</td>\n",
       "      <td>-0.799593</td>\n",
       "    </tr>\n",
       "    <tr>\n",
       "      <th>389</th>\n",
       "      <td>-0.532474</td>\n",
       "      <td>-0.804632</td>\n",
       "      <td>-0.568479</td>\n",
       "      <td>-0.544385</td>\n",
       "      <td>-0.665978</td>\n",
       "      <td>-0.580780</td>\n",
       "      <td>-0.789800</td>\n",
       "      <td>-0.672604</td>\n",
       "      <td>-0.620267</td>\n",
       "    </tr>\n",
       "    <tr>\n",
       "      <th>390</th>\n",
       "      <td>-0.662540</td>\n",
       "      <td>-0.415627</td>\n",
       "      <td>-0.712005</td>\n",
       "      <td>-0.627538</td>\n",
       "      <td>-0.599621</td>\n",
       "      <td>-0.666685</td>\n",
       "      <td>-0.492872</td>\n",
       "      <td>-0.662710</td>\n",
       "      <td>-0.698072</td>\n",
       "    </tr>\n",
       "    <tr>\n",
       "      <th>391</th>\n",
       "      <td>-0.584501</td>\n",
       "      <td>-0.303641</td>\n",
       "      <td>-0.721574</td>\n",
       "      <td>-0.578258</td>\n",
       "      <td>-0.528400</td>\n",
       "      <td>-0.653846</td>\n",
       "      <td>-0.400009</td>\n",
       "      <td>-0.646113</td>\n",
       "      <td>-0.702933</td>\n",
       "    </tr>\n",
       "  </tbody>\n",
       "</table>\n",
       "<p>392 rows × 9 columns</p>\n",
       "</div>"
      ],
      "text/plain": [
       "           hp    weight  displacement      hp^2  hp weight  hp displacement  \\\n",
       "0    0.664133  0.620540      1.077290  0.459979   0.528582         0.738743   \n",
       "1    1.574594  0.843334      1.488732  1.513418   1.227955         1.562694   \n",
       "2    1.184397  0.540382      1.182542  1.031336   0.800830         1.098529   \n",
       "3    1.184397  0.536845      1.048584  1.031336   0.798784         1.001539   \n",
       "4    0.924265  0.555706      1.029447  0.735454   0.652885         0.848203   \n",
       "..        ...       ...           ...       ...        ...              ...   \n",
       "387 -0.480448 -0.221125     -0.520637 -0.509696  -0.451563        -0.548450   \n",
       "388 -1.364896 -0.999134     -0.932079 -0.988411  -1.038886        -0.871565   \n",
       "389 -0.532474 -0.804632     -0.568479 -0.544385  -0.665978        -0.580780   \n",
       "390 -0.662540 -0.415627     -0.712005 -0.627538  -0.599621        -0.666685   \n",
       "391 -0.584501 -0.303641     -0.721574 -0.578258  -0.528400        -0.653846   \n",
       "\n",
       "     weight^2  weight displacement  displacement^2  \n",
       "0    0.492385             0.791843        0.926137  \n",
       "1    0.741147             1.206419        1.500790  \n",
       "2    0.406079             0.824195        1.065981  \n",
       "3    0.402311             0.730474        0.888852  \n",
       "4    0.422448             0.726585        0.864198  \n",
       "..        ...                  ...             ...  \n",
       "387 -0.329472            -0.518158       -0.592298  \n",
       "388 -0.923326            -0.869957       -0.799593  \n",
       "389 -0.789800            -0.672604       -0.620267  \n",
       "390 -0.492872            -0.662710       -0.698072  \n",
       "391 -0.400009            -0.646113       -0.702933  \n",
       "\n",
       "[392 rows x 9 columns]"
      ]
     },
     "execution_count": 14,
     "metadata": {},
     "output_type": "execute_result"
    }
   ],
   "source": [
    "rescaled_df"
   ]
  },
  {
   "cell_type": "code",
   "execution_count": 15,
   "id": "25cc16db-dcc7-4f62-866f-a3adc2e01c4f",
   "metadata": {},
   "outputs": [
    {
     "data": {
      "text/plain": [
       "array([-0.1792743 , -0.19610513, -0.18648617, -0.1601219 , -0.18015125,\n",
       "       -0.16858023, -0.18779478, -0.18176294, -0.17021841])"
      ]
     },
     "execution_count": 15,
     "metadata": {},
     "output_type": "execute_result"
    }
   ],
   "source": [
    "ridge_model = Ridge(alpha=10000)\n",
    "ridge_model.fit(rescaled_df, vehicle_data[\"mpg\"])\n",
    "ridge_model.coef_"
   ]
  },
  {
   "cell_type": "markdown",
   "id": "acab2a9a-20d5-4525-9c21-5e5b6633906e",
   "metadata": {},
   "source": [
    "Plotting helper functions."
   ]
  },
  {
   "cell_type": "code",
   "execution_count": 16,
   "id": "4177d466-1805-4875-b44b-017735794296",
   "metadata": {},
   "outputs": [],
   "source": [
    "# Helper functions to plot and \n",
    "# Compute expectation, variance, standard deviation\n",
    "def plot_dist(dist_df,\n",
    "                      xname=\"x\", pname=\"P(X = x)\", varname=\"X\",\n",
    "                      save=False):\n",
    "    \"\"\"\n",
    "    Plot a distribution from a distribution table.\n",
    "    Single-variate.\n",
    "    \"\"\"\n",
    "    plt.bar(dist_df[xname], dist_df[pname])\n",
    "    plt.ylabel(pname)\n",
    "    plt.xlabel(xname)\n",
    "    plt.title(f\"Distribution of ${varname}$\")\n",
    "    plt.xticks(sorted(dist_df[xname].unique()))\n",
    "    if save:\n",
    "        fig = plt.gcf()\n",
    "        fig.patch.set_alpha(0.0)\n",
    "        plt.savefig(f\"dist{varname}.png\", bbox_inches = 'tight');\n",
    "\n",
    "\n",
    "def simulate_samples(df, xname=\"x\", pname=\"P(X = x)\", size=1):\n",
    "    return np.random.choice(\n",
    "                df[xname], # Draw from these choiecs\n",
    "                size=size, # This many times\n",
    "                p=df[pname]) # According to this distribution\n",
    "\n",
    "def simulate_iid_df(dist_df, nvars, rows, varname=\"X\"):\n",
    "    \"\"\"\n",
    "    Make an (row x nvars) dataframe\n",
    "    by calling simulate_samples for each of the nvars per row\n",
    "    \"\"\"\n",
    "    sample_dict = {}\n",
    "    for i in range(nvars):\n",
    "        # Generate many datapoints \n",
    "        sample_dict[f\"{varname}_{i+1}\"] = \\\n",
    "            simulate_samples(dist_df, size=rows)\n",
    "    return pd.DataFrame(sample_dict)\n",
    "\n",
    "\n",
    "def plot_simulated_dist(df, colname, show_stats=True, save=False, **kwargs):\n",
    "    \"\"\"\n",
    "    Plot a simulated population.\n",
    "    \"\"\"\n",
    "    sns.histplot(data=df, x=colname, stat='probability', discrete=True, **kwargs)\n",
    "    plt.xticks(sorted(df[colname].unique())) # if there are gaps)\n",
    "    if show_stats:\n",
    "        display(stats_df_multi(df, [colname]))\n",
    "    if save:\n",
    "        fig = plt.gcf()\n",
    "        fig.patch.set_alpha(0.0)\n",
    "        plt.savefig(f\"sim{colname}.png\", bbox_inches = 'tight');\n",
    "\n",
    "def stats_df_multi(df, colnames):\n",
    "    means = df[colnames].mean(axis=0)\n",
    "    variances = df[colnames].var(axis=0)\n",
    "    stdevs = df[colnames].std(axis=0)\n",
    "    df_stats = pd.concat([means, variances, stdevs],axis=1).T\n",
    "    df_stats['index_col'] = [\"E[•]\", \"Var(•)\", \"SD(•)\"]\n",
    "    df_stats = df_stats.set_index('index_col', drop=True).rename_axis(None)\n",
    "    return df_stats\n",
    "\n",
    "def plot_simulated_dist_multi(df, colnames, show_stats=True):\n",
    "    \"\"\"\n",
    "    If multiple columns provided, use separate plots.\n",
    "    \"\"\"\n",
    "    ncols = 1\n",
    "    nrows = len(colnames)\n",
    "    plt.figure(figsize=(6, 2*nrows+2))\n",
    "    \n",
    "    for i, colname in enumerate(colnames):\n",
    "        subplot_int = int(100*int(nrows) + 10*int(ncols) + int(i+1))\n",
    "        plt.subplot(subplot_int)\n",
    "        plot_simulated_dist(df, colname, show_stats=False)\n",
    "    plt.tight_layout()\n",
    "    if show_stats:\n",
    "        display(stats_df_multi(df, colnames))"
   ]
  },
  {
   "cell_type": "markdown",
   "id": "f9dc8d20-a435-4fe4-88db-6e0d6a97e34b",
   "metadata": {},
   "source": [
    "---\n",
    "\n",
    "## A Random Variable $X$\n",
    "\n",
    "Our probability distribution of $X$, shown as a table:"
   ]
  },
  {
   "cell_type": "code",
   "execution_count": 17,
   "id": "cd8a09c3-7aff-4c20-a7e6-dc81c836c481",
   "metadata": {},
   "outputs": [
    {
     "data": {
      "text/html": [
       "<div>\n",
       "<style scoped>\n",
       "    .dataframe tbody tr th:only-of-type {\n",
       "        vertical-align: middle;\n",
       "    }\n",
       "\n",
       "    .dataframe tbody tr th {\n",
       "        vertical-align: top;\n",
       "    }\n",
       "\n",
       "    .dataframe thead th {\n",
       "        text-align: right;\n",
       "    }\n",
       "</style>\n",
       "<table border=\"1\" class=\"dataframe\">\n",
       "  <thead>\n",
       "    <tr style=\"text-align: right;\">\n",
       "      <th></th>\n",
       "      <th>x</th>\n",
       "      <th>P(X = x)</th>\n",
       "    </tr>\n",
       "  </thead>\n",
       "  <tbody>\n",
       "    <tr>\n",
       "      <th>0</th>\n",
       "      <td>3</td>\n",
       "      <td>0.1</td>\n",
       "    </tr>\n",
       "    <tr>\n",
       "      <th>1</th>\n",
       "      <td>4</td>\n",
       "      <td>0.2</td>\n",
       "    </tr>\n",
       "    <tr>\n",
       "      <th>2</th>\n",
       "      <td>6</td>\n",
       "      <td>0.4</td>\n",
       "    </tr>\n",
       "    <tr>\n",
       "      <th>3</th>\n",
       "      <td>8</td>\n",
       "      <td>0.3</td>\n",
       "    </tr>\n",
       "  </tbody>\n",
       "</table>\n",
       "</div>"
      ],
      "text/plain": [
       "   x  P(X = x)\n",
       "0  3       0.1\n",
       "1  4       0.2\n",
       "2  6       0.4\n",
       "3  8       0.3"
      ]
     },
     "execution_count": 17,
     "metadata": {},
     "output_type": "execute_result"
    }
   ],
   "source": [
    "# Our random variable X\n",
    "dist_df = pd.DataFrame({\"x\": [3, 4, 6, 8],\n",
    "                        \"P(X = x)\": [0.1, 0.2, 0.4, 0.3]})\n",
    "dist_df"
   ]
  },
  {
   "cell_type": "code",
   "execution_count": 18,
   "id": "23195821-dca5-4ec1-b86f-909ca7f3916b",
   "metadata": {},
   "outputs": [
    {
     "data": {
      "image/png": "[encoded data removed]",
      "text/plain": [
       "<Figure size 640x480 with 1 Axes>"
      ]
     },
     "metadata": {
      "needs_background": "light"
     },
     "output_type": "display_data"
    }
   ],
   "source": [
    "plot_dist(dist_df, save=True)"
   ]
  },
  {
   "cell_type": "markdown",
   "id": "1cf640ff-21a1-41d3-8ad0-661723ef3f24",
   "metadata": {},
   "source": [
    "Let's use this probability distribution to generate a table of $X(s)$, i.e., random variable values for many many samples."
   ]
  },
  {
   "cell_type": "code",
   "execution_count": 19,
   "id": "6533c58d-c20f-454e-8206-8113efedf157",
   "metadata": {},
   "outputs": [
    {
     "data": {
      "text/html": [
       "<div>\n",
       "<style scoped>\n",
       "    .dataframe tbody tr th:only-of-type {\n",
       "        vertical-align: middle;\n",
       "    }\n",
       "\n",
       "    .dataframe tbody tr th {\n",
       "        vertical-align: top;\n",
       "    }\n",
       "\n",
       "    .dataframe thead th {\n",
       "        text-align: right;\n",
       "    }\n",
       "</style>\n",
       "<table border=\"1\" class=\"dataframe\">\n",
       "  <thead>\n",
       "    <tr style=\"text-align: right;\">\n",
       "      <th></th>\n",
       "      <th>X(s)</th>\n",
       "    </tr>\n",
       "  </thead>\n",
       "  <tbody>\n",
       "    <tr>\n",
       "      <th>0</th>\n",
       "      <td>3</td>\n",
       "    </tr>\n",
       "    <tr>\n",
       "      <th>1</th>\n",
       "      <td>8</td>\n",
       "    </tr>\n",
       "    <tr>\n",
       "      <th>2</th>\n",
       "      <td>6</td>\n",
       "    </tr>\n",
       "    <tr>\n",
       "      <th>3</th>\n",
       "      <td>8</td>\n",
       "    </tr>\n",
       "    <tr>\n",
       "      <th>4</th>\n",
       "      <td>3</td>\n",
       "    </tr>\n",
       "    <tr>\n",
       "      <th>...</th>\n",
       "      <td>...</td>\n",
       "    </tr>\n",
       "    <tr>\n",
       "      <th>79995</th>\n",
       "      <td>6</td>\n",
       "    </tr>\n",
       "    <tr>\n",
       "      <th>79996</th>\n",
       "      <td>6</td>\n",
       "    </tr>\n",
       "    <tr>\n",
       "      <th>79997</th>\n",
       "      <td>6</td>\n",
       "    </tr>\n",
       "    <tr>\n",
       "      <th>79998</th>\n",
       "      <td>3</td>\n",
       "    </tr>\n",
       "    <tr>\n",
       "      <th>79999</th>\n",
       "      <td>8</td>\n",
       "    </tr>\n",
       "  </tbody>\n",
       "</table>\n",
       "<p>80000 rows × 1 columns</p>\n",
       "</div>"
      ],
      "text/plain": [
       "       X(s)\n",
       "0         3\n",
       "1         8\n",
       "2         6\n",
       "3         8\n",
       "4         3\n",
       "...     ...\n",
       "79995     6\n",
       "79996     6\n",
       "79997     6\n",
       "79998     3\n",
       "79999     8\n",
       "\n",
       "[80000 rows x 1 columns]"
      ]
     },
     "execution_count": 19,
     "metadata": {},
     "output_type": "execute_result"
    }
   ],
   "source": [
    "# copied from above\n",
    "# def simulate_samples(df, xname=\"x\", pname=\"P(X = x)\", size=1):\n",
    "#     return np.random.choice(\n",
    "#                 df[xname], # draw from these choiecs\n",
    "#                 size=size, # this many times\n",
    "#                 p=df[pname]) # according to this distribution\n",
    "\n",
    "N = 80000\n",
    "all_samples = simulate_samples(dist_df, size=N)\n",
    "sim_df = pd.DataFrame({\"X(s)\": all_samples})\n",
    "sim_df"
   ]
  },
  {
   "cell_type": "markdown",
   "id": "1aaadf3f-2dff-4736-9a27-4bf49c1a7cd6",
   "metadata": {},
   "source": [
    "<br/><br/>\n",
    "Let's check how well this simulated sample matches our probability distribution!"
   ]
  },
  {
   "cell_type": "code",
   "execution_count": 20,
   "id": "6b784899-706e-4735-9602-515aa05d1a1b",
   "metadata": {},
   "outputs": [
    {
     "data": {
      "text/html": [
       "<div>\n",
       "<style scoped>\n",
       "    .dataframe tbody tr th:only-of-type {\n",
       "        vertical-align: middle;\n",
       "    }\n",
       "\n",
       "    .dataframe tbody tr th {\n",
       "        vertical-align: top;\n",
       "    }\n",
       "\n",
       "    .dataframe thead th {\n",
       "        text-align: right;\n",
       "    }\n",
       "</style>\n",
       "<table border=\"1\" class=\"dataframe\">\n",
       "  <thead>\n",
       "    <tr style=\"text-align: right;\">\n",
       "      <th></th>\n",
       "      <th>X(s)</th>\n",
       "    </tr>\n",
       "  </thead>\n",
       "  <tbody>\n",
       "    <tr>\n",
       "      <th>E[•]</th>\n",
       "      <td>5.895200</td>\n",
       "    </tr>\n",
       "    <tr>\n",
       "      <th>Var(•)</th>\n",
       "      <td>2.892903</td>\n",
       "    </tr>\n",
       "    <tr>\n",
       "      <th>SD(•)</th>\n",
       "      <td>1.700854</td>\n",
       "    </tr>\n",
       "  </tbody>\n",
       "</table>\n",
       "</div>"
      ],
      "text/plain": [
       "            X(s)\n",
       "E[•]    5.895200\n",
       "Var(•)  2.892903\n",
       "SD(•)   1.700854"
      ]
     },
     "metadata": {},
     "output_type": "display_data"
    },
    {
     "data": {
      "image/png": "[encoded data removed]",
      "text/plain": [
       "<Figure size 640x480 with 1 Axes>"
      ]
     },
     "metadata": {},
     "output_type": "display_data"
    }
   ],
   "source": [
    "plot_simulated_dist(sim_df, \"X(s)\")\n",
    "plt.title(\"Simulated distribution of $X$\")\n",
    "plt.show()"
   ]
  },
  {
   "cell_type": "code",
   "execution_count": 21,
   "id": "fb6afea4-220f-47be-859a-8f2a7b0f28cc",
   "metadata": {},
   "outputs": [
    {
     "data": {
      "text/plain": [
       "X(s)\n",
       "3    0.100250\n",
       "4    0.201212\n",
       "8    0.299187\n",
       "6    0.399350\n",
       "dtype: float64"
      ]
     },
     "execution_count": 21,
     "metadata": {},
     "output_type": "execute_result"
    }
   ],
   "source": [
    "# The tabular view of the above plot\n",
    "sim_df.value_counts(\"X(s)\").sort_values()/N"
   ]
  },
  {
   "cell_type": "markdown",
   "id": "50c12ae7-d0ea-4814-b12b-780fc59a174c",
   "metadata": {},
   "source": [
    "<br/><br/>\n",
    "\n",
    "---\n",
    "\n",
    "# Die Is the Singular; Dice Is the Plural\n",
    "\n",
    "Let X be the outcome of a single die roll. X is a random variable."
   ]
  },
  {
   "cell_type": "code",
   "execution_count": 22,
   "id": "215c9ef7-07ec-4b27-8e27-f5e35a152342",
   "metadata": {},
   "outputs": [
    {
     "data": {
      "text/html": [
       "<div>\n",
       "<style scoped>\n",
       "    .dataframe tbody tr th:only-of-type {\n",
       "        vertical-align: middle;\n",
       "    }\n",
       "\n",
       "    .dataframe tbody tr th {\n",
       "        vertical-align: top;\n",
       "    }\n",
       "\n",
       "    .dataframe thead th {\n",
       "        text-align: right;\n",
       "    }\n",
       "</style>\n",
       "<table border=\"1\" class=\"dataframe\">\n",
       "  <thead>\n",
       "    <tr style=\"text-align: right;\">\n",
       "      <th></th>\n",
       "      <th>x</th>\n",
       "      <th>P(X = x)</th>\n",
       "    </tr>\n",
       "  </thead>\n",
       "  <tbody>\n",
       "    <tr>\n",
       "      <th>0</th>\n",
       "      <td>1</td>\n",
       "      <td>0.166667</td>\n",
       "    </tr>\n",
       "    <tr>\n",
       "      <th>1</th>\n",
       "      <td>2</td>\n",
       "      <td>0.166667</td>\n",
       "    </tr>\n",
       "    <tr>\n",
       "      <th>2</th>\n",
       "      <td>3</td>\n",
       "      <td>0.166667</td>\n",
       "    </tr>\n",
       "    <tr>\n",
       "      <th>3</th>\n",
       "      <td>4</td>\n",
       "      <td>0.166667</td>\n",
       "    </tr>\n",
       "    <tr>\n",
       "      <th>4</th>\n",
       "      <td>5</td>\n",
       "      <td>0.166667</td>\n",
       "    </tr>\n",
       "    <tr>\n",
       "      <th>5</th>\n",
       "      <td>6</td>\n",
       "      <td>0.166667</td>\n",
       "    </tr>\n",
       "  </tbody>\n",
       "</table>\n",
       "</div>"
      ],
      "text/plain": [
       "   x  P(X = x)\n",
       "0  1  0.166667\n",
       "1  2  0.166667\n",
       "2  3  0.166667\n",
       "3  4  0.166667\n",
       "4  5  0.166667\n",
       "5  6  0.166667"
      ]
     },
     "execution_count": 22,
     "metadata": {},
     "output_type": "execute_result"
    }
   ],
   "source": [
    "# Our random variable X\n",
    "roll_df = pd.DataFrame({\"x\": [1, 2, 3, 4, 5, 6],\n",
    "                        \"P(X = x)\": np.ones(6)/6})\n",
    "roll_df"
   ]
  },
  {
   "cell_type": "code",
   "execution_count": 23,
   "id": "1694be9f-7549-4a16-a4db-7ab256ac0891",
   "metadata": {},
   "outputs": [
    {
     "data": {
      "image/png": "[encoded data removed]",
      "text/plain": [
       "<Figure size 640x480 with 1 Axes>"
      ]
     },
     "metadata": {},
     "output_type": "display_data"
    }
   ],
   "source": [
    "plot_dist(roll_df)"
   ]
  },
  {
   "cell_type": "markdown",
   "id": "d7ba72db-9a35-4dc4-93c2-31a187f30e80",
   "metadata": {
    "tags": []
   },
   "source": [
    "<br/><br/>\n",
    "\n",
    "---\n",
    "\n",
    "# Sum of 2 Dice Rolls\n",
    "\n",
    "Here's the distribution of a single die roll:"
   ]
  },
  {
   "cell_type": "code",
   "execution_count": 24,
   "id": "9a21d743-1f24-407e-b782-f74c5633d599",
   "metadata": {
    "lines_to_next_cell": 2
   },
   "outputs": [
    {
     "data": {
      "text/html": [
       "<div>\n",
       "<style scoped>\n",
       "    .dataframe tbody tr th:only-of-type {\n",
       "        vertical-align: middle;\n",
       "    }\n",
       "\n",
       "    .dataframe tbody tr th {\n",
       "        vertical-align: top;\n",
       "    }\n",
       "\n",
       "    .dataframe thead th {\n",
       "        text-align: right;\n",
       "    }\n",
       "</style>\n",
       "<table border=\"1\" class=\"dataframe\">\n",
       "  <thead>\n",
       "    <tr style=\"text-align: right;\">\n",
       "      <th></th>\n",
       "      <th>x</th>\n",
       "      <th>P(X = x)</th>\n",
       "    </tr>\n",
       "  </thead>\n",
       "  <tbody>\n",
       "    <tr>\n",
       "      <th>0</th>\n",
       "      <td>1</td>\n",
       "      <td>0.166667</td>\n",
       "    </tr>\n",
       "    <tr>\n",
       "      <th>1</th>\n",
       "      <td>2</td>\n",
       "      <td>0.166667</td>\n",
       "    </tr>\n",
       "    <tr>\n",
       "      <th>2</th>\n",
       "      <td>3</td>\n",
       "      <td>0.166667</td>\n",
       "    </tr>\n",
       "    <tr>\n",
       "      <th>3</th>\n",
       "      <td>4</td>\n",
       "      <td>0.166667</td>\n",
       "    </tr>\n",
       "    <tr>\n",
       "      <th>4</th>\n",
       "      <td>5</td>\n",
       "      <td>0.166667</td>\n",
       "    </tr>\n",
       "    <tr>\n",
       "      <th>5</th>\n",
       "      <td>6</td>\n",
       "      <td>0.166667</td>\n",
       "    </tr>\n",
       "  </tbody>\n",
       "</table>\n",
       "</div>"
      ],
      "text/plain": [
       "   x  P(X = x)\n",
       "0  1  0.166667\n",
       "1  2  0.166667\n",
       "2  3  0.166667\n",
       "3  4  0.166667\n",
       "4  5  0.166667\n",
       "5  6  0.166667"
      ]
     },
     "execution_count": 24,
     "metadata": {},
     "output_type": "execute_result"
    }
   ],
   "source": [
    "roll_df = pd.DataFrame({\"x\": [1, 2, 3, 4, 5, 6],\n",
    "                        \"P(X = x)\": np.ones(6)/6})\n",
    "roll_df"
   ]
  },
  {
   "cell_type": "markdown",
   "id": "f44d0eba-4671-420a-93c7-3cce60c0b8c8",
   "metadata": {},
   "source": [
    "Let $X_1, X_2$ are the outcomes of two dice rolls. Note $X_1$ and $X_2$ are i.i.d. (independent and identically distributed)."
   ]
  },
  {
   "cell_type": "markdown",
   "id": "e70994a3-39b6-4813-9198-2736cbbf554f",
   "metadata": {},
   "source": [
    "Below I call a helper function `simulate_iid_df`, which simulates an 80,000-row table of $X_1, X_2$ values. It uses `np.random.choice(arr, size, p)` [link](https://numpy.org/doc/stable/reference/random/generated/numpy.random.choice.html) where `arr` is the array the values and `p` is the probability associated with choosing each value. If you're interested in the implementation details, scroll up."
   ]
  },
  {
   "cell_type": "code",
   "execution_count": 25,
   "id": "ceec826e-409d-4929-b4cf-2572fd0301be",
   "metadata": {},
   "outputs": [
    {
     "data": {
      "text/html": [
       "<div>\n",
       "<style scoped>\n",
       "    .dataframe tbody tr th:only-of-type {\n",
       "        vertical-align: middle;\n",
       "    }\n",
       "\n",
       "    .dataframe tbody tr th {\n",
       "        vertical-align: top;\n",
       "    }\n",
       "\n",
       "    .dataframe thead th {\n",
       "        text-align: right;\n",
       "    }\n",
       "</style>\n",
       "<table border=\"1\" class=\"dataframe\">\n",
       "  <thead>\n",
       "    <tr style=\"text-align: right;\">\n",
       "      <th></th>\n",
       "      <th>X_1</th>\n",
       "      <th>X_2</th>\n",
       "    </tr>\n",
       "  </thead>\n",
       "  <tbody>\n",
       "    <tr>\n",
       "      <th>0</th>\n",
       "      <td>3</td>\n",
       "      <td>6</td>\n",
       "    </tr>\n",
       "    <tr>\n",
       "      <th>1</th>\n",
       "      <td>3</td>\n",
       "      <td>3</td>\n",
       "    </tr>\n",
       "    <tr>\n",
       "      <th>2</th>\n",
       "      <td>2</td>\n",
       "      <td>5</td>\n",
       "    </tr>\n",
       "    <tr>\n",
       "      <th>3</th>\n",
       "      <td>5</td>\n",
       "      <td>2</td>\n",
       "    </tr>\n",
       "    <tr>\n",
       "      <th>4</th>\n",
       "      <td>5</td>\n",
       "      <td>5</td>\n",
       "    </tr>\n",
       "    <tr>\n",
       "      <th>...</th>\n",
       "      <td>...</td>\n",
       "      <td>...</td>\n",
       "    </tr>\n",
       "    <tr>\n",
       "      <th>79995</th>\n",
       "      <td>5</td>\n",
       "      <td>6</td>\n",
       "    </tr>\n",
       "    <tr>\n",
       "      <th>79996</th>\n",
       "      <td>6</td>\n",
       "      <td>2</td>\n",
       "    </tr>\n",
       "    <tr>\n",
       "      <th>79997</th>\n",
       "      <td>2</td>\n",
       "      <td>1</td>\n",
       "    </tr>\n",
       "    <tr>\n",
       "      <th>79998</th>\n",
       "      <td>5</td>\n",
       "      <td>5</td>\n",
       "    </tr>\n",
       "    <tr>\n",
       "      <th>79999</th>\n",
       "      <td>5</td>\n",
       "      <td>6</td>\n",
       "    </tr>\n",
       "  </tbody>\n",
       "</table>\n",
       "<p>80000 rows × 2 columns</p>\n",
       "</div>"
      ],
      "text/plain": [
       "       X_1  X_2\n",
       "0        3    6\n",
       "1        3    3\n",
       "2        2    5\n",
       "3        5    2\n",
       "4        5    5\n",
       "...    ...  ...\n",
       "79995    5    6\n",
       "79996    6    2\n",
       "79997    2    1\n",
       "79998    5    5\n",
       "79999    5    6\n",
       "\n",
       "[80000 rows x 2 columns]"
      ]
     },
     "execution_count": 25,
     "metadata": {},
     "output_type": "execute_result"
    }
   ],
   "source": [
    "N = 80000\n",
    "sim_rolls_df = simulate_iid_df(roll_df, nvars=2, rows=N)\n",
    "sim_rolls_df"
   ]
  },
  {
   "cell_type": "markdown",
   "id": "a75854f6-dd31-4b01-b5fa-c36115a467d8",
   "metadata": {},
   "source": [
    "Define the following random variables, which are functions of $X_1$ and $X_2$:\n",
    "* $Y = X_1 + X_1 = 2 X_1$\n",
    "* $Z = X_1 + X_2$\n",
    "\n",
    "We can use our simulated values of $X_1, X_2$ to create new columns $Y$ and $Z$:"
   ]
  },
  {
   "cell_type": "code",
   "execution_count": 26,
   "id": "f09f6b7d-241b-4fcc-ab72-e4d15da3ea8a",
   "metadata": {},
   "outputs": [
    {
     "data": {
      "text/html": [
       "<div>\n",
       "<style scoped>\n",
       "    .dataframe tbody tr th:only-of-type {\n",
       "        vertical-align: middle;\n",
       "    }\n",
       "\n",
       "    .dataframe tbody tr th {\n",
       "        vertical-align: top;\n",
       "    }\n",
       "\n",
       "    .dataframe thead th {\n",
       "        text-align: right;\n",
       "    }\n",
       "</style>\n",
       "<table border=\"1\" class=\"dataframe\">\n",
       "  <thead>\n",
       "    <tr style=\"text-align: right;\">\n",
       "      <th></th>\n",
       "      <th>X_1</th>\n",
       "      <th>X_2</th>\n",
       "      <th>Y</th>\n",
       "      <th>Z</th>\n",
       "    </tr>\n",
       "  </thead>\n",
       "  <tbody>\n",
       "    <tr>\n",
       "      <th>0</th>\n",
       "      <td>3</td>\n",
       "      <td>6</td>\n",
       "      <td>6</td>\n",
       "      <td>9</td>\n",
       "    </tr>\n",
       "    <tr>\n",
       "      <th>1</th>\n",
       "      <td>3</td>\n",
       "      <td>3</td>\n",
       "      <td>6</td>\n",
       "      <td>6</td>\n",
       "    </tr>\n",
       "    <tr>\n",
       "      <th>2</th>\n",
       "      <td>2</td>\n",
       "      <td>5</td>\n",
       "      <td>4</td>\n",
       "      <td>7</td>\n",
       "    </tr>\n",
       "    <tr>\n",
       "      <th>3</th>\n",
       "      <td>5</td>\n",
       "      <td>2</td>\n",
       "      <td>10</td>\n",
       "      <td>7</td>\n",
       "    </tr>\n",
       "    <tr>\n",
       "      <th>4</th>\n",
       "      <td>5</td>\n",
       "      <td>5</td>\n",
       "      <td>10</td>\n",
       "      <td>10</td>\n",
       "    </tr>\n",
       "    <tr>\n",
       "      <th>...</th>\n",
       "      <td>...</td>\n",
       "      <td>...</td>\n",
       "      <td>...</td>\n",
       "      <td>...</td>\n",
       "    </tr>\n",
       "    <tr>\n",
       "      <th>79995</th>\n",
       "      <td>5</td>\n",
       "      <td>6</td>\n",
       "      <td>10</td>\n",
       "      <td>11</td>\n",
       "    </tr>\n",
       "    <tr>\n",
       "      <th>79996</th>\n",
       "      <td>6</td>\n",
       "      <td>2</td>\n",
       "      <td>12</td>\n",
       "      <td>8</td>\n",
       "    </tr>\n",
       "    <tr>\n",
       "      <th>79997</th>\n",
       "      <td>2</td>\n",
       "      <td>1</td>\n",
       "      <td>4</td>\n",
       "      <td>3</td>\n",
       "    </tr>\n",
       "    <tr>\n",
       "      <th>79998</th>\n",
       "      <td>5</td>\n",
       "      <td>5</td>\n",
       "      <td>10</td>\n",
       "      <td>10</td>\n",
       "    </tr>\n",
       "    <tr>\n",
       "      <th>79999</th>\n",
       "      <td>5</td>\n",
       "      <td>6</td>\n",
       "      <td>10</td>\n",
       "      <td>11</td>\n",
       "    </tr>\n",
       "  </tbody>\n",
       "</table>\n",
       "<p>80000 rows × 4 columns</p>\n",
       "</div>"
      ],
      "text/plain": [
       "       X_1  X_2   Y   Z\n",
       "0        3    6   6   9\n",
       "1        3    3   6   6\n",
       "2        2    5   4   7\n",
       "3        5    2  10   7\n",
       "4        5    5  10  10\n",
       "...    ...  ...  ..  ..\n",
       "79995    5    6  10  11\n",
       "79996    6    2  12   8\n",
       "79997    2    1   4   3\n",
       "79998    5    5  10  10\n",
       "79999    5    6  10  11\n",
       "\n",
       "[80000 rows x 4 columns]"
      ]
     },
     "execution_count": 26,
     "metadata": {},
     "output_type": "execute_result"
    }
   ],
   "source": [
    "sim_rolls_df['Y'] = 2 * sim_rolls_df['X_1']\n",
    "sim_rolls_df['Z'] = sim_rolls_df['X_1'] + sim_rolls_df['X_2']\n",
    "sim_rolls_df"
   ]
  },
  {
   "cell_type": "markdown",
   "id": "c426ce79-473f-4189-99e4-5f1a6f7a0bc3",
   "metadata": {},
   "source": [
    "Now that we have simulated samples of $Y$ and $Z$, we can plot histograms to see their distributions!\n",
    "\n",
    "<br/>\n",
    "Distribution of $Y$, which was twice the value of our first die roll:"
   ]
  },
  {
   "cell_type": "code",
   "execution_count": 27,
   "id": "2945165f-489a-4a25-8647-80736b01ad89",
   "metadata": {},
   "outputs": [
    {
     "data": {
      "text/html": [
       "<div>\n",
       "<style scoped>\n",
       "    .dataframe tbody tr th:only-of-type {\n",
       "        vertical-align: middle;\n",
       "    }\n",
       "\n",
       "    .dataframe tbody tr th {\n",
       "        vertical-align: top;\n",
       "    }\n",
       "\n",
       "    .dataframe thead th {\n",
       "        text-align: right;\n",
       "    }\n",
       "</style>\n",
       "<table border=\"1\" class=\"dataframe\">\n",
       "  <thead>\n",
       "    <tr style=\"text-align: right;\">\n",
       "      <th></th>\n",
       "      <th>Y</th>\n",
       "    </tr>\n",
       "  </thead>\n",
       "  <tbody>\n",
       "    <tr>\n",
       "      <th>E[•]</th>\n",
       "      <td>7.019100</td>\n",
       "    </tr>\n",
       "    <tr>\n",
       "      <th>Var(•)</th>\n",
       "      <td>11.644181</td>\n",
       "    </tr>\n",
       "    <tr>\n",
       "      <th>SD(•)</th>\n",
       "      <td>3.412357</td>\n",
       "    </tr>\n",
       "  </tbody>\n",
       "</table>\n",
       "</div>"
      ],
      "text/plain": [
       "                Y\n",
       "E[•]     7.019100\n",
       "Var(•)  11.644181\n",
       "SD(•)    3.412357"
      ]
     },
     "metadata": {},
     "output_type": "display_data"
    },
    {
     "data": {
      "image/png": "[encoded data removed]",
      "text/plain": [
       "<Figure size 640x480 with 1 Axes>"
      ]
     },
     "metadata": {
      "needs_background": "light"
     },
     "output_type": "display_data"
    }
   ],
   "source": [
    "plot_simulated_dist(sim_rolls_df, \"Y\", save=True)"
   ]
  },
  {
   "cell_type": "markdown",
   "id": "eb329ea6-b3cf-41bc-bb3d-92c3f42914da",
   "metadata": {},
   "source": [
    "Distribution of $Z$, the sum of two IID dice rolls:"
   ]
  },
  {
   "cell_type": "code",
   "execution_count": 28,
   "id": "fd31235f-929d-4bad-b540-08a5805bc911",
   "metadata": {},
   "outputs": [
    {
     "data": {
      "text/html": [
       "<div>\n",
       "<style scoped>\n",
       "    .dataframe tbody tr th:only-of-type {\n",
       "        vertical-align: middle;\n",
       "    }\n",
       "\n",
       "    .dataframe tbody tr th {\n",
       "        vertical-align: top;\n",
       "    }\n",
       "\n",
       "    .dataframe thead th {\n",
       "        text-align: right;\n",
       "    }\n",
       "</style>\n",
       "<table border=\"1\" class=\"dataframe\">\n",
       "  <thead>\n",
       "    <tr style=\"text-align: right;\">\n",
       "      <th></th>\n",
       "      <th>Z</th>\n",
       "    </tr>\n",
       "  </thead>\n",
       "  <tbody>\n",
       "    <tr>\n",
       "      <th>E[•]</th>\n",
       "      <td>7.004613</td>\n",
       "    </tr>\n",
       "    <tr>\n",
       "      <th>Var(•)</th>\n",
       "      <td>5.833214</td>\n",
       "    </tr>\n",
       "    <tr>\n",
       "      <th>SD(•)</th>\n",
       "      <td>2.415205</td>\n",
       "    </tr>\n",
       "  </tbody>\n",
       "</table>\n",
       "</div>"
      ],
      "text/plain": [
       "               Z\n",
       "E[•]    7.004613\n",
       "Var(•)  5.833214\n",
       "SD(•)   2.415205"
      ]
     },
     "metadata": {},
     "output_type": "display_data"
    },
    {
     "data": {
      "image/png": "[encoded data removed]",
      "text/plain": [
       "<Figure size 640x480 with 1 Axes>"
      ]
     },
     "metadata": {
      "needs_background": "light"
     },
     "output_type": "display_data"
    }
   ],
   "source": [
    "plot_simulated_dist(sim_rolls_df, \"Z\", save=True, color='gold')"
   ]
  },
  {
   "cell_type": "markdown",
   "id": "2de0fc06-82d1-4908-b26f-610324f07422",
   "metadata": {},
   "source": [
    "Let's compare the expectations and variances of these simulated distributions of $Y$ and $Z$.\n",
    "* We computed:\n",
    "    * $\\mathbb{E}[Y]$ as `np.mean(sim_rolls_df['Y'])`\n",
    "    * $\\text{Var}(Y)$ as `np.var(sim_rolls_df['Y']`\n",
    "    * etc.\n",
    "* The larger your simulated rows $N$, the closer the simulated expectation will be to the true expectation.\n",
    "* Our approach is tedious--we have to simulate an entire population, then reduce it down to expectation/variance/standard deviation. There has to be a better way!"
   ]
  },
  {
   "cell_type": "code",
   "execution_count": 29,
   "id": "b58bf777-761d-4cd8-889b-fabf98e73fe2",
   "metadata": {},
   "outputs": [
    {
     "data": {
      "text/html": [
       "<div>\n",
       "<style scoped>\n",
       "    .dataframe tbody tr th:only-of-type {\n",
       "        vertical-align: middle;\n",
       "    }\n",
       "\n",
       "    .dataframe tbody tr th {\n",
       "        vertical-align: top;\n",
       "    }\n",
       "\n",
       "    .dataframe thead th {\n",
       "        text-align: right;\n",
       "    }\n",
       "</style>\n",
       "<table border=\"1\" class=\"dataframe\">\n",
       "  <thead>\n",
       "    <tr style=\"text-align: right;\">\n",
       "      <th></th>\n",
       "      <th>Y</th>\n",
       "      <th>Z</th>\n",
       "    </tr>\n",
       "  </thead>\n",
       "  <tbody>\n",
       "    <tr>\n",
       "      <th>E[•]</th>\n",
       "      <td>7.019100</td>\n",
       "      <td>7.004613</td>\n",
       "    </tr>\n",
       "    <tr>\n",
       "      <th>Var(•)</th>\n",
       "      <td>11.644181</td>\n",
       "      <td>5.833214</td>\n",
       "    </tr>\n",
       "    <tr>\n",
       "      <th>SD(•)</th>\n",
       "      <td>3.412357</td>\n",
       "      <td>2.415205</td>\n",
       "    </tr>\n",
       "  </tbody>\n",
       "</table>\n",
       "</div>"
      ],
      "text/plain": [
       "                Y         Z\n",
       "E[•]     7.019100  7.004613\n",
       "Var(•)  11.644181  5.833214\n",
       "SD(•)    3.412357  2.415205"
      ]
     },
     "execution_count": 29,
     "metadata": {},
     "output_type": "execute_result"
    }
   ],
   "source": [
    "stats_df_multi(sim_rolls_df, [\"Y\", \"Z\"])"
   ]
  },
  {
   "cell_type": "markdown",
   "id": "08fe565e-f5bc-48f6-a7e4-2b111f348352",
   "metadata": {
    "tags": []
   },
   "source": [
    "<br/><br/>\n",
    "\n",
    "---\n",
    "\n",
    "# Which would you pick?\n",
    "\n",
    "* $\\large Y_A = 10 X_1 + 10 X_2 $\n",
    "* $\\large Y_B = \\sum\\limits_{i=1}^{20} X_i$\n",
    "* $\\large Y_C = 20 X_1$"
   ]
  },
  {
   "cell_type": "markdown",
   "id": "45805b3b-e965-4992-99e2-4fa2233908ba",
   "metadata": {},
   "source": [
    "First let's construct the probability distribution for a single coin. This will let us flip 20 IID coins later."
   ]
  },
  {
   "cell_type": "code",
   "execution_count": 30,
   "id": "95a3afac-6cf2-4aed-a302-473d94267656",
   "metadata": {},
   "outputs": [
    {
     "data": {
      "text/html": [
       "<div>\n",
       "<style scoped>\n",
       "    .dataframe tbody tr th:only-of-type {\n",
       "        vertical-align: middle;\n",
       "    }\n",
       "\n",
       "    .dataframe tbody tr th {\n",
       "        vertical-align: top;\n",
       "    }\n",
       "\n",
       "    .dataframe thead th {\n",
       "        text-align: right;\n",
       "    }\n",
       "</style>\n",
       "<table border=\"1\" class=\"dataframe\">\n",
       "  <thead>\n",
       "    <tr style=\"text-align: right;\">\n",
       "      <th></th>\n",
       "      <th>x</th>\n",
       "      <th>P(X = x)</th>\n",
       "    </tr>\n",
       "  </thead>\n",
       "  <tbody>\n",
       "    <tr>\n",
       "      <th>0</th>\n",
       "      <td>0</td>\n",
       "      <td>0.5</td>\n",
       "    </tr>\n",
       "    <tr>\n",
       "      <th>1</th>\n",
       "      <td>1</td>\n",
       "      <td>0.5</td>\n",
       "    </tr>\n",
       "  </tbody>\n",
       "</table>\n",
       "</div>"
      ],
      "text/plain": [
       "   x  P(X = x)\n",
       "0  0       0.5\n",
       "1  1       0.5"
      ]
     },
     "execution_count": 30,
     "metadata": {},
     "output_type": "execute_result"
    }
   ],
   "source": [
    "# First construct probability distribution for a single fair coin\n",
    "p = 0.5\n",
    "coin_df = pd.DataFrame({\"x\": [0, 1], # [Tails, Heads]\n",
    "                        \"P(X = x)\": [p, 1 - p]})\n",
    "coin_df"
   ]
  },
  {
   "cell_type": "markdown",
   "id": "a96bc5e4-47b1-4604-8e43-8a694235a170",
   "metadata": {},
   "source": [
    "## Choice A:\n",
    "$\\large Y_A = 10 X_1 + 10 X_2 $"
   ]
  },
  {
   "cell_type": "code",
   "execution_count": 31,
   "id": "173c9cd7-15ca-48f3-852a-3006a5ff21a1",
   "metadata": {},
   "outputs": [
    {
     "name": "stdout",
     "output_type": "stream",
     "text": [
      "Sample of size 1:\n"
     ]
    },
    {
     "data": {
      "text/html": [
       "<div>\n",
       "<style scoped>\n",
       "    .dataframe tbody tr th:only-of-type {\n",
       "        vertical-align: middle;\n",
       "    }\n",
       "\n",
       "    .dataframe tbody tr th {\n",
       "        vertical-align: top;\n",
       "    }\n",
       "\n",
       "    .dataframe thead th {\n",
       "        text-align: right;\n",
       "    }\n",
       "</style>\n",
       "<table border=\"1\" class=\"dataframe\">\n",
       "  <thead>\n",
       "    <tr style=\"text-align: right;\">\n",
       "      <th></th>\n",
       "      <th>X_1</th>\n",
       "      <th>X_2</th>\n",
       "      <th>X_3</th>\n",
       "      <th>X_4</th>\n",
       "      <th>X_5</th>\n",
       "      <th>X_6</th>\n",
       "      <th>X_7</th>\n",
       "      <th>X_8</th>\n",
       "      <th>X_9</th>\n",
       "      <th>X_10</th>\n",
       "      <th>...</th>\n",
       "      <th>X_12</th>\n",
       "      <th>X_13</th>\n",
       "      <th>X_14</th>\n",
       "      <th>X_15</th>\n",
       "      <th>X_16</th>\n",
       "      <th>X_17</th>\n",
       "      <th>X_18</th>\n",
       "      <th>X_19</th>\n",
       "      <th>X_20</th>\n",
       "      <th>Y_A</th>\n",
       "    </tr>\n",
       "  </thead>\n",
       "  <tbody>\n",
       "    <tr>\n",
       "      <th>0</th>\n",
       "      <td>1</td>\n",
       "      <td>0</td>\n",
       "      <td>1</td>\n",
       "      <td>0</td>\n",
       "      <td>0</td>\n",
       "      <td>1</td>\n",
       "      <td>0</td>\n",
       "      <td>0</td>\n",
       "      <td>1</td>\n",
       "      <td>0</td>\n",
       "      <td>...</td>\n",
       "      <td>0</td>\n",
       "      <td>1</td>\n",
       "      <td>1</td>\n",
       "      <td>1</td>\n",
       "      <td>1</td>\n",
       "      <td>1</td>\n",
       "      <td>0</td>\n",
       "      <td>1</td>\n",
       "      <td>0</td>\n",
       "      <td>10</td>\n",
       "    </tr>\n",
       "  </tbody>\n",
       "</table>\n",
       "<p>1 rows × 21 columns</p>\n",
       "</div>"
      ],
      "text/plain": [
       "   X_1  X_2  X_3  X_4  X_5  X_6  X_7  X_8  X_9  X_10  ...  X_12  X_13  X_14  \\\n",
       "0    1    0    1    0    0    1    0    0    1     0  ...     0     1     1   \n",
       "\n",
       "   X_15  X_16  X_17  X_18  X_19  X_20  Y_A  \n",
       "0     1     1     1     0     1     0   10  \n",
       "\n",
       "[1 rows x 21 columns]"
      ]
     },
     "metadata": {},
     "output_type": "display_data"
    },
    {
     "name": "stdout",
     "output_type": "stream",
     "text": [
      "Y_A: 10\n"
     ]
    }
   ],
   "source": [
    "# Flip 20 iid coins, each exactly once\n",
    "flips20_df = simulate_iid_df(coin_df, nvars=20, rows=1)\n",
    "\n",
    "# Construct Y_A from this sample\n",
    "flips20_df[\"Y_A\"] = 10*flips20_df[\"X_1\"] + 10*flips20_df[\"X_2\"]\n",
    "\n",
    "print(\"Sample of size 1:\")\n",
    "display(flips20_df)\n",
    "print(\"Y_A:\", flips20_df.loc[0,\"Y_A\"])"
   ]
  },
  {
   "cell_type": "markdown",
   "id": "96011076-1c3c-41a8-bbb6-df51348d6f8e",
   "metadata": {
    "tags": []
   },
   "source": [
    "## Choice B:\n",
    "\n",
    "$\\large Y_B = \\sum\\limits_{i=1}^{20} X_i$"
   ]
  },
  {
   "cell_type": "code",
   "execution_count": 32,
   "id": "a9f26618-0464-4d86-a6b8-cd5a77879803",
   "metadata": {},
   "outputs": [
    {
     "data": {
      "text/html": [
       "<div>\n",
       "<style scoped>\n",
       "    .dataframe tbody tr th:only-of-type {\n",
       "        vertical-align: middle;\n",
       "    }\n",
       "\n",
       "    .dataframe tbody tr th {\n",
       "        vertical-align: top;\n",
       "    }\n",
       "\n",
       "    .dataframe thead th {\n",
       "        text-align: right;\n",
       "    }\n",
       "</style>\n",
       "<table border=\"1\" class=\"dataframe\">\n",
       "  <thead>\n",
       "    <tr style=\"text-align: right;\">\n",
       "      <th></th>\n",
       "      <th>X_1</th>\n",
       "      <th>X_2</th>\n",
       "      <th>X_3</th>\n",
       "      <th>X_4</th>\n",
       "      <th>X_5</th>\n",
       "      <th>X_6</th>\n",
       "      <th>X_7</th>\n",
       "      <th>X_8</th>\n",
       "      <th>X_9</th>\n",
       "      <th>X_10</th>\n",
       "      <th>...</th>\n",
       "      <th>X_12</th>\n",
       "      <th>X_13</th>\n",
       "      <th>X_14</th>\n",
       "      <th>X_15</th>\n",
       "      <th>X_16</th>\n",
       "      <th>X_17</th>\n",
       "      <th>X_18</th>\n",
       "      <th>X_19</th>\n",
       "      <th>X_20</th>\n",
       "      <th>Y_B</th>\n",
       "    </tr>\n",
       "  </thead>\n",
       "  <tbody>\n",
       "    <tr>\n",
       "      <th>0</th>\n",
       "      <td>0</td>\n",
       "      <td>0</td>\n",
       "      <td>0</td>\n",
       "      <td>1</td>\n",
       "      <td>1</td>\n",
       "      <td>0</td>\n",
       "      <td>1</td>\n",
       "      <td>0</td>\n",
       "      <td>1</td>\n",
       "      <td>1</td>\n",
       "      <td>...</td>\n",
       "      <td>0</td>\n",
       "      <td>1</td>\n",
       "      <td>0</td>\n",
       "      <td>0</td>\n",
       "      <td>0</td>\n",
       "      <td>1</td>\n",
       "      <td>0</td>\n",
       "      <td>1</td>\n",
       "      <td>0</td>\n",
       "      <td>9</td>\n",
       "    </tr>\n",
       "  </tbody>\n",
       "</table>\n",
       "<p>1 rows × 21 columns</p>\n",
       "</div>"
      ],
      "text/plain": [
       "   X_1  X_2  X_3  X_4  X_5  X_6  X_7  X_8  X_9  X_10  ...  X_12  X_13  X_14  \\\n",
       "0    0    0    0    1    1    0    1    0    1     1  ...     0     1     0   \n",
       "\n",
       "   X_15  X_16  X_17  X_18  X_19  X_20  Y_B  \n",
       "0     0     0     1     0     1     0    9  \n",
       "\n",
       "[1 rows x 21 columns]"
      ]
     },
     "metadata": {},
     "output_type": "display_data"
    },
    {
     "name": "stdout",
     "output_type": "stream",
     "text": [
      "Y_B: 9\n"
     ]
    }
   ],
   "source": [
    "# Flip 20 iid coins, each exactly once\n",
    "flips20_df = simulate_iid_df(coin_df, nvars=20, rows=1)\n",
    "\n",
    "# Construct Y_B from this sample\n",
    "flips20_df[\"Y_B\"] = flips20_df.sum(axis=1) # sum all coins\n",
    "\n",
    "display(flips20_df)\n",
    "print(\"Y_B:\", flips20_df.loc[0,\"Y_B\"])"
   ]
  },
  {
   "cell_type": "markdown",
   "id": "643826bd-e107-49ab-a702-2ca3d8de0ba9",
   "metadata": {
    "tags": []
   },
   "source": [
    "## Choice C:\n",
    "\n",
    "$\\large Y_C = 20 X_1$"
   ]
  },
  {
   "cell_type": "code",
   "execution_count": 33,
   "id": "74744d79-bdd2-4a03-9fe9-7d97c6f94ac0",
   "metadata": {},
   "outputs": [
    {
     "data": {
      "text/html": [
       "<div>\n",
       "<style scoped>\n",
       "    .dataframe tbody tr th:only-of-type {\n",
       "        vertical-align: middle;\n",
       "    }\n",
       "\n",
       "    .dataframe tbody tr th {\n",
       "        vertical-align: top;\n",
       "    }\n",
       "\n",
       "    .dataframe thead th {\n",
       "        text-align: right;\n",
       "    }\n",
       "</style>\n",
       "<table border=\"1\" class=\"dataframe\">\n",
       "  <thead>\n",
       "    <tr style=\"text-align: right;\">\n",
       "      <th></th>\n",
       "      <th>X_1</th>\n",
       "      <th>Y_C</th>\n",
       "    </tr>\n",
       "  </thead>\n",
       "  <tbody>\n",
       "    <tr>\n",
       "      <th>0</th>\n",
       "      <td>0</td>\n",
       "      <td>0</td>\n",
       "    </tr>\n",
       "  </tbody>\n",
       "</table>\n",
       "</div>"
      ],
      "text/plain": [
       "   X_1  Y_C\n",
       "0    0    0"
      ]
     },
     "metadata": {},
     "output_type": "display_data"
    },
    {
     "name": "stdout",
     "output_type": "stream",
     "text": [
      "Y_C: 0\n"
     ]
    }
   ],
   "source": [
    "# Flip 20 iid coins, each exactly once\n",
    "flips20_df = simulate_iid_df(coin_df, nvars=20, rows=1)\n",
    "\n",
    "# Construct Y_C from this sample\n",
    "flips20_df[\"Y_C\"] = 20*flips20_df[\"X_1\"]\n",
    "\n",
    "display(flips20_df[[\"X_1\", \"Y_C\"]])\n",
    "print(\"Y_C:\", flips20_df.loc[0,\"Y_C\"])"
   ]
  },
  {
   "cell_type": "markdown",
   "id": "34170d01-b2b1-4f94-a8b5-78aec5a1b36a",
   "metadata": {},
   "source": [
    "<br/>\n",
    "If you're curious as to what these distributions look like, I've simulated some populations:"
   ]
  },
  {
   "cell_type": "code",
   "execution_count": 34,
   "id": "c2fbdb52-c8f4-4908-b9bc-6af806752c70",
   "metadata": {},
   "outputs": [
    {
     "name": "stdout",
     "output_type": "stream",
     "text": [
      "80000 simulated samples\n"
     ]
    },
    {
     "data": {
      "text/html": [
       "<div>\n",
       "<style scoped>\n",
       "    .dataframe tbody tr th:only-of-type {\n",
       "        vertical-align: middle;\n",
       "    }\n",
       "\n",
       "    .dataframe tbody tr th {\n",
       "        vertical-align: top;\n",
       "    }\n",
       "\n",
       "    .dataframe thead th {\n",
       "        text-align: right;\n",
       "    }\n",
       "</style>\n",
       "<table border=\"1\" class=\"dataframe\">\n",
       "  <thead>\n",
       "    <tr style=\"text-align: right;\">\n",
       "      <th></th>\n",
       "      <th>Y_A</th>\n",
       "      <th>Y_B</th>\n",
       "      <th>Y_C</th>\n",
       "    </tr>\n",
       "  </thead>\n",
       "  <tbody>\n",
       "    <tr>\n",
       "      <th>E[•]</th>\n",
       "      <td>10.000375</td>\n",
       "      <td>10.007825</td>\n",
       "      <td>12.490625</td>\n",
       "    </tr>\n",
       "    <tr>\n",
       "      <th>Var(•)</th>\n",
       "      <td>50.359379</td>\n",
       "      <td>5.005526</td>\n",
       "      <td>56.250615</td>\n",
       "    </tr>\n",
       "    <tr>\n",
       "      <th>SD(•)</th>\n",
       "      <td>7.096434</td>\n",
       "      <td>2.237303</td>\n",
       "      <td>7.500041</td>\n",
       "    </tr>\n",
       "  </tbody>\n",
       "</table>\n",
       "</div>"
      ],
      "text/plain": [
       "              Y_A        Y_B        Y_C\n",
       "E[•]    10.000375  10.007825  12.490625\n",
       "Var(•)  50.359379   5.005526  56.250615\n",
       "SD(•)    7.096434   2.237303   7.500041"
      ]
     },
     "metadata": {},
     "output_type": "display_data"
    },
    {
     "data": {
      "image/png": "[encoded data removed]",
      "text/plain": [
       "<Figure size 600x800 with 3 Axes>"
      ]
     },
     "metadata": {},
     "output_type": "display_data"
    }
   ],
   "source": [
    "# Simulate one big population of 20 fair flips, N = 80,000\n",
    "N = 80000\n",
    "df_coins = simulate_iid_df(coin_df, nvars=20, rows=N)\n",
    "print(f\"{N} simulated samples\")\n",
    "\n",
    "\n",
    "# construct Y_A, Y_B, Y_C from this population\n",
    "df_coins[\"Y_A\"] = 10*df_coins[\"X_1\"] + 10*df_coins[\"X_2\"]\n",
    "df_coins[\"Y_B\"] = df_coins.loc[:,\"X_1\":\"X_20\"].sum(axis=1)\n",
    "df_coins[\"Y_C\"] = 5 + 15*df_coins[\"X_1\"]\n",
    "plot_simulated_dist_multi(df_coins, [\"Y_A\", \"Y_B\", \"Y_C\"])\n",
    "\n",
    "# adjust axes for nicer plotting\n",
    "axs = plt.gcf().axes\n",
    "axs[1].set_xlim(axs[0].get_xlim())    # Y_B\n",
    "axs[1].set_xticks([0, 5, 10, 15, 20]) # Y_B\n",
    "axs[2].set_xlim(axs[0].get_xlim())    # Y_C\n",
    "plt.show()"
   ]
  },
  {
   "cell_type": "markdown",
   "id": "2a36eda2-4a9d-4acf-8cde-d7ea46a0cdbd",
   "metadata": {},
   "source": [
    "<br/><br/>\n",
    "\n",
    "If we flipped 100 coins, look how beautiful the Binomial distribution looks:"
   ]
  },
  {
   "cell_type": "code",
   "execution_count": 35,
   "id": "2a7cbb8c-3bff-49eb-9b01-45c010b16fd4",
   "metadata": {},
   "outputs": [
    {
     "data": {
      "text/html": [
       "<div>\n",
       "<style scoped>\n",
       "    .dataframe tbody tr th:only-of-type {\n",
       "        vertical-align: middle;\n",
       "    }\n",
       "\n",
       "    .dataframe tbody tr th {\n",
       "        vertical-align: top;\n",
       "    }\n",
       "\n",
       "    .dataframe thead th {\n",
       "        text-align: right;\n",
       "    }\n",
       "</style>\n",
       "<table border=\"1\" class=\"dataframe\">\n",
       "  <thead>\n",
       "    <tr style=\"text-align: right;\">\n",
       "      <th></th>\n",
       "      <th>Y_100</th>\n",
       "    </tr>\n",
       "  </thead>\n",
       "  <tbody>\n",
       "    <tr>\n",
       "      <th>E[•]</th>\n",
       "      <td>25.020512</td>\n",
       "    </tr>\n",
       "    <tr>\n",
       "      <th>Var(•)</th>\n",
       "      <td>12.470673</td>\n",
       "    </tr>\n",
       "    <tr>\n",
       "      <th>SD(•)</th>\n",
       "      <td>3.531384</td>\n",
       "    </tr>\n",
       "  </tbody>\n",
       "</table>\n",
       "</div>"
      ],
      "text/plain": [
       "            Y_100\n",
       "E[•]    25.020512\n",
       "Var(•)  12.470673\n",
       "SD(•)    3.531384"
      ]
     },
     "metadata": {},
     "output_type": "display_data"
    },
    {
     "data": {
      "image/png": "[encoded data removed]",
      "text/plain": [
       "<Figure size 640x480 with 1 Axes>"
      ]
     },
     "metadata": {},
     "output_type": "display_data"
    }
   ],
   "source": [
    "# Simulate one big population of 100 fair flips, N = 80,000\n",
    "N = 80000\n",
    "df_coins = simulate_iid_df(coin_df, nvars=50, rows=N)\n",
    "df_coins[\"Y_100\"] = df_coins.loc[:,\"X_1\":\"X_50\"].sum(axis=1)\n",
    "plot_simulated_dist(df_coins, \"Y_100\")\n",
    "plt.xticks([0, 10, 20, 30, 40, 50])\n",
    "plt.show()"
   ]
  },
  {
   "cell_type": "markdown",
   "id": "a88ebf7c-41e1-4607-a61e-6b6c13ba9835",
   "metadata": {},
   "source": [
    "<br/><br/><br/>\n",
    "\n",
    "---\n",
    "\n",
    "# From Population to Sample\n",
    "\n",
    "Remember the population distribution we looked at earlier:"
   ]
  },
  {
   "cell_type": "code",
   "execution_count": 36,
   "id": "9d81997a-86d1-4f32-a709-590619064942",
   "metadata": {},
   "outputs": [
    {
     "data": {
      "text/html": [
       "<div>\n",
       "<style scoped>\n",
       "    .dataframe tbody tr th:only-of-type {\n",
       "        vertical-align: middle;\n",
       "    }\n",
       "\n",
       "    .dataframe tbody tr th {\n",
       "        vertical-align: top;\n",
       "    }\n",
       "\n",
       "    .dataframe thead th {\n",
       "        text-align: right;\n",
       "    }\n",
       "</style>\n",
       "<table border=\"1\" class=\"dataframe\">\n",
       "  <thead>\n",
       "    <tr style=\"text-align: right;\">\n",
       "      <th></th>\n",
       "      <th>x</th>\n",
       "      <th>P(X = x)</th>\n",
       "    </tr>\n",
       "  </thead>\n",
       "  <tbody>\n",
       "    <tr>\n",
       "      <th>0</th>\n",
       "      <td>3</td>\n",
       "      <td>0.1</td>\n",
       "    </tr>\n",
       "    <tr>\n",
       "      <th>1</th>\n",
       "      <td>4</td>\n",
       "      <td>0.2</td>\n",
       "    </tr>\n",
       "    <tr>\n",
       "      <th>2</th>\n",
       "      <td>6</td>\n",
       "      <td>0.4</td>\n",
       "    </tr>\n",
       "    <tr>\n",
       "      <th>3</th>\n",
       "      <td>8</td>\n",
       "      <td>0.3</td>\n",
       "    </tr>\n",
       "  </tbody>\n",
       "</table>\n",
       "</div>"
      ],
      "text/plain": [
       "   x  P(X = x)\n",
       "0  3       0.1\n",
       "1  4       0.2\n",
       "2  6       0.4\n",
       "3  8       0.3"
      ]
     },
     "execution_count": 36,
     "metadata": {},
     "output_type": "execute_result"
    }
   ],
   "source": [
    "dist_df"
   ]
  },
  {
   "cell_type": "code",
   "execution_count": 37,
   "id": "872523a7-21ed-4003-b0cc-10c41b1d405f",
   "metadata": {},
   "outputs": [
    {
     "data": {
      "text/html": [
       "<div>\n",
       "<style scoped>\n",
       "    .dataframe tbody tr th:only-of-type {\n",
       "        vertical-align: middle;\n",
       "    }\n",
       "\n",
       "    .dataframe tbody tr th {\n",
       "        vertical-align: top;\n",
       "    }\n",
       "\n",
       "    .dataframe thead th {\n",
       "        text-align: right;\n",
       "    }\n",
       "</style>\n",
       "<table border=\"1\" class=\"dataframe\">\n",
       "  <thead>\n",
       "    <tr style=\"text-align: right;\">\n",
       "      <th></th>\n",
       "      <th>X(s)</th>\n",
       "    </tr>\n",
       "  </thead>\n",
       "  <tbody>\n",
       "    <tr>\n",
       "      <th>0</th>\n",
       "      <td>6</td>\n",
       "    </tr>\n",
       "    <tr>\n",
       "      <th>1</th>\n",
       "      <td>3</td>\n",
       "    </tr>\n",
       "    <tr>\n",
       "      <th>2</th>\n",
       "      <td>8</td>\n",
       "    </tr>\n",
       "    <tr>\n",
       "      <th>3</th>\n",
       "      <td>4</td>\n",
       "    </tr>\n",
       "    <tr>\n",
       "      <th>4</th>\n",
       "      <td>4</td>\n",
       "    </tr>\n",
       "    <tr>\n",
       "      <th>...</th>\n",
       "      <td>...</td>\n",
       "    </tr>\n",
       "    <tr>\n",
       "      <th>99995</th>\n",
       "      <td>4</td>\n",
       "    </tr>\n",
       "    <tr>\n",
       "      <th>99996</th>\n",
       "      <td>6</td>\n",
       "    </tr>\n",
       "    <tr>\n",
       "      <th>99997</th>\n",
       "      <td>3</td>\n",
       "    </tr>\n",
       "    <tr>\n",
       "      <th>99998</th>\n",
       "      <td>6</td>\n",
       "    </tr>\n",
       "    <tr>\n",
       "      <th>99999</th>\n",
       "      <td>6</td>\n",
       "    </tr>\n",
       "  </tbody>\n",
       "</table>\n",
       "<p>100000 rows × 1 columns</p>\n",
       "</div>"
      ],
      "text/plain": [
       "       X(s)\n",
       "0         6\n",
       "1         3\n",
       "2         8\n",
       "3         4\n",
       "4         4\n",
       "...     ...\n",
       "99995     4\n",
       "99996     6\n",
       "99997     3\n",
       "99998     6\n",
       "99999     6\n",
       "\n",
       "[100000 rows x 1 columns]"
      ]
     },
     "execution_count": 37,
     "metadata": {},
     "output_type": "execute_result"
    }
   ],
   "source": [
    "# A population generated from the distribution\n",
    "N = 100000\n",
    "all_samples = simulate_samples(dist_df, size=N)\n",
    "sim_pop_df = pd.DataFrame({\"X(s)\": all_samples})\n",
    "sim_pop_df"
   ]
  },
  {
   "cell_type": "markdown",
   "id": "45c3ad53-d2a9-416d-8a97-751e26d0041f",
   "metadata": {},
   "source": [
    "<br/><br/><br/>\n",
    "Suppose we draw a sample of size 100 from this giant population.\n",
    "\n",
    "We are performing **Random Sampling with Replacement:** `df.sample(n, replace=True)` ([link](https://pandas.pydata.org/docs/reference/api/pandas.DataFrame.sample.html))"
   ]
  },
  {
   "cell_type": "code",
   "execution_count": 38,
   "id": "ad63c3b3-bc4d-4bde-ae82-03e3121806ae",
   "metadata": {},
   "outputs": [
    {
     "data": {
      "text/html": [
       "<div>\n",
       "<style scoped>\n",
       "    .dataframe tbody tr th:only-of-type {\n",
       "        vertical-align: middle;\n",
       "    }\n",
       "\n",
       "    .dataframe tbody tr th {\n",
       "        vertical-align: top;\n",
       "    }\n",
       "\n",
       "    .dataframe thead th {\n",
       "        text-align: right;\n",
       "    }\n",
       "</style>\n",
       "<table border=\"1\" class=\"dataframe\">\n",
       "  <thead>\n",
       "    <tr style=\"text-align: right;\">\n",
       "      <th></th>\n",
       "      <th>X</th>\n",
       "    </tr>\n",
       "  </thead>\n",
       "  <tbody>\n",
       "    <tr>\n",
       "      <th>0</th>\n",
       "      <td>4</td>\n",
       "    </tr>\n",
       "    <tr>\n",
       "      <th>1</th>\n",
       "      <td>4</td>\n",
       "    </tr>\n",
       "    <tr>\n",
       "      <th>2</th>\n",
       "      <td>8</td>\n",
       "    </tr>\n",
       "    <tr>\n",
       "      <th>3</th>\n",
       "      <td>6</td>\n",
       "    </tr>\n",
       "    <tr>\n",
       "      <th>4</th>\n",
       "      <td>4</td>\n",
       "    </tr>\n",
       "    <tr>\n",
       "      <th>...</th>\n",
       "      <td>...</td>\n",
       "    </tr>\n",
       "    <tr>\n",
       "      <th>95</th>\n",
       "      <td>4</td>\n",
       "    </tr>\n",
       "    <tr>\n",
       "      <th>96</th>\n",
       "      <td>4</td>\n",
       "    </tr>\n",
       "    <tr>\n",
       "      <th>97</th>\n",
       "      <td>3</td>\n",
       "    </tr>\n",
       "    <tr>\n",
       "      <th>98</th>\n",
       "      <td>8</td>\n",
       "    </tr>\n",
       "    <tr>\n",
       "      <th>99</th>\n",
       "      <td>4</td>\n",
       "    </tr>\n",
       "  </tbody>\n",
       "</table>\n",
       "<p>100 rows × 1 columns</p>\n",
       "</div>"
      ],
      "text/plain": [
       "    X\n",
       "0   4\n",
       "1   4\n",
       "2   8\n",
       "3   6\n",
       "4   4\n",
       ".. ..\n",
       "95  4\n",
       "96  4\n",
       "97  3\n",
       "98  8\n",
       "99  4\n",
       "\n",
       "[100 rows x 1 columns]"
      ]
     },
     "execution_count": 38,
     "metadata": {},
     "output_type": "execute_result"
    }
   ],
   "source": [
    "n = 100      # Size of our sample\n",
    "sample_df = (\n",
    "             sim_pop_df.sample(n, replace=True)\n",
    "             \n",
    "             # Some reformatting below\n",
    "             .reset_index(drop=True)\n",
    "             .rename(columns={\"X(s)\": \"X\"})\n",
    "            )\n",
    "sample_df"
   ]
  },
  {
   "cell_type": "markdown",
   "id": "3df95301-35ba-426d-bdac-6a180c6930d9",
   "metadata": {},
   "source": [
    "Our **sample distribution** (n = 100):"
   ]
  },
  {
   "cell_type": "code",
   "execution_count": 39,
   "id": "11316920-5538-48fe-94df-16ac7bba810c",
   "metadata": {},
   "outputs": [
    {
     "data": {
      "image/png": "[encoded data removed]",
      "text/plain": [
       "<Figure size 640x480 with 1 Axes>"
      ]
     },
     "metadata": {},
     "output_type": "display_data"
    },
    {
     "name": "stdout",
     "output_type": "stream",
     "text": [
      "Mean of Sample: 5.87\n"
     ]
    }
   ],
   "source": [
    "sns.histplot(data=sample_df, x='X', stat='probability')\n",
    "plt.xticks([3, 4, 6, 8])\n",
    "plt.title(f\"Sample (n = 100)\")\n",
    "plt.show()\n",
    "\n",
    "print(\"Mean of Sample:\", np.mean(sample_df['X']))"
   ]
  },
  {
   "cell_type": "markdown",
   "id": "dadbeb02-3d04-41dd-93e7-f4333a00b5d8",
   "metadata": {},
   "source": [
    "<br/>\n",
    "\n",
    "Compare this to our **original population** (N = 80,000):"
   ]
  },
  {
   "cell_type": "code",
   "execution_count": 40,
   "id": "231eecae-9f83-4fb7-bc50-94db69ee286a",
   "metadata": {},
   "outputs": [
    {
     "data": {
      "text/html": [
       "<div>\n",
       "<style scoped>\n",
       "    .dataframe tbody tr th:only-of-type {\n",
       "        vertical-align: middle;\n",
       "    }\n",
       "\n",
       "    .dataframe tbody tr th {\n",
       "        vertical-align: top;\n",
       "    }\n",
       "\n",
       "    .dataframe thead th {\n",
       "        text-align: right;\n",
       "    }\n",
       "</style>\n",
       "<table border=\"1\" class=\"dataframe\">\n",
       "  <thead>\n",
       "    <tr style=\"text-align: right;\">\n",
       "      <th></th>\n",
       "      <th>X(s)</th>\n",
       "    </tr>\n",
       "  </thead>\n",
       "  <tbody>\n",
       "    <tr>\n",
       "      <th>E[•]</th>\n",
       "      <td>5.895200</td>\n",
       "    </tr>\n",
       "    <tr>\n",
       "      <th>Var(•)</th>\n",
       "      <td>2.892903</td>\n",
       "    </tr>\n",
       "    <tr>\n",
       "      <th>SD(•)</th>\n",
       "      <td>1.700854</td>\n",
       "    </tr>\n",
       "  </tbody>\n",
       "</table>\n",
       "</div>"
      ],
      "text/plain": [
       "            X(s)\n",
       "E[•]    5.895200\n",
       "Var(•)  2.892903\n",
       "SD(•)   1.700854"
      ]
     },
     "metadata": {},
     "output_type": "display_data"
    },
    {
     "data": {
      "image/png": "[encoded data removed]",
      "text/plain": [
       "<Figure size 640x480 with 1 Axes>"
      ]
     },
     "metadata": {},
     "output_type": "display_data"
    }
   ],
   "source": [
    "plot_simulated_dist(sim_df, \"X(s)\")\n",
    "plt.title(\"Population of $X$\")\n",
    "plt.show()"
   ]
  },
  {
   "cell_type": "code",
   "execution_count": null,
   "id": "5582fe8c-d52c-4747-a31c-ae08f1b2f0a1",
   "metadata": {},
   "outputs": [],
   "source": []
  }
 ],
 "metadata": {
  "kernelspec": {
   "display_name": "Python 3 (ipykernel)",
   "language": "python",
   "name": "python3"
  },
  "language_info": {
   "codemirror_mode": {
    "name": "ipython",
    "version": 3
   },
   "file_extension": ".py",
   "mimetype": "text/x-python",
   "name": "python",
   "nbconvert_exporter": "python",
   "pygments_lexer": "ipython3",
   "version": "3.9.0"
  }
 },
 "nbformat": 4,
 "nbformat_minor": 5
}
