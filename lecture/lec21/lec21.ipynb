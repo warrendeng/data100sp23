{
 "cells": [
  {
   "cell_type": "markdown",
   "id": "a750c9e0",
   "metadata": {
    "tags": []
   },
   "source": [
    "# Lecture 21: Introduction to SQL\n",
    "\n",
    "\n",
    "Data 100, Spring 2023\n",
    "\n",
    "[Acknowledgments Page](https://ds100.org/sp23/acks/)"
   ]
  },
  {
   "cell_type": "markdown",
   "id": "851dbb4e-77e5-456e-903f-d8df3aea6707",
   "metadata": {},
   "source": [
    "## SQL Demo"
   ]
  },
  {
   "cell_type": "markdown",
   "id": "863c24e4-6422-47c8-a194-575b7b7488ae",
   "metadata": {},
   "source": [
    "Before we look at SQL syntax in detail, let's first see whether we can understand the rough idea of SQL."
   ]
  },
  {
   "cell_type": "markdown",
   "id": "f699330c-aee9-4036-bc7d-0fe329410f7b",
   "metadata": {},
   "source": [
    "**1. Load the `sql` Module.**. Load `%%sql` cell magic."
   ]
  },
  {
   "cell_type": "code",
   "execution_count": 1,
   "id": "d809a9ab-fe04-4e65-99b9-bd1e0c6a0daf",
   "metadata": {},
   "outputs": [],
   "source": [
    "%load_ext sql"
   ]
  },
  {
   "cell_type": "markdown",
   "id": "b155e056-d307-4f69-8083-dee31155224e",
   "metadata": {},
   "source": [
    "**2. Connect to a Database.**  SQLite database `basic_examples.db`:"
   ]
  },
  {
   "cell_type": "code",
   "execution_count": 2,
   "id": "480982be-9b63-44f4-8ca2-e3b29cd04877",
   "metadata": {},
   "outputs": [],
   "source": [
    "%%sql\n",
    "sqlite:///data/basic_examples.db"
   ]
  },
  {
   "cell_type": "markdown",
   "id": "1b9a53ac-58d6-439f-a33e-926e15144e97",
   "metadata": {},
   "source": [
    "<br/>\n",
    "\n",
    "**3. Run a simple SQL query.** Note the `%%sql` lets Jupyter parse the rest of the lines as a SQL command."
   ]
  },
  {
   "cell_type": "code",
   "execution_count": 3,
   "id": "8c172229-1ae6-408a-80b6-ef7985fbe386",
   "metadata": {},
   "outputs": [
    {
     "name": "stdout",
     "output_type": "stream",
     "text": [
      " * sqlite:///data/basic_examples.db\n",
      "Done.\n"
     ]
    },
    {
     "data": {
      "text/html": [
       "<table>\n",
       "    <tr>\n",
       "        <th>name</th>\n",
       "        <th>year</th>\n",
       "        <th>cute</th>\n",
       "    </tr>\n",
       "    <tr>\n",
       "        <td>hiccup</td>\n",
       "        <td>2010</td>\n",
       "        <td>10</td>\n",
       "    </tr>\n",
       "    <tr>\n",
       "        <td>drogon</td>\n",
       "        <td>2011</td>\n",
       "        <td>-100</td>\n",
       "    </tr>\n",
       "    <tr>\n",
       "        <td>dragon 2</td>\n",
       "        <td>2019</td>\n",
       "        <td>0</td>\n",
       "    </tr>\n",
       "</table>"
      ],
      "text/plain": [
       "[('hiccup', 2010, 10), ('drogon', 2011, -100), ('dragon 2', 2019, 0)]"
      ]
     },
     "execution_count": 3,
     "metadata": {},
     "output_type": "execute_result"
    }
   ],
   "source": [
    "%%sql\n",
    "SELECT * FROM Dragon;"
   ]
  },
  {
   "cell_type": "markdown",
   "id": "3e2fbecc-ccf6-4807-b810-7de159a111a1",
   "metadata": {},
   "source": [
    "**Simple query, this time on two different lines.**"
   ]
  },
  {
   "cell_type": "code",
   "execution_count": 4,
   "id": "4cbb0a40-63e7-46aa-a65f-a212e1a7858a",
   "metadata": {},
   "outputs": [
    {
     "name": "stdout",
     "output_type": "stream",
     "text": [
      " * sqlite:///data/basic_examples.db\n",
      "Done.\n"
     ]
    },
    {
     "data": {
      "text/html": [
       "<table>\n",
       "    <tr>\n",
       "        <th>name</th>\n",
       "        <th>year</th>\n",
       "        <th>cute</th>\n",
       "    </tr>\n",
       "    <tr>\n",
       "        <td>hiccup</td>\n",
       "        <td>2010</td>\n",
       "        <td>10</td>\n",
       "    </tr>\n",
       "    <tr>\n",
       "        <td>drogon</td>\n",
       "        <td>2011</td>\n",
       "        <td>-100</td>\n",
       "    </tr>\n",
       "    <tr>\n",
       "        <td>dragon 2</td>\n",
       "        <td>2019</td>\n",
       "        <td>0</td>\n",
       "    </tr>\n",
       "</table>"
      ],
      "text/plain": [
       "[('hiccup', 2010, 10), ('drogon', 2011, -100), ('dragon 2', 2019, 0)]"
      ]
     },
     "execution_count": 4,
     "metadata": {},
     "output_type": "execute_result"
    }
   ],
   "source": [
    "%%sql\n",
    "SELECT *\n",
    "FROM Dragon;"
   ]
  },
  {
   "cell_type": "markdown",
   "id": "3af4981f-97bb-4f2b-991d-9fabcdab1904",
   "metadata": {},
   "source": [
    "<br/>\n",
    "\n",
    "**Another simple query.**"
   ]
  },
  {
   "cell_type": "code",
   "execution_count": 5,
   "id": "081a393d-cfa1-4ce9-aa49-72872c7ba380",
   "metadata": {},
   "outputs": [
    {
     "name": "stdout",
     "output_type": "stream",
     "text": [
      " * sqlite:///data/basic_examples.db\n",
      "Done.\n"
     ]
    },
    {
     "data": {
      "text/html": [
       "<table>\n",
       "    <tr>\n",
       "        <th>name</th>\n",
       "        <th>type</th>\n",
       "        <th>cost</th>\n",
       "    </tr>\n",
       "    <tr>\n",
       "        <td>ravioli</td>\n",
       "        <td>entree</td>\n",
       "        <td>10</td>\n",
       "    </tr>\n",
       "    <tr>\n",
       "        <td>ramen</td>\n",
       "        <td>entree</td>\n",
       "        <td>13</td>\n",
       "    </tr>\n",
       "    <tr>\n",
       "        <td>taco</td>\n",
       "        <td>entree</td>\n",
       "        <td>7</td>\n",
       "    </tr>\n",
       "    <tr>\n",
       "        <td>edamame</td>\n",
       "        <td>appetizer</td>\n",
       "        <td>4</td>\n",
       "    </tr>\n",
       "    <tr>\n",
       "        <td>fries</td>\n",
       "        <td>appetizer</td>\n",
       "        <td>4</td>\n",
       "    </tr>\n",
       "    <tr>\n",
       "        <td>potsticker</td>\n",
       "        <td>appetizer</td>\n",
       "        <td>4</td>\n",
       "    </tr>\n",
       "    <tr>\n",
       "        <td>ice cream</td>\n",
       "        <td>dessert</td>\n",
       "        <td>5</td>\n",
       "    </tr>\n",
       "</table>"
      ],
      "text/plain": [
       "[('ravioli', 'entree', 10),\n",
       " ('ramen', 'entree', 13),\n",
       " ('taco', 'entree', 7),\n",
       " ('edamame', 'appetizer', 4),\n",
       " ('fries', 'appetizer', 4),\n",
       " ('potsticker', 'appetizer', 4),\n",
       " ('ice cream', 'dessert', 5)]"
      ]
     },
     "execution_count": 5,
     "metadata": {},
     "output_type": "execute_result"
    }
   ],
   "source": [
    "%%sql\n",
    "SELECT *\n",
    "FROM Dish;"
   ]
  },
  {
   "cell_type": "markdown",
   "id": "b062b0fc-64a0-4643-a164-1cd9da6f06c8",
   "metadata": {},
   "source": [
    "<br/>\n",
    "\n",
    "**The last SQL query in today's lecture.**\n",
    "* How much can you understand right now?\n",
    "* Can you get a sense of how the SQL query is written?\n",
    "\n",
    "(Note: `type` is not a keyword here; it is a column name. But Jupyter is using Python keyword highlighting, hence the green.)"
   ]
  },
  {
   "cell_type": "code",
   "execution_count": 6,
   "id": "b6971a7a-9d6c-4d0e-aeee-24ec9a93fc6f",
   "metadata": {},
   "outputs": [
    {
     "name": "stdout",
     "output_type": "stream",
     "text": [
      " * sqlite:///data/basic_examples.db\n",
      "Done.\n"
     ]
    },
    {
     "data": {
      "text/html": [
       "<table>\n",
       "    <tr>\n",
       "        <th>type</th>\n",
       "        <th>AVG(DISTINCT cost)</th>\n",
       "    </tr>\n",
       "    <tr>\n",
       "        <td>appetizer</td>\n",
       "        <td>4.0</td>\n",
       "    </tr>\n",
       "    <tr>\n",
       "        <td>dessert</td>\n",
       "        <td>5.0</td>\n",
       "    </tr>\n",
       "    <tr>\n",
       "        <td>entree</td>\n",
       "        <td>10.0</td>\n",
       "    </tr>\n",
       "</table>"
      ],
      "text/plain": [
       "[('appetizer', 4.0), ('dessert', 5.0), ('entree', 10.0)]"
      ]
     },
     "execution_count": 6,
     "metadata": {},
     "output_type": "execute_result"
    }
   ],
   "source": [
    "%%sql\n",
    "SELECT type, AVG(DISTINCT cost)\n",
    "FROM Dish\n",
    "GROUP BY type;"
   ]
  },
  {
   "cell_type": "markdown",
   "id": "dfe88fd6-ee9e-47e4-b3c6-48571e815ea1",
   "metadata": {},
   "source": [
    "Let's try to get all the way to this query by the end of today!"
   ]
  },
  {
   "cell_type": "markdown",
   "id": "5a31bdfa-9c08-41c2-b2ef-3f9471a98308",
   "metadata": {},
   "source": [
    "# Startup (once more)"
   ]
  },
  {
   "cell_type": "markdown",
   "id": "7e38b61c-9db4-437a-a91c-f7b640dfadb0",
   "metadata": {},
   "source": [
    "**SQL inside a Python-based Jupyter Notebook**: \n",
    "* This Notebook focuses on SQL, while using the Python-based IPython kernel.\n",
    "* For this, we take advantage of the [extensible IPython magic command system](https://ipython.readthedocs.io/en/stable/interactive/magics.html), as shown below."
   ]
  },
  {
   "cell_type": "code",
   "execution_count": 7,
   "id": "1eed767a-98b3-4481-a4dc-955571135574",
   "metadata": {},
   "outputs": [
    {
     "name": "stdout",
     "output_type": "stream",
     "text": [
      "The sql extension is already loaded. To reload it, use:\n",
      "  %reload_ext sql\n"
     ]
    }
   ],
   "source": [
    "%load_ext sql"
   ]
  },
  {
   "cell_type": "code",
   "execution_count": 8,
   "id": "c50be35c-5af8-41fe-8a8e-d1b7e9a74646",
   "metadata": {},
   "outputs": [],
   "source": [
    "# We'll also connect directly to our DB with Pandas later\n",
    "import sqlalchemy\n",
    "import pandas as pd"
   ]
  },
  {
   "cell_type": "markdown",
   "id": "04005eed",
   "metadata": {},
   "source": [
    "## Connection and basic queries\n",
    "\n",
    "Then we will connect to the database. In this lecture example, the database is stored in a single file on our own computer called lec18_basic_examples.db.\n",
    "\n",
    "Note that starting a cell with `%%sql` tells Jupyter that you are running SQL code, not Python code.\n",
    "\n",
    "In actual practice, you'd usually connect to some database server via a network connection, e.g. hosted on some computer on the internet."
   ]
  },
  {
   "cell_type": "code",
   "execution_count": 9,
   "id": "2e6b0837",
   "metadata": {},
   "outputs": [],
   "source": [
    "%%sql\n",
    "sqlite:///data/basic_examples.db"
   ]
  },
  {
   "cell_type": "markdown",
   "id": "e42634bb",
   "metadata": {},
   "source": [
    "Now that we're connected, we can, for example, display the contents of the Dragon table."
   ]
  },
  {
   "cell_type": "code",
   "execution_count": 10,
   "id": "5275c8df",
   "metadata": {},
   "outputs": [
    {
     "name": "stdout",
     "output_type": "stream",
     "text": [
      " * sqlite:///data/basic_examples.db\n",
      "Done.\n"
     ]
    },
    {
     "data": {
      "text/html": [
       "<table>\n",
       "    <tr>\n",
       "        <th>name</th>\n",
       "        <th>year</th>\n",
       "        <th>cute</th>\n",
       "    </tr>\n",
       "    <tr>\n",
       "        <td>hiccup</td>\n",
       "        <td>2010</td>\n",
       "        <td>10</td>\n",
       "    </tr>\n",
       "    <tr>\n",
       "        <td>drogon</td>\n",
       "        <td>2011</td>\n",
       "        <td>-100</td>\n",
       "    </tr>\n",
       "    <tr>\n",
       "        <td>dragon 2</td>\n",
       "        <td>2019</td>\n",
       "        <td>0</td>\n",
       "    </tr>\n",
       "</table>"
      ],
      "text/plain": [
       "[('hiccup', 2010, 10), ('drogon', 2011, -100), ('dragon 2', 2019, 0)]"
      ]
     },
     "execution_count": 10,
     "metadata": {},
     "output_type": "execute_result"
    }
   ],
   "source": [
    "%%sql\n",
    "SELECT * FROM Dragon;"
   ]
  },
  {
   "cell_type": "code",
   "execution_count": 11,
   "id": "f32da741",
   "metadata": {
    "tags": []
   },
   "outputs": [
    {
     "name": "stdout",
     "output_type": "stream",
     "text": [
      " * sqlite:///data/basic_examples.db\n",
      "Done.\n"
     ]
    },
    {
     "data": {
      "text/html": [
       "<table>\n",
       "    <tr>\n",
       "        <th>type</th>\n",
       "        <th>name</th>\n",
       "        <th>tbl_name</th>\n",
       "        <th>rootpage</th>\n",
       "        <th>sql</th>\n",
       "    </tr>\n",
       "    <tr>\n",
       "        <td>table</td>\n",
       "        <td>sqlite_sequence</td>\n",
       "        <td>sqlite_sequence</td>\n",
       "        <td>7</td>\n",
       "        <td>CREATE TABLE sqlite_sequence(name,seq)</td>\n",
       "    </tr>\n",
       "    <tr>\n",
       "        <td>table</td>\n",
       "        <td>Dragon</td>\n",
       "        <td>Dragon</td>\n",
       "        <td>2</td>\n",
       "        <td>CREATE TABLE Dragon (<br>    name TEXT PRIMARY KEY,<br>    year INTEGER CHECK (year &gt;= 2000),<br>    cute INTEGER<br>)</td>\n",
       "    </tr>\n",
       "    <tr>\n",
       "        <td>table</td>\n",
       "        <td>Dish</td>\n",
       "        <td>Dish</td>\n",
       "        <td>4</td>\n",
       "        <td>CREATE TABLE Dish (<br>    name TEXT PRIMARY KEY,<br>    type TEXT,<br>    cost INTEGER CHECK (cost &gt;= 0)<br>)</td>\n",
       "    </tr>\n",
       "    <tr>\n",
       "        <td>table</td>\n",
       "        <td>Scene</td>\n",
       "        <td>Scene</td>\n",
       "        <td>6</td>\n",
       "        <td>CREATE TABLE Scene (<br>    id INTEGER PRIMARY KEY AUTOINCREMENT,<br>    biome TEXT NOT NULL,<br>    city TEXT NOT NULL,<br>    visitors INTEGER CHECK (visitors &gt;= 0),<br>    created_at DATETIME DEFAULT (DATETIME(&#x27;now&#x27;))<br>)</td>\n",
       "    </tr>\n",
       "</table>"
      ],
      "text/plain": [
       "[('table', 'sqlite_sequence', 'sqlite_sequence', 7, 'CREATE TABLE sqlite_sequence(name,seq)'),\n",
       " ('table', 'Dragon', 'Dragon', 2, 'CREATE TABLE Dragon (\\n    name TEXT PRIMARY KEY,\\n    year INTEGER CHECK (year >= 2000),\\n    cute INTEGER\\n)'),\n",
       " ('table', 'Dish', 'Dish', 4, 'CREATE TABLE Dish (\\n    name TEXT PRIMARY KEY,\\n    type TEXT,\\n    cost INTEGER CHECK (cost >= 0)\\n)'),\n",
       " ('table', 'Scene', 'Scene', 6, \"CREATE TABLE Scene (\\n    id INTEGER PRIMARY KEY AUTOINCREMENT,\\n    biome TEXT NOT NULL,\\n    city TEXT NOT NULL,\\n    visitors INTEGER CHECK (visitors >= 0),\\n    created_at DATETIME DEFAULT (DATETIME('now'))\\n)\")]"
      ]
     },
     "execution_count": 11,
     "metadata": {},
     "output_type": "execute_result"
    }
   ],
   "source": [
    "%%sql\n",
    "SELECT * FROM sqlite_master WHERE type='table'"
   ]
  },
  {
   "cell_type": "code",
   "execution_count": 12,
   "id": "8b10641e",
   "metadata": {},
   "outputs": [
    {
     "name": "stdout",
     "output_type": "stream",
     "text": [
      " * sqlite:///data/basic_examples.db\n",
      "Done.\n"
     ]
    },
    {
     "data": {
      "text/html": [
       "<table>\n",
       "    <tr>\n",
       "        <th>name</th>\n",
       "        <th>year</th>\n",
       "        <th>cute</th>\n",
       "    </tr>\n",
       "    <tr>\n",
       "        <td>hiccup</td>\n",
       "        <td>2010</td>\n",
       "        <td>10</td>\n",
       "    </tr>\n",
       "    <tr>\n",
       "        <td>drogon</td>\n",
       "        <td>2011</td>\n",
       "        <td>-100</td>\n",
       "    </tr>\n",
       "    <tr>\n",
       "        <td>dragon 2</td>\n",
       "        <td>2019</td>\n",
       "        <td>0</td>\n",
       "    </tr>\n",
       "</table>"
      ],
      "text/plain": [
       "[('hiccup', 2010, 10), ('drogon', 2011, -100), ('dragon 2', 2019, 0)]"
      ]
     },
     "execution_count": 12,
     "metadata": {},
     "output_type": "execute_result"
    }
   ],
   "source": [
    "%%sql\n",
    "SELECT * FROM Dragon;"
   ]
  },
  {
   "cell_type": "code",
   "execution_count": 13,
   "id": "0db25a51",
   "metadata": {},
   "outputs": [
    {
     "name": "stdout",
     "output_type": "stream",
     "text": [
      " * sqlite:///data/basic_examples.db\n",
      "Done.\n"
     ]
    },
    {
     "data": {
      "text/html": [
       "<table>\n",
       "    <tr>\n",
       "        <th>cute</th>\n",
       "        <th>year</th>\n",
       "    </tr>\n",
       "    <tr>\n",
       "        <td>10</td>\n",
       "        <td>2010</td>\n",
       "    </tr>\n",
       "    <tr>\n",
       "        <td>-100</td>\n",
       "        <td>2011</td>\n",
       "    </tr>\n",
       "    <tr>\n",
       "        <td>0</td>\n",
       "        <td>2019</td>\n",
       "    </tr>\n",
       "</table>"
      ],
      "text/plain": [
       "[(10, 2010), (-100, 2011), (0, 2019)]"
      ]
     },
     "execution_count": 13,
     "metadata": {},
     "output_type": "execute_result"
    }
   ],
   "source": [
    "%%sql\n",
    "SELECT cute, year FROM Dragon;"
   ]
  },
  {
   "cell_type": "code",
   "execution_count": 14,
   "id": "75596c85-eb17-4d19-b065-984524dec1d8",
   "metadata": {},
   "outputs": [
    {
     "name": "stdout",
     "output_type": "stream",
     "text": [
      " * sqlite:///data/basic_examples.db\n",
      "Done.\n"
     ]
    },
    {
     "data": {
      "text/html": [
       "<table>\n",
       "    <tr>\n",
       "        <th>cuteness</th>\n",
       "        <th>birth</th>\n",
       "    </tr>\n",
       "    <tr>\n",
       "        <td>10</td>\n",
       "        <td>2010</td>\n",
       "    </tr>\n",
       "    <tr>\n",
       "        <td>-100</td>\n",
       "        <td>2011</td>\n",
       "    </tr>\n",
       "    <tr>\n",
       "        <td>0</td>\n",
       "        <td>2019</td>\n",
       "    </tr>\n",
       "</table>"
      ],
      "text/plain": [
       "[(10, 2010), (-100, 2011), (0, 2019)]"
      ]
     },
     "execution_count": 14,
     "metadata": {},
     "output_type": "execute_result"
    }
   ],
   "source": [
    "%%sql\n",
    "SELECT cute AS cuteness,\n",
    "       year AS birth\n",
    "FROM Dragon;"
   ]
  },
  {
   "cell_type": "code",
   "execution_count": 15,
   "id": "734189f7-de89-42ca-84e3-306cb564f34e",
   "metadata": {},
   "outputs": [
    {
     "name": "stdout",
     "output_type": "stream",
     "text": [
      " * sqlite:///data/basic_examples.db\n",
      "Done.\n"
     ]
    },
    {
     "data": {
      "text/html": [
       "<table>\n",
       "    <tr>\n",
       "        <th>cuteness</th>\n",
       "        <th>birth</th>\n",
       "    </tr>\n",
       "    <tr>\n",
       "        <td>10</td>\n",
       "        <td>2010</td>\n",
       "    </tr>\n",
       "    <tr>\n",
       "        <td>-100</td>\n",
       "        <td>2011</td>\n",
       "    </tr>\n",
       "    <tr>\n",
       "        <td>0</td>\n",
       "        <td>2019</td>\n",
       "    </tr>\n",
       "</table>"
      ],
      "text/plain": [
       "[(10, 2010), (-100, 2011), (0, 2019)]"
      ]
     },
     "execution_count": 15,
     "metadata": {},
     "output_type": "execute_result"
    }
   ],
   "source": [
    "%%sql\n",
    "SELECT cute AS cuteness,\n",
    "       year AS birth \n",
    "FROM Dragon;"
   ]
  },
  {
   "cell_type": "code",
   "execution_count": 16,
   "id": "2a28705b-7d0d-4252-b544-346194d2eea0",
   "metadata": {},
   "outputs": [
    {
     "name": "stdout",
     "output_type": "stream",
     "text": [
      " * sqlite:///data/basic_examples.db\n",
      "Done.\n"
     ]
    },
    {
     "data": {
      "text/html": [
       "<table>\n",
       "    <tr>\n",
       "        <th>name</th>\n",
       "        <th>year</th>\n",
       "    </tr>\n",
       "    <tr>\n",
       "        <td>hiccup</td>\n",
       "        <td>2010</td>\n",
       "    </tr>\n",
       "</table>"
      ],
      "text/plain": [
       "[('hiccup', 2010)]"
      ]
     },
     "execution_count": 16,
     "metadata": {},
     "output_type": "execute_result"
    }
   ],
   "source": [
    "%%sql\n",
    "SELECT name, year\n",
    "FROM Dragon\n",
    "WHERE cute > 0;"
   ]
  },
  {
   "cell_type": "code",
   "execution_count": 17,
   "id": "b8a3e2ce-9be3-41fa-8fcb-02b63095d269",
   "metadata": {},
   "outputs": [
    {
     "name": "stdout",
     "output_type": "stream",
     "text": [
      " * sqlite:///data/basic_examples.db\n",
      "Done.\n"
     ]
    },
    {
     "data": {
      "text/html": [
       "<table>\n",
       "    <tr>\n",
       "        <th>name</th>\n",
       "        <th>cute</th>\n",
       "        <th>year</th>\n",
       "    </tr>\n",
       "    <tr>\n",
       "        <td>hiccup</td>\n",
       "        <td>10</td>\n",
       "        <td>2010</td>\n",
       "    </tr>\n",
       "    <tr>\n",
       "        <td>dragon 2</td>\n",
       "        <td>0</td>\n",
       "        <td>2019</td>\n",
       "    </tr>\n",
       "</table>"
      ],
      "text/plain": [
       "[('hiccup', 10, 2010), ('dragon 2', 0, 2019)]"
      ]
     },
     "execution_count": 17,
     "metadata": {},
     "output_type": "execute_result"
    }
   ],
   "source": [
    "%%sql\n",
    "SELECT name, cute, year\n",
    "FROM Dragon\n",
    "WHERE cute > 0 OR year > 2015;"
   ]
  },
  {
   "cell_type": "code",
   "execution_count": 18,
   "id": "e92fcdcb-7b45-486c-a1f7-8d6c7e25413c",
   "metadata": {},
   "outputs": [
    {
     "name": "stdout",
     "output_type": "stream",
     "text": [
      " * sqlite:///data/basic_examples.db\n",
      "Done.\n"
     ]
    },
    {
     "data": {
      "text/html": [
       "<table>\n",
       "    <tr>\n",
       "        <th>name</th>\n",
       "        <th>year</th>\n",
       "        <th>cute</th>\n",
       "    </tr>\n",
       "    <tr>\n",
       "        <td>hiccup</td>\n",
       "        <td>2010</td>\n",
       "        <td>10</td>\n",
       "    </tr>\n",
       "    <tr>\n",
       "        <td>dragon 2</td>\n",
       "        <td>2019</td>\n",
       "        <td>0</td>\n",
       "    </tr>\n",
       "    <tr>\n",
       "        <td>drogon</td>\n",
       "        <td>2011</td>\n",
       "        <td>-100</td>\n",
       "    </tr>\n",
       "</table>"
      ],
      "text/plain": [
       "[('hiccup', 2010, 10), ('dragon 2', 2019, 0), ('drogon', 2011, -100)]"
      ]
     },
     "execution_count": 18,
     "metadata": {},
     "output_type": "execute_result"
    }
   ],
   "source": [
    "%%sql\n",
    "SELECT *\n",
    "FROM Dragon\n",
    "ORDER BY cute DESC;"
   ]
  },
  {
   "cell_type": "code",
   "execution_count": 19,
   "id": "afc34d86-ab22-4b0b-aad2-959247fe2494",
   "metadata": {},
   "outputs": [
    {
     "name": "stdout",
     "output_type": "stream",
     "text": [
      " * sqlite:///data/basic_examples.db\n",
      "Done.\n"
     ]
    },
    {
     "data": {
      "text/html": [
       "<table>\n",
       "    <tr>\n",
       "        <th>name</th>\n",
       "        <th>year</th>\n",
       "        <th>cute</th>\n",
       "    </tr>\n",
       "    <tr>\n",
       "        <td>hiccup</td>\n",
       "        <td>2010</td>\n",
       "        <td>10</td>\n",
       "    </tr>\n",
       "    <tr>\n",
       "        <td>drogon</td>\n",
       "        <td>2011</td>\n",
       "        <td>-100</td>\n",
       "    </tr>\n",
       "</table>"
      ],
      "text/plain": [
       "[('hiccup', 2010, 10), ('drogon', 2011, -100)]"
      ]
     },
     "execution_count": 19,
     "metadata": {},
     "output_type": "execute_result"
    }
   ],
   "source": [
    "%%sql\n",
    "SELECT *\n",
    "FROM Dragon\n",
    "LIMIT 2;"
   ]
  },
  {
   "cell_type": "code",
   "execution_count": 20,
   "id": "80802839-9169-4768-b2b1-49368ded674b",
   "metadata": {},
   "outputs": [
    {
     "name": "stdout",
     "output_type": "stream",
     "text": [
      " * sqlite:///data/basic_examples.db\n",
      "Done.\n"
     ]
    },
    {
     "data": {
      "text/html": [
       "<table>\n",
       "    <tr>\n",
       "        <th>name</th>\n",
       "        <th>year</th>\n",
       "        <th>cute</th>\n",
       "    </tr>\n",
       "    <tr>\n",
       "        <td>drogon</td>\n",
       "        <td>2011</td>\n",
       "        <td>-100</td>\n",
       "    </tr>\n",
       "    <tr>\n",
       "        <td>dragon 2</td>\n",
       "        <td>2019</td>\n",
       "        <td>0</td>\n",
       "    </tr>\n",
       "</table>"
      ],
      "text/plain": [
       "[('drogon', 2011, -100), ('dragon 2', 2019, 0)]"
      ]
     },
     "execution_count": 20,
     "metadata": {},
     "output_type": "execute_result"
    }
   ],
   "source": [
    "%%sql\n",
    "SELECT *\n",
    "FROM Dragon\n",
    "LIMIT 2\n",
    "OFFSET 1;"
   ]
  },
  {
   "cell_type": "markdown",
   "id": "62f0b944-eead-44e7-8c3c-35a2326cbe01",
   "metadata": {},
   "source": [
    "## GROUP BY operations"
   ]
  },
  {
   "cell_type": "code",
   "execution_count": 21,
   "id": "660cd78d-7639-4875-aa3e-7a840d0d37a4",
   "metadata": {},
   "outputs": [
    {
     "name": "stdout",
     "output_type": "stream",
     "text": [
      " * sqlite:///data/basic_examples.db\n",
      "Done.\n"
     ]
    },
    {
     "data": {
      "text/html": [
       "<table>\n",
       "    <tr>\n",
       "        <th>name</th>\n",
       "        <th>type</th>\n",
       "        <th>cost</th>\n",
       "    </tr>\n",
       "    <tr>\n",
       "        <td>ravioli</td>\n",
       "        <td>entree</td>\n",
       "        <td>10</td>\n",
       "    </tr>\n",
       "    <tr>\n",
       "        <td>ramen</td>\n",
       "        <td>entree</td>\n",
       "        <td>13</td>\n",
       "    </tr>\n",
       "    <tr>\n",
       "        <td>taco</td>\n",
       "        <td>entree</td>\n",
       "        <td>7</td>\n",
       "    </tr>\n",
       "    <tr>\n",
       "        <td>edamame</td>\n",
       "        <td>appetizer</td>\n",
       "        <td>4</td>\n",
       "    </tr>\n",
       "    <tr>\n",
       "        <td>fries</td>\n",
       "        <td>appetizer</td>\n",
       "        <td>4</td>\n",
       "    </tr>\n",
       "    <tr>\n",
       "        <td>potsticker</td>\n",
       "        <td>appetizer</td>\n",
       "        <td>4</td>\n",
       "    </tr>\n",
       "    <tr>\n",
       "        <td>ice cream</td>\n",
       "        <td>dessert</td>\n",
       "        <td>5</td>\n",
       "    </tr>\n",
       "</table>"
      ],
      "text/plain": [
       "[('ravioli', 'entree', 10),\n",
       " ('ramen', 'entree', 13),\n",
       " ('taco', 'entree', 7),\n",
       " ('edamame', 'appetizer', 4),\n",
       " ('fries', 'appetizer', 4),\n",
       " ('potsticker', 'appetizer', 4),\n",
       " ('ice cream', 'dessert', 5)]"
      ]
     },
     "execution_count": 21,
     "metadata": {},
     "output_type": "execute_result"
    }
   ],
   "source": [
    "%%sql\n",
    "SELECT *\n",
    "FROM Dish;"
   ]
  },
  {
   "cell_type": "code",
   "execution_count": 22,
   "id": "b8fdab3a-0f93-4e39-b344-3a5068ae228b",
   "metadata": {},
   "outputs": [
    {
     "name": "stdout",
     "output_type": "stream",
     "text": [
      " * sqlite:///data/basic_examples.db\n",
      "Done.\n"
     ]
    },
    {
     "data": {
      "text/html": [
       "<table>\n",
       "    <tr>\n",
       "        <th>type</th>\n",
       "    </tr>\n",
       "    <tr>\n",
       "        <td>entree</td>\n",
       "    </tr>\n",
       "    <tr>\n",
       "        <td>entree</td>\n",
       "    </tr>\n",
       "    <tr>\n",
       "        <td>entree</td>\n",
       "    </tr>\n",
       "    <tr>\n",
       "        <td>appetizer</td>\n",
       "    </tr>\n",
       "    <tr>\n",
       "        <td>appetizer</td>\n",
       "    </tr>\n",
       "    <tr>\n",
       "        <td>appetizer</td>\n",
       "    </tr>\n",
       "    <tr>\n",
       "        <td>dessert</td>\n",
       "    </tr>\n",
       "</table>"
      ],
      "text/plain": [
       "[('entree',),\n",
       " ('entree',),\n",
       " ('entree',),\n",
       " ('appetizer',),\n",
       " ('appetizer',),\n",
       " ('appetizer',),\n",
       " ('dessert',)]"
      ]
     },
     "execution_count": 22,
     "metadata": {},
     "output_type": "execute_result"
    }
   ],
   "source": [
    "%%sql\n",
    "SELECT type\n",
    "FROM Dish;"
   ]
  },
  {
   "cell_type": "code",
   "execution_count": 23,
   "id": "6369bcf3-c7ae-46e3-8b63-c6adfd6e9611",
   "metadata": {},
   "outputs": [
    {
     "name": "stdout",
     "output_type": "stream",
     "text": [
      " * sqlite:///data/basic_examples.db\n",
      "Done.\n"
     ]
    },
    {
     "data": {
      "text/html": [
       "<table>\n",
       "    <tr>\n",
       "        <th>type</th>\n",
       "    </tr>\n",
       "    <tr>\n",
       "        <td>appetizer</td>\n",
       "    </tr>\n",
       "    <tr>\n",
       "        <td>dessert</td>\n",
       "    </tr>\n",
       "    <tr>\n",
       "        <td>entree</td>\n",
       "    </tr>\n",
       "</table>"
      ],
      "text/plain": [
       "[('appetizer',), ('dessert',), ('entree',)]"
      ]
     },
     "execution_count": 23,
     "metadata": {},
     "output_type": "execute_result"
    }
   ],
   "source": [
    "%%sql\n",
    "SELECT type\n",
    "FROM Dish\n",
    "GROUP BY type;"
   ]
  },
  {
   "cell_type": "code",
   "execution_count": 24,
   "id": "50792e27-c504-43a3-9e65-a1f2aa891828",
   "metadata": {},
   "outputs": [
    {
     "name": "stdout",
     "output_type": "stream",
     "text": [
      " * sqlite:///data/basic_examples.db\n",
      "Done.\n"
     ]
    },
    {
     "data": {
      "text/html": [
       "<table>\n",
       "    <tr>\n",
       "        <th>type</th>\n",
       "        <th>MAX(cost)</th>\n",
       "    </tr>\n",
       "    <tr>\n",
       "        <td>appetizer</td>\n",
       "        <td>4</td>\n",
       "    </tr>\n",
       "    <tr>\n",
       "        <td>dessert</td>\n",
       "        <td>5</td>\n",
       "    </tr>\n",
       "    <tr>\n",
       "        <td>entree</td>\n",
       "        <td>13</td>\n",
       "    </tr>\n",
       "</table>"
      ],
      "text/plain": [
       "[('appetizer', 4), ('dessert', 5), ('entree', 13)]"
      ]
     },
     "execution_count": 24,
     "metadata": {},
     "output_type": "execute_result"
    }
   ],
   "source": [
    "%%sql\n",
    "SELECT type, MAX(cost)\n",
    "FROM Dish\n",
    "GROUP BY type;"
   ]
  },
  {
   "cell_type": "code",
   "execution_count": 25,
   "id": "cd7495a5-0008-49ba-abb7-4e9da953f5a6",
   "metadata": {},
   "outputs": [
    {
     "name": "stdout",
     "output_type": "stream",
     "text": [
      " * sqlite:///data/basic_examples.db\n",
      "Done.\n"
     ]
    },
    {
     "data": {
      "text/html": [
       "<table>\n",
       "    <tr>\n",
       "        <th>type</th>\n",
       "        <th>SUM(cost)</th>\n",
       "        <th>MIN(cost)</th>\n",
       "        <th>MAX(name)</th>\n",
       "    </tr>\n",
       "    <tr>\n",
       "        <td>appetizer</td>\n",
       "        <td>12</td>\n",
       "        <td>4</td>\n",
       "        <td>potsticker</td>\n",
       "    </tr>\n",
       "    <tr>\n",
       "        <td>dessert</td>\n",
       "        <td>5</td>\n",
       "        <td>5</td>\n",
       "        <td>ice cream</td>\n",
       "    </tr>\n",
       "    <tr>\n",
       "        <td>entree</td>\n",
       "        <td>30</td>\n",
       "        <td>7</td>\n",
       "        <td>taco</td>\n",
       "    </tr>\n",
       "</table>"
      ],
      "text/plain": [
       "[('appetizer', 12, 4, 'potsticker'),\n",
       " ('dessert', 5, 5, 'ice cream'),\n",
       " ('entree', 30, 7, 'taco')]"
      ]
     },
     "execution_count": 25,
     "metadata": {},
     "output_type": "execute_result"
    }
   ],
   "source": [
    "%%sql\n",
    "SELECT type, \n",
    "       SUM(cost), \n",
    "       MIN(cost),\n",
    "       MAX(name)\n",
    "FROM Dish\n",
    "GROUP BY type;"
   ]
  },
  {
   "cell_type": "markdown",
   "id": "e83745a8-25df-4af3-9f87-4c18e6c05634",
   "metadata": {
    "tags": []
   },
   "source": [
    "## Trickier GROUP BY"
   ]
  },
  {
   "cell_type": "code",
   "execution_count": 26,
   "id": "1407feff-4c68-4d26-a72c-dfb4e5a03603",
   "metadata": {},
   "outputs": [
    {
     "name": "stdout",
     "output_type": "stream",
     "text": [
      " * sqlite:///data/basic_examples.db\n",
      "Done.\n"
     ]
    },
    {
     "data": {
      "text/html": [
       "<table>\n",
       "    <tr>\n",
       "        <th>type</th>\n",
       "        <th>COUNT(cost)</th>\n",
       "    </tr>\n",
       "    <tr>\n",
       "        <td>appetizer</td>\n",
       "        <td>3</td>\n",
       "    </tr>\n",
       "    <tr>\n",
       "        <td>dessert</td>\n",
       "        <td>1</td>\n",
       "    </tr>\n",
       "    <tr>\n",
       "        <td>entree</td>\n",
       "        <td>3</td>\n",
       "    </tr>\n",
       "</table>"
      ],
      "text/plain": [
       "[('appetizer', 3), ('dessert', 1), ('entree', 3)]"
      ]
     },
     "execution_count": 26,
     "metadata": {},
     "output_type": "execute_result"
    }
   ],
   "source": [
    "%%sql\n",
    "SELECT type, COUNT(cost)\n",
    "FROM Dish\n",
    "GROUP BY type;"
   ]
  },
  {
   "cell_type": "code",
   "execution_count": 27,
   "id": "7f1460e5-ccb1-448c-bcde-cc32081e6741",
   "metadata": {},
   "outputs": [
    {
     "name": "stdout",
     "output_type": "stream",
     "text": [
      " * sqlite:///data/basic_examples.db\n",
      "Done.\n"
     ]
    },
    {
     "data": {
      "text/html": [
       "<table>\n",
       "    <tr>\n",
       "        <th>type</th>\n",
       "        <th>COUNT(cost)</th>\n",
       "    </tr>\n",
       "    <tr>\n",
       "        <td>appetizer</td>\n",
       "        <td>3</td>\n",
       "    </tr>\n",
       "    <tr>\n",
       "        <td>dessert</td>\n",
       "        <td>1</td>\n",
       "    </tr>\n",
       "    <tr>\n",
       "        <td>entree</td>\n",
       "        <td>3</td>\n",
       "    </tr>\n",
       "</table>"
      ],
      "text/plain": [
       "[('appetizer', 3), ('dessert', 1), ('entree', 3)]"
      ]
     },
     "execution_count": 27,
     "metadata": {},
     "output_type": "execute_result"
    }
   ],
   "source": [
    "%%sql\n",
    "SELECT type, COUNT(cost)\n",
    "FROM Dish\n",
    "GROUP BY type;"
   ]
  },
  {
   "cell_type": "code",
   "execution_count": 28,
   "id": "1e7bdea2-a922-40f1-b28c-42f27bf1e9ba",
   "metadata": {},
   "outputs": [
    {
     "name": "stdout",
     "output_type": "stream",
     "text": [
      " * sqlite:///data/basic_examples.db\n",
      "Done.\n"
     ]
    },
    {
     "data": {
      "text/html": [
       "<table>\n",
       "    <tr>\n",
       "        <th>type</th>\n",
       "        <th>COUNT(*)</th>\n",
       "    </tr>\n",
       "    <tr>\n",
       "        <td>appetizer</td>\n",
       "        <td>3</td>\n",
       "    </tr>\n",
       "    <tr>\n",
       "        <td>dessert</td>\n",
       "        <td>1</td>\n",
       "    </tr>\n",
       "    <tr>\n",
       "        <td>entree</td>\n",
       "        <td>3</td>\n",
       "    </tr>\n",
       "</table>"
      ],
      "text/plain": [
       "[('appetizer', 3), ('dessert', 1), ('entree', 3)]"
      ]
     },
     "execution_count": 28,
     "metadata": {},
     "output_type": "execute_result"
    }
   ],
   "source": [
    "%%sql\n",
    "SELECT type, COUNT(*)\n",
    "FROM Dish\n",
    "GROUP BY type;"
   ]
  },
  {
   "cell_type": "code",
   "execution_count": 29,
   "id": "fefff59d-237b-4b0b-bf87-834e97c9099d",
   "metadata": {},
   "outputs": [
    {
     "name": "stdout",
     "output_type": "stream",
     "text": [
      " * sqlite:///data/basic_examples.db\n",
      "Done.\n"
     ]
    },
    {
     "data": {
      "text/html": [
       "<table>\n",
       "    <tr>\n",
       "        <th>type</th>\n",
       "        <th>cost</th>\n",
       "    </tr>\n",
       "    <tr>\n",
       "        <td>appetizer</td>\n",
       "        <td>4</td>\n",
       "    </tr>\n",
       "    <tr>\n",
       "        <td>dessert</td>\n",
       "        <td>5</td>\n",
       "    </tr>\n",
       "    <tr>\n",
       "        <td>entree</td>\n",
       "        <td>7</td>\n",
       "    </tr>\n",
       "    <tr>\n",
       "        <td>entree</td>\n",
       "        <td>10</td>\n",
       "    </tr>\n",
       "    <tr>\n",
       "        <td>entree</td>\n",
       "        <td>13</td>\n",
       "    </tr>\n",
       "</table>"
      ],
      "text/plain": [
       "[('appetizer', 4),\n",
       " ('dessert', 5),\n",
       " ('entree', 7),\n",
       " ('entree', 10),\n",
       " ('entree', 13)]"
      ]
     },
     "execution_count": 29,
     "metadata": {},
     "output_type": "execute_result"
    }
   ],
   "source": [
    "%%sql\n",
    "SELECT type, cost\n",
    "FROM Dish\n",
    "GROUP BY type, cost;"
   ]
  },
  {
   "cell_type": "markdown",
   "id": "a1b8d599-62ae-4cdd-96cb-1aa26ea281f0",
   "metadata": {
    "tags": []
   },
   "source": [
    "## Exercise: GROUP BY Multiple Columns"
   ]
  },
  {
   "cell_type": "code",
   "execution_count": 30,
   "id": "ab5a9b22-cfb5-4827-8334-0fd6a4376b84",
   "metadata": {},
   "outputs": [
    {
     "name": "stdout",
     "output_type": "stream",
     "text": [
      "The sql extension is already loaded. To reload it, use:\n",
      "  %reload_ext sql\n"
     ]
    }
   ],
   "source": [
    "%load_ext sql"
   ]
  },
  {
   "cell_type": "code",
   "execution_count": 31,
   "id": "9c046692-7cb9-4e1b-81f8-7ea6df108c47",
   "metadata": {},
   "outputs": [],
   "source": [
    "%%sql\n",
    "sqlite:///data/basic_examples.db"
   ]
  },
  {
   "cell_type": "code",
   "execution_count": 32,
   "id": "ed0676b6-9d5f-4323-b224-31d0292829a7",
   "metadata": {},
   "outputs": [
    {
     "name": "stdout",
     "output_type": "stream",
     "text": [
      " * sqlite:///data/basic_examples.db\n",
      "(sqlite3.OperationalError) aggregate functions are not allowed in the GROUP BY clause\n",
      "[SQL: -- A --\n",
      "SELECT type, cost\n",
      "FROM Dish\n",
      "GROUP BY type, cost, COUNT(*);]\n",
      "(Background on this error at: https://sqlalche.me/e/14/e3q8)\n"
     ]
    }
   ],
   "source": [
    "%%sql\n",
    "-- A --\n",
    "SELECT type, cost\n",
    "FROM Dish\n",
    "GROUP BY type, cost, COUNT(*);"
   ]
  },
  {
   "cell_type": "code",
   "execution_count": 33,
   "id": "314da98f-9be1-4ced-8842-b9321654993a",
   "metadata": {},
   "outputs": [
    {
     "name": "stdout",
     "output_type": "stream",
     "text": [
      " * sqlite:///data/basic_examples.db\n",
      "Done.\n"
     ]
    },
    {
     "data": {
      "text/html": [
       "<table>\n",
       "    <tr>\n",
       "        <th>type</th>\n",
       "        <th>cost</th>\n",
       "        <th>COUNT(*)</th>\n",
       "    </tr>\n",
       "    <tr>\n",
       "        <td>appetizer</td>\n",
       "        <td>4</td>\n",
       "        <td>3</td>\n",
       "    </tr>\n",
       "    <tr>\n",
       "        <td>dessert</td>\n",
       "        <td>5</td>\n",
       "        <td>1</td>\n",
       "    </tr>\n",
       "    <tr>\n",
       "        <td>entree</td>\n",
       "        <td>7</td>\n",
       "        <td>1</td>\n",
       "    </tr>\n",
       "    <tr>\n",
       "        <td>entree</td>\n",
       "        <td>10</td>\n",
       "        <td>1</td>\n",
       "    </tr>\n",
       "    <tr>\n",
       "        <td>entree</td>\n",
       "        <td>13</td>\n",
       "        <td>1</td>\n",
       "    </tr>\n",
       "</table>"
      ],
      "text/plain": [
       "[('appetizer', 4, 3),\n",
       " ('dessert', 5, 1),\n",
       " ('entree', 7, 1),\n",
       " ('entree', 10, 1),\n",
       " ('entree', 13, 1)]"
      ]
     },
     "execution_count": 33,
     "metadata": {},
     "output_type": "execute_result"
    }
   ],
   "source": [
    "%%sql\n",
    "-- B --\n",
    "SELECT type, cost, COUNT(*)\n",
    "FROM Dish\n",
    "GROUP BY type, cost;"
   ]
  },
  {
   "cell_type": "code",
   "execution_count": 34,
   "id": "4327b690-5de7-47b7-8b9e-538f957641c6",
   "metadata": {},
   "outputs": [
    {
     "name": "stdout",
     "output_type": "stream",
     "text": [
      " * sqlite:///data/basic_examples.db\n",
      "Done.\n"
     ]
    },
    {
     "data": {
      "text/html": [
       "<table>\n",
       "    <tr>\n",
       "        <th>type</th>\n",
       "        <th>cost</th>\n",
       "        <th>size</th>\n",
       "    </tr>\n",
       "    <tr>\n",
       "        <td>appetizer</td>\n",
       "        <td>4</td>\n",
       "        <td>3</td>\n",
       "    </tr>\n",
       "    <tr>\n",
       "        <td>dessert</td>\n",
       "        <td>5</td>\n",
       "        <td>1</td>\n",
       "    </tr>\n",
       "    <tr>\n",
       "        <td>entree</td>\n",
       "        <td>7</td>\n",
       "        <td>1</td>\n",
       "    </tr>\n",
       "    <tr>\n",
       "        <td>entree</td>\n",
       "        <td>10</td>\n",
       "        <td>1</td>\n",
       "    </tr>\n",
       "    <tr>\n",
       "        <td>entree</td>\n",
       "        <td>13</td>\n",
       "        <td>1</td>\n",
       "    </tr>\n",
       "</table>"
      ],
      "text/plain": [
       "[('appetizer', 4, 3),\n",
       " ('dessert', 5, 1),\n",
       " ('entree', 7, 1),\n",
       " ('entree', 10, 1),\n",
       " ('entree', 13, 1)]"
      ]
     },
     "execution_count": 34,
     "metadata": {},
     "output_type": "execute_result"
    }
   ],
   "source": [
    "%%sql\n",
    "SELECT type, cost, COUNT(*) as size\n",
    "FROM Dish\n",
    "GROUP BY type, cost;"
   ]
  },
  {
   "cell_type": "markdown",
   "id": "c250c67f-3d88-40f7-9ea1-a29927e24dce",
   "metadata": {},
   "source": [
    "Remember you can rename columns if you want, so instead of seeing a column named `COUNT(*)`, we get something more descriptive:"
   ]
  },
  {
   "cell_type": "code",
   "execution_count": 35,
   "id": "73b19ba1",
   "metadata": {},
   "outputs": [
    {
     "name": "stdout",
     "output_type": "stream",
     "text": [
      " * sqlite:///data/basic_examples.db\n",
      "Done.\n"
     ]
    },
    {
     "data": {
      "text/html": [
       "<table>\n",
       "    <tr>\n",
       "        <th>type</th>\n",
       "        <th>cost</th>\n",
       "        <th>size</th>\n",
       "    </tr>\n",
       "    <tr>\n",
       "        <td>appetizer</td>\n",
       "        <td>4</td>\n",
       "        <td>3</td>\n",
       "    </tr>\n",
       "    <tr>\n",
       "        <td>dessert</td>\n",
       "        <td>5</td>\n",
       "        <td>1</td>\n",
       "    </tr>\n",
       "    <tr>\n",
       "        <td>entree</td>\n",
       "        <td>7</td>\n",
       "        <td>1</td>\n",
       "    </tr>\n",
       "    <tr>\n",
       "        <td>entree</td>\n",
       "        <td>10</td>\n",
       "        <td>1</td>\n",
       "    </tr>\n",
       "    <tr>\n",
       "        <td>entree</td>\n",
       "        <td>13</td>\n",
       "        <td>1</td>\n",
       "    </tr>\n",
       "</table>"
      ],
      "text/plain": [
       "[('appetizer', 4, 3),\n",
       " ('dessert', 5, 1),\n",
       " ('entree', 7, 1),\n",
       " ('entree', 10, 1),\n",
       " ('entree', 13, 1)]"
      ]
     },
     "execution_count": 35,
     "metadata": {},
     "output_type": "execute_result"
    }
   ],
   "source": [
    "%%sql\n",
    "SELECT type, cost, COUNT(*) as size\n",
    "FROM Dish\n",
    "GROUP BY type, cost;"
   ]
  },
  {
   "cell_type": "code",
   "execution_count": 36,
   "id": "148a6cc8-5e05-41dd-8edf-af5fa9bdf416",
   "metadata": {},
   "outputs": [
    {
     "name": "stdout",
     "output_type": "stream",
     "text": [
      " * sqlite:///data/basic_examples.db\n",
      "Done.\n"
     ]
    },
    {
     "data": {
      "text/html": [
       "<table>\n",
       "    <tr>\n",
       "        <th>type</th>\n",
       "        <th>COUNT(*)</th>\n",
       "    </tr>\n",
       "    <tr>\n",
       "        <td>appetizer</td>\n",
       "        <td>3</td>\n",
       "    </tr>\n",
       "    <tr>\n",
       "        <td>dessert</td>\n",
       "        <td>1</td>\n",
       "    </tr>\n",
       "    <tr>\n",
       "        <td>entree</td>\n",
       "        <td>3</td>\n",
       "    </tr>\n",
       "</table>"
      ],
      "text/plain": [
       "[('appetizer', 3), ('dessert', 1), ('entree', 3)]"
      ]
     },
     "execution_count": 36,
     "metadata": {},
     "output_type": "execute_result"
    }
   ],
   "source": [
    "%%sql\n",
    "SELECT type, COUNT(*)\n",
    "FROM Dish\n",
    "GROUP BY type;"
   ]
  },
  {
   "cell_type": "code",
   "execution_count": 37,
   "id": "b9639502-ebb7-4a4b-9944-146a59373658",
   "metadata": {},
   "outputs": [
    {
     "name": "stdout",
     "output_type": "stream",
     "text": [
      " * sqlite:///data/basic_examples.db\n",
      "Done.\n"
     ]
    },
    {
     "data": {
      "text/html": [
       "<table>\n",
       "    <tr>\n",
       "        <th>type</th>\n",
       "        <th>COUNT(*)</th>\n",
       "    </tr>\n",
       "    <tr>\n",
       "        <td>appetizer</td>\n",
       "        <td>3</td>\n",
       "    </tr>\n",
       "    <tr>\n",
       "        <td>dessert</td>\n",
       "        <td>1</td>\n",
       "    </tr>\n",
       "</table>"
      ],
      "text/plain": [
       "[('appetizer', 3), ('dessert', 1)]"
      ]
     },
     "execution_count": 37,
     "metadata": {},
     "output_type": "execute_result"
    }
   ],
   "source": [
    "%%sql\n",
    "SELECT type, COUNT(*)\n",
    "FROM Dish\n",
    "GROUP BY type\n",
    "HAVING MAX(cost) < 8"
   ]
  },
  {
   "cell_type": "code",
   "execution_count": 38,
   "id": "c31bba82-bf75-433b-8e52-9c61dc7c4144",
   "metadata": {},
   "outputs": [
    {
     "name": "stdout",
     "output_type": "stream",
     "text": [
      " * sqlite:///data/basic_examples.db\n",
      "Done.\n"
     ]
    },
    {
     "data": {
      "text/html": [
       "<table>\n",
       "    <tr>\n",
       "        <th>type</th>\n",
       "        <th>COUNT(*)</th>\n",
       "    </tr>\n",
       "    <tr>\n",
       "        <td>appetizer</td>\n",
       "        <td>3</td>\n",
       "    </tr>\n",
       "    <tr>\n",
       "        <td>dessert</td>\n",
       "        <td>1</td>\n",
       "    </tr>\n",
       "    <tr>\n",
       "        <td>entree</td>\n",
       "        <td>1</td>\n",
       "    </tr>\n",
       "</table>"
      ],
      "text/plain": [
       "[('appetizer', 3), ('dessert', 1), ('entree', 1)]"
      ]
     },
     "execution_count": 38,
     "metadata": {},
     "output_type": "execute_result"
    }
   ],
   "source": [
    "%%sql\n",
    "SELECT type, COUNT(*)\n",
    "FROM Dish\n",
    "WHERE cost < 8\n",
    "GROUP BY type;"
   ]
  },
  {
   "cell_type": "markdown",
   "id": "e767616e-1087-43b6-a6c2-556e109f0237",
   "metadata": {},
   "source": [
    "## DISTINCT"
   ]
  },
  {
   "cell_type": "code",
   "execution_count": 39,
   "id": "a72b2386-2a83-48f4-8709-961869ba968e",
   "metadata": {},
   "outputs": [
    {
     "name": "stdout",
     "output_type": "stream",
     "text": [
      " * sqlite:///data/basic_examples.db\n",
      "Done.\n"
     ]
    },
    {
     "data": {
      "text/html": [
       "<table>\n",
       "    <tr>\n",
       "        <th>cost</th>\n",
       "    </tr>\n",
       "    <tr>\n",
       "        <td>10</td>\n",
       "    </tr>\n",
       "    <tr>\n",
       "        <td>13</td>\n",
       "    </tr>\n",
       "    <tr>\n",
       "        <td>7</td>\n",
       "    </tr>\n",
       "    <tr>\n",
       "        <td>4</td>\n",
       "    </tr>\n",
       "    <tr>\n",
       "        <td>5</td>\n",
       "    </tr>\n",
       "</table>"
      ],
      "text/plain": [
       "[(10,), (13,), (7,), (4,), (5,)]"
      ]
     },
     "execution_count": 39,
     "metadata": {},
     "output_type": "execute_result"
    }
   ],
   "source": [
    "%%sql\n",
    "SELECT DISTINCT cost\n",
    "FROM Dish;"
   ]
  },
  {
   "cell_type": "code",
   "execution_count": 40,
   "id": "905b30fa-10bc-48fe-baf4-9c73db0db7ee",
   "metadata": {},
   "outputs": [
    {
     "name": "stdout",
     "output_type": "stream",
     "text": [
      " * sqlite:///data/basic_examples.db\n",
      "Done.\n"
     ]
    },
    {
     "data": {
      "text/html": [
       "<table>\n",
       "    <tr>\n",
       "        <th>type</th>\n",
       "    </tr>\n",
       "    <tr>\n",
       "        <td>entree</td>\n",
       "    </tr>\n",
       "    <tr>\n",
       "        <td>appetizer</td>\n",
       "    </tr>\n",
       "    <tr>\n",
       "        <td>dessert</td>\n",
       "    </tr>\n",
       "</table>"
      ],
      "text/plain": [
       "[('entree',), ('appetizer',), ('dessert',)]"
      ]
     },
     "execution_count": 40,
     "metadata": {},
     "output_type": "execute_result"
    }
   ],
   "source": [
    "%%sql\n",
    "SELECT DISTINCT type \n",
    "FROM Dish\n",
    "WHERE cost < 11;"
   ]
  },
  {
   "cell_type": "code",
   "execution_count": 41,
   "id": "18404330-26ef-4391-b897-d3e9323821b4",
   "metadata": {},
   "outputs": [
    {
     "name": "stdout",
     "output_type": "stream",
     "text": [
      " * sqlite:///data/basic_examples.db\n",
      "Done.\n"
     ]
    },
    {
     "data": {
      "text/html": [
       "<table>\n",
       "    <tr>\n",
       "        <th>type</th>\n",
       "        <th>cost</th>\n",
       "    </tr>\n",
       "    <tr>\n",
       "        <td>entree</td>\n",
       "        <td>10</td>\n",
       "    </tr>\n",
       "    <tr>\n",
       "        <td>entree</td>\n",
       "        <td>7</td>\n",
       "    </tr>\n",
       "    <tr>\n",
       "        <td>appetizer</td>\n",
       "        <td>4</td>\n",
       "    </tr>\n",
       "    <tr>\n",
       "        <td>dessert</td>\n",
       "        <td>5</td>\n",
       "    </tr>\n",
       "</table>"
      ],
      "text/plain": [
       "[('entree', 10), ('entree', 7), ('appetizer', 4), ('dessert', 5)]"
      ]
     },
     "execution_count": 41,
     "metadata": {},
     "output_type": "execute_result"
    }
   ],
   "source": [
    "%%sql\n",
    "SELECT DISTINCT type, cost \n",
    "FROM Dish\n",
    "WHERE cost < 11;"
   ]
  },
  {
   "cell_type": "code",
   "execution_count": 42,
   "id": "45126bc3-f1c8-4b07-97a8-ec61a42c32f1",
   "metadata": {},
   "outputs": [
    {
     "name": "stdout",
     "output_type": "stream",
     "text": [
      " * sqlite:///data/basic_examples.db\n",
      "Done.\n"
     ]
    },
    {
     "data": {
      "text/html": [
       "<table>\n",
       "    <tr>\n",
       "        <th>type</th>\n",
       "        <th>cost</th>\n",
       "    </tr>\n",
       "    <tr>\n",
       "        <td>entree</td>\n",
       "        <td>10</td>\n",
       "    </tr>\n",
       "    <tr>\n",
       "        <td>entree</td>\n",
       "        <td>13</td>\n",
       "    </tr>\n",
       "    <tr>\n",
       "        <td>entree</td>\n",
       "        <td>7</td>\n",
       "    </tr>\n",
       "    <tr>\n",
       "        <td>appetizer</td>\n",
       "        <td>4</td>\n",
       "    </tr>\n",
       "    <tr>\n",
       "        <td>dessert</td>\n",
       "        <td>5</td>\n",
       "    </tr>\n",
       "</table>"
      ],
      "text/plain": [
       "[('entree', 10),\n",
       " ('entree', 13),\n",
       " ('entree', 7),\n",
       " ('appetizer', 4),\n",
       " ('dessert', 5)]"
      ]
     },
     "execution_count": 42,
     "metadata": {},
     "output_type": "execute_result"
    }
   ],
   "source": [
    "%%sql\n",
    "SELECT DISTINCT type, cost \n",
    "FROM Dish;"
   ]
  },
  {
   "cell_type": "code",
   "execution_count": 43,
   "id": "b8294146-f1fb-4cda-81cc-e216c2a33f1f",
   "metadata": {},
   "outputs": [
    {
     "name": "stdout",
     "output_type": "stream",
     "text": [
      " * sqlite:///data/basic_examples.db\n",
      "Done.\n"
     ]
    },
    {
     "data": {
      "text/html": [
       "<table>\n",
       "    <tr>\n",
       "        <th>type</th>\n",
       "        <th>cost</th>\n",
       "    </tr>\n",
       "    <tr>\n",
       "        <td>appetizer</td>\n",
       "        <td>4</td>\n",
       "    </tr>\n",
       "    <tr>\n",
       "        <td>dessert</td>\n",
       "        <td>5</td>\n",
       "    </tr>\n",
       "    <tr>\n",
       "        <td>entree</td>\n",
       "        <td>7</td>\n",
       "    </tr>\n",
       "    <tr>\n",
       "        <td>entree</td>\n",
       "        <td>10</td>\n",
       "    </tr>\n",
       "    <tr>\n",
       "        <td>entree</td>\n",
       "        <td>13</td>\n",
       "    </tr>\n",
       "</table>"
      ],
      "text/plain": [
       "[('appetizer', 4),\n",
       " ('dessert', 5),\n",
       " ('entree', 7),\n",
       " ('entree', 10),\n",
       " ('entree', 13)]"
      ]
     },
     "execution_count": 43,
     "metadata": {},
     "output_type": "execute_result"
    }
   ],
   "source": [
    "%%sql\n",
    "SELECT type, cost\n",
    "FROM Dish\n",
    "GROUP BY type, cost;"
   ]
  },
  {
   "cell_type": "code",
   "execution_count": 44,
   "id": "d0944aaa-a110-4515-8c95-1bab68f901e8",
   "metadata": {},
   "outputs": [
    {
     "name": "stdout",
     "output_type": "stream",
     "text": [
      " * sqlite:///data/basic_examples.db\n",
      "Done.\n"
     ]
    },
    {
     "data": {
      "text/html": [
       "<table>\n",
       "    <tr>\n",
       "        <th>type</th>\n",
       "        <th>AVG(cost)</th>\n",
       "    </tr>\n",
       "    <tr>\n",
       "        <td>appetizer</td>\n",
       "        <td>4.0</td>\n",
       "    </tr>\n",
       "    <tr>\n",
       "        <td>dessert</td>\n",
       "        <td>5.0</td>\n",
       "    </tr>\n",
       "    <tr>\n",
       "        <td>entree</td>\n",
       "        <td>10.0</td>\n",
       "    </tr>\n",
       "</table>"
      ],
      "text/plain": [
       "[('appetizer', 4.0), ('dessert', 5.0), ('entree', 10.0)]"
      ]
     },
     "execution_count": 44,
     "metadata": {},
     "output_type": "execute_result"
    }
   ],
   "source": [
    "%%sql\n",
    "SELECT type, AVG(cost)\n",
    "FROM Dish\n",
    "GROUP BY type;"
   ]
  },
  {
   "cell_type": "code",
   "execution_count": 45,
   "id": "af495338-0f4c-4488-a0ea-3177b8246543",
   "metadata": {},
   "outputs": [
    {
     "name": "stdout",
     "output_type": "stream",
     "text": [
      " * sqlite:///data/basic_examples.db\n",
      "Done.\n"
     ]
    },
    {
     "data": {
      "text/html": [
       "<table>\n",
       "    <tr>\n",
       "        <th>type</th>\n",
       "        <th>AVG(DISTINCT cost)</th>\n",
       "    </tr>\n",
       "    <tr>\n",
       "        <td>appetizer</td>\n",
       "        <td>4.0</td>\n",
       "    </tr>\n",
       "    <tr>\n",
       "        <td>dessert</td>\n",
       "        <td>5.0</td>\n",
       "    </tr>\n",
       "    <tr>\n",
       "        <td>entree</td>\n",
       "        <td>10.0</td>\n",
       "    </tr>\n",
       "</table>"
      ],
      "text/plain": [
       "[('appetizer', 4.0), ('dessert', 5.0), ('entree', 10.0)]"
      ]
     },
     "execution_count": 45,
     "metadata": {},
     "output_type": "execute_result"
    }
   ],
   "source": [
    "%%sql\n",
    "SELECT type, AVG(DISTINCT cost)\n",
    "FROM Dish\n",
    "GROUP BY type;"
   ]
  },
  {
   "cell_type": "markdown",
   "id": "bcd5bd8c-7dfc-4678-9b65-02983491f9eb",
   "metadata": {},
   "source": [
    "## Python-SQL combinations"
   ]
  },
  {
   "cell_type": "code",
   "execution_count": 46,
   "id": "bb8a0a1a-7f6e-40a9-bcfb-a2b1e3072b90",
   "metadata": {},
   "outputs": [
    {
     "name": "stdout",
     "output_type": "stream",
     "text": [
      "The sql extension is already loaded. To reload it, use:\n",
      "  %reload_ext sql\n"
     ]
    }
   ],
   "source": [
    "%load_ext sql"
   ]
  },
  {
   "cell_type": "code",
   "execution_count": 47,
   "id": "9f48e36e-900d-480f-8319-1399f79d1625",
   "metadata": {},
   "outputs": [],
   "source": [
    "# We'll also connect directly to our DB with Pandas later\n",
    "import sqlalchemy\n",
    "import pandas as pd"
   ]
  },
  {
   "cell_type": "code",
   "execution_count": 48,
   "id": "2bd7b3f3-4c8b-453b-920c-281f92b658c7",
   "metadata": {},
   "outputs": [],
   "source": [
    "%%sql\n",
    "sqlite:///data/basic_examples.db"
   ]
  },
  {
   "cell_type": "markdown",
   "id": "67395b6a-e9a5-47ee-9876-e9fd8c183bf6",
   "metadata": {},
   "source": [
    "\n",
    "Using the syntax\n",
    "\n",
    "```python\n",
    "%%sql PYTHON_VARIABLE <<\n",
    "BODY OF QUERY\n",
    "```\n",
    "\n",
    "lets us capture the result of the SQL statement into a Python variable. [The docs provide more details](https://github.com/catherinedevlin/ipython-sql#assignment).\n",
    "\n",
    "For example, let's run the same query above but storing the output into a variable named `drag2`:"
   ]
  },
  {
   "cell_type": "code",
   "execution_count": 49,
   "id": "d7479229-9599-484c-a8a1-047086b17535",
   "metadata": {},
   "outputs": [
    {
     "name": "stdout",
     "output_type": "stream",
     "text": [
      " * sqlite:///data/basic_examples.db\n",
      "Done.\n",
      "Returning data to local variable drag2\n"
     ]
    }
   ],
   "source": [
    "%%sql drag2 << \n",
    "SELECT *\n",
    "FROM Dragon\n",
    "LIMIT 2\n",
    "OFFSET 1;"
   ]
  },
  {
   "cell_type": "markdown",
   "id": "331cbe9e-5bd1-412f-8b04-a0f064a194e6",
   "metadata": {},
   "source": [
    "We can now see this variable and what type it is. While it looks a lot like a data frame, it's not one:"
   ]
  },
  {
   "cell_type": "code",
   "execution_count": 50,
   "id": "f810354c-7fe6-4f63-a068-d3a4cb655871",
   "metadata": {},
   "outputs": [
    {
     "data": {
      "text/html": [
       "<table>\n",
       "    <tr>\n",
       "        <th>name</th>\n",
       "        <th>year</th>\n",
       "        <th>cute</th>\n",
       "    </tr>\n",
       "    <tr>\n",
       "        <td>drogon</td>\n",
       "        <td>2011</td>\n",
       "        <td>-100</td>\n",
       "    </tr>\n",
       "    <tr>\n",
       "        <td>dragon 2</td>\n",
       "        <td>2019</td>\n",
       "        <td>0</td>\n",
       "    </tr>\n",
       "</table>"
      ],
      "text/plain": [
       "[('drogon', 2011, -100), ('dragon 2', 2019, 0)]"
      ]
     },
     "execution_count": 50,
     "metadata": {},
     "output_type": "execute_result"
    }
   ],
   "source": [
    "drag2"
   ]
  },
  {
   "cell_type": "code",
   "execution_count": 51,
   "id": "1b68f9f1-d78d-4adc-8a44-cf053a9486a7",
   "metadata": {},
   "outputs": [
    {
     "data": {
      "text/plain": [
       "sql.run.ResultSet"
      ]
     },
     "execution_count": 51,
     "metadata": {},
     "output_type": "execute_result"
    }
   ],
   "source": [
    "type(drag2)"
   ]
  },
  {
   "cell_type": "markdown",
   "id": "303482d8-3bec-41ea-8725-ff286e179849",
   "metadata": {},
   "source": [
    "## Pandas-SQL interplay\n",
    "\n",
    "First, the above SQL results can be easily converted into true Pandas DataFrames, by calling their `DataFrame` method:"
   ]
  },
  {
   "cell_type": "code",
   "execution_count": 52,
   "id": "88147010-a59f-43ce-bf48-202f05df2dd0",
   "metadata": {},
   "outputs": [
    {
     "data": {
      "text/html": [
       "<div>\n",
       "<style scoped>\n",
       "    .dataframe tbody tr th:only-of-type {\n",
       "        vertical-align: middle;\n",
       "    }\n",
       "\n",
       "    .dataframe tbody tr th {\n",
       "        vertical-align: top;\n",
       "    }\n",
       "\n",
       "    .dataframe thead th {\n",
       "        text-align: right;\n",
       "    }\n",
       "</style>\n",
       "<table border=\"1\" class=\"dataframe\">\n",
       "  <thead>\n",
       "    <tr style=\"text-align: right;\">\n",
       "      <th></th>\n",
       "      <th>name</th>\n",
       "      <th>year</th>\n",
       "      <th>cute</th>\n",
       "    </tr>\n",
       "  </thead>\n",
       "  <tbody>\n",
       "    <tr>\n",
       "      <th>0</th>\n",
       "      <td>drogon</td>\n",
       "      <td>2011</td>\n",
       "      <td>-100</td>\n",
       "    </tr>\n",
       "    <tr>\n",
       "      <th>1</th>\n",
       "      <td>dragon 2</td>\n",
       "      <td>2019</td>\n",
       "      <td>0</td>\n",
       "    </tr>\n",
       "  </tbody>\n",
       "</table>\n",
       "</div>"
      ],
      "text/plain": [
       "       name  year  cute\n",
       "0    drogon  2011  -100\n",
       "1  dragon 2  2019     0"
      ]
     },
     "execution_count": 52,
     "metadata": {},
     "output_type": "execute_result"
    }
   ],
   "source": [
    "drag2.DataFrame()"
   ]
  },
  {
   "cell_type": "markdown",
   "id": "177b6fe6-a6c8-4f6b-aca3-d6a3383b6e9f",
   "metadata": {},
   "source": [
    "But we can also use Pandas to connect to the same database, in pure Python. Sometimes this may be more convenient than using the SQL magic syntax - in the homework you'll practice some of this as well. You should be familiar with both methods, and use the one that best fits your needs."
   ]
  },
  {
   "cell_type": "code",
   "execution_count": 53,
   "id": "e07408d8-a86c-4704-a650-210022a48140",
   "metadata": {},
   "outputs": [],
   "source": [
    "engine = sqlalchemy.create_engine(\"sqlite:///data/lec18_basic_examples.db\")\n",
    "connection = engine.connect()"
   ]
  },
  {
   "cell_type": "code",
   "execution_count": 54,
   "id": "25e95493-86f9-47d1-bb2a-53d21a651883",
   "metadata": {},
   "outputs": [],
   "source": [
    "query = \"\"\"\n",
    "SELECT *\n",
    "FROM Dragon\n",
    "LIMIT 2\n",
    "OFFSET 1;\n",
    "\"\"\""
   ]
  },
  {
   "cell_type": "markdown",
   "id": "c89ecc29-fbf8-4316-94aa-25cc4de5f248",
   "metadata": {},
   "source": [
    "As you can see, both the direct pandas query, and converting `drag2` to a DataFrame, produce identical results (as they should!).\n",
    "\n",
    "Finally, now that we have the `query` variable with the contents of our query, we can use it directly in the SQL magic too! It supports `{var}` syntax (as well as `$var` and will expand the python `var` variable into its value before making the query:"
   ]
  },
  {
   "cell_type": "code",
   "execution_count": 55,
   "id": "415386d8",
   "metadata": {},
   "outputs": [],
   "source": [
    "query = \"\"\"\n",
    "SELECT *\n",
    "FROM Dragon\n",
    "LIMIT 2\n",
    "OFFSET 1;\n",
    "\"\"\""
   ]
  },
  {
   "cell_type": "code",
   "execution_count": 56,
   "id": "a5fbbf27-4b78-4a72-bb78-f736d0466178",
   "metadata": {},
   "outputs": [
    {
     "name": "stdout",
     "output_type": "stream",
     "text": [
      " * sqlite:///data/basic_examples.db\n",
      "Done.\n"
     ]
    },
    {
     "data": {
      "text/html": [
       "<table>\n",
       "    <tr>\n",
       "        <th>name</th>\n",
       "        <th>year</th>\n",
       "        <th>cute</th>\n",
       "    </tr>\n",
       "    <tr>\n",
       "        <td>drogon</td>\n",
       "        <td>2011</td>\n",
       "        <td>-100</td>\n",
       "    </tr>\n",
       "    <tr>\n",
       "        <td>dragon 2</td>\n",
       "        <td>2019</td>\n",
       "        <td>0</td>\n",
       "    </tr>\n",
       "</table>"
      ],
      "text/plain": [
       "[('drogon', 2011, -100), ('dragon 2', 2019, 0)]"
      ]
     },
     "execution_count": 56,
     "metadata": {},
     "output_type": "execute_result"
    }
   ],
   "source": [
    "%%sql\n",
    "$query"
   ]
  },
  {
   "cell_type": "code",
   "execution_count": 57,
   "id": "becc9681",
   "metadata": {},
   "outputs": [
    {
     "name": "stdout",
     "output_type": "stream",
     "text": [
      " * sqlite:///data/basic_examples.db\n",
      "Done.\n"
     ]
    },
    {
     "data": {
      "text/html": [
       "<table>\n",
       "    <tr>\n",
       "        <th>name</th>\n",
       "        <th>year</th>\n",
       "        <th>cute</th>\n",
       "    </tr>\n",
       "    <tr>\n",
       "        <td>drogon</td>\n",
       "        <td>2011</td>\n",
       "        <td>-100</td>\n",
       "    </tr>\n",
       "    <tr>\n",
       "        <td>dragon 2</td>\n",
       "        <td>2019</td>\n",
       "        <td>0</td>\n",
       "    </tr>\n",
       "</table>"
      ],
      "text/plain": [
       "[('drogon', 2011, -100), ('dragon 2', 2019, 0)]"
      ]
     },
     "execution_count": 57,
     "metadata": {},
     "output_type": "execute_result"
    }
   ],
   "source": [
    "%%sql\n",
    "$query"
   ]
  }
 ],
 "metadata": {
  "kernelspec": {
   "display_name": "Python 3 (ipykernel)",
   "language": "python",
   "name": "python3"
  },
  "language_info": {
   "codemirror_mode": {
    "name": "ipython",
    "version": 3
   },
   "file_extension": ".py",
   "mimetype": "text/x-python",
   "name": "python",
   "nbconvert_exporter": "python",
   "pygments_lexer": "ipython3",
   "version": "3.9.0"
  }
 },
 "nbformat": 4,
 "nbformat_minor": 5
}
