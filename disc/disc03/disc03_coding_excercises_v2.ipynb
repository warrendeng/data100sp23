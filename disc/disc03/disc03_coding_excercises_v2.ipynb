{
 "cells": [
  {
   "cell_type": "markdown",
   "id": "298f6eb5",
   "metadata": {},
   "source": [
    "# Discussion 3: EDA + Regex\n",
    "\n",
    "This notebook will simulate the EDA process with a dataset you've seen a million times (`babynames`), giving you an opportunity to practice scouring data for interesting patterns using techniques you're already familiar with (Pandas, regular expressions).\n",
    "\n",
    "Given the `babynames` dataset, you will be first be asked to consider and discuss a variety of factors to obtain some baseline understanding of the dataset (types of column variables, how many observations, granularity or level of each observation, etc.)\n",
    "\n",
    "Once you've obtained a baseline understanding, try the bonus exercises in this notebook the familiarize yourself with doing EDA in a notebook environment."
   ]
  },
  {
   "cell_type": "code",
   "execution_count": null,
   "id": "c31c3d46",
   "metadata": {},
   "outputs": [],
   "source": [
    "import numpy as np\n",
    "import pandas as pd\n",
    "import matplotlib.pyplot as plt\n",
    "import re"
   ]
  },
  {
   "cell_type": "code",
   "execution_count": null,
   "id": "66a00b81",
   "metadata": {},
   "outputs": [],
   "source": [
    "# loading up the California baby names data\n",
    "\n",
    "import urllib.request\n",
    "import os.path\n",
    "import zipfile\n",
    "\n",
    "data_url = \"https://www.ssa.gov/oact/babynames/state/namesbystate.zip\"\n",
    "local_filename = \"babynamesbystate.zip\"\n",
    "if not os.path.exists(local_filename): # if the data exists don't download again\n",
    "    with urllib.request.urlopen(data_url) as resp, open(local_filename, 'wb') as f:\n",
    "        f.write(resp.read())\n",
    "\n",
    "zf = zipfile.ZipFile(local_filename, 'r')\n",
    "\n",
    "ca_name = 'CA.TXT'\n",
    "field_names = ['State', 'Sex', 'Year', 'Name', 'Count']\n",
    "with zf.open(ca_name) as fh:\n",
    "    babynames = pd.read_csv(fh, header=None, names=field_names)"
   ]
  },
  {
   "cell_type": "markdown",
   "id": "92a34add",
   "metadata": {},
   "source": [
    "Definitions:\n",
    "- Primary key: The column or minimal set of columns that uniquely determines the values in\n",
    "all the remaining columns. This is a statement about the schema and should hold for all data\n",
    "that could be put in the table.\n",
    "Below are some constraints on the primary key:\n",
    "    - The data within these columns must be unique.\n",
    "    - No value in the columns can be NULL.\n",
    "- Foreign key: A set of one or more columns in a table that refers to the primary key in another\n",
    "table.\n",
    "Foreign keys have the following properties:\n",
    "    - We can have NULL values in foreign keys.\n",
    "    - We can have non-unique foreign keys in a table.\n",
    "    - If the foreign key is not NULL, it should reference a particular primary key in another table.\n"
   ]
  },
  {
   "cell_type": "markdown",
   "id": "a11813bc",
   "metadata": {},
   "source": [
    "#### Warmup\n",
    "What might be good examples of common primary keys and how might they be\n",
    "referenced as foreign keys."
   ]
  },
  {
   "cell_type": "markdown",
   "id": "d30ce10c",
   "metadata": {},
   "source": [
    "*list some potential primary keys here*"
   ]
  },
  {
   "cell_type": "markdown",
   "id": "1f258546",
   "metadata": {},
   "source": [
    "<br><br>\n",
    "\n",
    "---\n",
    "\n",
    "# Question 1: Data Cleaning and EDA\n",
    "\n",
    "The following questions are somewhat open-ended and intended to be discussed as a group. Feel free to add cells to type in answers/take notes or write some code to help you think/answer the questions."
   ]
  },
  {
   "cell_type": "code",
   "execution_count": null,
   "id": "8482dbf5",
   "metadata": {},
   "outputs": [],
   "source": [
    "babynames.head()"
   ]
  },
  {
   "cell_type": "markdown",
   "id": "8b8e2a55",
   "metadata": {},
   "source": [
    "## Question 1a\n",
    "\n",
    "Consider the name, year, and count variables. What type of variable are each one? (Quantitative discrete, Quantitative continuous, Qualitative nominal, Qualitative ordinal"
   ]
  },
  {
   "cell_type": "code",
   "execution_count": null,
   "id": "e1680be8",
   "metadata": {},
   "outputs": [],
   "source": [
    "babynames.columns"
   ]
  },
  {
   "cell_type": "markdown",
   "id": "d1e69187",
   "metadata": {},
   "source": [
    "*edit this markdown cell to type your answer to a)*"
   ]
  },
  {
   "cell_type": "markdown",
   "id": "37cfc95a",
   "metadata": {},
   "source": [
    "## Question 1b\n",
    "\n",
    "Which of the following is a (minimal) primary key for this table (given the sample of the data\n",
    "and reasonable assumptions about what might be in the rest of the data)?"
   ]
  },
  {
   "cell_type": "markdown",
   "id": "fd8fe91d",
   "metadata": {},
   "source": [
    "* A. State and Sex\n",
    "* B. Year and Name\n",
    "* C. State, Year, and Name\n",
    "* D. State, Sex, Year, and Name\n",
    "* E. State, Sex, Year, Name, and Count"
   ]
  },
  {
   "cell_type": "markdown",
   "id": "43f5ba0c",
   "metadata": {},
   "source": [
    "*edit this markdown cell to be your answer to b)*"
   ]
  },
  {
   "cell_type": "markdown",
   "id": "c14c286e",
   "metadata": {},
   "source": [
    "## Question 1C\n",
    "\n",
    "Mark the following statements as true or false and justify why.\n",
    "\n",
    "1. ( T / F ) The foreign key of a table referencing the babynames table must always\n",
    "reference the primary key from part (b).\n",
    "2. ( T / F ) All tables with a foreign key referencing the babynames table must always\n",
    "join or merge on the primary key columns from part (b).\n",
    "3. ( T / F ) babynames has a primary/foreign key relationship with the elections\n",
    "dataset containing the first name and full name of every presidential candidate.\n",
    "4. ( T / F ) To join or merge babynames with itself, we must join or merge on its primary\n",
    "key columns "
   ]
  },
  {
   "cell_type": "markdown",
   "id": "337961cb",
   "metadata": {},
   "source": [
    "*edit this markdown cell to be your answer to c)*"
   ]
  },
  {
   "cell_type": "markdown",
   "id": "1e0f7583",
   "metadata": {},
   "source": [
    "## Question 1D (bonus)\n",
    "\n",
    "Which of the following plot types could be appropriate to visualize the Counts of the 5 most\n",
    "popular baby names across time?\n"
   ]
  },
  {
   "cell_type": "markdown",
   "id": "daed5178",
   "metadata": {},
   "source": [
    "\n",
    "* Histogram\n",
    "* Barplot\n",
    "* Boxplots\n",
    "* Lineplot\n",
    "* Scatterplot"
   ]
  },
  {
   "cell_type": "markdown",
   "id": "8b9aec06-a09f-4721-842d-e9cc60d03bd1",
   "metadata": {},
   "source": [
    "<br><br>\n",
    "\n",
    "---\n",
    "\n",
    "# Question 2 EDA\n",
    "\n",
    "See the pdf [worksheet](https://drive.google.com/file/d/1vjryD2ozLAAJblVT4JQLvsWlICKxKxDC/view?usp=sharing)"
   ]
  },
  {
   "cell_type": "markdown",
   "id": "9fe99cc6",
   "metadata": {},
   "source": [
    "### BONUS EDA"
   ]
  },
  {
   "cell_type": "markdown",
   "id": "171af076",
   "metadata": {},
   "source": [
    "#### Granularity, Scope, and Temporality"
   ]
  },
  {
   "cell_type": "markdown",
   "id": "852430ca",
   "metadata": {},
   "source": [
    "To assess such qualities of a dataset, we might require a little background info on the data source. Feel free to reference the following link when answering the questions, and be sure to think critically!\n",
    "https://www.ssa.gov/oact/babynames/background.html"
   ]
  },
  {
   "cell_type": "markdown",
   "id": "93a7ab43",
   "metadata": {},
   "source": [
    "1. How would you assess the *granularity* of the data? What does each observation represent? Are the granular levels of each observation consistent, or is there a mismatch?"
   ]
  },
  {
   "cell_type": "markdown",
   "id": "24fdb17b",
   "metadata": {},
   "source": [
    "2. We're always concerned with our data being properly scoped so as to answer questions about some population(s) of interest. Let's suppose we wish to compare the popularity of babynames given in California in the year 1920. What are the population(s) of interest, and is the data properly scoped to accurately reflect these populations? We will come back to this point when you formulate/choose a question of interest."
   ]
  },
  {
   "cell_type": "markdown",
   "id": "d9eb13e1",
   "metadata": {},
   "source": [
    "3. Describe the temporality of the dataset. How often/when is the data updated? Do the data exist outside the confines of time, or is there a time-dependence of observations? If there is a time-dependence, what time scale are we dealing with?"
   ]
  },
  {
   "cell_type": "code",
   "execution_count": null,
   "id": "73c9e220",
   "metadata": {},
   "outputs": [],
   "source": [
    "babynames['Year']"
   ]
  },
  {
   "cell_type": "markdown",
   "id": "7b25f734",
   "metadata": {},
   "source": [
    "#### Faithfulness (and Missing Values)"
   ]
  },
  {
   "cell_type": "markdown",
   "id": "799bad72",
   "metadata": {},
   "source": [
    "1. Are there any missing values in the dataset?"
   ]
  },
  {
   "cell_type": "code",
   "execution_count": null,
   "id": "b0c90d23",
   "metadata": {},
   "outputs": [],
   "source": [
    "babynames.isnull().any().any()"
   ]
  },
  {
   "cell_type": "markdown",
   "id": "3567e906",
   "metadata": {},
   "source": [
    "2. Are there any huge outliers in any quantitative variable? Try writing a some code with output to verify if there are any strong outliers in such variables. (Hint: the only real outliers you could get are in the count column, see if there are any out-of-the-ordinary count values. Options are to use the `describe()` method, or make a simple plot)"
   ]
  },
  {
   "cell_type": "code",
   "execution_count": null,
   "id": "e19888eb",
   "metadata": {},
   "outputs": [],
   "source": [
    "babynames['Count'].describe()"
   ]
  },
  {
   "cell_type": "code",
   "execution_count": null,
   "id": "f3ddb56f",
   "metadata": {},
   "outputs": [],
   "source": [
    "plt.scatter(x = babynames.index, y = babynames.Count, alpha = 0.1)\n",
    "plt.show()"
   ]
  },
  {
   "cell_type": "markdown",
   "id": "5b59602d",
   "metadata": {},
   "source": [
    "3. If there are no missing values in the dataset, are we free from the perils of missing data? (hint: given the background link above, is this data completely raw? if not, how could missingness still affect us?)"
   ]
  },
  {
   "cell_type": "markdown",
   "id": "dd0d8aeb",
   "metadata": {},
   "source": [
    "#### Exploring the Data for Patterns"
   ]
  },
  {
   "cell_type": "markdown",
   "id": "b663157a",
   "metadata": {},
   "source": [
    "Having seen this dataset over and over again, and having to answer such a comprehensive set of questions about the data, you all probably have a solid intuition about the dataset and probably have some ideas of trends/patterns you may want to uncover. Discuss amongst yourselves what's something interesting to look for, and pursue it (try to formulate a question where you would have to use regular expressions; questions about certain letter patterns/pairings are good places to start)! Challenge yourselves to produce a plot at the end showing the result of your exploration.\n",
    "\n",
    "If you don't have any ideas, feel free to start here:\n",
    "\n",
    "+ As a proportion of individuals named in each year, how many babies have a double-vowel pattern appear at the end or start of their name, compared to somewhere in the middle (think: Aaron and Stephanie vs. Leah). For each year, you should have two proportions, one for the proportion of names with the pattern at either end and one for the proportion with the pattern in the middle.\n",
    "\n",
    "\n",
    "+ For each year, how many male and female names have a triple vowel pattern somewhere in their name (L**eia**; ignore the first letter for simplicity)? Express each quantity as a proportion of total male or female names for each year, so that you have two proportions for each year. Plot each proportion with the x-axis as the year, and see if such name patterns are becoming more or less common when split by sex.\n",
    "\n",
    "\n",
    "+ For each year, how many babies in CA had a name with a triple-consonant pattern somewhere in the middle of their name (e.g. Matthew, pattern does not include first and last letters)? Be sure to account for the frequency of the particular names for each year.\n",
    "\n",
    "\n",
    "+ Consonant-Vowel or Vowel-Consonant? For each year, find the proportion of babies that had a name ending with a vowel followed by a consonant (Esth**er**) and the proportion of babies that had a name ending with a consonant followed by a vowel (Veroni**ca**). Plot the two proportions by year and compare differences and trends.\n",
    "\n",
    "*Feel free to make as many new cells as you want; it's your EDA!*\n",
    "\n",
    "*Also, feel free to Google for any coding tips. This link should give you an idea of how regular expressions can be used in Pandas to query data by string patterns (https://kanoki.org/2019/11/12/how-to-use-regex-in-pandas/)*. The `str.contains()` method may also be useful.\n",
    "\n",
    "*Also, you can assume certain niceties about the Name column, like that all names begin with a capital letter and the remaining letter are lowercase, and there are no non-alphabetical characters in the names (note that, according to the background information link, names with hyphens are collapsed into single words)*"
   ]
  },
  {
   "cell_type": "markdown",
   "id": "01660668",
   "metadata": {},
   "source": [
    "#### Post-EDA Critique"
   ]
  },
  {
   "cell_type": "markdown",
   "id": "d829bf26",
   "metadata": {},
   "source": [
    "1. What did you find in your analysis?\n",
    "\n",
    "\n",
    "2. Datasets are always representations of some population of interest. Let's suppose our population of interest is all individuals living in the state of California from 1910 to 2021. Would you be comfortable extending your findings to this population? Why or why not? (hint: consider our previous discussion about *scope*)"
   ]
  },
  {
   "cell_type": "markdown",
   "id": "bed37fe9",
   "metadata": {},
   "source": [
    "<br><br>\n",
    "\n",
    "---\n",
    "\n",
    "# Question 3: Regex"
   ]
  },
  {
   "cell_type": "markdown",
   "id": "b20bfae0",
   "metadata": {},
   "source": [
    "## Question 3\n",
    "Which strings contain a match for the following regular expression, \"1+1$\"? "
   ]
  },
  {
   "cell_type": "markdown",
   "id": "c719d54a",
   "metadata": {},
   "source": [
    "* \"What is 1+1\"\n",
    "* \"Make a wish at 11:11\"\n",
    "* \"111 Ways to Succeed\""
   ]
  },
  {
   "cell_type": "code",
   "execution_count": null,
   "id": "d1a8612f",
   "metadata": {},
   "outputs": [],
   "source": [
    "# Here are the above strings in a Series object.\n",
    "strings_1 = pd.Series([\"What is 1 + 1\",\"Make a wish at 11:11\", \"111 Ways to succeed\"])\n",
    "pattern_1 = r'1+1$'\n",
    "\n",
    "# Your code here"
   ]
  },
  {
   "cell_type": "markdown",
   "id": "175be316",
   "metadata": {},
   "source": [
    "*edit this markdown cell to be your answer to 1)*"
   ]
  },
  {
   "cell_type": "markdown",
   "id": "be18d474",
   "metadata": {},
   "source": [
    "## Question 4\n",
    "\n",
    "Write a regular expression that matches a string which contains only one word containing only\n",
    "lowercase letters and numbers. (including the empty string)"
   ]
  },
  {
   "cell_type": "code",
   "execution_count": null,
   "id": "49016421",
   "metadata": {},
   "outputs": [],
   "source": [
    "# Here are some example strings to test on, feel free to add more examples\n",
    "strings_2 = pd.Series([\"match0pls\",\"do not match 1\", \"don'tmatch2\", \"DONTMATCH3\"])\n",
    "\n",
    "# Your pattern\n",
    "pattern_2 = ...\n",
    "\n"
   ]
  },
  {
   "cell_type": "markdown",
   "id": "81749df3",
   "metadata": {},
   "source": [
    "## Question 5\n",
    "\n",
    "Given sometext = \"I’ve got 10 eggs, 20 gooses, and 30 giants.\", use re.findall to extract all the items and quantities from the string. The result should look like [’10 eggs’, ’20 gooses’, ’30 giants’]. You may assume that a space separates quantity and type, and that each item ends in `s`"
   ]
  },
  {
   "cell_type": "code",
   "execution_count": null,
   "id": "64f98b76",
   "metadata": {},
   "outputs": [],
   "source": [
    "sometext = \"I've got 10 eggs, 20 gooses, and 30 giants.\"\n",
    "\n",
    "# Your pattern\n",
    "pattern_3 = ...\n",
    "re.findall(pattern_3, sometext)"
   ]
  },
  {
   "cell_type": "markdown",
   "id": "091f2b6a",
   "metadata": {},
   "source": [
    "## Question 6\n",
    "\n",
    "For each pattern specify the starting and ending position of the first match in the string. The index starts at zero and we are using closed intervals (both endpoints are included).\n",
    "\n",
    "<img src = \"regex_table_disc3.png\"></img>"
   ]
  },
  {
   "cell_type": "code",
   "execution_count": null,
   "id": "cde3d8d0",
   "metadata": {},
   "outputs": [],
   "source": [
    "strings_4 = pd.Series([\"abcdefg\",\"abcs!\",\"ab abc\",\"abc, 123\"])\n",
    "patterns = [r'abc*', r'[^\\s]+',r'ab.*c',r'[a-z1,9]+']\n"
   ]
  },
  {
   "cell_type": "markdown",
   "id": "e06d06fa",
   "metadata": {},
   "source": [
    "*type answer to 6) here*"
   ]
  },
  {
   "cell_type": "markdown",
   "id": "5ba60eb4",
   "metadata": {},
   "source": [
    "## Question 7 (bonus)\n",
    "\n",
    "Given the text in the variable `log`, fill in the regular expression in the variable pattern below so that after it executes, day is 26, month is Jan, and year is 2014.\n",
    "\n"
   ]
  },
  {
   "cell_type": "code",
   "execution_count": null,
   "id": "168b6055",
   "metadata": {},
   "outputs": [],
   "source": [
    "log = '169.237.46.168 - - [26/Jan/2014:10:47:58 -0800] \"GET /stat141/Winter04/ HTTP/1.1\" 200 2585 \"http://anson.ucdavis.edu/courses/\"'\n",
    "# Your pattern \n",
    "pattern_5 = r'...'\n",
    "matches = re.findall(pattern_5, log)\n",
    "day, month, year = matches[0]\n",
    "print(day,month,year)"
   ]
  },
  {
   "cell_type": "markdown",
   "id": "5a19fd4b",
   "metadata": {},
   "source": [
    "## Question 8 (bonus)\n",
    "\n",
    "Given that sometext is a string, use re.sub to replace all clusters of non-vowel characters with a single period. For example \"a big moon, between us...\" would be changed to \"a.i.oo.e.ee.u.\""
   ]
  },
  {
   "cell_type": "code",
   "execution_count": null,
   "id": "6379b599",
   "metadata": {},
   "outputs": [],
   "source": [
    "sometext = \"a big moon, between us...\"\n",
    "\n",
    "# Your pattern \n",
    "pattern_6 = ...\n",
    "\n",
    "re.sub(pattern_6,\".\" , sometext)"
   ]
  },
  {
   "cell_type": "markdown",
   "id": "8094e433",
   "metadata": {},
   "source": [
    "## Question 9 (bonus)\n",
    "\n",
    "Given records,\n",
    "\n",
    "\"\\<record\\> Josh Hug \\<hug@cs.berkeley.edu\\> Faculty \\</record\\>\"\n",
    "    \n",
    "\"\\<record\\> Lisa Yan \\<lisa.yan@berkeley.edu\\> Instructor \\</record\\>\""
   ]
  },
  {
   "cell_type": "code",
   "execution_count": null,
   "id": "dc9b0382",
   "metadata": {},
   "outputs": [],
   "source": [
    "records = [\"<record> Josh Hug <hug@cs.berkeley.edu> Faculty </record>\",\"<record> Lisa Yan <lisa.yan@berkeley.edu> Instructor </record>\"]"
   ]
  },
  {
   "cell_type": "markdown",
   "id": "01c494eb",
   "metadata": {},
   "source": [
    "Which of the following matches exactly to the email addresses (including angle brackets)?\n",
    "\n",
    "* '<.*@.*>'\n",
    "* '<[^>]*@[^>]*>'\n",
    "* '<.*@\\w+\\..*>'"
   ]
  },
  {
   "cell_type": "markdown",
   "id": "2d286253",
   "metadata": {},
   "source": [
    "*edit this markdown cell to be your answer to 8)*"
   ]
  }
 ],
 "metadata": {
  "kernelspec": {
   "display_name": "Python 3 (ipykernel)",
   "language": "python",
   "name": "python3"
  },
  "language_info": {
   "codemirror_mode": {
    "name": "ipython",
    "version": 3
   },
   "file_extension": ".py",
   "mimetype": "text/x-python",
   "name": "python",
   "nbconvert_exporter": "python",
   "pygments_lexer": "ipython3",
   "version": "3.9.0"
  },
  "vscode": {
   "interpreter": {
    "hash": "aea83e800b3f611b156506e3451d6446f84c720051bc83a1d66a677713fe7b36"
   }
  }
 },
 "nbformat": 4,
 "nbformat_minor": 5
}
