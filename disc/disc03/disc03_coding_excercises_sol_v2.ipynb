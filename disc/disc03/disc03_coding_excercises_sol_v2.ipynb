{
 "cells": [
  {
   "cell_type": "markdown",
   "id": "298f6eb5",
   "metadata": {},
   "source": [
    "# Discussion 3: EDA + Regex\n",
    "\n",
    "This notebook will simulate the EDA process with a dataset you've seen a million times (`babynames`), giving you an opportunity to practice scouring data for interesting patterns using techniques you're already familiar with (Pandas, regular expressions).\n",
    "\n",
    "Given the `babynames` dataset, you will be first be asked to consider and discuss a variety of factors to obtain some baseline understanding of the dataset (types of column variables, how many observations, granularity or level of each observation, etc.)\n",
    "\n",
    "Once you've obtained a baseline understanding, try the bonus exercises in this notebook the familiarize yourself with doing EDA in a notebook environment."
   ]
  },
  {
   "cell_type": "code",
   "execution_count": 1,
   "id": "c31c3d46",
   "metadata": {},
   "outputs": [],
   "source": [
    "import numpy as np\n",
    "import pandas as pd\n",
    "import matplotlib.pyplot as plt\n",
    "import re"
   ]
  },
  {
   "cell_type": "code",
   "execution_count": 2,
   "id": "66a00b81",
   "metadata": {},
   "outputs": [],
   "source": [
    "# loading up the California baby names data\n",
    "\n",
    "import urllib.request\n",
    "import os.path\n",
    "import zipfile\n",
    "\n",
    "data_url = \"https://www.ssa.gov/oact/babynames/state/namesbystate.zip\"\n",
    "local_filename = \"babynamesbystate.zip\"\n",
    "if not os.path.exists(local_filename): # if the data exists don't download again\n",
    "    with urllib.request.urlopen(data_url) as resp, open(local_filename, 'wb') as f:\n",
    "        f.write(resp.read())\n",
    "\n",
    "zf = zipfile.ZipFile(local_filename, 'r')\n",
    "\n",
    "ca_name = 'CA.TXT'\n",
    "field_names = ['State', 'Sex', 'Year', 'Name', 'Count']\n",
    "with zf.open(ca_name) as fh:\n",
    "    babynames = pd.read_csv(fh, header=None, names=field_names)"
   ]
  },
  {
   "cell_type": "markdown",
   "id": "92a34add",
   "metadata": {},
   "source": [
    "Definitions:\n",
    "- Primary key: The column or minimal set of columns that uniquely determines the values in\n",
    "all the remaining columns. This is a statement about the schema and should hold for all data\n",
    "that could be put in the table.\n",
    "Below are some constraints on the primary key:\n",
    "    - The data within these columns must be unique.\n",
    "    - No value in the columns can be NULL.\n",
    "- Foreign key: A set of one or more columns in a table that refers to the primary key in another\n",
    "table.\n",
    "Foreign keys have the following properties:\n",
    "    - We can have NULL values in foreign keys.\n",
    "    - We can have non-unique foreign keys in a table.\n",
    "    - If the foreign key is not NULL, it should reference a particular primary key in another table.\n"
   ]
  },
  {
   "cell_type": "markdown",
   "id": "a11813bc",
   "metadata": {},
   "source": [
    "#### Warmup\n",
    "What might be good examples of common primary keys and how might they be\n",
    "referenced as foreign keys."
   ]
  },
  {
   "cell_type": "markdown",
   "id": "d30ce10c",
   "metadata": {},
   "source": [
    "*list some potential primary keys here*"
   ]
  },
  {
   "cell_type": "markdown",
   "id": "1f258546",
   "metadata": {},
   "source": [
    "<br><br>\n",
    "\n",
    "---\n",
    "\n",
    "# Question 1: Data Cleaning and EDA\n",
    "\n",
    "The following questions are somewhat open-ended and intended to be discussed as a group. Feel free to add cells to type in answers/take notes or write some code to help you think/answer the questions."
   ]
  },
  {
   "cell_type": "code",
   "execution_count": 3,
   "id": "8482dbf5",
   "metadata": {},
   "outputs": [
    {
     "data": {
      "text/html": [
       "<div>\n",
       "<style scoped>\n",
       "    .dataframe tbody tr th:only-of-type {\n",
       "        vertical-align: middle;\n",
       "    }\n",
       "\n",
       "    .dataframe tbody tr th {\n",
       "        vertical-align: top;\n",
       "    }\n",
       "\n",
       "    .dataframe thead th {\n",
       "        text-align: right;\n",
       "    }\n",
       "</style>\n",
       "<table border=\"1\" class=\"dataframe\">\n",
       "  <thead>\n",
       "    <tr style=\"text-align: right;\">\n",
       "      <th></th>\n",
       "      <th>State</th>\n",
       "      <th>Sex</th>\n",
       "      <th>Year</th>\n",
       "      <th>Name</th>\n",
       "      <th>Count</th>\n",
       "    </tr>\n",
       "  </thead>\n",
       "  <tbody>\n",
       "    <tr>\n",
       "      <th>0</th>\n",
       "      <td>CA</td>\n",
       "      <td>F</td>\n",
       "      <td>1910</td>\n",
       "      <td>Mary</td>\n",
       "      <td>295</td>\n",
       "    </tr>\n",
       "    <tr>\n",
       "      <th>1</th>\n",
       "      <td>CA</td>\n",
       "      <td>F</td>\n",
       "      <td>1910</td>\n",
       "      <td>Helen</td>\n",
       "      <td>239</td>\n",
       "    </tr>\n",
       "    <tr>\n",
       "      <th>2</th>\n",
       "      <td>CA</td>\n",
       "      <td>F</td>\n",
       "      <td>1910</td>\n",
       "      <td>Dorothy</td>\n",
       "      <td>220</td>\n",
       "    </tr>\n",
       "    <tr>\n",
       "      <th>3</th>\n",
       "      <td>CA</td>\n",
       "      <td>F</td>\n",
       "      <td>1910</td>\n",
       "      <td>Margaret</td>\n",
       "      <td>163</td>\n",
       "    </tr>\n",
       "    <tr>\n",
       "      <th>4</th>\n",
       "      <td>CA</td>\n",
       "      <td>F</td>\n",
       "      <td>1910</td>\n",
       "      <td>Frances</td>\n",
       "      <td>134</td>\n",
       "    </tr>\n",
       "  </tbody>\n",
       "</table>\n",
       "</div>"
      ],
      "text/plain": [
       "  State Sex  Year      Name  Count\n",
       "0    CA   F  1910      Mary    295\n",
       "1    CA   F  1910     Helen    239\n",
       "2    CA   F  1910   Dorothy    220\n",
       "3    CA   F  1910  Margaret    163\n",
       "4    CA   F  1910   Frances    134"
      ]
     },
     "execution_count": 3,
     "metadata": {},
     "output_type": "execute_result"
    }
   ],
   "source": [
    "babynames.head()"
   ]
  },
  {
   "cell_type": "markdown",
   "id": "8b8e2a55",
   "metadata": {},
   "source": [
    "## Question 1a\n",
    "\n",
    "Consider the name, year, and count variables. What type of variable are each one? (Quantitative discrete, Quantitative continuous, Qualitative nominal, Qualitative ordinal"
   ]
  },
  {
   "cell_type": "code",
   "execution_count": 4,
   "id": "e1680be8",
   "metadata": {},
   "outputs": [
    {
     "data": {
      "text/plain": [
       "Index(['State', 'Sex', 'Year', 'Name', 'Count'], dtype='object')"
      ]
     },
     "execution_count": 4,
     "metadata": {},
     "output_type": "execute_result"
    }
   ],
   "source": [
    "babynames.columns"
   ]
  },
  {
   "cell_type": "markdown",
   "id": "d1e69187",
   "metadata": {},
   "source": [
    "**Solution:** \n",
    "\n",
    "Year is a qualitative ordinal variable. It is not a quantitative variable de-\n",
    "spite being a numerical quantity.\n",
    "Count is a quantitative discrete variable. Name is a qualitative nominal variable."
   ]
  },
  {
   "cell_type": "markdown",
   "id": "37cfc95a",
   "metadata": {},
   "source": [
    "## Question 1b\n",
    "\n",
    "Which of the following is a (minimal) primary key for this table (given the sample of the data\n",
    "and reasonable assumptions about what might be in the rest of the data)?"
   ]
  },
  {
   "cell_type": "markdown",
   "id": "fd8fe91d",
   "metadata": {},
   "source": [
    "* A. State and Sex\n",
    "* B. Year and Name\n",
    "* C. State, Year, and Name\n",
    "* D. State, Sex, Year, and Name\n",
    "* E. State, Sex, Year, Name, and Count"
   ]
  },
  {
   "cell_type": "markdown",
   "id": "43f5ba0c",
   "metadata": {},
   "source": [
    "**Solution:** \n",
    "\n",
    "The columns (State, Sex, Year, Name) form the primary key which uniquely\n",
    "determines the value of count for this data and all data that might go in this table. We\n",
    "would not expect two different values of count for the same State, Sex, Year, and\n",
    "Name."
   ]
  },
  {
   "cell_type": "markdown",
   "id": "c14c286e",
   "metadata": {},
   "source": [
    "## Question 1C\n",
    "\n",
    "Mark the following statements as true or false and justify why.\n",
    "\n",
    "1. ( T / F ) The foreign key of a table referencing the babynames table must always\n",
    "reference the primary key from part (b).\n",
    "2. ( T / F ) All tables with a foreign key referencing the babynames table must always\n",
    "join or merge on the primary key columns from part (b).\n",
    "3. ( T / F ) babynames has a primary/foreign key relationship with the elections\n",
    "dataset containing the first name and full name of every presidential candidate.\n",
    "4. ( T / F ) To join or merge babynames with itself, we must join or merge on its primary\n",
    "key columns "
   ]
  },
  {
   "cell_type": "markdown",
   "id": "337961cb",
   "metadata": {},
   "source": [
    "**Solution:** \n",
    "\n",
    "The first statement is true based on the definition of a foreign key-primary\n",
    "key relationship.\n",
    "The third statement is false because the elections dataset does not refer to the primary\n",
    "key of babynames.\n",
    "The second and fourth statements are false because there are no condition that any\n",
    "table must join on any subset of columns as prescribed by the primary key. That\n",
    "being said, that is the most common pattern if there exists a valid primary/foreign key\n",
    "relationship"
   ]
  },
  {
   "cell_type": "markdown",
   "id": "1e0f7583",
   "metadata": {},
   "source": [
    "## Question 1D (bonus)\n",
    "\n",
    "Which of the following plot types could be appropriate to visualize the Counts of the 5 most\n",
    "popular baby names across time?\n"
   ]
  },
  {
   "cell_type": "markdown",
   "id": "daed5178",
   "metadata": {},
   "source": [
    "\n",
    "* Histogram\n",
    "* Barplot\n",
    "* Boxplots\n",
    "* Lineplot\n",
    "* Scatterplot"
   ]
  },
  {
   "cell_type": "markdown",
   "id": "8b9aec06-a09f-4721-842d-e9cc60d03bd1",
   "metadata": {},
   "source": [
    "<br><br>\n",
    "\n",
    "---\n",
    "\n",
    "# Question 2 EDA\n",
    "\n",
    "See the pdf [worksheet](https://drive.google.com/file/d/1vjryD2ozLAAJblVT4JQLvsWlICKxKxDC/view?usp=sharing)"
   ]
  },
  {
   "cell_type": "markdown",
   "id": "9fe99cc6",
   "metadata": {},
   "source": [
    "### BONUS EDA"
   ]
  },
  {
   "cell_type": "markdown",
   "id": "171af076",
   "metadata": {},
   "source": [
    "#### Granularity, Scope, and Temporality"
   ]
  },
  {
   "cell_type": "markdown",
   "id": "852430ca",
   "metadata": {},
   "source": [
    "To assess such qualities of a dataset, we might require a little background info on the data source. Feel free to reference the following link when answering the questions, and be sure to think critically!\n",
    "https://www.ssa.gov/oact/babynames/background.html"
   ]
  },
  {
   "cell_type": "markdown",
   "id": "93a7ab43",
   "metadata": {},
   "source": [
    "1. How would you assess the *granularity* of the data? What does each observation represent? Are the granular levels of each observation consistent, or is there a mismatch?"
   ]
  },
  {
   "cell_type": "markdown",
   "id": "24fdb17b",
   "metadata": {},
   "source": [
    "2. We're always concerned with our data being properly scoped so as to answer questions about some population(s) of interest. Let's suppose we wish to compare the popularity of babynames given in California in the year 1920. What are the population(s) of interest, and is the data properly scoped to accurately reflect these populations? We will come back to this point when you formulate/choose a question of interest."
   ]
  },
  {
   "cell_type": "markdown",
   "id": "d9eb13e1",
   "metadata": {},
   "source": [
    "3. Describe the temporality of the dataset. How often/when is the data updated? Do the data exist outside the confines of time, or is there a time-dependence of observations? If there is a time-dependence, what time scale are we dealing with?"
   ]
  },
  {
   "cell_type": "code",
   "execution_count": 5,
   "id": "73c9e220",
   "metadata": {},
   "outputs": [
    {
     "data": {
      "text/plain": [
       "0         1910\n",
       "1         1910\n",
       "2         1910\n",
       "3         1910\n",
       "4         1910\n",
       "          ... \n",
       "400757    2021\n",
       "400758    2021\n",
       "400759    2021\n",
       "400760    2021\n",
       "400761    2021\n",
       "Name: Year, Length: 400762, dtype: int64"
      ]
     },
     "execution_count": 5,
     "metadata": {},
     "output_type": "execute_result"
    }
   ],
   "source": [
    "babynames['Year']"
   ]
  },
  {
   "cell_type": "markdown",
   "id": "7b25f734",
   "metadata": {},
   "source": [
    "#### Faithfulness (and Missing Values)"
   ]
  },
  {
   "cell_type": "markdown",
   "id": "799bad72",
   "metadata": {},
   "source": [
    "1. Are there any missing values in the dataset?"
   ]
  },
  {
   "cell_type": "code",
   "execution_count": 6,
   "id": "b0c90d23",
   "metadata": {},
   "outputs": [
    {
     "data": {
      "text/plain": [
       "False"
      ]
     },
     "execution_count": 6,
     "metadata": {},
     "output_type": "execute_result"
    }
   ],
   "source": [
    "babynames.isnull().any().any()"
   ]
  },
  {
   "cell_type": "markdown",
   "id": "3567e906",
   "metadata": {},
   "source": [
    "2. Are there any huge outliers in any quantitative variable? Try writing a some code with output to verify if there are any strong outliers in such variables. (Hint: the only real outliers you could get are in the count column, see if there are any out-of-the-ordinary count values. Options are to use the `describe()` method, or make a simple plot)"
   ]
  },
  {
   "cell_type": "code",
   "execution_count": 7,
   "id": "e19888eb",
   "metadata": {},
   "outputs": [
    {
     "data": {
      "text/plain": [
       "count    400762.000000\n",
       "mean         79.953781\n",
       "std         295.414618\n",
       "min           5.000000\n",
       "25%           7.000000\n",
       "50%          13.000000\n",
       "75%          38.000000\n",
       "max        8262.000000\n",
       "Name: Count, dtype: float64"
      ]
     },
     "execution_count": 7,
     "metadata": {},
     "output_type": "execute_result"
    }
   ],
   "source": [
    "babynames['Count'].describe()"
   ]
  },
  {
   "cell_type": "code",
   "execution_count": 8,
   "id": "f3ddb56f",
   "metadata": {},
   "outputs": [
    {
     "data": {
      "image/png": "[encoded data removed]",
      "text/plain": [
       "<Figure size 640x480 with 1 Axes>"
      ]
     },
     "metadata": {},
     "output_type": "display_data"
    }
   ],
   "source": [
    "plt.scatter(x = babynames.index, y = babynames.Count, alpha = 0.1)\n",
    "plt.show()"
   ]
  },
  {
   "cell_type": "markdown",
   "id": "5b59602d",
   "metadata": {},
   "source": [
    "3. If there are no missing values in the dataset, are we free from the perils of missing data? (hint: given the background link above, is this data completely raw? if not, how could missingness still affect us?)"
   ]
  },
  {
   "cell_type": "markdown",
   "id": "dd0d8aeb",
   "metadata": {},
   "source": [
    "#### Exploring the Data for Patterns"
   ]
  },
  {
   "cell_type": "markdown",
   "id": "b663157a",
   "metadata": {},
   "source": [
    "Having seen this dataset over and over again, and having to answer such a comprehensive set of questions about the data, you all probably have a solid intuition about the dataset and probably have some ideas of trends/patterns you may want to uncover. Discuss amongst yourselves what's something interesting to look for, and pursue it (try to formulate a question where you would have to use regular expressions; questions about certain letter patterns/pairings are good places to start)! Challenge yourselves to produce a plot at the end showing the result of your exploration.\n",
    "\n",
    "If you don't have any ideas, feel free to start here:\n",
    "\n",
    "+ As a proportion of individuals named in each year, how many babies have a double-vowel pattern appear at the end or start of their name, compared to somewhere in the middle (think: Aaron and Stephanie vs. Leah). For each year, you should have two proportions, one for the proportion of names with the pattern at either end and one for the proportion with the pattern in the middle.\n",
    "\n",
    "\n",
    "+ For each year, how many male and female names have a triple vowel pattern somewhere in their name (L**eia**; ignore the first letter for simplicity)? Express each quantity as a proportion of total male or female names for each year, so that you have two proportions for each year. Plot each proportion with the x-axis as the year, and see if such name patterns are becoming more or less common when split by sex.\n",
    "\n",
    "\n",
    "+ For each year, how many babies in CA had a name with a triple-consonant pattern somewhere in the middle of their name (e.g. Matthew, pattern does not include first and last letters)? Be sure to account for the frequency of the particular names for each year.\n",
    "\n",
    "\n",
    "+ Consonant-Vowel or Vowel-Consonant? For each year, find the proportion of babies that had a name ending with a vowel followed by a consonant (Esth**er**) and the proportion of babies that had a name ending with a consonant followed by a vowel (Veroni**ca**). Plot the two proportions by year and compare differences and trends.\n",
    "\n",
    "*Feel free to make as many new cells as you want; it's your EDA!*\n",
    "\n",
    "*Also, feel free to Google for any coding tips. This link should give you an idea of how regular expressions can be used in Pandas to query data by string patterns (https://kanoki.org/2019/11/12/how-to-use-regex-in-pandas/)*. The `str.contains()` method may also be useful.\n",
    "\n",
    "*Also, you can assume certain niceties about the Name column, like that all names begin with a capital letter and the remaining letter are lowercase, and there are no non-alphabetical characters in the names (note that, according to the background information link, names with hyphens are collapsed into single words)*"
   ]
  },
  {
   "cell_type": "markdown",
   "id": "01660668",
   "metadata": {},
   "source": [
    "#### Post-EDA Critique"
   ]
  },
  {
   "cell_type": "markdown",
   "id": "d829bf26",
   "metadata": {},
   "source": [
    "1. What did you find in your analysis?\n",
    "\n",
    "\n",
    "2. Datasets are always representations of some population of interest. Let's suppose our population of interest is all individuals living in the state of California from 1910 to 2021. Would you be comfortable extending your findings to this population? Why or why not? (hint: consider our previous discussion about *scope*)"
   ]
  },
  {
   "cell_type": "markdown",
   "id": "bed37fe9",
   "metadata": {},
   "source": [
    "<br><br>\n",
    "\n",
    "---\n",
    "\n",
    "# Question 3: Regex"
   ]
  },
  {
   "cell_type": "markdown",
   "id": "b20bfae0",
   "metadata": {},
   "source": [
    "## Question 3\n",
    "Which strings contain a match for the following regular expression, \"1+1$\"? "
   ]
  },
  {
   "cell_type": "markdown",
   "id": "c719d54a",
   "metadata": {},
   "source": [
    "* \"What is 1+1\"\n",
    "* \"Make a wish at 11:11\"\n",
    "* \"111 Ways to Succeed\""
   ]
  },
  {
   "cell_type": "code",
   "execution_count": 31,
   "id": "d1a8612f",
   "metadata": {},
   "outputs": [
    {
     "data": {
      "text/plain": [
       "0      []\n",
       "1    [11]\n",
       "2      []\n",
       "dtype: object"
      ]
     },
     "execution_count": 31,
     "metadata": {},
     "output_type": "execute_result"
    }
   ],
   "source": [
    "#Here are the above strings in a Series object.\n",
    "strings_3 = pd.Series([\"What is 1 + 1\",\"Make a wish at 11:11\", \"111 Ways to succeed\"])\n",
    "pattern_3 = r'1+1$'\n",
    "\n",
    "##Your code here##\n",
    "strings_3.str.findall(pattern_3)"
   ]
  },
  {
   "cell_type": "markdown",
   "id": "175be316",
   "metadata": {},
   "source": [
    "**Solution:**\n",
    "\n",
    "B, \"Make a wish at 11:11\""
   ]
  },
  {
   "cell_type": "markdown",
   "id": "be18d474",
   "metadata": {},
   "source": [
    "## Question 4\n",
    "\n",
    "Write a regular expression that matches a string which contains only one word containing only\n",
    "lowercase letters and numbers. (including the empty string)"
   ]
  },
  {
   "cell_type": "code",
   "execution_count": 32,
   "id": "49016421",
   "metadata": {},
   "outputs": [
    {
     "data": {
      "text/plain": [
       "0    [match0pls]\n",
       "1             []\n",
       "2             []\n",
       "3             []\n",
       "dtype: object"
      ]
     },
     "execution_count": 32,
     "metadata": {},
     "output_type": "execute_result"
    }
   ],
   "source": [
    "# Here are some example strings to test on, feel free to add more examples\n",
    "strings_4 = pd.Series([\"match0pls\",\"do not match 1\", \"don'tmatch2\", \"DONTMATCH3\"])\n",
    "\n",
    "# Your pattern\n",
    "pattern_4 = r'^[a-z0-9]*$'\n",
    "\n",
    "strings_4.str.findall(pattern_4)"
   ]
  },
  {
   "cell_type": "markdown",
   "id": "81749df3",
   "metadata": {},
   "source": [
    "## Question 5\n",
    "\n",
    "Given sometext = \"I’ve got 10 eggs, 20 gooses, and 30 giants.\", use re.findall to extract all the items and quantities from the string. The result should look like [’10 eggs’, ’20 gooses’, ’30 giants’]. You may assume that a space separates quantity and type, and that each item ends in `s`"
   ]
  },
  {
   "cell_type": "code",
   "execution_count": 33,
   "id": "64f98b76",
   "metadata": {},
   "outputs": [
    {
     "data": {
      "text/plain": [
       "['10 eggs', '20 gooses', '30 giants']"
      ]
     },
     "execution_count": 33,
     "metadata": {},
     "output_type": "execute_result"
    }
   ],
   "source": [
    "sometext = \"I've got 10 eggs, 20 gooses, and 30 giants.\"\n",
    "\n",
    "# Your pattern\n",
    "pattern_5 = r\"\\d\\d\\s\\w+s\"\n",
    "re.findall(pattern_5, sometext)"
   ]
  },
  {
   "cell_type": "markdown",
   "id": "091f2b6a",
   "metadata": {},
   "source": [
    "## Question 6\n",
    "\n",
    "For each pattern specify the starting and ending position of the first match in the string. The index starts at zero and we are using closed intervals (both endpoints are included).\n",
    "\n",
    "<img src = \"regex_table_disc3.png\"></img>"
   ]
  },
  {
   "cell_type": "code",
   "execution_count": 37,
   "id": "cde3d8d0",
   "metadata": {},
   "outputs": [
    {
     "data": {
      "text/plain": [
       "0        [abc]\n",
       "1        [abc]\n",
       "2    [ab, abc]\n",
       "3        [abc]\n",
       "dtype: object"
      ]
     },
     "execution_count": 37,
     "metadata": {},
     "output_type": "execute_result"
    }
   ],
   "source": [
    "strings_6 = pd.Series([\"abcdefg\",\"abcs!\",\"ab abc\",\"abc, 123\"])\n",
    "patterns = [r'abc*', r'[^\\s]+',r'ab.*c',r'[a-z1,9]+']\n",
    "\n",
    "strings_6.str.findall(r\"abc*\")"
   ]
  },
  {
   "cell_type": "code",
   "execution_count": 38,
   "id": "817d2502-5d23-48a7-a600-1614411faa4e",
   "metadata": {},
   "outputs": [
    {
     "data": {
      "text/plain": [
       "0      [abcdefg]\n",
       "1        [abcs!]\n",
       "2      [ab, abc]\n",
       "3    [abc,, 123]\n",
       "dtype: object"
      ]
     },
     "execution_count": 38,
     "metadata": {},
     "output_type": "execute_result"
    }
   ],
   "source": [
    "strings_6.str.findall(r\"[^\\s]+\")"
   ]
  },
  {
   "cell_type": "code",
   "execution_count": 39,
   "id": "80d1b454-67c5-4e75-a7c3-b3462f98c005",
   "metadata": {},
   "outputs": [
    {
     "data": {
      "text/plain": [
       "0       [abc]\n",
       "1       [abc]\n",
       "2    [ab abc]\n",
       "3       [abc]\n",
       "dtype: object"
      ]
     },
     "execution_count": 39,
     "metadata": {},
     "output_type": "execute_result"
    }
   ],
   "source": [
    "strings_6.str.findall(r\"ab.*c\")"
   ]
  },
  {
   "cell_type": "code",
   "execution_count": 40,
   "id": "a7bd41cc-dfaf-4af9-b526-e1409c9c7591",
   "metadata": {},
   "outputs": [
    {
     "data": {
      "text/plain": [
       "0    [abcdefg]\n",
       "1       [abcs]\n",
       "2    [ab, abc]\n",
       "3    [abc,, 1]\n",
       "dtype: object"
      ]
     },
     "execution_count": 40,
     "metadata": {},
     "output_type": "execute_result"
    }
   ],
   "source": [
    "strings_6.str.findall(r\"[a-z1,9]+\")"
   ]
  },
  {
   "cell_type": "markdown",
   "id": "5ba60eb4",
   "metadata": {},
   "source": [
    "## Question 7 (bonus)\n",
    "\n",
    "Given the text in the variable `log`, fill in the regular expression in the variable pattern below so that after it executes, day is 26, month is Jan, and year is 2014.\n",
    "\n"
   ]
  },
  {
   "cell_type": "code",
   "execution_count": 43,
   "id": "168b6055",
   "metadata": {},
   "outputs": [
    {
     "name": "stdout",
     "output_type": "stream",
     "text": [
      "26 Jan 2014\n"
     ]
    }
   ],
   "source": [
    "log = '169.237.46.168 - - [26/Jan/2014:10:47:58 -0800] \"GET /stat141/Winter04/ HTTP/1.1\" 200 2585 \"http://anson.ucdavis.edu/courses/\"'\n",
    "\n",
    "# Your pattern \n",
    "pattern_5 = r\"\\[(.+)\\/(.+)\\/([^:]+).*\\]\"\n",
    "#Alternative solution\n",
    "pattern_5 = r\"\\[(.+)/(.+)/([^:]+).*\\]\"\n",
    "\n",
    "matches = re.findall(pattern_5, log)\n",
    "day, month, year = matches[0]\n",
    "print(day,month,year)"
   ]
  },
  {
   "cell_type": "markdown",
   "id": "5a19fd4b",
   "metadata": {},
   "source": [
    "## Question 8 (bonus)\n",
    "\n",
    "Given that sometext is a string, use re.sub to replace all clusters of non-vowel characters with a single period. For example \"a big moon, between us...\" would be changed to \"a.i.oo.e.ee.u.\""
   ]
  },
  {
   "cell_type": "code",
   "execution_count": 44,
   "id": "6379b599",
   "metadata": {},
   "outputs": [
    {
     "data": {
      "text/plain": [
       "'a.i.oo.e.ee.u.'"
      ]
     },
     "execution_count": 44,
     "metadata": {},
     "output_type": "execute_result"
    }
   ],
   "source": [
    "sometext = \"a big moon, between us...\"\n",
    "\n",
    "##Your pattern \n",
    "pattern_6 = r\"[^aeoiuAEIOU]+\"\n",
    "\n",
    "re.sub(pattern_6,\".\" , sometext)"
   ]
  },
  {
   "cell_type": "markdown",
   "id": "8094e433",
   "metadata": {},
   "source": [
    "## Question 9 (bonus)\n",
    "\n",
    "Given records,\n",
    "\n",
    "\"\\<record\\> Josh Hug \\<hug@cs.berkeley.edu\\> Faculty \\</record\\>\"\n",
    "    \n",
    "\"\\<record\\> Lisa Yan \\<lisa.yan@berkeley.edu\\> Instructor \\</record\\>\""
   ]
  },
  {
   "cell_type": "code",
   "execution_count": null,
   "id": "dc9b0382",
   "metadata": {},
   "outputs": [],
   "source": [
    "records = [\"<record> Josh Hug <hug@cs.berkeley.edu> Faculty </record>\",\"<record> Lisa Yan <lisa.yan@berkeley.edu> Instructor </record>\"]"
   ]
  },
  {
   "cell_type": "markdown",
   "id": "01c494eb",
   "metadata": {},
   "source": [
    "Which of the following matches exactly to the email addresses (including angle brackets)?\n",
    "\n",
    "* '<.*@.*>'\n",
    "* '<[^>]*@[^>]*>'\n",
    "* '<.*@\\w+\\..*>'"
   ]
  },
  {
   "cell_type": "markdown",
   "id": "2d286253",
   "metadata": {},
   "source": [
    "**Solution:**\n",
    "\n",
    "Greediness matches too much in the first and third choices. Greediness here\n",
    "means that the \".\\*\" matches everything and doesn’t stop matching. For example in\n",
    "choice A, the closing \">\" is not matched with the \">\" in \"<record>...\", instead the\n",
    "wildcard \".\\*\" consumes it"
   ]
  },
  {
   "cell_type": "code",
   "execution_count": null,
   "id": "59de8723-8b03-4b5b-aeb9-9cc895a36533",
   "metadata": {},
   "outputs": [],
   "source": []
  }
 ],
 "metadata": {
  "kernelspec": {
   "display_name": "Python 3 (ipykernel)",
   "language": "python",
   "name": "python3"
  },
  "language_info": {
   "codemirror_mode": {
    "name": "ipython",
    "version": 3
   },
   "file_extension": ".py",
   "mimetype": "text/x-python",
   "name": "python",
   "nbconvert_exporter": "python",
   "pygments_lexer": "ipython3",
   "version": "3.9.0"
  },
  "vscode": {
   "interpreter": {
    "hash": "aea83e800b3f611b156506e3451d6446f84c720051bc83a1d66a677713fe7b36"
   }
  }
 },
 "nbformat": 4,
 "nbformat_minor": 5
}
