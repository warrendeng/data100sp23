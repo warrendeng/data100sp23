{
 "cells": [
  {
   "cell_type": "markdown",
   "id": "d60227e8",
   "metadata": {},
   "source": [
    "# Discussion 2: Pandas Practice\n",
    "\n",
    "This discussion is all about practicing using `pandas`, and testing your knowledge about its various functionalities to accomplish small tasks.\n",
    "\n",
    "We will be using the `elections` dataset from lecture."
   ]
  },
  {
   "cell_type": "code",
   "execution_count": 1,
   "id": "f26a152e",
   "metadata": {},
   "outputs": [],
   "source": [
    "# import packages\n",
    "import pandas as pd\n",
    "import numpy as np"
   ]
  },
  {
   "attachments": {},
   "cell_type": "markdown",
   "id": "1d2866cc",
   "metadata": {},
   "source": [
    "## Dataset\n",
    "\n",
    "![elections_head.png](elections_head.png)"
   ]
  },
  {
   "cell_type": "markdown",
   "id": "ed854707",
   "metadata": {},
   "source": [
    "## Task 1\n",
    "\n",
    "Assume `elections.csv` is the file containing the elections data, and it is in your current working directory already. Write a line of code to read the data into a Pandas DataFrame, storing it in a variable called `elections`. It's good practice to quickly check the contents of such variables to ensure you loaded up the right dataset, so follow up with a line of code whose output displays the first 10 rows of the dataset.\n",
    "\n",
    "*Answer*:"
   ]
  },
  {
   "cell_type": "code",
   "execution_count": null,
   "id": "da83b8da",
   "metadata": {},
   "outputs": [],
   "source": []
  },
  {
   "cell_type": "markdown",
   "id": "baf4670f",
   "metadata": {},
   "source": [
    "## Task 2\n",
    "\n",
    "We want to select the \"Popular vote\" column as a `pd.Series`. Which of the following lines of code will error?\n",
    "\n",
    "1. `elections['Popular vote']`\n",
    "2. `elections.iloc['Popular vote']`\n",
    "3. `elections.loc['Popular vote']`\n",
    "4. `elections.loc[:, 'Popular vote']`\n",
    "5. `elections.iloc[:, 'Popular vote']`\n",
    "\n",
    "*Answer:*"
   ]
  },
  {
   "cell_type": "code",
   "execution_count": 1,
   "id": "42c1572a",
   "metadata": {},
   "outputs": [],
   "source": [
    "#1."
   ]
  },
  {
   "cell_type": "code",
   "execution_count": null,
   "id": "40b27f25",
   "metadata": {},
   "outputs": [],
   "source": [
    "#2."
   ]
  },
  {
   "cell_type": "code",
   "execution_count": 2,
   "id": "a9087694",
   "metadata": {},
   "outputs": [],
   "source": [
    "#3."
   ]
  },
  {
   "cell_type": "code",
   "execution_count": 3,
   "id": "ac033c3a",
   "metadata": {},
   "outputs": [],
   "source": [
    "#4."
   ]
  },
  {
   "cell_type": "code",
   "execution_count": 4,
   "id": "2f28f4cf",
   "metadata": {},
   "outputs": [],
   "source": [
    "#5."
   ]
  },
  {
   "cell_type": "markdown",
   "id": "dc2fa590",
   "metadata": {},
   "source": [
    "## Task 3\n",
    "\n",
    "Write one line of Pandas code to display a Pandas DataFrame that only contains results from the 1900s.\n",
    "\n",
    "*Answer*:"
   ]
  },
  {
   "cell_type": "code",
   "execution_count": null,
   "id": "dad407f0",
   "metadata": {},
   "outputs": [],
   "source": []
  },
  {
   "cell_type": "markdown",
   "id": "701ba9a6",
   "metadata": {},
   "source": [
    "## Task 4"
   ]
  },
  {
   "cell_type": "markdown",
   "id": "77b6f29c",
   "metadata": {},
   "source": [
    "Write one line of Pandas code that will return a Pandas Series where index is the party, and the values are how many times that party won an election. Use `value_counts`.\n",
    "\n",
    "*Answer:*"
   ]
  },
  {
   "cell_type": "code",
   "execution_count": null,
   "id": "037501e2",
   "metadata": {},
   "outputs": [],
   "source": []
  },
  {
   "cell_type": "markdown",
   "id": "c4bfbe9f",
   "metadata": {},
   "source": [
    "## Task 5\n",
    "\n",
    "Which of the following lines of code returns a Pandas Series with the mean vote percentage for each political party, for all years given, sorted in decreasing order?\n",
    "\n",
    "1. elections.groupby('Party')['%'].agg('mean').sort_values()\n",
    "2. elections.groupby('Party')['%'].agg('mean').sort_values(ascending = False)\n",
    "3. elections.groupby('Party')['%'].mean().sort_values()\n",
    "4. elections.groupby('Party')['%'].mean().sort_values(ascending = False)\n",
    "\n",
    "*Answer*"
   ]
  },
  {
   "cell_type": "code",
   "execution_count": 6,
   "id": "7918bf69",
   "metadata": {},
   "outputs": [],
   "source": [
    "#1."
   ]
  },
  {
   "cell_type": "code",
   "execution_count": 7,
   "id": "a686d859",
   "metadata": {},
   "outputs": [],
   "source": [
    "#2."
   ]
  },
  {
   "cell_type": "code",
   "execution_count": 8,
   "id": "14b4e196",
   "metadata": {},
   "outputs": [],
   "source": [
    "#3."
   ]
  },
  {
   "cell_type": "code",
   "execution_count": 9,
   "id": "07d09a21",
   "metadata": {},
   "outputs": [],
   "source": [
    "#4."
   ]
  },
  {
   "cell_type": "markdown",
   "id": "96e35547",
   "metadata": {},
   "source": [
    "## Task 6 "
   ]
  },
  {
   "cell_type": "markdown",
   "id": "592bee66",
   "metadata": {},
   "source": [
    "Write a line of Pandas code that returns a Pandas series with the year as the index, and the total number of votes that were cast across all parties for that year.\n",
    "\n",
    "*Answer*"
   ]
  },
  {
   "cell_type": "code",
   "execution_count": null,
   "id": "379e37cf",
   "metadata": {},
   "outputs": [],
   "source": []
  },
  {
   "cell_type": "markdown",
   "id": "0355a5d6",
   "metadata": {},
   "source": [
    "## Task 7\n",
    "\n",
    "Finally, write a line of Pandas code that returns a Pandas Series whose index are the years and whose values are the number of candidates that participated in the election.\n",
    "\n",
    "*Answer:*"
   ]
  },
  {
   "cell_type": "code",
   "execution_count": null,
   "id": "417ef1e1",
   "metadata": {},
   "outputs": [],
   "source": []
  },
  {
   "cell_type": "markdown",
   "id": "7c809d5a-da2a-4de9-a459-770e97db1d6d",
   "metadata": {},
   "source": [
    "## Task 8\n",
    "\n",
    "Write a line of Pandas code that creates a filtered `DataFrame` named filtered_parties from the elections dataset and keeps only the parties that have at least one election % more than 50%. \n",
    "\n",
    "*Answer:*"
   ]
  },
  {
   "cell_type": "code",
   "execution_count": null,
   "id": "efad20c8-a987-4a2c-8858-9ee14e682683",
   "metadata": {},
   "outputs": [],
   "source": []
  },
  {
   "cell_type": "markdown",
   "id": "e33e2853-a448-4c53-a5b7-7bdce9e7fb74",
   "metadata": {},
   "source": [
    "## Task 9\n",
    "\n",
    "Write a line of Pandas code that using the filtered_parties `DataFrame` that returns a Pandas `DataFrame`, whose row indices correspond to year and whose columns correspond to party. Each entry should be the total percentage of votes for candidates for that year for that party.\n",
    "\n",
    "*Answer:*"
   ]
  },
  {
   "cell_type": "code",
   "execution_count": null,
   "id": "823db2eb-206f-4b3b-a4eb-81aae3d70bf8",
   "metadata": {},
   "outputs": [],
   "source": []
  }
 ],
 "metadata": {
  "kernelspec": {
   "display_name": "Python 3",
   "language": "python",
   "name": "python3"
  },
  "language_info": {
   "codemirror_mode": {
    "name": "ipython",
    "version": 3
   },
   "file_extension": ".py",
   "mimetype": "text/x-python",
   "name": "python",
   "nbconvert_exporter": "python",
   "pygments_lexer": "ipython3",
   "version": "3.9.13"
  },
  "vscode": {
   "interpreter": {
    "hash": "aea83e800b3f611b156506e3451d6446f84c720051bc83a1d66a677713fe7b36"
   }
  }
 },
 "nbformat": 4,
 "nbformat_minor": 5
}
