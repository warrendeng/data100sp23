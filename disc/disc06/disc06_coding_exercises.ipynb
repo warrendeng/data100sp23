{
 "cells": [
  {
   "cell_type": "markdown",
   "id": "f3535fe9",
   "metadata": {},
   "source": [
    "# Discussion 6"
   ]
  },
  {
   "cell_type": "markdown",
   "id": "30a82fcf",
   "metadata": {},
   "source": [
    "## Geometry of Least Squares"
   ]
  },
  {
   "attachments": {},
   "cell_type": "markdown",
   "id": "17da04b5",
   "metadata": {},
   "source": [
    "#### **1)** \n",
    "\n",
    "Suppose we have a dataset represented with the design matrix $\\text{span}(\\mathbb{X})$ and response vector $\\mathbb{Y}$. We use linear regression to solve for this and obtain optimal weights as $\\hat{\\theta}$. Label the following terms on the geometric interpretation of ordinary least squares:\n",
    "\n",
    "<img src = \"images/blank.jpg\"></img>"
   ]
  },
  {
   "attachments": {},
   "cell_type": "markdown",
   "id": "a946d933",
   "metadata": {},
   "source": [
    "answer:"
   ]
  },
  {
   "attachments": {},
   "cell_type": "markdown",
   "id": "95c8370c",
   "metadata": {},
   "source": [
    "#### **2)** \n",
    "Using the geometry of least squares, let’s answer a few questions about Ordinary Least Squares (OLS)!\n",
    "\n",
    "\n",
    "**a)** Which of the following are true about the optimal solution $\\hat{\\theta}$ to OLS? Recall that the least squares estimate $\\hat{\\theta}$ solves the normal equation $(\\Bbb{X}^T\\Bbb{X})\\theta = \\Bbb{X}^T\\Bbb{Y}$.\n",
    "\n",
    "\n",
    "A. Using the normal equation, we can derive an optimal solution for simple linear regression with an $L_2$ loss.\n",
    "\n",
    "B. Using the normal equation, we can derive an optimal solution for simple linear regression with an $L_1$ loss.\n",
    "\n",
    "C. Using the normal equation, we can derive an optimal solution for a constant model with an $L_2$ loss.\n",
    "\n",
    "D. Using the normal equation, we can derive an optimal solution for a constant model with an $L_1$ loss.\n",
    "\n",
    "E. Using the normal equation, we can derive an optimal solution for the model $\\hat{y} = \\theta_1 x + \\theta_2 \\sin(x^2)$.\n"
   ]
  },
  {
   "cell_type": "code",
   "execution_count": null,
   "id": "9fc35053",
   "metadata": {},
   "outputs": [],
   "source": [
    "q2a = ..."
   ]
  },
  {
   "attachments": {},
   "cell_type": "markdown",
   "id": "93bd022b",
   "metadata": {},
   "source": [
    "**(b)** Which of the following conditions are required for the least squares estimate in the previous subpart?\n",
    "\n",
    "A) $\\Bbb{X}$ must be full column rank.\n",
    "\n",
    "B) $\\Bbb{Y}$ must be full column rank.\n",
    "\n",
    "C) $\\Bbb{X}$ must be invertible.\n",
    "\n",
    "D) $\\Bbb{X^T}$ must be invertible."
   ]
  },
  {
   "cell_type": "code",
   "execution_count": null,
   "id": "74806e49",
   "metadata": {},
   "outputs": [],
   "source": [
    "q2b = ..."
   ]
  },
  {
   "attachments": {},
   "cell_type": "markdown",
   "id": "154433d0",
   "metadata": {},
   "source": [
    "**c)** What is always true about the residuals in the least squares regression? Select all that apply.\n",
    "\n",
    "A) They are orthogonal to the column space of the design matrix.\n",
    "\n",
    "B) They represent the errors of the predictions.\n",
    "\n",
    "C) Their sum is equal to the mean squared error.\n",
    "\n",
    "D) Their sum is equal to zero.\n",
    "\n",
    "E) None of the above."
   ]
  },
  {
   "cell_type": "code",
   "execution_count": null,
   "id": "b4598050",
   "metadata": {},
   "outputs": [],
   "source": [
    "q2c = ..."
   ]
  },
  {
   "attachments": {},
   "cell_type": "markdown",
   "id": "8f4a4d29",
   "metadata": {},
   "source": [
    "**d)** Which are true about the predictions made by OLS? Select all that apply.\n",
    "\n",
    "A) They are projections of the observations onto the column space of the design matrix.\n",
    "\n",
    "B) They are linear combinations of the features.\n",
    "\n",
    "C) They are orthogonal to the residuals.\n",
    "\n",
    "D) They are orthogonal to the column space of the features.\n",
    "\n",
    "E) None of the above."
   ]
  },
  {
   "cell_type": "markdown",
   "id": "502cbb80",
   "metadata": {},
   "source": []
  },
  {
   "cell_type": "code",
   "execution_count": 2,
   "id": "b936e613",
   "metadata": {},
   "outputs": [],
   "source": [
    "q2d = ..."
   ]
  },
  {
   "attachments": {},
   "cell_type": "markdown",
   "id": "283807af",
   "metadata": {},
   "source": [
    "**e)** We fit a simple linear regression to our data $(x_i, y_i)$ for $i \\in \\{1, 2, \\dots, n\\}$, where $n$ is the number of samples, $x_i$ is the independent variable, and $y_i$ is the dependent variable. Our regression line is of the form $\\hat{y} = \\hat{\\theta_0} + \\hat{\\theta_1}x$. Suppose we plot the relationship between the residuals of the model and the $\\hat{y}_i$'s and find that there is a curve. What does this tell us about our model?"
   ]
  },
  {
   "cell_type": "markdown",
   "id": "1bededbe",
   "metadata": {},
   "source": []
  },
  {
   "attachments": {},
   "cell_type": "markdown",
   "id": "256bfe16",
   "metadata": {},
   "source": [
    "**(f)** Which are the following is true of the mystery quantity $\\vec{v} = (I - \\Bbb{X}(\\Bbb{X}^T\\Bbb{X})^{-1}\\Bbb{X}^T) \\Bbb{Y}$?\n",
    "\n",
    "A) The vector $\\vec{v}$ represents the residuals for any linear model.\n",
    "\n",
    "B) If the $\\Bbb{X}$ matrix contains the $\\vec{1}$ vector, then the sum of the elements in vector $\\vec{v}$ is 0 (i.e. $\\sum_i v_i = 0$).\n",
    "\n",
    "C) All the column vectors $x_i$ of $\\Bbb{X}$ are orthogonal to $\\vec{v}$.\n",
    "\n",
    "D) If $\\Bbb{X}$ is of shape $n$ by $p$, there are $p$ elements in vector $\\vec{v}$.\n",
    "\n",
    "E) For any $\\alpha$, $\\Bbb{X}\\alpha$ is orthogonal to $\\vec{v}$."
   ]
  },
  {
   "cell_type": "code",
   "execution_count": 1,
   "id": "b33e5e19",
   "metadata": {},
   "outputs": [],
   "source": [
    "q2f = ..."
   ]
  },
  {
   "attachments": {},
   "cell_type": "markdown",
   "id": "edd9b6cd",
   "metadata": {},
   "source": [
    "**g)** Derive the least squares estimate $\\hat{\\theta}$ by leveraging the geometry of least squares. \n",
    "\n",
    "*Note:* While this isn't a \"proof\" or \"derivation\" class (and you certainly will not be asked to derive anything of this sort on an exam), we believe that understanding the geometry of least squares enough to derive the least squares estimate shows great understanding of all the linear regression concepts we want you to know! Additionally, it provides great practice with tricky linear algebra concepts such as rank, span, orthogonality, etc."
   ]
  },
  {
   "cell_type": "markdown",
   "id": "2862582b",
   "metadata": {},
   "source": []
  },
  {
   "cell_type": "markdown",
   "id": "2153eb61",
   "metadata": {},
   "source": [
    "## Driving with a Constant Model"
   ]
  },
  {
   "attachments": {},
   "cell_type": "markdown",
   "id": "c7ddd327",
   "metadata": {},
   "source": [
    "Adam is trying to use modeling to drive his car autonomously. To do this, he collects a lot of data where he drives around his neighborhood, and he wants your help to design a model that can drive on his behalf in the future using the outputs of the models you design. We will tackle two aspects of this autonomous car modeling framework: going forward and turning.\n",
    "\n",
    "We show some statistics from the collected dataset below using *pd.describe*, which returns the  mean, standard deviation, quartiles, minimum, and maximum for the two columns in the dataset: *target_speed* and *degree_turn*.\n",
    "\n",
    "\n",
    "<img src=\"images/describe.png\"></img>"
   ]
  },
  {
   "cell_type": "markdown",
   "id": "ef4ef3fc",
   "metadata": {},
   "source": [
    "**(a)** Suppose the model predicts the target speed of the car. Using constant models trained on the speeds of the collected data shown above with $L_1$ and $L_2$ loss functions, which of the following is true?"
   ]
  },
  {
   "cell_type": "markdown",
   "id": "01660e74",
   "metadata": {},
   "source": [
    "A. The model trained with the $L_1$ loss will always drive slower than the model trained with $L_2$ loss.\n",
    "\n",
    "B. The model trained with the $L_2$ loss will always drive slower than the model trained with $L_1$ loss.\n",
    "\n",
    "C. The model trained with the $L_1$ loss will sometimes drive slower than the model trained with $L_2$ loss.\n",
    "\n",
    "D. The model trained with the $L_2$ loss will sometimes drive slower than the model trained with $L_1$ loss."
   ]
  },
  {
   "cell_type": "code",
   "execution_count": 3,
   "id": "ad34ae5d",
   "metadata": {},
   "outputs": [
    {
     "data": {
      "text/plain": [
       "Ellipsis"
      ]
     },
     "execution_count": 3,
     "metadata": {},
     "output_type": "execute_result"
    }
   ],
   "source": [
    "q3a = ...\n",
    "q3a"
   ]
  },
  {
   "cell_type": "markdown",
   "id": "0b303427",
   "metadata": {},
   "source": [
    "**(b)** Finding that the model trained with the $L_2$ loss drives too slowly, Adam changes the loss function for the constant model where the loss is penalized \\textbf{more} if the speed is higher. That way, the model wants to optimize more for the case where we wish to drive faster since the loss is higher, accomplishing his goal. Adam writes this as $L(y, \\hat{y}) = y(y - \\hat{y})^2$.\n",
    "\n",
    "Find the optimal $\\hat{\\theta}$ for the constant model using the new empirical risk function $R(\\theta)$ below:\n",
    "\n",
    "$$\n",
    "R(\\theta) = \\frac{1}{n} \\sum_i y_i (y_i - \\theta)^2\n",
    "$$"
   ]
  },
  {
   "attachments": {},
   "cell_type": "markdown",
   "id": "b98b997b",
   "metadata": {},
   "source": [
    "answer:"
   ]
  },
  {
   "attachments": {},
   "cell_type": "markdown",
   "id": "dfa1912e",
   "metadata": {},
   "source": [
    "**(c)** Suppose he is working on a model that predicts the degree of turning at a particular time between 0 and 359 degrees using the data in the *degree_turn* column. Explain why a constant model is likely inappropriate in this use case.\n",
    "\n",
    "*Extra:* If you've studied some physics, you may recognize the behavior of our constant model!"
   ]
  },
  {
   "attachments": {},
   "cell_type": "markdown",
   "id": "24ca2d7c",
   "metadata": {},
   "source": [
    "answer:"
   ]
  },
  {
   "cell_type": "markdown",
   "id": "a102ac4c",
   "metadata": {},
   "source": [
    "**(d)** Suppose we finally expand our modeling framework to use simple linear regression (i.e. $f_\\theta(x) = \\theta_{w,0} + \\theta_{w,1}x$). For our first simple linear regression model, we predict the turn angle ($y$) using target speed ($x$). Our optimal parameters are: $\\hat{\\theta}_{w,1} = 0.019$ and $\\hat{\\theta}_{w,0} = 143.1$.\n",
    "\n",
    "However, we realize that we actually want a model that predicts target speed (our new $y$) using turn angle, our new $x$ (instead of the other way around)! What are our new optimal parameters for this new model? ($\\textit{Hint: use the information in the table.}$)"
   ]
  },
  {
   "attachments": {},
   "cell_type": "markdown",
   "id": "c2e4a202",
   "metadata": {},
   "source": [
    "answer:"
   ]
  },
  {
   "cell_type": "markdown",
   "id": "5a1be736",
   "metadata": {},
   "source": [
    "## Modeling using Multiple Regression"
   ]
  },
  {
   "cell_type": "markdown",
   "id": "eff571ff",
   "metadata": {},
   "source": [
    "We wish to model exam grades for $\\textit{Data 100}$ students. We collect various information about student habits, such as how many hours they studied, how many hours they slept before the exam, and how many lectures they attended, and observe how well they did on the exam. Suppose you collect such information on $n$ students and wish to use a multiple-regression model to predict exam grades.\n",
    "$$\n",
    "\\begin{bmatrix}\n",
    "         1&study_1 & sleep_1 & lectures_1 \\\\\n",
    "         1&...&... &... & \\\\\n",
    "         1&...&... &... & \\\\\n",
    "\\end{bmatrix}\n",
    "$$"
   ]
  },
  {
   "cell_type": "markdown",
   "id": "90f29c24",
   "metadata": {},
   "source": [
    "**(a)** Suppose on our $n$ individuals, we construct our design matrix $\\mathbb{X}$, adding an $\\textbf{intercept term}$, and use the OLS formula to obtain the following $\\hat{\\theta}$:\n",
    "$$\n",
    "\\begin{align*}\n",
    "    \\hat{\\theta} = \\begin{bmatrix} 0.5 \\\\ 3 \\\\ 2 \\\\ 1 \\end{bmatrix}\n",
    "\\end{align*}\n",
    "$$\n",
    "\n",
    "Suppose our design matrix $\\mathbb{X}$ was constructed such that the first is the bias, the second column represents how many hours each of the $n$ students studied, the third contains how many hours each student slept before the exam, and the fourth represents how many lectures each student attended. With this knowledge, give an interpretation of what each entry of $\\hat{\\theta}$ means in context."
   ]
  },
  {
   "attachments": {},
   "cell_type": "markdown",
   "id": "ca9c5e4e",
   "metadata": {},
   "source": [
    "answer:"
   ]
  },
  {
   "cell_type": "markdown",
   "id": "639a052b",
   "metadata": {},
   "source": [
    "**(b)** After fitting this model, suppose we have two individuals for which we would like to predict their exam grades using these variables. Suppose Individual 1, slept 10 hours, studied 15 hours, and attended 4 lectures. Suppose also Individual 2, slept 5 hours, studied 20 hours, and attended 10 lectures. Construct a matrix $\\mathbb{X}'$ such that, if you computed $\\mathbb{X}'\\hat{\\theta}$,\n",
    "you would obtain a vector of each individual's predicted exam scores."
   ]
  },
  {
   "attachments": {},
   "cell_type": "markdown",
   "id": "98c24c6c",
   "metadata": {},
   "source": [
    "answer:"
   ]
  },
  {
   "cell_type": "markdown",
   "id": "d174ab0b",
   "metadata": {},
   "source": [
    "**(c)** Denote $\\mathbb{Y}'$ as a $2 \\times 1$ vector that represents the actual exam scores of the individuals we are predicting on. Write out an expression that evaluates to the MSE of our predictions, written as a function of the squared L2-norm of a vector."
   ]
  },
  {
   "attachments": {},
   "cell_type": "markdown",
   "id": "a8501450",
   "metadata": {},
   "source": [
    "answer:"
   ]
  }
 ],
 "metadata": {
  "kernelspec": {
   "display_name": "Python 3",
   "language": "python",
   "name": "python3"
  },
  "language_info": {
   "codemirror_mode": {
    "name": "ipython",
    "version": 3
   },
   "file_extension": ".py",
   "mimetype": "text/x-python",
   "name": "python",
   "nbconvert_exporter": "python",
   "pygments_lexer": "ipython3",
   "version": "3.9.13"
  },
  "vscode": {
   "interpreter": {
    "hash": "aea83e800b3f611b156506e3451d6446f84c720051bc83a1d66a677713fe7b36"
   }
  }
 },
 "nbformat": 4,
 "nbformat_minor": 5
}
