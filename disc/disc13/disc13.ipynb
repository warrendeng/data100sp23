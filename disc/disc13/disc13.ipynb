{
 "cells": [
  {
   "cell_type": "markdown",
   "metadata": {},
   "source": [
    "# Discussion 13 Question 2"
   ]
  },
  {
   "cell_type": "code",
   "execution_count": 1,
   "metadata": {},
   "outputs": [],
   "source": [
    "import pandas as pd\n",
    "import numpy as np\n",
    "from sklearn.decomposition import PCA\n",
    "from sklearn.preprocessing import StandardScaler\n",
    "import matplotlib.pyplot as plt"
   ]
  },
  {
   "cell_type": "markdown",
   "metadata": {},
   "source": [
    "Minh wants to apply PCA to a dataset of food nutrition information in order to understand the different food groups. Provided is a Pandas Dataframe."
   ]
  },
  {
   "cell_type": "code",
   "execution_count": 2,
   "metadata": {},
   "outputs": [
    {
     "data": {
      "text/html": [
       "<div>\n",
       "<style scoped>\n",
       "    .dataframe tbody tr th:only-of-type {\n",
       "        vertical-align: middle;\n",
       "    }\n",
       "\n",
       "    .dataframe tbody tr th {\n",
       "        vertical-align: top;\n",
       "    }\n",
       "\n",
       "    .dataframe thead th {\n",
       "        text-align: right;\n",
       "    }\n",
       "</style>\n",
       "<table border=\"1\" class=\"dataframe\">\n",
       "  <thead>\n",
       "    <tr style=\"text-align: right;\">\n",
       "      <th></th>\n",
       "      <th>energy_kcal</th>\n",
       "      <th>protein_g</th>\n",
       "      <th>fat_g</th>\n",
       "      <th>carb_g</th>\n",
       "      <th>sugar_g</th>\n",
       "      <th>fiber_g</th>\n",
       "      <th>vita_mcg</th>\n",
       "      <th>vitb6_mg</th>\n",
       "      <th>vitb12_mcg</th>\n",
       "      <th>vitc_mg</th>\n",
       "      <th>...</th>\n",
       "      <th>riboflavin_mg</th>\n",
       "      <th>thiamin_mg</th>\n",
       "      <th>calcium_mg</th>\n",
       "      <th>copper_mcg</th>\n",
       "      <th>iron_mg</th>\n",
       "      <th>magnesium_mg</th>\n",
       "      <th>manganese_mg</th>\n",
       "      <th>phosphorus_mg</th>\n",
       "      <th>selenium_mcg</th>\n",
       "      <th>zinc_mg</th>\n",
       "    </tr>\n",
       "    <tr>\n",
       "      <th>id</th>\n",
       "      <th></th>\n",
       "      <th></th>\n",
       "      <th></th>\n",
       "      <th></th>\n",
       "      <th></th>\n",
       "      <th></th>\n",
       "      <th></th>\n",
       "      <th></th>\n",
       "      <th></th>\n",
       "      <th></th>\n",
       "      <th></th>\n",
       "      <th></th>\n",
       "      <th></th>\n",
       "      <th></th>\n",
       "      <th></th>\n",
       "      <th></th>\n",
       "      <th></th>\n",
       "      <th></th>\n",
       "      <th></th>\n",
       "      <th></th>\n",
       "      <th></th>\n",
       "    </tr>\n",
       "  </thead>\n",
       "  <tbody>\n",
       "    <tr>\n",
       "      <th>1001</th>\n",
       "      <td>717.0</td>\n",
       "      <td>0.85</td>\n",
       "      <td>81.11</td>\n",
       "      <td>0.06</td>\n",
       "      <td>0.06</td>\n",
       "      <td>0.0</td>\n",
       "      <td>684.0</td>\n",
       "      <td>0.003</td>\n",
       "      <td>0.17</td>\n",
       "      <td>0.0</td>\n",
       "      <td>...</td>\n",
       "      <td>0.034</td>\n",
       "      <td>0.005</td>\n",
       "      <td>24.0</td>\n",
       "      <td>0.000</td>\n",
       "      <td>0.02</td>\n",
       "      <td>2.0</td>\n",
       "      <td>0.000</td>\n",
       "      <td>24.0</td>\n",
       "      <td>1.0</td>\n",
       "      <td>0.09</td>\n",
       "    </tr>\n",
       "    <tr>\n",
       "      <th>1002</th>\n",
       "      <td>717.0</td>\n",
       "      <td>0.85</td>\n",
       "      <td>81.11</td>\n",
       "      <td>0.06</td>\n",
       "      <td>0.06</td>\n",
       "      <td>0.0</td>\n",
       "      <td>684.0</td>\n",
       "      <td>0.003</td>\n",
       "      <td>0.13</td>\n",
       "      <td>0.0</td>\n",
       "      <td>...</td>\n",
       "      <td>0.034</td>\n",
       "      <td>0.005</td>\n",
       "      <td>24.0</td>\n",
       "      <td>0.016</td>\n",
       "      <td>0.16</td>\n",
       "      <td>2.0</td>\n",
       "      <td>0.004</td>\n",
       "      <td>23.0</td>\n",
       "      <td>1.0</td>\n",
       "      <td>0.05</td>\n",
       "    </tr>\n",
       "    <tr>\n",
       "      <th>1003</th>\n",
       "      <td>876.0</td>\n",
       "      <td>0.28</td>\n",
       "      <td>99.48</td>\n",
       "      <td>0.00</td>\n",
       "      <td>0.00</td>\n",
       "      <td>0.0</td>\n",
       "      <td>840.0</td>\n",
       "      <td>0.001</td>\n",
       "      <td>0.01</td>\n",
       "      <td>0.0</td>\n",
       "      <td>...</td>\n",
       "      <td>0.005</td>\n",
       "      <td>0.001</td>\n",
       "      <td>4.0</td>\n",
       "      <td>0.001</td>\n",
       "      <td>0.00</td>\n",
       "      <td>0.0</td>\n",
       "      <td>0.000</td>\n",
       "      <td>3.0</td>\n",
       "      <td>0.0</td>\n",
       "      <td>0.01</td>\n",
       "    </tr>\n",
       "    <tr>\n",
       "      <th>1004</th>\n",
       "      <td>353.0</td>\n",
       "      <td>21.40</td>\n",
       "      <td>28.74</td>\n",
       "      <td>2.34</td>\n",
       "      <td>0.50</td>\n",
       "      <td>0.0</td>\n",
       "      <td>198.0</td>\n",
       "      <td>0.166</td>\n",
       "      <td>1.22</td>\n",
       "      <td>0.0</td>\n",
       "      <td>...</td>\n",
       "      <td>0.382</td>\n",
       "      <td>0.029</td>\n",
       "      <td>528.0</td>\n",
       "      <td>0.040</td>\n",
       "      <td>0.31</td>\n",
       "      <td>23.0</td>\n",
       "      <td>0.009</td>\n",
       "      <td>387.0</td>\n",
       "      <td>14.5</td>\n",
       "      <td>2.66</td>\n",
       "    </tr>\n",
       "    <tr>\n",
       "      <th>1005</th>\n",
       "      <td>371.0</td>\n",
       "      <td>23.24</td>\n",
       "      <td>29.68</td>\n",
       "      <td>2.79</td>\n",
       "      <td>0.51</td>\n",
       "      <td>0.0</td>\n",
       "      <td>292.0</td>\n",
       "      <td>0.065</td>\n",
       "      <td>1.26</td>\n",
       "      <td>0.0</td>\n",
       "      <td>...</td>\n",
       "      <td>0.351</td>\n",
       "      <td>0.014</td>\n",
       "      <td>674.0</td>\n",
       "      <td>0.024</td>\n",
       "      <td>0.43</td>\n",
       "      <td>24.0</td>\n",
       "      <td>0.012</td>\n",
       "      <td>451.0</td>\n",
       "      <td>14.5</td>\n",
       "      <td>2.60</td>\n",
       "    </tr>\n",
       "    <tr>\n",
       "      <th>...</th>\n",
       "      <td>...</td>\n",
       "      <td>...</td>\n",
       "      <td>...</td>\n",
       "      <td>...</td>\n",
       "      <td>...</td>\n",
       "      <td>...</td>\n",
       "      <td>...</td>\n",
       "      <td>...</td>\n",
       "      <td>...</td>\n",
       "      <td>...</td>\n",
       "      <td>...</td>\n",
       "      <td>...</td>\n",
       "      <td>...</td>\n",
       "      <td>...</td>\n",
       "      <td>...</td>\n",
       "      <td>...</td>\n",
       "      <td>...</td>\n",
       "      <td>...</td>\n",
       "      <td>...</td>\n",
       "      <td>...</td>\n",
       "      <td>...</td>\n",
       "    </tr>\n",
       "    <tr>\n",
       "      <th>16427</th>\n",
       "      <td>76.0</td>\n",
       "      <td>8.08</td>\n",
       "      <td>4.78</td>\n",
       "      <td>1.88</td>\n",
       "      <td>0.00</td>\n",
       "      <td>0.3</td>\n",
       "      <td>4.0</td>\n",
       "      <td>0.047</td>\n",
       "      <td>0.00</td>\n",
       "      <td>0.1</td>\n",
       "      <td>...</td>\n",
       "      <td>0.052</td>\n",
       "      <td>0.081</td>\n",
       "      <td>350.0</td>\n",
       "      <td>0.193</td>\n",
       "      <td>5.36</td>\n",
       "      <td>30.0</td>\n",
       "      <td>0.605</td>\n",
       "      <td>97.0</td>\n",
       "      <td>8.9</td>\n",
       "      <td>0.80</td>\n",
       "    </tr>\n",
       "    <tr>\n",
       "      <th>16428</th>\n",
       "      <td>472.0</td>\n",
       "      <td>47.94</td>\n",
       "      <td>30.34</td>\n",
       "      <td>12.79</td>\n",
       "      <td>0.00</td>\n",
       "      <td>1.2</td>\n",
       "      <td>0.0</td>\n",
       "      <td>0.286</td>\n",
       "      <td>0.00</td>\n",
       "      <td>0.7</td>\n",
       "      <td>...</td>\n",
       "      <td>0.317</td>\n",
       "      <td>0.494</td>\n",
       "      <td>2134.0</td>\n",
       "      <td>1.179</td>\n",
       "      <td>9.73</td>\n",
       "      <td>181.0</td>\n",
       "      <td>3.689</td>\n",
       "      <td>483.0</td>\n",
       "      <td>54.3</td>\n",
       "      <td>4.90</td>\n",
       "    </tr>\n",
       "    <tr>\n",
       "      <th>16429</th>\n",
       "      <td>271.0</td>\n",
       "      <td>17.19</td>\n",
       "      <td>20.18</td>\n",
       "      <td>10.50</td>\n",
       "      <td>0.00</td>\n",
       "      <td>3.9</td>\n",
       "      <td>0.0</td>\n",
       "      <td>0.099</td>\n",
       "      <td>0.00</td>\n",
       "      <td>0.0</td>\n",
       "      <td>...</td>\n",
       "      <td>0.050</td>\n",
       "      <td>0.170</td>\n",
       "      <td>961.0</td>\n",
       "      <td>0.398</td>\n",
       "      <td>4.87</td>\n",
       "      <td>95.0</td>\n",
       "      <td>1.495</td>\n",
       "      <td>287.0</td>\n",
       "      <td>28.5</td>\n",
       "      <td>1.99</td>\n",
       "    </tr>\n",
       "    <tr>\n",
       "      <th>16432</th>\n",
       "      <td>116.0</td>\n",
       "      <td>8.15</td>\n",
       "      <td>8.00</td>\n",
       "      <td>5.15</td>\n",
       "      <td>0.00</td>\n",
       "      <td>0.0</td>\n",
       "      <td>0.0</td>\n",
       "      <td>0.091</td>\n",
       "      <td>0.00</td>\n",
       "      <td>0.2</td>\n",
       "      <td>...</td>\n",
       "      <td>0.101</td>\n",
       "      <td>0.157</td>\n",
       "      <td>1229.0</td>\n",
       "      <td>0.376</td>\n",
       "      <td>1.98</td>\n",
       "      <td>58.0</td>\n",
       "      <td>1.174</td>\n",
       "      <td>73.0</td>\n",
       "      <td>17.3</td>\n",
       "      <td>1.56</td>\n",
       "    </tr>\n",
       "    <tr>\n",
       "      <th>16434</th>\n",
       "      <td>118.0</td>\n",
       "      <td>8.29</td>\n",
       "      <td>0.45</td>\n",
       "      <td>21.09</td>\n",
       "      <td>0.00</td>\n",
       "      <td>3.8</td>\n",
       "      <td>1.0</td>\n",
       "      <td>0.095</td>\n",
       "      <td>0.00</td>\n",
       "      <td>0.4</td>\n",
       "      <td>...</td>\n",
       "      <td>0.064</td>\n",
       "      <td>0.212</td>\n",
       "      <td>42.0</td>\n",
       "      <td>0.225</td>\n",
       "      <td>2.64</td>\n",
       "      <td>98.0</td>\n",
       "      <td>0.487</td>\n",
       "      <td>181.0</td>\n",
       "      <td>2.8</td>\n",
       "      <td>1.08</td>\n",
       "    </tr>\n",
       "  </tbody>\n",
       "</table>\n",
       "<p>5000 rows × 23 columns</p>\n",
       "</div>"
      ],
      "text/plain": [
       "       energy_kcal  protein_g  fat_g  carb_g  sugar_g  fiber_g  vita_mcg  \\\n",
       "id                                                                         \n",
       "1001         717.0       0.85  81.11    0.06     0.06      0.0     684.0   \n",
       "1002         717.0       0.85  81.11    0.06     0.06      0.0     684.0   \n",
       "1003         876.0       0.28  99.48    0.00     0.00      0.0     840.0   \n",
       "1004         353.0      21.40  28.74    2.34     0.50      0.0     198.0   \n",
       "1005         371.0      23.24  29.68    2.79     0.51      0.0     292.0   \n",
       "...            ...        ...    ...     ...      ...      ...       ...   \n",
       "16427         76.0       8.08   4.78    1.88     0.00      0.3       4.0   \n",
       "16428        472.0      47.94  30.34   12.79     0.00      1.2       0.0   \n",
       "16429        271.0      17.19  20.18   10.50     0.00      3.9       0.0   \n",
       "16432        116.0       8.15   8.00    5.15     0.00      0.0       0.0   \n",
       "16434        118.0       8.29   0.45   21.09     0.00      3.8       1.0   \n",
       "\n",
       "       vitb6_mg  vitb12_mcg  vitc_mg  ...  riboflavin_mg  thiamin_mg  \\\n",
       "id                                    ...                              \n",
       "1001      0.003        0.17      0.0  ...          0.034       0.005   \n",
       "1002      0.003        0.13      0.0  ...          0.034       0.005   \n",
       "1003      0.001        0.01      0.0  ...          0.005       0.001   \n",
       "1004      0.166        1.22      0.0  ...          0.382       0.029   \n",
       "1005      0.065        1.26      0.0  ...          0.351       0.014   \n",
       "...         ...         ...      ...  ...            ...         ...   \n",
       "16427     0.047        0.00      0.1  ...          0.052       0.081   \n",
       "16428     0.286        0.00      0.7  ...          0.317       0.494   \n",
       "16429     0.099        0.00      0.0  ...          0.050       0.170   \n",
       "16432     0.091        0.00      0.2  ...          0.101       0.157   \n",
       "16434     0.095        0.00      0.4  ...          0.064       0.212   \n",
       "\n",
       "       calcium_mg  copper_mcg  iron_mg  magnesium_mg  manganese_mg  \\\n",
       "id                                                                   \n",
       "1001         24.0       0.000     0.02           2.0         0.000   \n",
       "1002         24.0       0.016     0.16           2.0         0.004   \n",
       "1003          4.0       0.001     0.00           0.0         0.000   \n",
       "1004        528.0       0.040     0.31          23.0         0.009   \n",
       "1005        674.0       0.024     0.43          24.0         0.012   \n",
       "...           ...         ...      ...           ...           ...   \n",
       "16427       350.0       0.193     5.36          30.0         0.605   \n",
       "16428      2134.0       1.179     9.73         181.0         3.689   \n",
       "16429       961.0       0.398     4.87          95.0         1.495   \n",
       "16432      1229.0       0.376     1.98          58.0         1.174   \n",
       "16434        42.0       0.225     2.64          98.0         0.487   \n",
       "\n",
       "       phosphorus_mg  selenium_mcg  zinc_mg  \n",
       "id                                           \n",
       "1001            24.0           1.0     0.09  \n",
       "1002            23.0           1.0     0.05  \n",
       "1003             3.0           0.0     0.01  \n",
       "1004           387.0          14.5     2.66  \n",
       "1005           451.0          14.5     2.60  \n",
       "...              ...           ...      ...  \n",
       "16427           97.0           8.9     0.80  \n",
       "16428          483.0          54.3     4.90  \n",
       "16429          287.0          28.5     1.99  \n",
       "16432           73.0          17.3     1.56  \n",
       "16434          181.0           2.8     1.08  \n",
       "\n",
       "[5000 rows x 23 columns]"
      ]
     },
     "execution_count": 2,
     "metadata": {},
     "output_type": "execute_result"
    }
   ],
   "source": [
    "_df = pd.read_csv(\"food.csv\")\n",
    "_df = _df.drop(_df.columns[_df.columns.str.contains('_usrda')].values, axis=1)\n",
    "_df.set_index('id', inplace=True)\n",
    "df = _df.drop([\"foodgroup\",\"shortdescrip\", \"descrip\",\t\"commonname\",\"mfgname\",\"scientificname\"], axis=1)\n",
    "df"
   ]
  },
  {
   "cell_type": "markdown",
   "metadata": {},
   "source": [
    "## a)\n",
    "\n",
    "He needs to preprocess his current dataset in order to use PCA.\n",
    "Select all appropriate preprocessing steps used for PCA.\n",
    "\n",
    "- A. Transform each row to have a magnitude of 1 (Normalization)\n",
    "- B. Transform each column to have a mean of 0 (Centering)\n",
    "- C. Transform each column to have a mean of 0 and a standard deviation of 1 (Standardization)\n",
    "- D. None of the above\n",
    "\n",
    "\n",
    "*Answer: B,C*"
   ]
  },
  {
   "cell_type": "markdown",
   "metadata": {},
   "source": [
    "Now, implement the above preprocessing steps."
   ]
  },
  {
   "cell_type": "code",
   "execution_count": 3,
   "metadata": {},
   "outputs": [
    {
     "name": "stdout",
     "output_type": "stream",
     "text": [
      "mean:  -0.0\n",
      "standard dev:  1.0\n"
     ]
    }
   ],
   "source": [
    "from sklearn.preprocessing import StandardScaler\n",
    "\n",
    "### Begin Answer\n",
    "df_tfd = StandardScaler().fit_transform(df)\n",
    "\n",
    "print(\"mean: \", np.round(df_tfd.mean(), 2))\n",
    "print(\"standard dev: \", np.round(df_tfd.std(), 2))\n",
    "\n",
    "### End Answer"
   ]
  },
  {
   "cell_type": "markdown",
   "metadata": {},
   "source": [
    "## b) \n",
    "Now, write a line of code that returns the first 3 principal components of the centered DataFrame `df_tfd` using the singular value decomposition `u`, `s`, `vt` as the matrix of left singular vectors, the singular values, and the matrix of right singular vectors, respectively.\n",
    "\n",
    "Relevant documentation: `np.linalg.svd` [link](https://numpy.org/doc/stable/reference/generated/numpy.linalg.svd.html), `sklearn.decomposition.PCA` [link](https://scikit-learn.org/stable/modules/generated/sklearn.decomposition.PCA.html)"
   ]
  },
  {
   "cell_type": "code",
   "execution_count": 4,
   "metadata": {},
   "outputs": [],
   "source": [
    "np.random.seed(42)\n",
    "u, s, vt = ...,...,...\n",
    "first_3_pcs = ...\n",
    "\n",
    "### Begin Answer\n",
    "u, s, vt = np.linalg.svd(df_tfd, full_matrices = False)\n",
    "first_3_pcs = (df_tfd @ vt.T)[:, :3]\n",
    "#ALT\n",
    "fit = PCA()\n",
    "pca = fit.fit_transform(df_tfd)\n",
    "\n",
    "### End Answer"
   ]
  },
  {
   "cell_type": "markdown",
   "metadata": {},
   "source": [
    "## c) \n",
    "Lets try some exploratory Data Analysis With PCA!\n",
    "\n",
    "Which of the above matrices contains the contributions (i.e., directions) of each column to each PC? \n",
    "\n",
    "- rows of u\n",
    "- rows of v \n",
    "- columns of u\n",
    "- columns of v\n",
    "\n",
    "Write a line of code to extract the directions for the first 3 PCs as a 2D array named `directions`.\n",
    "\n"
   ]
  },
  {
   "cell_type": "code",
   "execution_count": 14,
   "metadata": {},
   "outputs": [],
   "source": [
    "directions = ...\n",
    "\n",
    "###Begin Answer\n",
    "directions = vt[0:3]\n",
    "###End Answer\n",
    "\n"
   ]
  },
  {
   "cell_type": "code",
   "execution_count": 15,
   "metadata": {},
   "outputs": [
    {
     "data": {
      "text/plain": [
       "True"
      ]
     },
     "execution_count": 15,
     "metadata": {},
     "output_type": "execute_result"
    }
   ],
   "source": [
    "### Sanity Check. Due to rounding, can't compare but they \n",
    "### should be close up to a negligible difference\n",
    "np.sum((u@np.diag(s)) - (df_tfd @ vt.T)) < 1e-10"
   ]
  },
  {
   "cell_type": "markdown",
   "metadata": {},
   "source": [
    "## d)\n",
    "\n",
    "For each principal component PC:\n",
    "\n",
    "i. Describe what foods with high loadings (i.e., scalars) for this PC have in common (1-2 sentences):\n",
    "\n",
    "ii. Which `food_group` do you think is high in this principal component?\n"
   ]
  },
  {
   "cell_type": "markdown",
   "metadata": {},
   "source": [
    "### d(i)"
   ]
  },
  {
   "cell_type": "markdown",
   "metadata": {},
   "source": [
    "**Component one** "
   ]
  },
  {
   "cell_type": "code",
   "execution_count": 16,
   "metadata": {},
   "outputs": [
    {
     "data": {
      "text/plain": [
       "fat_g           -0.035073\n",
       "vitc_mg         -0.067869\n",
       "selenium_mcg    -0.074796\n",
       "manganese_mg    -0.085957\n",
       "vita_mcg        -0.095240\n",
       "vite_mg         -0.119666\n",
       "protein_g       -0.133015\n",
       "sugar_g         -0.147937\n",
       "vitb12_mcg      -0.155078\n",
       "copper_mcg      -0.157359\n",
       "energy_kcal     -0.181772\n",
       "fiber_g         -0.194436\n",
       "calcium_mg      -0.194561\n",
       "phosphorus_mg   -0.226752\n",
       "magnesium_mg    -0.230442\n",
       "zinc_mg         -0.239580\n",
       "carb_g          -0.255452\n",
       "folate_mcg      -0.258890\n",
       "iron_mg         -0.299996\n",
       "vitb6_mg        -0.300296\n",
       "thiamin_mg      -0.304306\n",
       "niacin_mg       -0.305905\n",
       "riboflavin_mg   -0.316459\n",
       "dtype: float64"
      ]
     },
     "execution_count": 16,
     "metadata": {},
     "output_type": "execute_result"
    }
   ],
   "source": [
    "pc1_Series = pd.Series(directions[0], index=df.columns)\n",
    "pc1_Series.sort_values(ascending=False)"
   ]
  },
  {
   "cell_type": "markdown",
   "metadata": {},
   "source": [
    "**Component two**\n",
    "\n"
   ]
  },
  {
   "cell_type": "code",
   "execution_count": 17,
   "metadata": {},
   "outputs": [
    {
     "data": {
      "text/plain": [
       "protein_g        0.422203\n",
       "fat_g            0.362798\n",
       "phosphorus_mg    0.338534\n",
       "selenium_mcg     0.291209\n",
       "energy_kcal      0.278880\n",
       "copper_mcg       0.209213\n",
       "magnesium_mg     0.157697\n",
       "vitb12_mcg       0.122949\n",
       "vite_mg          0.100146\n",
       "zinc_mg          0.093152\n",
       "manganese_mg     0.047716\n",
       "vita_mcg         0.040021\n",
       "calcium_mg       0.016694\n",
       "niacin_mg       -0.040201\n",
       "riboflavin_mg   -0.090732\n",
       "thiamin_mg      -0.103820\n",
       "fiber_g         -0.108466\n",
       "vitb6_mg        -0.116892\n",
       "iron_mg         -0.132586\n",
       "vitc_mg         -0.136524\n",
       "folate_mcg      -0.193442\n",
       "sugar_g         -0.297866\n",
       "carb_g          -0.312896\n",
       "dtype: float64"
      ]
     },
     "execution_count": 17,
     "metadata": {},
     "output_type": "execute_result"
    }
   ],
   "source": [
    "pc2_Series = pd.Series(directions[1], index=df.columns)\n",
    "pc2_Series.sort_values(ascending=False)"
   ]
  },
  {
   "cell_type": "markdown",
   "metadata": {},
   "source": [
    "**Component three**\n"
   ]
  },
  {
   "cell_type": "code",
   "execution_count": 18,
   "metadata": {},
   "outputs": [
    {
     "data": {
      "text/plain": [
       "vitb12_mcg       0.388414\n",
       "niacin_mg        0.206917\n",
       "vita_mcg         0.206259\n",
       "riboflavin_mg    0.193122\n",
       "selenium_mcg     0.186057\n",
       "protein_g        0.185546\n",
       "zinc_mg          0.158426\n",
       "vitb6_mg         0.152337\n",
       "folate_mcg       0.070548\n",
       "thiamin_mg       0.067591\n",
       "copper_mcg       0.056354\n",
       "vitc_mg          0.015745\n",
       "iron_mg         -0.027988\n",
       "phosphorus_mg   -0.037842\n",
       "manganese_mg    -0.131590\n",
       "sugar_g         -0.169119\n",
       "calcium_mg      -0.201840\n",
       "vite_mg         -0.222214\n",
       "carb_g          -0.231385\n",
       "magnesium_mg    -0.263446\n",
       "fiber_g         -0.305530\n",
       "fat_g           -0.336254\n",
       "energy_kcal     -0.358543\n",
       "dtype: float64"
      ]
     },
     "execution_count": 18,
     "metadata": {},
     "output_type": "execute_result"
    }
   ],
   "source": [
    "pc3_Series = pd.Series(directions[2], index=df.columns)\n",
    "pc3_Series.sort_values(ascending=False)"
   ]
  },
  {
   "cell_type": "markdown",
   "metadata": {},
   "source": [
    "### d(ii) : Now let's look at which food groups are highest in each component"
   ]
  },
  {
   "cell_type": "markdown",
   "metadata": {},
   "source": [
    "## 1 "
   ]
  },
  {
   "cell_type": "code",
   "execution_count": 10,
   "metadata": {},
   "outputs": [],
   "source": [
    "pca = _df.copy()\n",
    "pcs = u@np.diag(s)\n",
    "pca[\"pc1\"] = pcs[:,0]\n",
    "pca[\"pc2\"] = pcs[:,1]\n",
    "pca[\"pc3\"] = pcs[:,2]"
   ]
  },
  {
   "cell_type": "code",
   "execution_count": 11,
   "metadata": {},
   "outputs": [
    {
     "data": {
      "text/plain": [
       "Breakfast Cereals                    240\n",
       "Nut and Seed Products                 52\n",
       "Legumes and Legume Products           52\n",
       "Baby Foods                            43\n",
       "Spices and Herbs                      34\n",
       "Beverages                             20\n",
       "Vegetables and Vegetable Products     18\n",
       "Dairy and Egg Products                14\n",
       "Poultry Products                       9\n",
       "Finfish and Shellfish Products         8\n",
       "Beef Products                          5\n",
       "Pork Products                          2\n",
       "Soups, Sauces, and Gravies             1\n",
       "Sausages and Luncheon Meats            1\n",
       "Fats and Oils                          1\n",
       "Name: foodgroup, dtype: int64"
      ]
     },
     "execution_count": 11,
     "metadata": {},
     "output_type": "execute_result"
    }
   ],
   "source": [
    "pca.sort_values(by='pc1')['foodgroup'][:500].value_counts()"
   ]
  },
  {
   "cell_type": "markdown",
   "metadata": {},
   "source": [
    "## 2"
   ]
  },
  {
   "cell_type": "code",
   "execution_count": 12,
   "metadata": {},
   "outputs": [
    {
     "data": {
      "text/plain": [
       "Breakfast Cereals                    242\n",
       "Fruits and Fruit Juices              119\n",
       "Beverages                             55\n",
       "Baby Foods                            32\n",
       "Vegetables and Vegetable Products     23\n",
       "Spices and Herbs                      10\n",
       "Dairy and Egg Products                 5\n",
       "Legumes and Legume Products            4\n",
       "Fats and Oils                          4\n",
       "Soups, Sauces, and Gravies             3\n",
       "Snacks                                 2\n",
       "Nut and Seed Products                  1\n",
       "Name: foodgroup, dtype: int64"
      ]
     },
     "execution_count": 12,
     "metadata": {},
     "output_type": "execute_result"
    }
   ],
   "source": [
    "\n",
    "pca.sort_values(by='pc2')['foodgroup'][:500].value_counts()"
   ]
  },
  {
   "cell_type": "markdown",
   "metadata": {},
   "source": [
    "## 3"
   ]
  },
  {
   "cell_type": "code",
   "execution_count": 13,
   "metadata": {},
   "outputs": [
    {
     "data": {
      "text/plain": [
       "Fats and Oils                        131\n",
       "Nut and Seed Products                 91\n",
       "Breakfast Cereals                     66\n",
       "Legumes and Legume Products           52\n",
       "Spices and Herbs                      43\n",
       "Baby Foods                            37\n",
       "Beverages                             32\n",
       "Fruits and Fruit Juices               18\n",
       "Vegetables and Vegetable Products     11\n",
       "Dairy and Egg Products                10\n",
       "Pork Products                          4\n",
       "Beef Products                          3\n",
       "Soups, Sauces, and Gravies             1\n",
       "Poultry Products                       1\n",
       "Name: foodgroup, dtype: int64"
      ]
     },
     "execution_count": 13,
     "metadata": {},
     "output_type": "execute_result"
    }
   ],
   "source": [
    "pca.sort_values(by='pc3')['foodgroup'][:500].value_counts()"
   ]
  },
  {
   "cell_type": "markdown",
   "metadata": {},
   "source": [
    "[source](https://data.world/exercises/pca-exercise-1-solutions)"
   ]
  }
 ],
 "metadata": {
  "kernelspec": {
   "display_name": "Python 3 (ipykernel)",
   "language": "python",
   "name": "python3"
  },
  "language_info": {
   "codemirror_mode": {
    "name": "ipython",
    "version": 3
   },
   "file_extension": ".py",
   "mimetype": "text/x-python",
   "name": "python",
   "nbconvert_exporter": "python",
   "pygments_lexer": "ipython3",
   "version": "3.9.10"
  }
 },
 "nbformat": 4,
 "nbformat_minor": 1
}
