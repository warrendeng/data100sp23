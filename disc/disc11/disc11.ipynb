{
 "cells": [
  {
   "cell_type": "markdown",
   "metadata": {},
   "source": [
    "# Discussion 11\n",
    "\n",
    "## SQL!!!"
   ]
  },
  {
   "cell_type": "code",
   "execution_count": 2,
   "metadata": {},
   "outputs": [],
   "source": [
    "import gzip\n",
    "import sqlite3\n",
    "import requests\n",
    "from pathlib import Path\n",
    "import time \n",
    "import math\n"
   ]
  },
  {
   "cell_type": "code",
   "execution_count": 3,
   "metadata": {},
   "outputs": [
    {
     "data": {
      "text/html": [
       "<div>\n",
       "<style scoped>\n",
       "    .dataframe tbody tr th:only-of-type {\n",
       "        vertical-align: middle;\n",
       "    }\n",
       "\n",
       "    .dataframe tbody tr th {\n",
       "        vertical-align: top;\n",
       "    }\n",
       "\n",
       "    .dataframe thead th {\n",
       "        text-align: right;\n",
       "    }\n",
       "</style>\n",
       "<table border=\"1\" class=\"dataframe\">\n",
       "  <thead>\n",
       "    <tr style=\"text-align: right;\">\n",
       "      <th></th>\n",
       "      <th>j_name</th>\n",
       "      <th>c_name</th>\n",
       "      <th>c_location</th>\n",
       "      <th>m_name</th>\n",
       "    </tr>\n",
       "  </thead>\n",
       "  <tbody>\n",
       "    <tr>\n",
       "      <th>0</th>\n",
       "      <td>Llama Technician</td>\n",
       "      <td>Google</td>\n",
       "      <td>MOUNTAIN VIEW</td>\n",
       "      <td>EECS</td>\n",
       "    </tr>\n",
       "    <tr>\n",
       "      <th>1</th>\n",
       "      <td>Software Engineer</td>\n",
       "      <td>Salesforce</td>\n",
       "      <td>SF</td>\n",
       "      <td>EECS</td>\n",
       "    </tr>\n",
       "    <tr>\n",
       "      <th>2</th>\n",
       "      <td>Open Source Maintainer</td>\n",
       "      <td>Github</td>\n",
       "      <td>SF</td>\n",
       "      <td>Computer Science</td>\n",
       "    </tr>\n",
       "    <tr>\n",
       "      <th>3</th>\n",
       "      <td>Big Data Engineer</td>\n",
       "      <td>Microsoft</td>\n",
       "      <td>REDMOND</td>\n",
       "      <td>Data Science</td>\n",
       "    </tr>\n",
       "    <tr>\n",
       "      <th>4</th>\n",
       "      <td>Data Analyst</td>\n",
       "      <td>Startup</td>\n",
       "      <td>BERKELEY</td>\n",
       "      <td>Data Science</td>\n",
       "    </tr>\n",
       "    <tr>\n",
       "      <th>5</th>\n",
       "      <td>Analyst Intern</td>\n",
       "      <td>Google</td>\n",
       "      <td>SF</td>\n",
       "      <td>Philosophy</td>\n",
       "    </tr>\n",
       "  </tbody>\n",
       "</table>\n",
       "</div>"
      ],
      "text/plain": [
       "                   j_name      c_name     c_location            m_name\n",
       "0        Llama Technician      Google  MOUNTAIN VIEW              EECS\n",
       "1       Software Engineer  Salesforce             SF              EECS\n",
       "2  Open Source Maintainer      Github             SF  Computer Science\n",
       "3       Big Data Engineer   Microsoft        REDMOND      Data Science\n",
       "4            Data Analyst     Startup       BERKELEY      Data Science\n",
       "5          Analyst Intern      Google             SF        Philosophy"
      ]
     },
     "execution_count": 3,
     "metadata": {},
     "output_type": "execute_result"
    }
   ],
   "source": [
    "import pandas as pd\n",
    "\n",
    "data = {'j_name': ['Llama Technician','Software Engineer','Open Source Maintainer','Big Data Engineer', 'Data Analyst', 'Analyst Intern'],\n",
    "        'c_name': [\"Google\",\"Salesforce\", \"Github\",\"Microsoft\",\"Startup\",\"Google\"],\n",
    "        'c_location' : [\"MOUNTAIN VIEW\", \"SF\", \"SF\", \"REDMOND\", \"BERKELEY\",\"SF\"],\n",
    "        'm_name': [\"EECS\",\"EECS\",\"Computer Science\", \"Data Science\", \"Data Science\",\"Philosophy\"]\n",
    "        }\n",
    "\n",
    "df = pd.DataFrame(data, columns = list(data.keys()))\n",
    "df"
   ]
  },
  {
   "cell_type": "markdown",
   "metadata": {},
   "source": [
    "# Dataframe to Database"
   ]
  },
  {
   "cell_type": "code",
   "execution_count": 4,
   "metadata": {},
   "outputs": [],
   "source": [
    "conn = sqlite3.connect('test_database')\n",
    "c = conn.cursor()"
   ]
  },
  {
   "cell_type": "code",
   "execution_count": 5,
   "metadata": {},
   "outputs": [],
   "source": [
    "c.execute('CREATE TABLE IF NOT EXISTS survey (j_name text, c_name text, c_location, m_name)')\n",
    "conn.commit()\n"
   ]
  },
  {
   "cell_type": "code",
   "execution_count": 6,
   "metadata": {},
   "outputs": [
    {
     "data": {
      "text/plain": [
       "6"
      ]
     },
     "execution_count": 6,
     "metadata": {},
     "output_type": "execute_result"
    }
   ],
   "source": [
    "df.to_sql('survey', conn, if_exists='replace', index = False)\n"
   ]
  },
  {
   "cell_type": "markdown",
   "metadata": {},
   "source": [
    "# Q1 \n",
    "\n",
    "a) Write a SQL query that selects all data science major graduates that got jobs in Berkeley.\n",
    "The result generated by your query should include all 4 columns."
   ]
  },
  {
   "cell_type": "code",
   "execution_count": 7,
   "metadata": {},
   "outputs": [],
   "source": [
    "q1a = '''\n",
    "\n",
    "\n",
    "\n",
    "\n",
    "\n",
    "'''\n",
    "\n",
    "\n",
    "c.execute(q1a)\n",
    "\n",
    "for row in c.fetchall():\n",
    "    print (row)"
   ]
  },
  {
   "cell_type": "markdown",
   "metadata": {},
   "source": [
    "b) Write a SQL query to find the top 5 popular companies that data science graduates will\n",
    "work at, from most popular to 5th most popular."
   ]
  },
  {
   "cell_type": "code",
   "execution_count": null,
   "metadata": {},
   "outputs": [],
   "source": [
    "q1b = '''\n",
    "\n",
    "\n",
    "\n",
    "\n",
    "\n",
    "'''\n",
    "\n",
    "\n",
    "c.execute(q1b)\n",
    "\n",
    "for row in c.fetchall():\n",
    "    print (row)"
   ]
  },
  {
   "cell_type": "markdown",
   "metadata": {},
   "source": [
    "# Q3\n",
    "\n",
    "Consider the following real estate schema:\n"
   ]
  },
  {
   "cell_type": "code",
   "execution_count": 7,
   "metadata": {},
   "outputs": [
    {
     "data": {
      "text/plain": [
       "4"
      ]
     },
     "execution_count": 7,
     "metadata": {},
     "output_type": "execute_result"
    }
   ],
   "source": [
    "data1 = {'home_id': [1,2,3,4],\n",
    "        'city': [\"SF\",\"San Jose\",\"SF\",\"Palo Alto\"],\n",
    "        'bedrooms': [2,1,5,3],\n",
    "        'bathrooms': [2,2,1,1],\n",
    "        'area': [500,750,1000,250] \n",
    "        }\n",
    "\n",
    "table1 = pd.DataFrame(data1, columns = list(data1.keys()))\n",
    "\n",
    "table1.to_sql('Homes', conn, if_exists='replace', index = False)\n",
    "\n",
    "data2 = {'home_id': [1,2,3,4],\n",
    "        'buyer_id': [5,6,7,8],\n",
    "        'seller_id': [8,7,6,5],\n",
    "        'transaction_data': ['1/12/2001','4/14/2001','8/11/2001','12/21/2001'],\n",
    "        'sale_price': [1000,500,750,500]\n",
    "        }\n",
    "\n",
    "table2 = pd.DataFrame(data2, columns = list(data2.keys()))\n",
    "\n",
    "table2.to_sql('Transactions', conn, if_exists='replace', index = False)\n",
    "\n",
    "\n",
    "data3 = {'buyer_id': [5,6,7,8],\n",
    "        'name': [\"Bella\",\"Kanu\",\"Rahul\",\"Minh\"],\n",
    "        }\n",
    "\n",
    "table3 = pd.DataFrame(data3, columns = list(data3.keys()))\n",
    "\n",
    "table3.to_sql('Buyers', conn, if_exists='replace', index = False)\n",
    "\n",
    "data4 = {'seller_id': [8,7,6,5],\n",
    "        'name': [\"Minh\",\"Rahul\",\"Kanu\",\"Bella\"],\n",
    "        }\n",
    "\n",
    "table4 = pd.DataFrame(data4, columns = list(data4.keys()))\n",
    "\n",
    "table4.to_sql('Seller', conn, if_exists='replace', index = False)\n"
   ]
  },
  {
   "cell_type": "code",
   "execution_count": 8,
   "metadata": {},
   "outputs": [],
   "source": [
    "schema1 ='''CREATE TABLE IF NOT EXISTS \n",
    "            Homes (home_id int,\n",
    "                    city text,\n",
    "                    bedrooms int,\n",
    "                    bathrooms int, \n",
    "                    area int)\n",
    "        '''\n",
    "schema2 = '''CREATE TABLE IF NOT EXISTS \n",
    "            Transactions (home_id int, \n",
    "                        buyer id int, \n",
    "                        seller_id int, \n",
    "                        transaction_date text, \n",
    "                        sale_price int)\n",
    "        '''\n",
    "schema3 = '''CREATE TABLE IF NOT EXISTS \n",
    "            Buyers (buyer_id int, \n",
    "                    name text)\n",
    "        '''\n",
    "schema4 = '''CREATE TABLE IF NOT EXISTS \n",
    "            Sellers (seller_id int, \n",
    "                    name text)\n",
    "        '''\n",
    "\n",
    "c.execute(schema1)\n",
    "conn.commit()\n",
    "c.execute(schema2)\n",
    "conn.commit()\n",
    "c.execute(schema3)\n",
    "conn.commit()\n",
    "c.execute(schema4)\n",
    "conn.commit()\n"
   ]
  },
  {
   "cell_type": "markdown",
   "metadata": {},
   "source": [
    "Fill in the blanks in the SQL query to find the id and selling price for each home in Berkeley.\n",
    "If the home has not been sold yet, the price should be NULL."
   ]
  },
  {
   "cell_type": "code",
   "execution_count": 13,
   "metadata": {},
   "outputs": [],
   "source": [
    "q3 = '''\n",
    "\n",
    "\n",
    "'''\n",
    "c.execute(q3)\n",
    "\n",
    "for row in c.fetchall():\n",
    "    print (row)"
   ]
  },
  {
   "cell_type": "markdown",
   "metadata": {},
   "source": [
    "# Q4\n",
    "\n",
    "Examine this schema for these two tables:\n"
   ]
  },
  {
   "cell_type": "code",
   "execution_count": 12,
   "metadata": {},
   "outputs": [],
   "source": [
    "data5 = {'id': [10,11,12],\n",
    "        'name': [\"Alice\",\"Bob\",\"Candice\"],\n",
    "        }\n",
    "\n",
    "table5 = pd.DataFrame(data5, columns = list(data5.keys()))\n",
    "\n",
    "table5.to_sql('cat_owners', conn, if_exists='replace', index = False)\n",
    "\n",
    "data6 = {'id': [51,52,53,54,55],\n",
    "        'owner_id': [\"Alice\",\"Alice\",\"Bob\",\"Bob\",\"Candice\"],\n",
    "        'name': [\"Mittens\",\"Whisker\",\"Felix\",\"Lucky\",\"Fluffy\"],\n",
    "        'breed' : [\"Tabby\",\"Black\",\"Orange\",\"Tabby\",\"Black\"],\n",
    "        'age': [1,2,1,2,1]\n",
    "        }\n",
    "\n",
    "table6 = pd.DataFrame(data6, columns = list(data6.keys()))\n",
    "\n",
    "table6.to_sql('cats', conn, if_exists='replace', index = False)\n",
    "\n",
    "schema5 = '''\n",
    "            CREATE TABLE IF NOT EXISTS \n",
    "            cat_owners(id int, \n",
    "                    name text, \n",
    "                    age int, \n",
    "                    PRIMARY KEY(id));\n",
    "            '''\n",
    "schema6 = '''\n",
    "            CREATE TABLE IF NOT EXISTS \n",
    "            cats(id int, \n",
    "                owner_id int, \n",
    "                name text, \n",
    "                breed text, \n",
    "                age int, \n",
    "                PRIMARY KEY(id), \n",
    "                FOREIGN KEY(owner_id) REFERENCES owners);\n",
    "            '''\n",
    "c.execute(schema5)\n",
    "conn.commit()\n",
    "c.execute(schema6)\n",
    "conn.commit()"
   ]
  },
  {
   "cell_type": "markdown",
   "metadata": {},
   "source": [
    "a) Write a SQL query to create an almost identical table as cats, except with an additional\n",
    "column ’Nickname’ that has the value 'Kitten' for cats less than or equal to the age of 1,\n",
    "'Catto' for cats between 1 and 15, and 'Wise One' for cats older than or equal to 15"
   ]
  },
  {
   "cell_type": "code",
   "execution_count": null,
   "metadata": {},
   "outputs": [],
   "source": [
    "q4a = '''\n",
    "\n",
    "\n",
    "'''\n",
    "c.execute(q4a)\n",
    "\n",
    "for row in c.fetchall():\n",
    "    print (row)"
   ]
  },
  {
   "cell_type": "markdown",
   "metadata": {},
   "source": [
    "b) Write a SQL query to figure out the number of cats, over the age of 10, of each breed of cat."
   ]
  },
  {
   "cell_type": "code",
   "execution_count": 14,
   "metadata": {},
   "outputs": [],
   "source": [
    "q4b = '''\n",
    "\n",
    "\n",
    "'''\n",
    "c.execute(q4b)\n",
    "\n",
    "for row in c.fetchall():\n",
    "    print (row)"
   ]
  },
  {
   "cell_type": "markdown",
   "metadata": {},
   "source": [
    "c) Write a SQL query to figure out the number of cats each owner owns for cat owners\n",
    "whose id is greater than 10"
   ]
  },
  {
   "cell_type": "code",
   "execution_count": 15,
   "metadata": {},
   "outputs": [],
   "source": [
    "q4c = '''\n",
    "\n",
    "\n",
    "'''\n",
    "c.execute(q4c)\n",
    "\n",
    "for row in c.fetchall():\n",
    "    print (row)"
   ]
  },
  {
   "cell_type": "markdown",
   "metadata": {},
   "source": [
    "d) Write a SQL query to figure out the owner_id/owner of the one cat owner who owns the\n",
    "most cats"
   ]
  },
  {
   "cell_type": "code",
   "execution_count": 16,
   "metadata": {},
   "outputs": [],
   "source": [
    "q4d = '''\n",
    "\n",
    "\n",
    "'''\n",
    "c.execute(q4d)\n",
    "\n",
    "for row in c.fetchall():\n",
    "    print (row)"
   ]
  },
  {
   "cell_type": "markdown",
   "metadata": {},
   "source": [
    "e) Write a SQL query to figure out the names of all of the cat cat owners who have a cat\n",
    "named Apricot. "
   ]
  },
  {
   "cell_type": "code",
   "execution_count": 17,
   "metadata": {},
   "outputs": [],
   "source": [
    "q4e = '''\n",
    "\n",
    "\n",
    "'''\n",
    "c.execute(q4e)\n",
    "\n",
    "for row in c.fetchall():\n",
    "    print (row)"
   ]
  },
  {
   "cell_type": "markdown",
   "metadata": {},
   "source": [
    "f) It is possible to have a cat with an owner not in the cat owners table.\n",
    "\n",
    "True\n",
    "\n",
    "False\n",
    "\n",
    "your answer: *answer*"
   ]
  },
  {
   "cell_type": "markdown",
   "metadata": {},
   "source": [
    "g) Write a SQL query to get a random sample of 5 random Siamese Cat (a cat breed) with a\n",
    "name that starts with the letter A."
   ]
  },
  {
   "cell_type": "code",
   "execution_count": 18,
   "metadata": {},
   "outputs": [],
   "source": [
    "q4g = '''\n",
    "\n",
    "\n",
    "'''\n",
    "c.execute(q4g)\n",
    "\n",
    "for row in c.fetchall():\n",
    "    print (row)"
   ]
  },
  {
   "cell_type": "markdown",
   "metadata": {},
   "source": [
    "h) (Challenge) Write a SQL query to select all rows from the cats table that have cats of\n",
    "the top 5 most popular cat breeds."
   ]
  },
  {
   "cell_type": "code",
   "execution_count": null,
   "metadata": {},
   "outputs": [],
   "source": [
    "q4h = '''\n",
    "\n",
    "\n",
    "'''\n",
    "c.execute(q4h)\n",
    "\n",
    "for row in c.fetchall():\n",
    "    print (row)"
   ]
  }
 ],
 "metadata": {
  "history": [
   {
    "code": "import numpy as np",
    "id": "e03ee822cc7941e5863f0723eca7b32f",
    "idx": 0,
    "time": "2021-02-01T23:27:15.701Z",
    "type": "execution"
   },
   {
    "id": "e03ee822cc7941e5863f0723eca7b32f",
    "time": "2021-02-01T23:27:16.012Z",
    "type": "completion"
   },
   {
    "code": "psum = 0\nfor i in np.arange(1,25):\n    psum += i",
    "id": "a99f4962d8764231858c8662c0eda629",
    "idx": 1,
    "time": "2021-02-01T23:27:40.950Z",
    "type": "execution"
   },
   {
    "id": "a99f4962d8764231858c8662c0eda629",
    "time": "2021-02-01T23:27:42.055Z",
    "type": "completion"
   },
   {
    "code": "psum",
    "id": "42ea2fe1dcfb42178b4db5cbad763b27",
    "idx": 2,
    "time": "2021-02-01T23:27:44.325Z",
    "type": "execution"
   },
   {
    "id": "42ea2fe1dcfb42178b4db5cbad763b27",
    "time": "2021-02-01T23:27:44.419Z",
    "type": "completion"
   },
   {
    "code": "def foo(t, c, o):\n    return t + c + o",
    "id": "8babcdfe4430400abec0840f90a19be2",
    "idx": 1,
    "time": "2021-02-02T00:05:27.779Z",
    "type": "execution"
   },
   {
    "id": "8babcdfe4430400abec0840f90a19be2",
    "time": "2021-02-02T00:05:27.852Z",
    "type": "completion"
   },
   {
    "code": "psum = 0\nfor t in range(0, 25):\n    for c in range(0, 25-t):\n        o = 24 - t -c\n        psum += foo(t, c, o)\npsum",
    "id": "f23e1481f10b4f03a9a1af1daced3232",
    "idx": 3,
    "time": "2021-02-02T00:06:12.517Z",
    "type": "execution"
   },
   {
    "id": "f23e1481f10b4f03a9a1af1daced3232",
    "time": "2021-02-02T00:06:12.593Z",
    "type": "completion"
   },
   {
    "code": "import numpy as np\nimport matplotlib.pyplot as plt\n%matplotlib inline",
    "id": "06ffec8eed2f4a27b109de801c9e979b",
    "idx": 0,
    "time": "2021-02-08T22:29:47.543Z",
    "type": "execution"
   },
   {
    "id": "06ffec8eed2f4a27b109de801c9e979b",
    "time": "2021-02-08T22:29:48.050Z",
    "type": "completion"
   },
   {
    "code": "x =  np.random.choice(np.arange(10), 10000)",
    "id": "4fe735effc854b38867c42ca2f125d47",
    "idx": 1,
    "time": "2021-02-08T22:30:56.492Z",
    "type": "execution"
   },
   {
    "id": "4fe735effc854b38867c42ca2f125d47",
    "time": "2021-02-08T22:30:56.558Z",
    "type": "completion"
   },
   {
    "code": "x",
    "id": "b2d1b0807a8641c9803595eca99bc556",
    "idx": 2,
    "time": "2021-02-08T22:30:59.899Z",
    "type": "execution"
   },
   {
    "id": "b2d1b0807a8641c9803595eca99bc556",
    "time": "2021-02-08T22:30:59.976Z",
    "type": "completion"
   },
   {
    "code": "x_bias =  x + np.random.normal(size=10000)",
    "id": "18cd4fe3ba4e459f8feabc6d297a1a6d",
    "idx": 3,
    "time": "2021-02-08T22:31:20.570Z",
    "type": "execution"
   },
   {
    "id": "18cd4fe3ba4e459f8feabc6d297a1a6d",
    "time": "2021-02-08T22:31:20.645Z",
    "type": "completion"
   },
   {
    "code": "x_bias",
    "id": "ebeef9a125e24f858a7eb0bd63c41748",
    "idx": 4,
    "time": "2021-02-08T22:31:21.852Z",
    "type": "execution"
   },
   {
    "id": "ebeef9a125e24f858a7eb0bd63c41748",
    "time": "2021-02-08T22:31:21.920Z",
    "type": "completion"
   },
   {
    "code": "x_bias = x + np.random.choice([-1, 0, 1, 2], size=10000)",
    "id": "18cd4fe3ba4e459f8feabc6d297a1a6d",
    "idx": 3,
    "time": "2021-02-08T22:31:58.985Z",
    "type": "execution"
   },
   {
    "id": "18cd4fe3ba4e459f8feabc6d297a1a6d",
    "time": "2021-02-08T22:31:59.091Z",
    "type": "completion"
   },
   {
    "code": "x_bias",
    "id": "ebeef9a125e24f858a7eb0bd63c41748",
    "idx": 4,
    "time": "2021-02-08T22:31:59.857Z",
    "type": "execution"
   },
   {
    "id": "ebeef9a125e24f858a7eb0bd63c41748",
    "time": "2021-02-08T22:31:59.960Z",
    "type": "completion"
   },
   {
    "code": "np.mean(x)",
    "id": "35e1a08427744f458ae6df6cbbe76b43",
    "idx": 5,
    "time": "2021-02-08T22:32:10.910Z",
    "type": "execution"
   },
   {
    "id": "35e1a08427744f458ae6df6cbbe76b43",
    "time": "2021-02-08T22:32:13.118Z",
    "type": "completion"
   },
   {
    "code": "means = []\nn = 10\nfor _ in range(1000):\n    sam = np.random.choice(x_bias, size=n)\n    means.append(np.mean(sam))",
    "id": "d8146f43f8de4d32900171422fa79676",
    "idx": 6,
    "time": "2021-02-08T22:32:55.821Z",
    "type": "execution"
   },
   {
    "id": "d8146f43f8de4d32900171422fa79676",
    "time": "2021-02-08T22:32:55.983Z",
    "type": "completion"
   },
   {
    "code": "plt.hist(means)",
    "id": "d9355ed602a64c008badc48996df4e13",
    "idx": 7,
    "time": "2021-02-08T22:32:58.406Z",
    "type": "execution"
   },
   {
    "id": "d9355ed602a64c008badc48996df4e13",
    "time": "2021-02-08T22:32:58.841Z",
    "type": "completion"
   },
   {
    "code": "means = []\nn = 100\nfor _ in range(1000):\n    sam = np.random.choice(x_bias, size=n)\n    means.append(np.mean(sam))",
    "id": "d8146f43f8de4d32900171422fa79676",
    "idx": 6,
    "time": "2021-02-08T22:33:03.668Z",
    "type": "execution"
   },
   {
    "id": "d8146f43f8de4d32900171422fa79676",
    "time": "2021-02-08T22:33:03.856Z",
    "type": "completion"
   },
   {
    "code": "plt.hist(means)",
    "id": "d9355ed602a64c008badc48996df4e13",
    "idx": 7,
    "time": "2021-02-08T22:33:04.064Z",
    "type": "execution"
   },
   {
    "id": "d9355ed602a64c008badc48996df4e13",
    "time": "2021-02-08T22:33:04.329Z",
    "type": "completion"
   },
   {
    "code": "means = []\nn = 100\nfor n in [10, 50, 100, 300, 500]:\n    means = []\n    for _ in range(1000):\n        sam = np.random.choice(x_bias, size=n)\n        means.append(np.mean(sam))\n    plt.hist(means)",
    "id": "d8146f43f8de4d32900171422fa79676",
    "idx": 6,
    "time": "2021-02-08T22:33:29.042Z",
    "type": "execution"
   },
   {
    "id": "d8146f43f8de4d32900171422fa79676",
    "time": "2021-02-08T22:33:29.678Z",
    "type": "completion"
   },
   {
    "code": "means = []\nn = 100\nfor n in [10, 50, 100, 300, 500]:\n    means = []\n    for _ in range(1000):\n        sam = np.random.choice(x, size=n)\n        means.append(np.mean(sam))\n    plt.hist(means)",
    "id": "2afd6ab47d784e24ad5196d21087cce0",
    "idx": 7,
    "time": "2021-02-08T22:33:49.689Z",
    "type": "execution"
   },
   {
    "id": "2afd6ab47d784e24ad5196d21087cce0",
    "time": "2021-02-08T22:33:50.360Z",
    "type": "completion"
   },
   {
    "code": "means = []\nn = 100\nfor n in [10, 50, 100, 300, 500]:\n    means = []\n    for _ in range(1000):\n        sam = np.random.choice(x_bias, size=n)\n        means.append(np.mean(sam))\n    plt.hist(means)\n    plt.xlim(1, 9)",
    "id": "05d972515cea4580886753b9ab5fdf3b",
    "idx": 14,
    "time": "2021-02-09T19:17:58.105Z",
    "type": "execution"
   },
   {
    "id": "05d972515cea4580886753b9ab5fdf3b",
    "time": "2021-02-09T19:17:58.255Z",
    "type": "completion"
   },
   {
    "code": "import numpy as np\nimport matplotlib.pyplot as plt\n%matplotlib inline",
    "id": "bd55791b6cc644c79509ae8671d5ff5b",
    "idx": 0,
    "time": "2021-02-09T19:18:04.311Z",
    "type": "execution"
   },
   {
    "code": "x = np.random.choice(np.arange(10), 10000)",
    "id": "aadf2b19475c4be0a4d2563e4d29297e",
    "idx": 1,
    "time": "2021-02-09T19:18:04.313Z",
    "type": "execution"
   },
   {
    "code": "x",
    "id": "8f08070f418644508de6c795fb20c2c9",
    "idx": 2,
    "time": "2021-02-09T19:18:04.315Z",
    "type": "execution"
   },
   {
    "code": "x_bias = x + np.random.choice([-1, 0, 1, 2], size=10000)",
    "id": "f2ccf76d197d45099bd62b103840e3ce",
    "idx": 3,
    "time": "2021-02-09T19:18:04.316Z",
    "type": "execution"
   },
   {
    "code": "x_bias",
    "id": "22f916c8254e4e6a8ea3d7918ae2d427",
    "idx": 4,
    "time": "2021-02-09T19:18:04.317Z",
    "type": "execution"
   },
   {
    "code": "np.mean(x)",
    "id": "b0dab4614d5746c783d6902a7ed82212",
    "idx": 5,
    "time": "2021-02-09T19:18:04.318Z",
    "type": "execution"
   },
   {
    "code": "means = []\nn = 100\nfor n in [10, 50, 100, 300, 500]:\n    means = []\n    for _ in range(1000):\n        sam = np.random.choice(x_bias, size=n)\n        means.append(np.mean(sam))\n    plt.hist(means)\n    plt.xlim(1, 9)",
    "id": "05d972515cea4580886753b9ab5fdf3b",
    "idx": 14,
    "time": "2021-02-09T19:18:04.329Z",
    "type": "execution"
   },
   {
    "code": "means = []\nn = 100\nfor n in [10, 50, 100, 300, 500]:\n    means = []\n    for _ in range(1000):\n        sam = np.random.choice(x, size=n)\n        means.append(np.mean(sam))\n    plt.hist(means)\n    plt.xlim(1, 9)",
    "id": "722dc1e6340e42aa8ae45019cfe47c82",
    "idx": 15,
    "time": "2021-02-09T19:18:04.331Z",
    "type": "execution"
   },
   {
    "id": "bd55791b6cc644c79509ae8671d5ff5b",
    "time": "2021-02-09T19:18:04.979Z",
    "type": "completion"
   },
   {
    "id": "aadf2b19475c4be0a4d2563e4d29297e",
    "time": "2021-02-09T19:18:04.985Z",
    "type": "completion"
   },
   {
    "id": "8f08070f418644508de6c795fb20c2c9",
    "time": "2021-02-09T19:18:05.027Z",
    "type": "completion"
   },
   {
    "id": "f2ccf76d197d45099bd62b103840e3ce",
    "time": "2021-02-09T19:18:05.058Z",
    "type": "completion"
   },
   {
    "id": "22f916c8254e4e6a8ea3d7918ae2d427",
    "time": "2021-02-09T19:18:05.103Z",
    "type": "completion"
   },
   {
    "id": "b0dab4614d5746c783d6902a7ed82212",
    "time": "2021-02-09T19:18:05.153Z",
    "type": "completion"
   },
   {
    "id": "05d972515cea4580886753b9ab5fdf3b",
    "time": "2021-02-09T19:18:06.082Z",
    "type": "completion"
   },
   {
    "id": "722dc1e6340e42aa8ae45019cfe47c82",
    "time": "2021-02-09T19:18:06.898Z",
    "type": "completion"
   },
   {
    "code": "means = []\nn = 100\nplt.figure(figsize=[10, 12])\nfor i, pop in enumerate([x_bias, x]):\n    plt.subplot(2, 1, i + 1)\n    for n in [10, 50, 100, 300, 500]:\n        means = []\n        for _ in range(1000):\n            sam = np.random.choice(pop, size=n)\n            means.append(np.mean(sam))\n        plt.hist(means)\n        plt.xlim(1, 9)",
    "id": "05d972515cea4580886753b9ab5fdf3b",
    "idx": 14,
    "time": "2021-02-09T19:19:27.290Z",
    "type": "execution"
   },
   {
    "id": "05d972515cea4580886753b9ab5fdf3b",
    "time": "2021-02-09T19:19:28.587Z",
    "type": "completion"
   },
   {
    "code": "means = []\nn = 100\nplt.figure(figsize=[10, 12])\nfor i, pop in enumerate([x_bias, x]):\n    plt.subplot(2, 1, i + 1)\n    for n in [10, 50, 100, 300, 500]:\n        means = []\n        for _ in range(1000):\n            sam = np.random.choice(pop, size=n)\n            means.append(np.mean(sam))\n        plt.hist(means)\n        plt.xlim(1, 9)\n        if i == 0:\n            plt.title(\"Bias Sampling Procedure\")\n        else:\n            plt.title(\"Unbias Sampling Procedure\")",
    "id": "05d972515cea4580886753b9ab5fdf3b",
    "idx": 14,
    "time": "2021-02-09T19:19:49.527Z",
    "type": "execution"
   },
   {
    "id": "05d972515cea4580886753b9ab5fdf3b",
    "time": "2021-02-09T19:19:50.843Z",
    "type": "completion"
   },
   {
    "code": "means = []\nn = 100\nplt.figure(figsize=[10, 12])\nfor i, pop in enumerate([x_bias, x]):\n    plt.subplot(2, 1, i + 1)\n    for n in [10, 50, 100, 300, 500]:\n        means = []\n        for _ in range(1000):\n            sam = np.random.choice(pop, size=n)\n            means.append(np.mean(sam))\n        plt.hist(means)\n        plt.xlim(1, 9)\n        if i == 0:\n            plt.title(\"Bias Sampling Procedure\")\n        else:\n            plt.title(\"Unbiased Sampling Procedure\")",
    "id": "05d972515cea4580886753b9ab5fdf3b",
    "idx": 14,
    "time": "2021-02-09T19:19:51.357Z",
    "type": "execution"
   },
   {
    "id": "05d972515cea4580886753b9ab5fdf3b",
    "time": "2021-02-09T19:19:52.644Z",
    "type": "completion"
   },
   {
    "code": "means = []\nn = 100\nplt.figure(figsize=[10, 12])\nfor i, pop in enumerate([x_bias, x]):\n    plt.subplot(2, 1, i + 1)\n    for n in [10, 50, 100, 300, 500]:\n        means = []\n        for _ in range(1000):\n            sam = np.random.choice(pop, size=n)\n            means.append(np.mean(sam))\n        plt.hist(means)\n        plt.xlim(1, 9)\n        if i == 0:\n            plt.title(\"Biased Sampling Procedure\")\n        else:\n            plt.title(\"Unbiased Sampling Procedure\")",
    "id": "05d972515cea4580886753b9ab5fdf3b",
    "idx": 14,
    "time": "2021-02-09T19:20:03.045Z",
    "type": "execution"
   },
   {
    "id": "05d972515cea4580886753b9ab5fdf3b",
    "time": "2021-02-09T19:20:04.367Z",
    "type": "completion"
   },
   {
    "code": "np,mean(x_bias)",
    "id": "1cc76e95c4d74d779e7e4b9ed9aa0abf",
    "idx": 6,
    "time": "2021-02-09T19:20:35.284Z",
    "type": "execution"
   },
   {
    "id": "1cc76e95c4d74d779e7e4b9ed9aa0abf",
    "time": "2021-02-09T19:20:35.403Z",
    "type": "completion"
   },
   {
    "code": "np.mean(x_bias)",
    "id": "1cc76e95c4d74d779e7e4b9ed9aa0abf",
    "idx": 6,
    "time": "2021-02-09T19:20:38.077Z",
    "type": "execution"
   },
   {
    "id": "1cc76e95c4d74d779e7e4b9ed9aa0abf",
    "time": "2021-02-09T19:20:38.164Z",
    "type": "completion"
   }
  ],
  "kernelspec": {
   "display_name": "Python 3 (ipykernel)",
   "language": "python",
   "name": "python3"
  },
  "language_info": {
   "codemirror_mode": {
    "name": "ipython",
    "version": 3
   },
   "file_extension": ".py",
   "mimetype": "text/x-python",
   "name": "python",
   "nbconvert_exporter": "python",
   "pygments_lexer": "ipython3",
   "version": "3.9.0"
  }
 },
 "nbformat": 4,
 "nbformat_minor": 4
}
