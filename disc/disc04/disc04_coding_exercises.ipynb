{
 "cells": [
  {
   "cell_type": "markdown",
   "id": "dee246be",
   "metadata": {},
   "source": [
    "# Discussion 4: Visualizing Bigfoot"
   ]
  },
  {
   "cell_type": "markdown",
   "id": "3a933e69",
   "metadata": {},
   "source": [
    "Many of you have probably heard of Bigfoot before. It's a mysterious ape-like creature that is said to live in North American forests. Most doubt it's existence, but a passionate few swear that bigfoot is real. In this discussion, you will be working with a dataset on bigfoot sightings, visualizing variable distributions and combinations thereof to better understand how/when/where bigfoot is reportedly spotted, and possibly either confirm or cast doubt on its existence. The bigfoot data contains a ton of variables about each reported bigfoot spotting, including location information, weather, and moon phase."
   ]
  },
  {
   "cell_type": "code",
   "execution_count": 4,
   "id": "a0449331",
   "metadata": {},
   "outputs": [],
   "source": [
    "# Importing packages\n",
    "\n",
    "import pandas as pd\n",
    "import matplotlib.pyplot as plt\n",
    "import seaborn as sns\n",
    "\n",
    "import warnings\n",
    "warnings.filterwarnings('ignore')"
   ]
  },
  {
   "cell_type": "code",
   "execution_count": 5,
   "id": "cb00b0ae",
   "metadata": {},
   "outputs": [],
   "source": [
    "# Loading bigfoot data\n",
    "\n",
    "url = 'https://raw.githubusercontent.com/rfordatascience/tidytuesday/master/data/2022/2022-09-13/bigfoot.csv'\n",
    "df = pd.read_csv(url)"
   ]
  },
  {
   "cell_type": "markdown",
   "id": "2e4825c9",
   "metadata": {},
   "source": [
    "This dataset is extremely messy, with observations missing many values across multiple columns. This is normally the case with data based on citizen reports (many do not fill out all required fields). For the purposes of this discussion, we will drop all observations with any missing values and some unneeded columns. However, note this is not a good practice and you should almost never do this in real life!"
   ]
  },
  {
   "cell_type": "code",
   "execution_count": 6,
   "id": "5f47b6e1",
   "metadata": {},
   "outputs": [],
   "source": [
    "# Drop unneeded rows and observations with missing values\n",
    "\n",
    "bigfoot = df.dropna().rename({'temperature_high':'temp_high' ,'temperature_low':'temp_low'},axis = 1)\n",
    "bigfoot = bigfoot.drop(['observed', 'location_details', 'county', 'state', 'title',\n",
    "       'latitude', 'longitude', 'number', 'classification', 'geohash',\n",
    "       'temperature_mid', 'dew_point','precip_probability', 'precip_type','summary', \n",
    "       'wind_bearing'], axis = 1)"
   ]
  },
  {
   "cell_type": "markdown",
   "id": "e7c5e233",
   "metadata": {},
   "source": [
    "Here are the first few entries of the `bigfoot` table:"
   ]
  },
  {
   "cell_type": "code",
   "execution_count": 7,
   "id": "d5ac0c61",
   "metadata": {},
   "outputs": [
    {
     "data": {
      "text/html": [
       "<div>\n",
       "<style scoped>\n",
       "    .dataframe tbody tr th:only-of-type {\n",
       "        vertical-align: middle;\n",
       "    }\n",
       "\n",
       "    .dataframe tbody tr th {\n",
       "        vertical-align: top;\n",
       "    }\n",
       "\n",
       "    .dataframe thead th {\n",
       "        text-align: right;\n",
       "    }\n",
       "</style>\n",
       "<table border=\"1\" class=\"dataframe\">\n",
       "  <thead>\n",
       "    <tr style=\"text-align: right;\">\n",
       "      <th></th>\n",
       "      <th>season</th>\n",
       "      <th>date</th>\n",
       "      <th>temp_high</th>\n",
       "      <th>temp_low</th>\n",
       "      <th>humidity</th>\n",
       "      <th>cloud_cover</th>\n",
       "      <th>moon_phase</th>\n",
       "      <th>precip_intensity</th>\n",
       "      <th>pressure</th>\n",
       "      <th>uv_index</th>\n",
       "      <th>visibility</th>\n",
       "      <th>wind_speed</th>\n",
       "    </tr>\n",
       "  </thead>\n",
       "  <tbody>\n",
       "    <tr>\n",
       "      <th>10</th>\n",
       "      <td>Summer</td>\n",
       "      <td>2016-06-07</td>\n",
       "      <td>74.69</td>\n",
       "      <td>53.80</td>\n",
       "      <td>0.79</td>\n",
       "      <td>0.61</td>\n",
       "      <td>0.10</td>\n",
       "      <td>0.0010</td>\n",
       "      <td>998.87</td>\n",
       "      <td>6.0</td>\n",
       "      <td>9.70</td>\n",
       "      <td>0.49</td>\n",
       "    </tr>\n",
       "    <tr>\n",
       "      <th>21</th>\n",
       "      <td>Summer</td>\n",
       "      <td>2015-10-02</td>\n",
       "      <td>49.06</td>\n",
       "      <td>44.24</td>\n",
       "      <td>0.87</td>\n",
       "      <td>0.93</td>\n",
       "      <td>0.67</td>\n",
       "      <td>0.0092</td>\n",
       "      <td>1022.92</td>\n",
       "      <td>3.0</td>\n",
       "      <td>9.16</td>\n",
       "      <td>2.87</td>\n",
       "    </tr>\n",
       "    <tr>\n",
       "      <th>32</th>\n",
       "      <td>Fall</td>\n",
       "      <td>2009-10-31</td>\n",
       "      <td>69.01</td>\n",
       "      <td>34.42</td>\n",
       "      <td>0.77</td>\n",
       "      <td>0.81</td>\n",
       "      <td>0.42</td>\n",
       "      <td>0.0158</td>\n",
       "      <td>1011.48</td>\n",
       "      <td>3.0</td>\n",
       "      <td>1.97</td>\n",
       "      <td>3.94</td>\n",
       "    </tr>\n",
       "    <tr>\n",
       "      <th>34</th>\n",
       "      <td>Summer</td>\n",
       "      <td>1978-07-15</td>\n",
       "      <td>68.56</td>\n",
       "      <td>63.05</td>\n",
       "      <td>0.88</td>\n",
       "      <td>0.80</td>\n",
       "      <td>0.33</td>\n",
       "      <td>0.0285</td>\n",
       "      <td>1014.70</td>\n",
       "      <td>5.0</td>\n",
       "      <td>5.71</td>\n",
       "      <td>5.47</td>\n",
       "    </tr>\n",
       "    <tr>\n",
       "      <th>55</th>\n",
       "      <td>Summer</td>\n",
       "      <td>2015-11-26</td>\n",
       "      <td>20.49</td>\n",
       "      <td>5.35</td>\n",
       "      <td>0.65</td>\n",
       "      <td>0.08</td>\n",
       "      <td>0.54</td>\n",
       "      <td>0.0002</td>\n",
       "      <td>1037.98</td>\n",
       "      <td>1.0</td>\n",
       "      <td>10.00</td>\n",
       "      <td>0.40</td>\n",
       "    </tr>\n",
       "  </tbody>\n",
       "</table>\n",
       "</div>"
      ],
      "text/plain": [
       "    season        date  temp_high  temp_low  humidity  cloud_cover  \\\n",
       "10  Summer  2016-06-07      74.69     53.80      0.79         0.61   \n",
       "21  Summer  2015-10-02      49.06     44.24      0.87         0.93   \n",
       "32    Fall  2009-10-31      69.01     34.42      0.77         0.81   \n",
       "34  Summer  1978-07-15      68.56     63.05      0.88         0.80   \n",
       "55  Summer  2015-11-26      20.49      5.35      0.65         0.08   \n",
       "\n",
       "    moon_phase  precip_intensity  pressure  uv_index  visibility  wind_speed  \n",
       "10        0.10            0.0010    998.87       6.0        9.70        0.49  \n",
       "21        0.67            0.0092   1022.92       3.0        9.16        2.87  \n",
       "32        0.42            0.0158   1011.48       3.0        1.97        3.94  \n",
       "34        0.33            0.0285   1014.70       5.0        5.71        5.47  \n",
       "55        0.54            0.0002   1037.98       1.0       10.00        0.40  "
      ]
     },
     "execution_count": 7,
     "metadata": {},
     "output_type": "execute_result"
    }
   ],
   "source": [
    "bigfoot.head(5)"
   ]
  },
  {
   "cell_type": "markdown",
   "id": "9379c424",
   "metadata": {},
   "source": [
    "### Task 1\n",
    "\n",
    "Let's first look at distributions of individual quantitative variables. Let's say we're interested in `wind_speed`. \n"
   ]
  },
  {
   "cell_type": "markdown",
   "id": "46126473",
   "metadata": {},
   "source": [
    "a) Which of the following are appropriate visualizations for plotting the distribution of a quantitative continuous variable? (Select all that applies)\n",
    "\n",
    "A. Pie charts\n",
    "\n",
    "B. Kernel Density Plot\n",
    "\n",
    "C. Scatter plot\n",
    "\n",
    "D. Boxplot\n",
    "\n",
    "E. Histogram\n",
    "\n",
    "F. Hexplots"
   ]
  },
  {
   "cell_type": "markdown",
   "id": "a515e2bf",
   "metadata": {},
   "source": [
    "**answer** : WRITE YOUR ANSWER HERE"
   ]
  },
  {
   "cell_type": "markdown",
   "id": "da3bd617",
   "metadata": {},
   "source": [
    "b) Write a line of code that produces the visualization that depicts the variable's distribution (example shown below). **Hint**: Use `seaborn(sns.histplot)/matplotlib(plt.hist)`.\n",
    "\n",
    "![](https://drive.google.com/uc?export=view&id=1wlIyJjkdzxOoppv5400m3OyXwWdif3yO)"
   ]
  },
  {
   "cell_type": "code",
   "execution_count": 8,
   "id": "422e3bb7",
   "metadata": {},
   "outputs": [],
   "source": [
    "### CODE HERE ###"
   ]
  },
  {
   "cell_type": "markdown",
   "id": "ab3f4b37",
   "metadata": {},
   "source": [
    "###  Task 2) \n",
    "\n",
    "Now, let's see how two variables might relate to each other when bigfoot is reportedly out. Fill in the function to produce a visualization that shows what combinations of values of `moon_phase` and `wind_speed` are most common when bigfoot is spotted (example shown below). **hint:** Use ``seaborn(sns.kdeplot)``\n",
    "\n",
    "![](https://drive.google.com/uc?export=view&id=1Th31v4jb9i43YrsfhV-HUpls48XszWjD)"
   ]
  },
  {
   "cell_type": "code",
   "execution_count": 9,
   "id": "4e61c7fc",
   "metadata": {},
   "outputs": [],
   "source": [
    "# type(variable1) == String\n",
    "# type(variable2) == String\n",
    "\n",
    "def plot(variable1, variable2):\n",
    "    \n",
    "    ### CODE HERE ###\n",
    "    ... \n",
    "plot(\"moon_phase\", \"wind_speed\")"
   ]
  },
  {
   "cell_type": "markdown",
   "id": "107bd45c",
   "metadata": {},
   "source": [
    "### Task 3) \n",
    "\n",
    "Now, let's look at some qualitative variables. Write a line of code that produces a visualization that shows the distribution of bigfoot sightings across the variable `season` (example shown below). **hint:** Use `seaborn(sns.countplot)/matplotlib(plt.bar)`.\n",
    "\n",
    "![](https://drive.google.com/uc?export=view&id=1epvnkLB4Ncqg719_g8guYb5UUC7_Qd2i)"
   ]
  },
  {
   "cell_type": "code",
   "execution_count": 10,
   "id": "a9aa1628",
   "metadata": {},
   "outputs": [],
   "source": [
    "### CODE HERE ###"
   ]
  },
  {
   "cell_type": "markdown",
   "id": "01553491",
   "metadata": {},
   "source": [
    "### Task 4) \n",
    "\n",
    "Produce a single visualization that showcases how the prevalence of bigfoot sightings at particular combinations of `moon_phase` and `wind_speed` vary across each season. **hint:** Think about color as the third information channel on the plot."
   ]
  },
  {
   "cell_type": "code",
   "execution_count": 11,
   "id": "1c762931",
   "metadata": {},
   "outputs": [],
   "source": [
    "### CODE HERE ###"
   ]
  },
  {
   "cell_type": "markdown",
   "id": "3390a637",
   "metadata": {},
   "source": [
    "# KDE\n"
   ]
  },
  {
   "attachments": {},
   "cell_type": "markdown",
   "id": "0a22e736",
   "metadata": {},
   "source": [
    "### Task 1)\n",
    "\n",
    "Kernel Density Estimation is used to estimate a probability density function (or density curve) from a set of data. A kernel with a bandwidth parameter $\\alpha$ is placed on data observations $x_i$ with $i\\in\\{1, ...,n\\}$, and the density estimation is calculated by averaging all kernels. Below, Gaussian and Boxcar kernel equations are listed:\n",
    "\n",
    "-  Gaussian Kernel: $K_\\alpha(x, x_i) = \\frac{1}{\\sqrt{2 \\pi \\alpha^2}} \\exp\\left(-\\frac{(x - x_i)^2}{2 \\alpha ^2} \\right) $\n",
    "-  Boxcar Kernel: $B_\\alpha(x, x_i)$ =    \n",
    "  \n",
    "    - $\\frac{1}{\\alpha}$ if $(-\\frac{\\alpha}{2} \\leq x - x_i \\leq \\frac{\\alpha}{2})$\n",
    "    - 0  else\n",
    "\n",
    "\n",
    "The KDE is calculated as follows: $f_\\alpha(x) = \\frac{1}{n}\\sum_{i = 1}^{n} K_\\alpha(x, x_i)$.\n",
    "\n",
    "    \n",
    "  "
   ]
  },
  {
   "cell_type": "markdown",
   "id": "0205b1f0",
   "metadata": {},
   "source": [
    "We wish to compare the results of KDE using a Gaussian kernel and a boxcar kernel. For\n",
    "α > 0, which of the following statements is true? Choose all that apply.\n",
    "\n",
    "\n",
    "A. Decreasing α for a Gaussian kernel decreases the smoothness of the KDE.\n",
    "\n",
    "B. The Gaussian kernel is always better than the boxcar kernel for KDEs.\n",
    "\n",
    "C. Because the Gaussian kernel is smooth, we can safely use large α values for kernel density estimation without worrying about the actual distribution of data.\n",
    "\n",
    "D. The area under the boxcar kernel is 1, regardless of the value of α.\n",
    "\n",
    "E. None of the above."
   ]
  },
  {
   "cell_type": "markdown",
   "id": "9439b5ba",
   "metadata": {},
   "source": [
    "*answer here*"
   ]
  },
  {
   "attachments": {},
   "cell_type": "markdown",
   "id": "b7e4c3a5",
   "metadata": {},
   "source": [
    "# Logarithmic Transformation\n",
    "\n",
    "\n",
    "One of your friends at a biology lab asks you to help them analyze `panTHERIA`, a database of mammals. They are interested in the relationship between mass, measured in grams, and metabolic rate (`energy expenditure`), measured by oxygen use per hour. Originally, they showed you the data on a linear (absolute) scale, shown on the left. You notice that the values on both axes vary over a large range with many data points clustered around the smaller values, so you suggest that they instead plot the data on a log-log scale, shown on the right. The solid red line is a \"line of best fit\" (we'll formalize this later in the course) while the black dashed line represents the identity line $y = x$. \n",
    "\n",
    "<img src = \"logloganimals.png\"></img>"
   ]
  },
  {
   "cell_type": "markdown",
   "id": "3c6d684d",
   "metadata": {},
   "source": [
    "Let C and k be some constant values and x and y represent mass and metabolic rate, respectively. Based on the plots, which of the following best describes the pattern seen in the data? \n",
    "\n",
    "Reminder: $log(a \\times b) = log(a) + log(b)$\n",
    "\n",
    "A. $y = C + kx$\n",
    " \n",
    "B. $y = C \\times 10^{kx}$\n",
    "\n",
    "C. $y = C + k\\log_{10}(x)$\n",
    "    \n",
    "D. $y = Cx^k$\n"
   ]
  },
  {
   "cell_type": "markdown",
   "id": "d53b961b",
   "metadata": {},
   "source": [
    "*answer here*"
   ]
  },
  {
   "cell_type": "markdown",
   "id": "5428a5dd",
   "metadata": {},
   "source": [
    "What parts of the plots could you use to make initial guesses on C and k?"
   ]
  },
  {
   "cell_type": "markdown",
   "id": "6dde5c9f",
   "metadata": {},
   "source": [
    "*answer here*"
   ]
  },
  {
   "cell_type": "markdown",
   "id": "ba499747",
   "metadata": {},
   "source": [
    "Your friend points to the solid line on the log-log plot and says \"since this line is going\n",
    "up and to the right, we can say that, in general, the bigger a mammal is, the greater its\n",
    "metabolic rate\". Is this a reasonable interpretation of the plot?"
   ]
  },
  {
   "cell_type": "markdown",
   "id": "d15068c8",
   "metadata": {},
   "source": [
    "*answer here*"
   ]
  },
  {
   "cell_type": "markdown",
   "id": "a552b399",
   "metadata": {},
   "source": [
    "Suppose that instead of plotting positive quantities, our data contained some zero and\n",
    "negative values. How can we reasonably apply a logarithmic transform to this data?"
   ]
  },
  {
   "cell_type": "markdown",
   "id": "e9843bfd",
   "metadata": {},
   "source": [
    "*answer here*"
   ]
  }
 ],
 "metadata": {
  "kernelspec": {
   "display_name": "Python 3 (ipykernel)",
   "language": "python",
   "name": "python3"
  },
  "language_info": {
   "codemirror_mode": {
    "name": "ipython",
    "version": 3
   },
   "file_extension": ".py",
   "mimetype": "text/x-python",
   "name": "python",
   "nbconvert_exporter": "python",
   "pygments_lexer": "ipython3",
   "version": "3.9.13"
  },
  "vscode": {
   "interpreter": {
    "hash": "aea83e800b3f611b156506e3451d6446f84c720051bc83a1d66a677713fe7b36"
   }
  }
 },
 "nbformat": 4,
 "nbformat_minor": 5
}
