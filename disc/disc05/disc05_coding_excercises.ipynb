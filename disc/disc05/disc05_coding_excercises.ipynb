{
 "cells": [
  {
   "cell_type": "code",
   "execution_count": 1,
   "metadata": {},
   "outputs": [],
   "source": [
    "import seaborn as sns\n",
    "import numpy as np\n",
    "import pandas as pd\n",
    "import matplotlib.pyplot as plt\n"
   ]
  },
  {
   "cell_type": "markdown",
   "metadata": {},
   "source": [
    "# Discussion 5: Sampling and Regression\n",
    "\n",
    "[link](https://online.stat.psu.edu/stat501/lesson/9/9.8)"
   ]
  },
  {
   "cell_type": "markdown",
   "metadata": {},
   "source": [
    "## 1. Data Collection Through Sampling"
   ]
  },
  {
   "cell_type": "markdown",
   "metadata": {},
   "source": [
    "It’s time for the Data 100 midterm, and the professors want to estimate the difficulty of the\n",
    "exam. They decide to survey students on the exam’s difficulty with a 10-point scale and then use\n",
    "the mean of the students’ responses as the estimate."
   ]
  },
  {
   "cell_type": "markdown",
   "metadata": {},
   "source": [
    "**(a) What is the population the professors are interested in trying to understand?**\n",
    "\n",
    "&emsp;A. Students in Data 100\n",
    "\n",
    "&emsp;B. Students enrolled in the Data 100 Ed\n",
    "    \n",
    "&emsp;C. Students who attend the Data 100 lectures\n",
    "\n",
    "&emsp;D. Students who took the Data 100 midterm"
   ]
  },
  {
   "cell_type": "code",
   "execution_count": 2,
   "metadata": {},
   "outputs": [
    {
     "data": {
      "text/plain": [
       "Ellipsis"
      ]
     },
     "execution_count": 2,
     "metadata": {},
     "output_type": "execute_result"
    }
   ],
   "source": [
    "q1a = ...\n",
    "q1a"
   ]
  },
  {
   "cell_type": "markdown",
   "metadata": {},
   "source": [
    "**(b) The professors consider a few different methods for collecting the survey data. Which of the following methods is best? (think through which considerations go into \"best\")**\n",
    "\n",
    "&emsp;A. The professors send a Zoom poll to all students in the first weekly live session following the exam.\n",
    "    \n",
    "&emsp;B. The professors add a question to the homework assignments of a simple random sample of anonymous students within every discussion section.\n",
    "    \n",
    "&emsp;C. The professors make a post on Ed asking students to submit a Google Form containing the survey question.\n",
    "    \n",
    "&emsp;D. The professors choose a simple random sample of discussion sections, go to each selected section, and ask each student in the group as part of the final discussion question.\n"
   ]
  },
  {
   "cell_type": "code",
   "execution_count": 3,
   "metadata": {},
   "outputs": [
    {
     "data": {
      "text/plain": [
       "Ellipsis"
      ]
     },
     "execution_count": 3,
     "metadata": {},
     "output_type": "execute_result"
    }
   ],
   "source": [
    "q1b = ...\n",
    "q1b"
   ]
  },
  {
   "cell_type": "markdown",
   "metadata": {},
   "source": [
    "## 2. Simple Linear Regression"
   ]
  },
  {
   "cell_type": "markdown",
   "metadata": {},
   "source": [
    "A UC Berkeley College of Chemistry student was watching his favorite chemistry Youtuber\n",
    "[NileRed](https://www.youtube.com/watch?v=zFZ5jQ0yuNA) experimenting with turning gloves into grape soda and wanted to try it themselves. The\n",
    "experiment was done at various different temperatures and yielded various different amounts of\n",
    "grape soda. Since this reaction is very costly, they were only able to do it 15 times. This data\n",
    "set of size $n = 15$ (Yield data) contains measurements of yield from an experiment done at five\n",
    "different temperature levels. The variables are $y$ = **yield in liters** and $x$ = **temperature in degrees\n",
    "Fahrenheit**. Below is a scatter plot of our data."
   ]
  },
  {
   "cell_type": "code",
   "execution_count": 4,
   "metadata": {},
   "outputs": [
    {
     "data": {
      "image/png": "[encoded data removed]",
      "text/plain": [
       "<Figure size 432x288 with 1 Axes>"
      ]
     },
     "metadata": {
      "needs_background": "light"
     },
     "output_type": "display_data"
    }
   ],
   "source": [
    "df = pd.read_csv(\"yield.txt\", sep=\"\\t\", encoding=\"UTF-16\")\n",
    "\n",
    "sns.scatterplot(data=df, x=\"Temp\", y=\"Yield\")\n",
    "plt.title(\"Grape Soda Yield(L) by Temperature(F)\");"
   ]
  },
  {
   "cell_type": "markdown",
   "metadata": {},
   "source": [
    "<center>\n",
    "    <table>\n",
    "        <tr>\n",
    "            <th>$\\sigma_x$</th>\n",
    "            <th>$\\sigma_y$</th>\n",
    "            <th>$r$</th>\n",
    "            <th>$\\bar{x}$</th>\n",
    "            <th>$\\bar{y}$</th>\n",
    "        </tr>\n",
    "        <tr>\n",
    "            <td>$17.20$</td>\n",
    "            <td>$0.38$</td>\n",
    "            <td>$0.30$</td>\n",
    "            <td>$78.00$</td>\n",
    "            <td>$2.83$</td>\n",
    "        </tr>\n",
    "    </table>\n",
    "</center>"
   ]
  },
  {
   "cell_type": "markdown",
   "metadata": {},
   "source": [
    "**(a) Given the above statistics, calculate the slope ($\\hat{θ}_1$) and y-intercept ($\\hat{θ}_0$) of the line of best fit\n",
    "using Mean Squared Error (MSE) as our loss function and plot the line on the graph above:**\n",
    "\n",
    "<center>$y = \\hat{θ}_0 + \\hat{θ}_1x$</center>\n"
   ]
  },
  {
   "cell_type": "code",
   "execution_count": 5,
   "metadata": {},
   "outputs": [
    {
     "data": {
      "image/png": "[encoded data removed]",
      "text/plain": [
       "<Figure size 432x288 with 1 Axes>"
      ]
     },
     "metadata": {
      "needs_background": "light"
     },
     "output_type": "display_data"
    }
   ],
   "source": [
    "r = np.corrcoef(x=df[\"Temp\"],y=df[\"Yield\"])[0][1]\n",
    "x = df[\"Temp\"]\n",
    "y = df[\"Yield\"]\n",
    "sd_x = np.std(x)\n",
    "sd_y = np.std(y)\n",
    "theta_1 = r * sd_y / sd_x\n",
    "theta_0 = np.mean(y) - theta_1 * np.mean(x)\n",
    "reg_y = theta_1 * x + theta_0;\n",
    "\n",
    "plt.plot(x, reg_y, '-r', label='regression line')\n",
    "sns.scatterplot(data= df,x=\"Temp\",y=\"Yield\");"
   ]
  },
  {
   "cell_type": "markdown",
   "metadata": {},
   "source": [
    "<img src=\"regression_formulas.png\"></img>"
   ]
  },
  {
   "cell_type": "markdown",
   "metadata": {},
   "source": []
  },
  {
   "cell_type": "markdown",
   "metadata": {},
   "source": [
    "**(b) Plot the residuals from the line of best fit you calculated in part (a). What does the residual plot tell us about the relationship between x and y?**\n"
   ]
  },
  {
   "cell_type": "code",
   "execution_count": 6,
   "metadata": {},
   "outputs": [
    {
     "data": {
      "image/png": "[encoded data removed]",
      "text/plain": [
       "<Figure size 432x288 with 1 Axes>"
      ]
     },
     "metadata": {
      "needs_background": "light"
     },
     "output_type": "display_data"
    }
   ],
   "source": [
    "plt.axhline(y=0, color = \"red\")\n",
    "plt.scatter(x, y - reg_y, label='regression line');"
   ]
  },
  {
   "cell_type": "markdown",
   "metadata": {},
   "source": [
    "**(c) Which of the following relations most closely represent the relationship we see between Temperature ($x$) and Yield ($y$)?**\n",
    "\n",
    "A. $y = \\theta_2x^2$\n",
    "\n",
    "B. $y = \\theta_2x^2 + \\theta_1x + \\theta_0$\n",
    "\n",
    "C. $y = \\theta_1 \\log x + \\theta_0$\n",
    "\n",
    "D. $y = \\theta_1x + \\theta_0$"
   ]
  },
  {
   "cell_type": "code",
   "execution_count": 7,
   "metadata": {
    "scrolled": true
   },
   "outputs": [
    {
     "data": {
      "text/plain": [
       "Ellipsis"
      ]
     },
     "execution_count": 7,
     "metadata": {},
     "output_type": "execute_result"
    }
   ],
   "source": [
    "q2c = ...\n",
    "q2c"
   ]
  },
  {
   "cell_type": "markdown",
   "metadata": {},
   "source": [
    "## 3. Data Collection through Sampling"
   ]
  },
  {
   "cell_type": "markdown",
   "metadata": {},
   "source": [
    "In the lecture, we derived the estimating equations for SLR, which we obtained by differentiat-\n",
    "ing the MSE with respect to $\\theta_0$ and $\\theta_1$. Now, suppose that we choose the same model, $\\hat{y} = \\theta_0 +\\theta_1x$,\n",
    "but we minimize the L1 loss instead. That is, we minimize the Mean Absolute Error (MAE), defined as\n",
    "<center>$\\hat{R}(\\theta_0,\\theta_1) = \\frac{1}{n}\\sum_{i=1}^{n}|y_i - \\theta_0 - \\theta_1 x_i|$ </center>"
   ]
  },
  {
   "attachments": {
    "sign.png": {
     "image/png": "[encoded data removed]"
    }
   },
   "cell_type": "markdown",
   "metadata": {},
   "source": [
    "**(a) Show that the partial derivatives of $|y_i - \\theta_0 - \\theta_1 x_i|$ with respect to $\\theta_0$ and $\\theta_1$ are:**\n",
    "\n",
    "<center>$\\frac{\\partial}{\\partial \\theta_0}|y_i - \\theta_0 - \\theta_1 x_i| = -sign(y_i - \\theta_0 - \\theta_1 x_i)$</center>\n",
    "\n",
    "<center>$\\frac{\\partial}{\\partial \\theta_1}|y_i - \\theta_0 - \\theta_1 x_i| = -x_i \\cdot sign(y_i - \\theta_0 - \\theta_1 x_i)$</center>\n",
    "\n",
    "**and undefined if $y_i = \\theta_0 + \\theta_1 x_i$, where sign is the sign function defined by:**\n",
    "\n",
    "![sign.png](attachment:sign.png)"
   ]
  },
  {
   "cell_type": "markdown",
   "metadata": {},
   "source": [
    "**Note: Although the derivative of the MAE function at 0 is undefined, you can use the default\n",
    "value of 0 for the partial derivative of MAE(0) with respect to both $\\theta_0$ and $\\theta_1$.**"
   ]
  },
  {
   "cell_type": "markdown",
   "metadata": {},
   "source": []
  },
  {
   "cell_type": "markdown",
   "metadata": {},
   "source": [
    "**(b) (Bonus) Show that the number of points with negative residuals is the same as the number of\n",
    "points with positive residuals.**\n",
    "\n",
    "*Hint: Find the partial derivative of the loss function with respect to $\\theta_0$ and set it to 0. What\n",
    "do you observe?*"
   ]
  },
  {
   "cell_type": "markdown",
   "metadata": {},
   "source": []
  },
  {
   "cell_type": "markdown",
   "metadata": {},
   "source": [
    "**(c) (Bonus) We can often check how sensitive a model is based on estimating equations. That\n",
    "is, how will the estimators $\\theta_0$ and $\\theta_1$ change when an outlier is introduced. Based on the\n",
    "estimating equations of the linear regression with L2 loss from class:**\n",
    "\n",
    "<center>$\\sum_{i=1}^{n}y_i - \\hat{y}_i = 0$<br>$\\sum_{i=1}^{n}(y_i - \\hat{y}_i)x_i = 0$</center>\n",
    "\n",
    "**What do you think will happen to $\\theta_0$ and $\\theta_1$ if we take a single yi value and make it larger and\n",
    "larger while holding all the other $x$ and $y$ values fixed? Consider the three options for what\n",
    "might happen:**\n",
    "\n",
    "1. $\\theta_0$ and $\\theta_1$ would not change at all.\n",
    "2. $\\theta_0$ and $\\theta_1$ would change somewhat, but there is a limit to how much they change.\n",
    "3. $\\theta_0$ and $\\theta_1$ can change more and more as we change yi more and \n",
    "more, without any limit.\n",
    "\n",
    "**You may assume that $x_i \\neq \\bar{x}$. Explain your answer. If which one of (i)-(iii) happens depends\n",
    "on the data y and x, explain what it depends on (but you do not have to give necessary and\n",
    "sufficient conditions).**\n"
   ]
  },
  {
   "cell_type": "markdown",
   "metadata": {},
   "source": []
  },
  {
   "cell_type": "markdown",
   "metadata": {},
   "source": [
    "**(d) (Bonus) On the other hand, what do you think would happen to $\\theta_0$ and $\\theta_1$ for L1-loss linear\n",
    "regression if we take a single value of $y_i$ and make it larger and larger while holding all the\n",
    "other $x$ and $y$ values fixed? Among the three options for what might happen listed above, what\n",
    "do you think would happen? Explain your answer. If which one of (i)-(iii) happens depends\n",
    "on the data $y$ and $x$, discuss what it depends on (but you do not have to give necessary and\n",
    "sufficient conditions). The estimating equations are written below again for reference:**\n",
    "\n",
    "<center>$\\frac{1}{n}\\sum_{i=1}^{n}-sign(y_i - \\theta_0 - \\theta_1 x_i) = 0$</center>\n",
    "\n",
    "<center>$\\frac{1}{n}\\sum_{i=1}^{n}-x_i \\cdot sign(y_i - \\theta_0 - \\theta_1 x_i) = 0$</center>"
   ]
  },
  {
   "cell_type": "markdown",
   "metadata": {},
   "source": []
  }
 ],
 "metadata": {
  "kernelspec": {
   "display_name": "Python 3 (ipykernel)",
   "language": "python",
   "name": "python3"
  },
  "language_info": {
   "codemirror_mode": {
    "name": "ipython",
    "version": 3
   },
   "file_extension": ".py",
   "mimetype": "text/x-python",
   "name": "python",
   "nbconvert_exporter": "python",
   "pygments_lexer": "ipython3",
   "version": "3.10.6"
  },
  "vscode": {
   "interpreter": {
    "hash": "aea83e800b3f611b156506e3451d6446f84c720051bc83a1d66a677713fe7b36"
   }
  }
 },
 "nbformat": 4,
 "nbformat_minor": 2
}
